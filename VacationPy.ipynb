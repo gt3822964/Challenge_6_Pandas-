{
 "cells": [
  {
   "cell_type": "markdown",
   "metadata": {},
   "source": [
    "# VacationPy\n",
    "---\n",
    "\n",
    "## Starter Code to Import Libraries and Load the Weather and Coordinates Data"
   ]
  },
  {
   "cell_type": "code",
   "execution_count": null,
   "metadata": {},
   "outputs": [],
   "source": [
    "# Dependencies and Setup\n",
    "import hvplot.pandas\n",
    "import pandas as pd\n",
    "import requests\n",
    "\n",
    "# Import API key\n",
    "from api_keys import geoapify_key"
   ]
  },
  {
   "cell_type": "code",
   "execution_count": 2,
   "metadata": {},
   "outputs": [
    {
     "data": {
      "text/html": [
       "<div>\n",
       "<style scoped>\n",
       "    .dataframe tbody tr th:only-of-type {\n",
       "        vertical-align: middle;\n",
       "    }\n",
       "\n",
       "    .dataframe tbody tr th {\n",
       "        vertical-align: top;\n",
       "    }\n",
       "\n",
       "    .dataframe thead th {\n",
       "        text-align: right;\n",
       "    }\n",
       "</style>\n",
       "<table border=\"1\" class=\"dataframe\">\n",
       "  <thead>\n",
       "    <tr style=\"text-align: right;\">\n",
       "      <th></th>\n",
       "      <th>City_ID</th>\n",
       "      <th>City</th>\n",
       "      <th>Lat</th>\n",
       "      <th>Lng</th>\n",
       "      <th>Max Temp</th>\n",
       "      <th>Humidity</th>\n",
       "      <th>Cloudiness</th>\n",
       "      <th>Wind Speed</th>\n",
       "      <th>Country</th>\n",
       "      <th>Date</th>\n",
       "    </tr>\n",
       "  </thead>\n",
       "  <tbody>\n",
       "    <tr>\n",
       "      <th>0</th>\n",
       "      <td>0</td>\n",
       "      <td>faya</td>\n",
       "      <td>18.3851</td>\n",
       "      <td>42.4509</td>\n",
       "      <td>22.06</td>\n",
       "      <td>35</td>\n",
       "      <td>21</td>\n",
       "      <td>2.60</td>\n",
       "      <td>SA</td>\n",
       "      <td>1666108228</td>\n",
       "    </tr>\n",
       "    <tr>\n",
       "      <th>1</th>\n",
       "      <td>1</td>\n",
       "      <td>farsund</td>\n",
       "      <td>58.0948</td>\n",
       "      <td>6.8047</td>\n",
       "      <td>13.30</td>\n",
       "      <td>100</td>\n",
       "      <td>0</td>\n",
       "      <td>7.65</td>\n",
       "      <td>NO</td>\n",
       "      <td>1666108228</td>\n",
       "    </tr>\n",
       "    <tr>\n",
       "      <th>2</th>\n",
       "      <td>2</td>\n",
       "      <td>new norfolk</td>\n",
       "      <td>-42.7826</td>\n",
       "      <td>147.0587</td>\n",
       "      <td>11.72</td>\n",
       "      <td>58</td>\n",
       "      <td>12</td>\n",
       "      <td>1.34</td>\n",
       "      <td>AU</td>\n",
       "      <td>1666108230</td>\n",
       "    </tr>\n",
       "    <tr>\n",
       "      <th>3</th>\n",
       "      <td>3</td>\n",
       "      <td>jamestown</td>\n",
       "      <td>42.0970</td>\n",
       "      <td>-79.2353</td>\n",
       "      <td>5.77</td>\n",
       "      <td>77</td>\n",
       "      <td>100</td>\n",
       "      <td>9.77</td>\n",
       "      <td>US</td>\n",
       "      <td>1666107934</td>\n",
       "    </tr>\n",
       "    <tr>\n",
       "      <th>4</th>\n",
       "      <td>4</td>\n",
       "      <td>lanzhou</td>\n",
       "      <td>36.0564</td>\n",
       "      <td>103.7922</td>\n",
       "      <td>14.53</td>\n",
       "      <td>48</td>\n",
       "      <td>59</td>\n",
       "      <td>1.20</td>\n",
       "      <td>CN</td>\n",
       "      <td>1666108230</td>\n",
       "    </tr>\n",
       "  </tbody>\n",
       "</table>\n",
       "</div>"
      ],
      "text/plain": [
       "   City_ID         City      Lat       Lng  Max Temp  Humidity  Cloudiness  \\\n",
       "0        0         faya  18.3851   42.4509     22.06        35          21   \n",
       "1        1      farsund  58.0948    6.8047     13.30       100           0   \n",
       "2        2  new norfolk -42.7826  147.0587     11.72        58          12   \n",
       "3        3    jamestown  42.0970  -79.2353      5.77        77         100   \n",
       "4        4      lanzhou  36.0564  103.7922     14.53        48          59   \n",
       "\n",
       "   Wind Speed Country        Date  \n",
       "0        2.60      SA  1666108228  \n",
       "1        7.65      NO  1666108228  \n",
       "2        1.34      AU  1666108230  \n",
       "3        9.77      US  1666107934  \n",
       "4        1.20      CN  1666108230  "
      ]
     },
     "execution_count": 2,
     "metadata": {},
     "output_type": "execute_result"
    }
   ],
   "source": [
    "# Load the CSV file created in Part 1 into a Pandas DataFrame\n",
    "city_data_df = pd.read_csv(\"output_data/cities.csv\")\n",
    "\n",
    "# Display sample data\n",
    "city_data_df.head()"
   ]
  },
  {
   "cell_type": "markdown",
   "metadata": {},
   "source": [
    "---\n",
    "\n",
    "### Step 1: Create a map that displays a point for every city in the `city_data_df` DataFrame. The size of the point should be the humidity in each city."
   ]
  },
  {
   "cell_type": "code",
   "execution_count": 3,
   "metadata": {},
   "outputs": [
    {
     "data": {
      "application/vnd.plotly.v1+json": {
       "config": {
        "plotlyServerURL": "https://plot.ly"
       },
       "data": [
        {
         "geo": "geo",
         "hovertemplate": "<b>%{hovertext}</b><br><br>City=faya<br>Humidity=%{marker.size}<br>Lat=%{lat}<br>Lng=%{lon}<extra></extra>",
         "hovertext": [
          "faya"
         ],
         "lat": [
          18.3851
         ],
         "legendgroup": "faya",
         "lon": [
          42.4509
         ],
         "marker": {
          "color": "#636efa",
          "opacity": 0.6,
          "size": [
           35
          ],
          "sizemode": "area",
          "sizeref": 0.591715976331361,
          "symbol": "circle"
         },
         "mode": "markers",
         "name": "faya",
         "showlegend": true,
         "type": "scattergeo"
        },
        {
         "geo": "geo",
         "hovertemplate": "<b>%{hovertext}</b><br><br>City=farsund<br>Humidity=%{marker.size}<br>Lat=%{lat}<br>Lng=%{lon}<extra></extra>",
         "hovertext": [
          "farsund"
         ],
         "lat": [
          58.0948
         ],
         "legendgroup": "farsund",
         "lon": [
          6.8047
         ],
         "marker": {
          "color": "#EF553B",
          "opacity": 0.6,
          "size": [
           100
          ],
          "sizemode": "area",
          "sizeref": 0.591715976331361,
          "symbol": "circle"
         },
         "mode": "markers",
         "name": "farsund",
         "showlegend": true,
         "type": "scattergeo"
        },
        {
         "geo": "geo",
         "hovertemplate": "<b>%{hovertext}</b><br><br>City=new norfolk<br>Humidity=%{marker.size}<br>Lat=%{lat}<br>Lng=%{lon}<extra></extra>",
         "hovertext": [
          "new norfolk"
         ],
         "lat": [
          -42.7826
         ],
         "legendgroup": "new norfolk",
         "lon": [
          147.0587
         ],
         "marker": {
          "color": "#00cc96",
          "opacity": 0.6,
          "size": [
           58
          ],
          "sizemode": "area",
          "sizeref": 0.591715976331361,
          "symbol": "circle"
         },
         "mode": "markers",
         "name": "new norfolk",
         "showlegend": true,
         "type": "scattergeo"
        },
        {
         "geo": "geo",
         "hovertemplate": "<b>%{hovertext}</b><br><br>City=jamestown<br>Humidity=%{marker.size}<br>Lat=%{lat}<br>Lng=%{lon}<extra></extra>",
         "hovertext": [
          "jamestown"
         ],
         "lat": [
          42.097
         ],
         "legendgroup": "jamestown",
         "lon": [
          -79.2353
         ],
         "marker": {
          "color": "#ab63fa",
          "opacity": 0.6,
          "size": [
           77
          ],
          "sizemode": "area",
          "sizeref": 0.591715976331361,
          "symbol": "circle"
         },
         "mode": "markers",
         "name": "jamestown",
         "showlegend": true,
         "type": "scattergeo"
        },
        {
         "geo": "geo",
         "hovertemplate": "<b>%{hovertext}</b><br><br>City=lanzhou<br>Humidity=%{marker.size}<br>Lat=%{lat}<br>Lng=%{lon}<extra></extra>",
         "hovertext": [
          "lanzhou"
         ],
         "lat": [
          36.0564
         ],
         "legendgroup": "lanzhou",
         "lon": [
          103.7922
         ],
         "marker": {
          "color": "#FFA15A",
          "opacity": 0.6,
          "size": [
           48
          ],
          "sizemode": "area",
          "sizeref": 0.591715976331361,
          "symbol": "circle"
         },
         "mode": "markers",
         "name": "lanzhou",
         "showlegend": true,
         "type": "scattergeo"
        },
        {
         "geo": "geo",
         "hovertemplate": "<b>%{hovertext}</b><br><br>City=ushuaia<br>Humidity=%{marker.size}<br>Lat=%{lat}<br>Lng=%{lon}<extra></extra>",
         "hovertext": [
          "ushuaia"
         ],
         "lat": [
          -54.8
         ],
         "legendgroup": "ushuaia",
         "lon": [
          -68.3
         ],
         "marker": {
          "color": "#19d3f3",
          "opacity": 0.6,
          "size": [
           81
          ],
          "sizemode": "area",
          "sizeref": 0.591715976331361,
          "symbol": "circle"
         },
         "mode": "markers",
         "name": "ushuaia",
         "showlegend": true,
         "type": "scattergeo"
        },
        {
         "geo": "geo",
         "hovertemplate": "<b>%{hovertext}</b><br><br>City=albany<br>Humidity=%{marker.size}<br>Lat=%{lat}<br>Lng=%{lon}<extra></extra>",
         "hovertext": [
          "albany"
         ],
         "lat": [
          42.6001
         ],
         "legendgroup": "albany",
         "lon": [
          -73.9662
         ],
         "marker": {
          "color": "#FF6692",
          "opacity": 0.6,
          "size": [
           74
          ],
          "sizemode": "area",
          "sizeref": 0.591715976331361,
          "symbol": "circle"
         },
         "mode": "markers",
         "name": "albany",
         "showlegend": true,
         "type": "scattergeo"
        },
        {
         "geo": "geo",
         "hovertemplate": "<b>%{hovertext}</b><br><br>City=carnarvon<br>Humidity=%{marker.size}<br>Lat=%{lat}<br>Lng=%{lon}<extra></extra>",
         "hovertext": [
          "carnarvon"
         ],
         "lat": [
          -24.8667
         ],
         "legendgroup": "carnarvon",
         "lon": [
          113.6333
         ],
         "marker": {
          "color": "#B6E880",
          "opacity": 0.6,
          "size": [
           76
          ],
          "sizemode": "area",
          "sizeref": 0.591715976331361,
          "symbol": "circle"
         },
         "mode": "markers",
         "name": "carnarvon",
         "showlegend": true,
         "type": "scattergeo"
        },
        {
         "geo": "geo",
         "hovertemplate": "<b>%{hovertext}</b><br><br>City=sisimiut<br>Humidity=%{marker.size}<br>Lat=%{lat}<br>Lng=%{lon}<extra></extra>",
         "hovertext": [
          "sisimiut"
         ],
         "lat": [
          66.9395
         ],
         "legendgroup": "sisimiut",
         "lon": [
          -53.6735
         ],
         "marker": {
          "color": "#FF97FF",
          "opacity": 0.6,
          "size": [
           98
          ],
          "sizemode": "area",
          "sizeref": 0.591715976331361,
          "symbol": "circle"
         },
         "mode": "markers",
         "name": "sisimiut",
         "showlegend": true,
         "type": "scattergeo"
        },
        {
         "geo": "geo",
         "hovertemplate": "<b>%{hovertext}</b><br><br>City=saint-pierre<br>Humidity=%{marker.size}<br>Lat=%{lat}<br>Lng=%{lon}<extra></extra>",
         "hovertext": [
          "saint-pierre"
         ],
         "lat": [
          -21.3393
         ],
         "legendgroup": "saint-pierre",
         "lon": [
          55.4781
         ],
         "marker": {
          "color": "#FECB52",
          "opacity": 0.6,
          "size": [
           68
          ],
          "sizemode": "area",
          "sizeref": 0.591715976331361,
          "symbol": "circle"
         },
         "mode": "markers",
         "name": "saint-pierre",
         "showlegend": true,
         "type": "scattergeo"
        },
        {
         "geo": "geo",
         "hovertemplate": "<b>%{hovertext}</b><br><br>City=colorado<br>Humidity=%{marker.size}<br>Lat=%{lat}<br>Lng=%{lon}<extra></extra>",
         "hovertext": [
          "colorado"
         ],
         "lat": [
          -22.8375
         ],
         "legendgroup": "colorado",
         "lon": [
          -51.9731
         ],
         "marker": {
          "color": "#636efa",
          "opacity": 0.6,
          "size": [
           86
          ],
          "sizemode": "area",
          "sizeref": 0.591715976331361,
          "symbol": "circle"
         },
         "mode": "markers",
         "name": "colorado",
         "showlegend": true,
         "type": "scattergeo"
        },
        {
         "geo": "geo",
         "hovertemplate": "<b>%{hovertext}</b><br><br>City=nikolskoye<br>Humidity=%{marker.size}<br>Lat=%{lat}<br>Lng=%{lon}<extra></extra>",
         "hovertext": [
          "nikolskoye"
         ],
         "lat": [
          59.7035
         ],
         "legendgroup": "nikolskoye",
         "lon": [
          30.7861
         ],
         "marker": {
          "color": "#EF553B",
          "opacity": 0.6,
          "size": [
           90
          ],
          "sizemode": "area",
          "sizeref": 0.591715976331361,
          "symbol": "circle"
         },
         "mode": "markers",
         "name": "nikolskoye",
         "showlegend": true,
         "type": "scattergeo"
        },
        {
         "geo": "geo",
         "hovertemplate": "<b>%{hovertext}</b><br><br>City=trairi<br>Humidity=%{marker.size}<br>Lat=%{lat}<br>Lng=%{lon}<extra></extra>",
         "hovertext": [
          "trairi"
         ],
         "lat": [
          -3.2778
         ],
         "legendgroup": "trairi",
         "lon": [
          -39.2689
         ],
         "marker": {
          "color": "#00cc96",
          "opacity": 0.6,
          "size": [
           51
          ],
          "sizemode": "area",
          "sizeref": 0.591715976331361,
          "symbol": "circle"
         },
         "mode": "markers",
         "name": "trairi",
         "showlegend": true,
         "type": "scattergeo"
        },
        {
         "geo": "geo",
         "hovertemplate": "<b>%{hovertext}</b><br><br>City=dobryanka<br>Humidity=%{marker.size}<br>Lat=%{lat}<br>Lng=%{lon}<extra></extra>",
         "hovertext": [
          "dobryanka"
         ],
         "lat": [
          58.4619
         ],
         "legendgroup": "dobryanka",
         "lon": [
          56.4165
         ],
         "marker": {
          "color": "#ab63fa",
          "opacity": 0.6,
          "size": [
           93
          ],
          "sizemode": "area",
          "sizeref": 0.591715976331361,
          "symbol": "circle"
         },
         "mode": "markers",
         "name": "dobryanka",
         "showlegend": true,
         "type": "scattergeo"
        },
        {
         "geo": "geo",
         "hovertemplate": "<b>%{hovertext}</b><br><br>City=qaanaaq<br>Humidity=%{marker.size}<br>Lat=%{lat}<br>Lng=%{lon}<extra></extra>",
         "hovertext": [
          "qaanaaq"
         ],
         "lat": [
          77.484
         ],
         "legendgroup": "qaanaaq",
         "lon": [
          -69.3632
         ],
         "marker": {
          "color": "#FFA15A",
          "opacity": 0.6,
          "size": [
           74
          ],
          "sizemode": "area",
          "sizeref": 0.591715976331361,
          "symbol": "circle"
         },
         "mode": "markers",
         "name": "qaanaaq",
         "showlegend": true,
         "type": "scattergeo"
        },
        {
         "geo": "geo",
         "hovertemplate": "<b>%{hovertext}</b><br><br>City=mataura<br>Humidity=%{marker.size}<br>Lat=%{lat}<br>Lng=%{lon}<extra></extra>",
         "hovertext": [
          "mataura"
         ],
         "lat": [
          -46.1927
         ],
         "legendgroup": "mataura",
         "lon": [
          168.8643
         ],
         "marker": {
          "color": "#19d3f3",
          "opacity": 0.6,
          "size": [
           96
          ],
          "sizemode": "area",
          "sizeref": 0.591715976331361,
          "symbol": "circle"
         },
         "mode": "markers",
         "name": "mataura",
         "showlegend": true,
         "type": "scattergeo"
        },
        {
         "geo": "geo",
         "hovertemplate": "<b>%{hovertext}</b><br><br>City=khatanga<br>Humidity=%{marker.size}<br>Lat=%{lat}<br>Lng=%{lon}<extra></extra>",
         "hovertext": [
          "khatanga"
         ],
         "lat": [
          71.9667
         ],
         "legendgroup": "khatanga",
         "lon": [
          102.5
         ],
         "marker": {
          "color": "#FF6692",
          "opacity": 0.6,
          "size": [
           96
          ],
          "sizemode": "area",
          "sizeref": 0.591715976331361,
          "symbol": "circle"
         },
         "mode": "markers",
         "name": "khatanga",
         "showlegend": true,
         "type": "scattergeo"
        },
        {
         "geo": "geo",
         "hovertemplate": "<b>%{hovertext}</b><br><br>City=tasiilaq<br>Humidity=%{marker.size}<br>Lat=%{lat}<br>Lng=%{lon}<extra></extra>",
         "hovertext": [
          "tasiilaq"
         ],
         "lat": [
          65.6145
         ],
         "legendgroup": "tasiilaq",
         "lon": [
          -37.6368
         ],
         "marker": {
          "color": "#B6E880",
          "opacity": 0.6,
          "size": [
           84
          ],
          "sizemode": "area",
          "sizeref": 0.591715976331361,
          "symbol": "circle"
         },
         "mode": "markers",
         "name": "tasiilaq",
         "showlegend": true,
         "type": "scattergeo"
        },
        {
         "geo": "geo",
         "hovertemplate": "<b>%{hovertext}</b><br><br>City=tiksi<br>Humidity=%{marker.size}<br>Lat=%{lat}<br>Lng=%{lon}<extra></extra>",
         "hovertext": [
          "tiksi"
         ],
         "lat": [
          71.6872
         ],
         "legendgroup": "tiksi",
         "lon": [
          128.8694
         ],
         "marker": {
          "color": "#FF97FF",
          "opacity": 0.6,
          "size": [
           93
          ],
          "sizemode": "area",
          "sizeref": 0.591715976331361,
          "symbol": "circle"
         },
         "mode": "markers",
         "name": "tiksi",
         "showlegend": true,
         "type": "scattergeo"
        },
        {
         "geo": "geo",
         "hovertemplate": "<b>%{hovertext}</b><br><br>City=puerto ayora<br>Humidity=%{marker.size}<br>Lat=%{lat}<br>Lng=%{lon}<extra></extra>",
         "hovertext": [
          "puerto ayora"
         ],
         "lat": [
          -0.7393
         ],
         "legendgroup": "puerto ayora",
         "lon": [
          -90.3518
         ],
         "marker": {
          "color": "#FECB52",
          "opacity": 0.6,
          "size": [
           82
          ],
          "sizemode": "area",
          "sizeref": 0.591715976331361,
          "symbol": "circle"
         },
         "mode": "markers",
         "name": "puerto ayora",
         "showlegend": true,
         "type": "scattergeo"
        },
        {
         "geo": "geo",
         "hovertemplate": "<b>%{hovertext}</b><br><br>City=avarua<br>Humidity=%{marker.size}<br>Lat=%{lat}<br>Lng=%{lon}<extra></extra>",
         "hovertext": [
          "avarua"
         ],
         "lat": [
          -21.2078
         ],
         "legendgroup": "avarua",
         "lon": [
          -159.775
         ],
         "marker": {
          "color": "#636efa",
          "opacity": 0.6,
          "size": [
           73
          ],
          "sizemode": "area",
          "sizeref": 0.591715976331361,
          "symbol": "circle"
         },
         "mode": "markers",
         "name": "avarua",
         "showlegend": true,
         "type": "scattergeo"
        },
        {
         "geo": "geo",
         "hovertemplate": "<b>%{hovertext}</b><br><br>City=nuevo laredo<br>Humidity=%{marker.size}<br>Lat=%{lat}<br>Lng=%{lon}<extra></extra>",
         "hovertext": [
          "nuevo laredo"
         ],
         "lat": [
          27.4763
         ],
         "legendgroup": "nuevo laredo",
         "lon": [
          -99.5164
         ],
         "marker": {
          "color": "#EF553B",
          "opacity": 0.6,
          "size": [
           87
          ],
          "sizemode": "area",
          "sizeref": 0.591715976331361,
          "symbol": "circle"
         },
         "mode": "markers",
         "name": "nuevo laredo",
         "showlegend": true,
         "type": "scattergeo"
        },
        {
         "geo": "geo",
         "hovertemplate": "<b>%{hovertext}</b><br><br>City=guiratinga<br>Humidity=%{marker.size}<br>Lat=%{lat}<br>Lng=%{lon}<extra></extra>",
         "hovertext": [
          "guiratinga"
         ],
         "lat": [
          -16.3494
         ],
         "legendgroup": "guiratinga",
         "lon": [
          -53.7583
         ],
         "marker": {
          "color": "#00cc96",
          "opacity": 0.6,
          "size": [
           14
          ],
          "sizemode": "area",
          "sizeref": 0.591715976331361,
          "symbol": "circle"
         },
         "mode": "markers",
         "name": "guiratinga",
         "showlegend": true,
         "type": "scattergeo"
        },
        {
         "geo": "geo",
         "hovertemplate": "<b>%{hovertext}</b><br><br>City=rikitea<br>Humidity=%{marker.size}<br>Lat=%{lat}<br>Lng=%{lon}<extra></extra>",
         "hovertext": [
          "rikitea"
         ],
         "lat": [
          -23.1203
         ],
         "legendgroup": "rikitea",
         "lon": [
          -134.9692
         ],
         "marker": {
          "color": "#ab63fa",
          "opacity": 0.6,
          "size": [
           65
          ],
          "sizemode": "area",
          "sizeref": 0.591715976331361,
          "symbol": "circle"
         },
         "mode": "markers",
         "name": "rikitea",
         "showlegend": true,
         "type": "scattergeo"
        },
        {
         "geo": "geo",
         "hovertemplate": "<b>%{hovertext}</b><br><br>City=dukat<br>Humidity=%{marker.size}<br>Lat=%{lat}<br>Lng=%{lon}<extra></extra>",
         "hovertext": [
          "dukat"
         ],
         "lat": [
          62.55
         ],
         "legendgroup": "dukat",
         "lon": [
          155.55
         ],
         "marker": {
          "color": "#FFA15A",
          "opacity": 0.6,
          "size": [
           95
          ],
          "sizemode": "area",
          "sizeref": 0.591715976331361,
          "symbol": "circle"
         },
         "mode": "markers",
         "name": "dukat",
         "showlegend": true,
         "type": "scattergeo"
        },
        {
         "geo": "geo",
         "hovertemplate": "<b>%{hovertext}</b><br><br>City=constitucion<br>Humidity=%{marker.size}<br>Lat=%{lat}<br>Lng=%{lon}<extra></extra>",
         "hovertext": [
          "constitucion"
         ],
         "lat": [
          -35.3333
         ],
         "legendgroup": "constitucion",
         "lon": [
          -72.4167
         ],
         "marker": {
          "color": "#19d3f3",
          "opacity": 0.6,
          "size": [
           61
          ],
          "sizemode": "area",
          "sizeref": 0.591715976331361,
          "symbol": "circle"
         },
         "mode": "markers",
         "name": "constitucion",
         "showlegend": true,
         "type": "scattergeo"
        },
        {
         "geo": "geo",
         "hovertemplate": "<b>%{hovertext}</b><br><br>City=senneterre<br>Humidity=%{marker.size}<br>Lat=%{lat}<br>Lng=%{lon}<extra></extra>",
         "hovertext": [
          "senneterre"
         ],
         "lat": [
          48.3835
         ],
         "legendgroup": "senneterre",
         "lon": [
          -77.2328
         ],
         "marker": {
          "color": "#FF6692",
          "opacity": 0.6,
          "size": [
           90
          ],
          "sizemode": "area",
          "sizeref": 0.591715976331361,
          "symbol": "circle"
         },
         "mode": "markers",
         "name": "senneterre",
         "showlegend": true,
         "type": "scattergeo"
        },
        {
         "geo": "geo",
         "hovertemplate": "<b>%{hovertext}</b><br><br>City=bambous virieux<br>Humidity=%{marker.size}<br>Lat=%{lat}<br>Lng=%{lon}<extra></extra>",
         "hovertext": [
          "bambous virieux"
         ],
         "lat": [
          -20.3428
         ],
         "legendgroup": "bambous virieux",
         "lon": [
          57.7575
         ],
         "marker": {
          "color": "#B6E880",
          "opacity": 0.6,
          "size": [
           68
          ],
          "sizemode": "area",
          "sizeref": 0.591715976331361,
          "symbol": "circle"
         },
         "mode": "markers",
         "name": "bambous virieux",
         "showlegend": true,
         "type": "scattergeo"
        },
        {
         "geo": "geo",
         "hovertemplate": "<b>%{hovertext}</b><br><br>City=zangakatun<br>Humidity=%{marker.size}<br>Lat=%{lat}<br>Lng=%{lon}<extra></extra>",
         "hovertext": [
          "zangakatun"
         ],
         "lat": [
          39.8212
         ],
         "legendgroup": "zangakatun",
         "lon": [
          45.0406
         ],
         "marker": {
          "color": "#FF97FF",
          "opacity": 0.6,
          "size": [
           55
          ],
          "sizemode": "area",
          "sizeref": 0.591715976331361,
          "symbol": "circle"
         },
         "mode": "markers",
         "name": "zangakatun",
         "showlegend": true,
         "type": "scattergeo"
        },
        {
         "geo": "geo",
         "hovertemplate": "<b>%{hovertext}</b><br><br>City=saint-louis<br>Humidity=%{marker.size}<br>Lat=%{lat}<br>Lng=%{lon}<extra></extra>",
         "hovertext": [
          "saint-louis"
         ],
         "lat": [
          16.3333
         ],
         "legendgroup": "saint-louis",
         "lon": [
          -15
         ],
         "marker": {
          "color": "#FECB52",
          "opacity": 0.6,
          "size": [
           24
          ],
          "sizemode": "area",
          "sizeref": 0.591715976331361,
          "symbol": "circle"
         },
         "mode": "markers",
         "name": "saint-louis",
         "showlegend": true,
         "type": "scattergeo"
        },
        {
         "geo": "geo",
         "hovertemplate": "<b>%{hovertext}</b><br><br>City=midwest city<br>Humidity=%{marker.size}<br>Lat=%{lat}<br>Lng=%{lon}<extra></extra>",
         "hovertext": [
          "midwest city"
         ],
         "lat": [
          35.4495
         ],
         "legendgroup": "midwest city",
         "lon": [
          -97.3967
         ],
         "marker": {
          "color": "#636efa",
          "opacity": 0.6,
          "size": [
           33
          ],
          "sizemode": "area",
          "sizeref": 0.591715976331361,
          "symbol": "circle"
         },
         "mode": "markers",
         "name": "midwest city",
         "showlegend": true,
         "type": "scattergeo"
        },
        {
         "geo": "geo",
         "hovertemplate": "<b>%{hovertext}</b><br><br>City=grimmen<br>Humidity=%{marker.size}<br>Lat=%{lat}<br>Lng=%{lon}<extra></extra>",
         "hovertext": [
          "grimmen"
         ],
         "lat": [
          54.1121
         ],
         "legendgroup": "grimmen",
         "lon": [
          13.0405
         ],
         "marker": {
          "color": "#EF553B",
          "opacity": 0.6,
          "size": [
           75
          ],
          "sizemode": "area",
          "sizeref": 0.591715976331361,
          "symbol": "circle"
         },
         "mode": "markers",
         "name": "grimmen",
         "showlegend": true,
         "type": "scattergeo"
        },
        {
         "geo": "geo",
         "hovertemplate": "<b>%{hovertext}</b><br><br>City=cape town<br>Humidity=%{marker.size}<br>Lat=%{lat}<br>Lng=%{lon}<extra></extra>",
         "hovertext": [
          "cape town"
         ],
         "lat": [
          -33.9258
         ],
         "legendgroup": "cape town",
         "lon": [
          18.4232
         ],
         "marker": {
          "color": "#00cc96",
          "opacity": 0.6,
          "size": [
           71
          ],
          "sizemode": "area",
          "sizeref": 0.591715976331361,
          "symbol": "circle"
         },
         "mode": "markers",
         "name": "cape town",
         "showlegend": true,
         "type": "scattergeo"
        },
        {
         "geo": "geo",
         "hovertemplate": "<b>%{hovertext}</b><br><br>City=stornoway<br>Humidity=%{marker.size}<br>Lat=%{lat}<br>Lng=%{lon}<extra></extra>",
         "hovertext": [
          "stornoway"
         ],
         "lat": [
          58.2093
         ],
         "legendgroup": "stornoway",
         "lon": [
          -6.3865
         ],
         "marker": {
          "color": "#ab63fa",
          "opacity": 0.6,
          "size": [
           79
          ],
          "sizemode": "area",
          "sizeref": 0.591715976331361,
          "symbol": "circle"
         },
         "mode": "markers",
         "name": "stornoway",
         "showlegend": true,
         "type": "scattergeo"
        },
        {
         "geo": "geo",
         "hovertemplate": "<b>%{hovertext}</b><br><br>City=naberera<br>Humidity=%{marker.size}<br>Lat=%{lat}<br>Lng=%{lon}<extra></extra>",
         "hovertext": [
          "naberera"
         ],
         "lat": [
          -4.2
         ],
         "legendgroup": "naberera",
         "lon": [
          36.9333
         ],
         "marker": {
          "color": "#FFA15A",
          "opacity": 0.6,
          "size": [
           54
          ],
          "sizemode": "area",
          "sizeref": 0.591715976331361,
          "symbol": "circle"
         },
         "mode": "markers",
         "name": "naberera",
         "showlegend": true,
         "type": "scattergeo"
        },
        {
         "geo": "geo",
         "hovertemplate": "<b>%{hovertext}</b><br><br>City=chokurdakh<br>Humidity=%{marker.size}<br>Lat=%{lat}<br>Lng=%{lon}<extra></extra>",
         "hovertext": [
          "chokurdakh"
         ],
         "lat": [
          70.6333
         ],
         "legendgroup": "chokurdakh",
         "lon": [
          147.9167
         ],
         "marker": {
          "color": "#19d3f3",
          "opacity": 0.6,
          "size": [
           98
          ],
          "sizemode": "area",
          "sizeref": 0.591715976331361,
          "symbol": "circle"
         },
         "mode": "markers",
         "name": "chokurdakh",
         "showlegend": true,
         "type": "scattergeo"
        },
        {
         "geo": "geo",
         "hovertemplate": "<b>%{hovertext}</b><br><br>City=drochia<br>Humidity=%{marker.size}<br>Lat=%{lat}<br>Lng=%{lon}<extra></extra>",
         "hovertext": [
          "drochia"
         ],
         "lat": [
          48.035
         ],
         "legendgroup": "drochia",
         "lon": [
          27.8161
         ],
         "marker": {
          "color": "#FF6692",
          "opacity": 0.6,
          "size": [
           30
          ],
          "sizemode": "area",
          "sizeref": 0.591715976331361,
          "symbol": "circle"
         },
         "mode": "markers",
         "name": "drochia",
         "showlegend": true,
         "type": "scattergeo"
        },
        {
         "geo": "geo",
         "hovertemplate": "<b>%{hovertext}</b><br><br>City=klaksvik<br>Humidity=%{marker.size}<br>Lat=%{lat}<br>Lng=%{lon}<extra></extra>",
         "hovertext": [
          "klaksvik"
         ],
         "lat": [
          62.2266
         ],
         "legendgroup": "klaksvik",
         "lon": [
          -6.589
         ],
         "marker": {
          "color": "#B6E880",
          "opacity": 0.6,
          "size": [
           65
          ],
          "sizemode": "area",
          "sizeref": 0.591715976331361,
          "symbol": "circle"
         },
         "mode": "markers",
         "name": "klaksvik",
         "showlegend": true,
         "type": "scattergeo"
        },
        {
         "geo": "geo",
         "hovertemplate": "<b>%{hovertext}</b><br><br>City=labuhan<br>Humidity=%{marker.size}<br>Lat=%{lat}<br>Lng=%{lon}<extra></extra>",
         "hovertext": [
          "labuhan"
         ],
         "lat": [
          -6.8844
         ],
         "legendgroup": "labuhan",
         "lon": [
          112.2051
         ],
         "marker": {
          "color": "#FF97FF",
          "opacity": 0.6,
          "size": [
           88
          ],
          "sizemode": "area",
          "sizeref": 0.591715976331361,
          "symbol": "circle"
         },
         "mode": "markers",
         "name": "labuhan",
         "showlegend": true,
         "type": "scattergeo"
        },
        {
         "geo": "geo",
         "hovertemplate": "<b>%{hovertext}</b><br><br>City=tomatlan<br>Humidity=%{marker.size}<br>Lat=%{lat}<br>Lng=%{lon}<extra></extra>",
         "hovertext": [
          "tomatlan"
         ],
         "lat": [
          19.9333
         ],
         "legendgroup": "tomatlan",
         "lon": [
          -105.25
         ],
         "marker": {
          "color": "#FECB52",
          "opacity": 0.6,
          "size": [
           71
          ],
          "sizemode": "area",
          "sizeref": 0.591715976331361,
          "symbol": "circle"
         },
         "mode": "markers",
         "name": "tomatlan",
         "showlegend": true,
         "type": "scattergeo"
        },
        {
         "geo": "geo",
         "hovertemplate": "<b>%{hovertext}</b><br><br>City=clyde river<br>Humidity=%{marker.size}<br>Lat=%{lat}<br>Lng=%{lon}<extra></extra>",
         "hovertext": [
          "clyde river"
         ],
         "lat": [
          70.4692
         ],
         "legendgroup": "clyde river",
         "lon": [
          -68.5914
         ],
         "marker": {
          "color": "#636efa",
          "opacity": 0.6,
          "size": [
           93
          ],
          "sizemode": "area",
          "sizeref": 0.591715976331361,
          "symbol": "circle"
         },
         "mode": "markers",
         "name": "clyde river",
         "showlegend": true,
         "type": "scattergeo"
        },
        {
         "geo": "geo",
         "hovertemplate": "<b>%{hovertext}</b><br><br>City=sao joao da barra<br>Humidity=%{marker.size}<br>Lat=%{lat}<br>Lng=%{lon}<extra></extra>",
         "hovertext": [
          "sao joao da barra"
         ],
         "lat": [
          -21.6403
         ],
         "legendgroup": "sao joao da barra",
         "lon": [
          -41.0511
         ],
         "marker": {
          "color": "#EF553B",
          "opacity": 0.6,
          "size": [
           75
          ],
          "sizemode": "area",
          "sizeref": 0.591715976331361,
          "symbol": "circle"
         },
         "mode": "markers",
         "name": "sao joao da barra",
         "showlegend": true,
         "type": "scattergeo"
        },
        {
         "geo": "geo",
         "hovertemplate": "<b>%{hovertext}</b><br><br>City=margate<br>Humidity=%{marker.size}<br>Lat=%{lat}<br>Lng=%{lon}<extra></extra>",
         "hovertext": [
          "margate"
         ],
         "lat": [
          51.3813
         ],
         "legendgroup": "margate",
         "lon": [
          1.3862
         ],
         "marker": {
          "color": "#00cc96",
          "opacity": 0.6,
          "size": [
           76
          ],
          "sizemode": "area",
          "sizeref": 0.591715976331361,
          "symbol": "circle"
         },
         "mode": "markers",
         "name": "margate",
         "showlegend": true,
         "type": "scattergeo"
        },
        {
         "geo": "geo",
         "hovertemplate": "<b>%{hovertext}</b><br><br>City=ancud<br>Humidity=%{marker.size}<br>Lat=%{lat}<br>Lng=%{lon}<extra></extra>",
         "hovertext": [
          "ancud"
         ],
         "lat": [
          -41.8697
         ],
         "legendgroup": "ancud",
         "lon": [
          -73.8203
         ],
         "marker": {
          "color": "#ab63fa",
          "opacity": 0.6,
          "size": [
           70
          ],
          "sizemode": "area",
          "sizeref": 0.591715976331361,
          "symbol": "circle"
         },
         "mode": "markers",
         "name": "ancud",
         "showlegend": true,
         "type": "scattergeo"
        },
        {
         "geo": "geo",
         "hovertemplate": "<b>%{hovertext}</b><br><br>City=collierville<br>Humidity=%{marker.size}<br>Lat=%{lat}<br>Lng=%{lon}<extra></extra>",
         "hovertext": [
          "collierville"
         ],
         "lat": [
          35.042
         ],
         "legendgroup": "collierville",
         "lon": [
          -89.6645
         ],
         "marker": {
          "color": "#FFA15A",
          "opacity": 0.6,
          "size": [
           47
          ],
          "sizemode": "area",
          "sizeref": 0.591715976331361,
          "symbol": "circle"
         },
         "mode": "markers",
         "name": "collierville",
         "showlegend": true,
         "type": "scattergeo"
        },
        {
         "geo": "geo",
         "hovertemplate": "<b>%{hovertext}</b><br><br>City=kapaa<br>Humidity=%{marker.size}<br>Lat=%{lat}<br>Lng=%{lon}<extra></extra>",
         "hovertext": [
          "kapaa"
         ],
         "lat": [
          22.0752
         ],
         "legendgroup": "kapaa",
         "lon": [
          -159.319
         ],
         "marker": {
          "color": "#19d3f3",
          "opacity": 0.6,
          "size": [
           84
          ],
          "sizemode": "area",
          "sizeref": 0.591715976331361,
          "symbol": "circle"
         },
         "mode": "markers",
         "name": "kapaa",
         "showlegend": true,
         "type": "scattergeo"
        },
        {
         "geo": "geo",
         "hovertemplate": "<b>%{hovertext}</b><br><br>City=mogadishu<br>Humidity=%{marker.size}<br>Lat=%{lat}<br>Lng=%{lon}<extra></extra>",
         "hovertext": [
          "mogadishu"
         ],
         "lat": [
          2.0371
         ],
         "legendgroup": "mogadishu",
         "lon": [
          45.3438
         ],
         "marker": {
          "color": "#FF6692",
          "opacity": 0.6,
          "size": [
           83
          ],
          "sizemode": "area",
          "sizeref": 0.591715976331361,
          "symbol": "circle"
         },
         "mode": "markers",
         "name": "mogadishu",
         "showlegend": true,
         "type": "scattergeo"
        },
        {
         "geo": "geo",
         "hovertemplate": "<b>%{hovertext}</b><br><br>City=tsalka<br>Humidity=%{marker.size}<br>Lat=%{lat}<br>Lng=%{lon}<extra></extra>",
         "hovertext": [
          "tsalka"
         ],
         "lat": [
          41.5946
         ],
         "legendgroup": "tsalka",
         "lon": [
          44.0891
         ],
         "marker": {
          "color": "#B6E880",
          "opacity": 0.6,
          "size": [
           95
          ],
          "sizemode": "area",
          "sizeref": 0.591715976331361,
          "symbol": "circle"
         },
         "mode": "markers",
         "name": "tsalka",
         "showlegend": true,
         "type": "scattergeo"
        },
        {
         "geo": "geo",
         "hovertemplate": "<b>%{hovertext}</b><br><br>City=dalby<br>Humidity=%{marker.size}<br>Lat=%{lat}<br>Lng=%{lon}<extra></extra>",
         "hovertext": [
          "dalby"
         ],
         "lat": [
          -27.1833
         ],
         "legendgroup": "dalby",
         "lon": [
          151.2667
         ],
         "marker": {
          "color": "#FF97FF",
          "opacity": 0.6,
          "size": [
           80
          ],
          "sizemode": "area",
          "sizeref": 0.591715976331361,
          "symbol": "circle"
         },
         "mode": "markers",
         "name": "dalby",
         "showlegend": true,
         "type": "scattergeo"
        },
        {
         "geo": "geo",
         "hovertemplate": "<b>%{hovertext}</b><br><br>City=hobart<br>Humidity=%{marker.size}<br>Lat=%{lat}<br>Lng=%{lon}<extra></extra>",
         "hovertext": [
          "hobart"
         ],
         "lat": [
          -42.8794
         ],
         "legendgroup": "hobart",
         "lon": [
          147.3294
         ],
         "marker": {
          "color": "#FECB52",
          "opacity": 0.6,
          "size": [
           68
          ],
          "sizemode": "area",
          "sizeref": 0.591715976331361,
          "symbol": "circle"
         },
         "mode": "markers",
         "name": "hobart",
         "showlegend": true,
         "type": "scattergeo"
        },
        {
         "geo": "geo",
         "hovertemplate": "<b>%{hovertext}</b><br><br>City=dikson<br>Humidity=%{marker.size}<br>Lat=%{lat}<br>Lng=%{lon}<extra></extra>",
         "hovertext": [
          "dikson"
         ],
         "lat": [
          73.5069
         ],
         "legendgroup": "dikson",
         "lon": [
          80.5464
         ],
         "marker": {
          "color": "#636efa",
          "opacity": 0.6,
          "size": [
           75
          ],
          "sizemode": "area",
          "sizeref": 0.591715976331361,
          "symbol": "circle"
         },
         "mode": "markers",
         "name": "dikson",
         "showlegend": true,
         "type": "scattergeo"
        },
        {
         "geo": "geo",
         "hovertemplate": "<b>%{hovertext}</b><br><br>City=hilo<br>Humidity=%{marker.size}<br>Lat=%{lat}<br>Lng=%{lon}<extra></extra>",
         "hovertext": [
          "hilo"
         ],
         "lat": [
          19.7297
         ],
         "legendgroup": "hilo",
         "lon": [
          -155.09
         ],
         "marker": {
          "color": "#EF553B",
          "opacity": 0.6,
          "size": [
           83
          ],
          "sizemode": "area",
          "sizeref": 0.591715976331361,
          "symbol": "circle"
         },
         "mode": "markers",
         "name": "hilo",
         "showlegend": true,
         "type": "scattergeo"
        },
        {
         "geo": "geo",
         "hovertemplate": "<b>%{hovertext}</b><br><br>City=businga<br>Humidity=%{marker.size}<br>Lat=%{lat}<br>Lng=%{lon}<extra></extra>",
         "hovertext": [
          "businga"
         ],
         "lat": [
          3.3333
         ],
         "legendgroup": "businga",
         "lon": [
          20.8833
         ],
         "marker": {
          "color": "#00cc96",
          "opacity": 0.6,
          "size": [
           87
          ],
          "sizemode": "area",
          "sizeref": 0.591715976331361,
          "symbol": "circle"
         },
         "mode": "markers",
         "name": "businga",
         "showlegend": true,
         "type": "scattergeo"
        },
        {
         "geo": "geo",
         "hovertemplate": "<b>%{hovertext}</b><br><br>City=lasa<br>Humidity=%{marker.size}<br>Lat=%{lat}<br>Lng=%{lon}<extra></extra>",
         "hovertext": [
          "lasa"
         ],
         "lat": [
          46.6166
         ],
         "legendgroup": "lasa",
         "lon": [
          10.7002
         ],
         "marker": {
          "color": "#ab63fa",
          "opacity": 0.6,
          "size": [
           68
          ],
          "sizemode": "area",
          "sizeref": 0.591715976331361,
          "symbol": "circle"
         },
         "mode": "markers",
         "name": "lasa",
         "showlegend": true,
         "type": "scattergeo"
        },
        {
         "geo": "geo",
         "hovertemplate": "<b>%{hovertext}</b><br><br>City=vaini<br>Humidity=%{marker.size}<br>Lat=%{lat}<br>Lng=%{lon}<extra></extra>",
         "hovertext": [
          "vaini"
         ],
         "lat": [
          -21.2
         ],
         "legendgroup": "vaini",
         "lon": [
          -175.2
         ],
         "marker": {
          "color": "#FFA15A",
          "opacity": 0.6,
          "size": [
           100
          ],
          "sizemode": "area",
          "sizeref": 0.591715976331361,
          "symbol": "circle"
         },
         "mode": "markers",
         "name": "vaini",
         "showlegend": true,
         "type": "scattergeo"
        },
        {
         "geo": "geo",
         "hovertemplate": "<b>%{hovertext}</b><br><br>City=cayenne<br>Humidity=%{marker.size}<br>Lat=%{lat}<br>Lng=%{lon}<extra></extra>",
         "hovertext": [
          "cayenne"
         ],
         "lat": [
          4.9333
         ],
         "legendgroup": "cayenne",
         "lon": [
          -52.3333
         ],
         "marker": {
          "color": "#19d3f3",
          "opacity": 0.6,
          "size": [
           58
          ],
          "sizemode": "area",
          "sizeref": 0.591715976331361,
          "symbol": "circle"
         },
         "mode": "markers",
         "name": "cayenne",
         "showlegend": true,
         "type": "scattergeo"
        },
        {
         "geo": "geo",
         "hovertemplate": "<b>%{hovertext}</b><br><br>City=ust-kulom<br>Humidity=%{marker.size}<br>Lat=%{lat}<br>Lng=%{lon}<extra></extra>",
         "hovertext": [
          "ust-kulom"
         ],
         "lat": [
          61.6864
         ],
         "legendgroup": "ust-kulom",
         "lon": [
          53.6902
         ],
         "marker": {
          "color": "#FF6692",
          "opacity": 0.6,
          "size": [
           88
          ],
          "sizemode": "area",
          "sizeref": 0.591715976331361,
          "symbol": "circle"
         },
         "mode": "markers",
         "name": "ust-kulom",
         "showlegend": true,
         "type": "scattergeo"
        },
        {
         "geo": "geo",
         "hovertemplate": "<b>%{hovertext}</b><br><br>City=udachnyy<br>Humidity=%{marker.size}<br>Lat=%{lat}<br>Lng=%{lon}<extra></extra>",
         "hovertext": [
          "udachnyy"
         ],
         "lat": [
          66.4167
         ],
         "legendgroup": "udachnyy",
         "lon": [
          112.4
         ],
         "marker": {
          "color": "#B6E880",
          "opacity": 0.6,
          "size": [
           85
          ],
          "sizemode": "area",
          "sizeref": 0.591715976331361,
          "symbol": "circle"
         },
         "mode": "markers",
         "name": "udachnyy",
         "showlegend": true,
         "type": "scattergeo"
        },
        {
         "geo": "geo",
         "hovertemplate": "<b>%{hovertext}</b><br><br>City=east london<br>Humidity=%{marker.size}<br>Lat=%{lat}<br>Lng=%{lon}<extra></extra>",
         "hovertext": [
          "east london"
         ],
         "lat": [
          -33.0153
         ],
         "legendgroup": "east london",
         "lon": [
          27.9116
         ],
         "marker": {
          "color": "#FF97FF",
          "opacity": 0.6,
          "size": [
           88
          ],
          "sizemode": "area",
          "sizeref": 0.591715976331361,
          "symbol": "circle"
         },
         "mode": "markers",
         "name": "east london",
         "showlegend": true,
         "type": "scattergeo"
        },
        {
         "geo": "geo",
         "hovertemplate": "<b>%{hovertext}</b><br><br>City=busselton<br>Humidity=%{marker.size}<br>Lat=%{lat}<br>Lng=%{lon}<extra></extra>",
         "hovertext": [
          "busselton"
         ],
         "lat": [
          -33.65
         ],
         "legendgroup": "busselton",
         "lon": [
          115.3333
         ],
         "marker": {
          "color": "#FECB52",
          "opacity": 0.6,
          "size": [
           92
          ],
          "sizemode": "area",
          "sizeref": 0.591715976331361,
          "symbol": "circle"
         },
         "mode": "markers",
         "name": "busselton",
         "showlegend": true,
         "type": "scattergeo"
        },
        {
         "geo": "geo",
         "hovertemplate": "<b>%{hovertext}</b><br><br>City=airai<br>Humidity=%{marker.size}<br>Lat=%{lat}<br>Lng=%{lon}<extra></extra>",
         "hovertext": [
          "airai"
         ],
         "lat": [
          -8.9266
         ],
         "legendgroup": "airai",
         "lon": [
          125.4092
         ],
         "marker": {
          "color": "#636efa",
          "opacity": 0.6,
          "size": [
           93
          ],
          "sizemode": "area",
          "sizeref": 0.591715976331361,
          "symbol": "circle"
         },
         "mode": "markers",
         "name": "airai",
         "showlegend": true,
         "type": "scattergeo"
        },
        {
         "geo": "geo",
         "hovertemplate": "<b>%{hovertext}</b><br><br>City=grindavik<br>Humidity=%{marker.size}<br>Lat=%{lat}<br>Lng=%{lon}<extra></extra>",
         "hovertext": [
          "grindavik"
         ],
         "lat": [
          63.8424
         ],
         "legendgroup": "grindavik",
         "lon": [
          -22.4338
         ],
         "marker": {
          "color": "#EF553B",
          "opacity": 0.6,
          "size": [
           70
          ],
          "sizemode": "area",
          "sizeref": 0.591715976331361,
          "symbol": "circle"
         },
         "mode": "markers",
         "name": "grindavik",
         "showlegend": true,
         "type": "scattergeo"
        },
        {
         "geo": "geo",
         "hovertemplate": "<b>%{hovertext}</b><br><br>City=barrow<br>Humidity=%{marker.size}<br>Lat=%{lat}<br>Lng=%{lon}<extra></extra>",
         "hovertext": [
          "barrow"
         ],
         "lat": [
          71.2906
         ],
         "legendgroup": "barrow",
         "lon": [
          -156.7887
         ],
         "marker": {
          "color": "#00cc96",
          "opacity": 0.6,
          "size": [
           80
          ],
          "sizemode": "area",
          "sizeref": 0.591715976331361,
          "symbol": "circle"
         },
         "mode": "markers",
         "name": "barrow",
         "showlegend": true,
         "type": "scattergeo"
        },
        {
         "geo": "geo",
         "hovertemplate": "<b>%{hovertext}</b><br><br>City=banda<br>Humidity=%{marker.size}<br>Lat=%{lat}<br>Lng=%{lon}<extra></extra>",
         "hovertext": [
          "banda"
         ],
         "lat": [
          25.4833
         ],
         "legendgroup": "banda",
         "lon": [
          80.3333
         ],
         "marker": {
          "color": "#ab63fa",
          "opacity": 0.6,
          "size": [
           52
          ],
          "sizemode": "area",
          "sizeref": 0.591715976331361,
          "symbol": "circle"
         },
         "mode": "markers",
         "name": "banda",
         "showlegend": true,
         "type": "scattergeo"
        },
        {
         "geo": "geo",
         "hovertemplate": "<b>%{hovertext}</b><br><br>City=atuona<br>Humidity=%{marker.size}<br>Lat=%{lat}<br>Lng=%{lon}<extra></extra>",
         "hovertext": [
          "atuona"
         ],
         "lat": [
          -9.8
         ],
         "legendgroup": "atuona",
         "lon": [
          -139.0333
         ],
         "marker": {
          "color": "#FFA15A",
          "opacity": 0.6,
          "size": [
           69
          ],
          "sizemode": "area",
          "sizeref": 0.591715976331361,
          "symbol": "circle"
         },
         "mode": "markers",
         "name": "atuona",
         "showlegend": true,
         "type": "scattergeo"
        },
        {
         "geo": "geo",
         "hovertemplate": "<b>%{hovertext}</b><br><br>City=hermanus<br>Humidity=%{marker.size}<br>Lat=%{lat}<br>Lng=%{lon}<extra></extra>",
         "hovertext": [
          "hermanus"
         ],
         "lat": [
          -34.4187
         ],
         "legendgroup": "hermanus",
         "lon": [
          19.2345
         ],
         "marker": {
          "color": "#19d3f3",
          "opacity": 0.6,
          "size": [
           80
          ],
          "sizemode": "area",
          "sizeref": 0.591715976331361,
          "symbol": "circle"
         },
         "mode": "markers",
         "name": "hermanus",
         "showlegend": true,
         "type": "scattergeo"
        },
        {
         "geo": "geo",
         "hovertemplate": "<b>%{hovertext}</b><br><br>City=mar del plata<br>Humidity=%{marker.size}<br>Lat=%{lat}<br>Lng=%{lon}<extra></extra>",
         "hovertext": [
          "mar del plata"
         ],
         "lat": [
          -38.0023
         ],
         "legendgroup": "mar del plata",
         "lon": [
          -57.5575
         ],
         "marker": {
          "color": "#FF6692",
          "opacity": 0.6,
          "size": [
           83
          ],
          "sizemode": "area",
          "sizeref": 0.591715976331361,
          "symbol": "circle"
         },
         "mode": "markers",
         "name": "mar del plata",
         "showlegend": true,
         "type": "scattergeo"
        },
        {
         "geo": "geo",
         "hovertemplate": "<b>%{hovertext}</b><br><br>City=caravelas<br>Humidity=%{marker.size}<br>Lat=%{lat}<br>Lng=%{lon}<extra></extra>",
         "hovertext": [
          "caravelas"
         ],
         "lat": [
          -17.7125
         ],
         "legendgroup": "caravelas",
         "lon": [
          -39.2481
         ],
         "marker": {
          "color": "#B6E880",
          "opacity": 0.6,
          "size": [
           64
          ],
          "sizemode": "area",
          "sizeref": 0.591715976331361,
          "symbol": "circle"
         },
         "mode": "markers",
         "name": "caravelas",
         "showlegend": true,
         "type": "scattergeo"
        },
        {
         "geo": "geo",
         "hovertemplate": "<b>%{hovertext}</b><br><br>City=port lincoln<br>Humidity=%{marker.size}<br>Lat=%{lat}<br>Lng=%{lon}<extra></extra>",
         "hovertext": [
          "port lincoln"
         ],
         "lat": [
          -34.7333
         ],
         "legendgroup": "port lincoln",
         "lon": [
          135.8667
         ],
         "marker": {
          "color": "#FF97FF",
          "opacity": 0.6,
          "size": [
           88
          ],
          "sizemode": "area",
          "sizeref": 0.591715976331361,
          "symbol": "circle"
         },
         "mode": "markers",
         "name": "port lincoln",
         "showlegend": true,
         "type": "scattergeo"
        },
        {
         "geo": "geo",
         "hovertemplate": "<b>%{hovertext}</b><br><br>City=bredasdorp<br>Humidity=%{marker.size}<br>Lat=%{lat}<br>Lng=%{lon}<extra></extra>",
         "hovertext": [
          "bredasdorp"
         ],
         "lat": [
          -34.5322
         ],
         "legendgroup": "bredasdorp",
         "lon": [
          20.0403
         ],
         "marker": {
          "color": "#FECB52",
          "opacity": 0.6,
          "size": [
           75
          ],
          "sizemode": "area",
          "sizeref": 0.591715976331361,
          "symbol": "circle"
         },
         "mode": "markers",
         "name": "bredasdorp",
         "showlegend": true,
         "type": "scattergeo"
        },
        {
         "geo": "geo",
         "hovertemplate": "<b>%{hovertext}</b><br><br>City=mendi<br>Humidity=%{marker.size}<br>Lat=%{lat}<br>Lng=%{lon}<extra></extra>",
         "hovertext": [
          "mendi"
         ],
         "lat": [
          -6.1761
         ],
         "legendgroup": "mendi",
         "lon": [
          143.6513
         ],
         "marker": {
          "color": "#636efa",
          "opacity": 0.6,
          "size": [
           97
          ],
          "sizemode": "area",
          "sizeref": 0.591715976331361,
          "symbol": "circle"
         },
         "mode": "markers",
         "name": "mendi",
         "showlegend": true,
         "type": "scattergeo"
        },
        {
         "geo": "geo",
         "hovertemplate": "<b>%{hovertext}</b><br><br>City=cobija<br>Humidity=%{marker.size}<br>Lat=%{lat}<br>Lng=%{lon}<extra></extra>",
         "hovertext": [
          "cobija"
         ],
         "lat": [
          -11.0267
         ],
         "legendgroup": "cobija",
         "lon": [
          -68.7692
         ],
         "marker": {
          "color": "#EF553B",
          "opacity": 0.6,
          "size": [
           83
          ],
          "sizemode": "area",
          "sizeref": 0.591715976331361,
          "symbol": "circle"
         },
         "mode": "markers",
         "name": "cobija",
         "showlegend": true,
         "type": "scattergeo"
        },
        {
         "geo": "geo",
         "hovertemplate": "<b>%{hovertext}</b><br><br>City=deer lake<br>Humidity=%{marker.size}<br>Lat=%{lat}<br>Lng=%{lon}<extra></extra>",
         "hovertext": [
          "deer lake"
         ],
         "lat": [
          49.1667
         ],
         "legendgroup": "deer lake",
         "lon": [
          -57.4316
         ],
         "marker": {
          "color": "#00cc96",
          "opacity": 0.6,
          "size": [
           94
          ],
          "sizemode": "area",
          "sizeref": 0.591715976331361,
          "symbol": "circle"
         },
         "mode": "markers",
         "name": "deer lake",
         "showlegend": true,
         "type": "scattergeo"
        },
        {
         "geo": "geo",
         "hovertemplate": "<b>%{hovertext}</b><br><br>City=nalut<br>Humidity=%{marker.size}<br>Lat=%{lat}<br>Lng=%{lon}<extra></extra>",
         "hovertext": [
          "nalut"
         ],
         "lat": [
          30.3333
         ],
         "legendgroup": "nalut",
         "lon": [
          10.85
         ],
         "marker": {
          "color": "#ab63fa",
          "opacity": 0.6,
          "size": [
           27
          ],
          "sizemode": "area",
          "sizeref": 0.591715976331361,
          "symbol": "circle"
         },
         "mode": "markers",
         "name": "nalut",
         "showlegend": true,
         "type": "scattergeo"
        },
        {
         "geo": "geo",
         "hovertemplate": "<b>%{hovertext}</b><br><br>City=saskylakh<br>Humidity=%{marker.size}<br>Lat=%{lat}<br>Lng=%{lon}<extra></extra>",
         "hovertext": [
          "saskylakh"
         ],
         "lat": [
          71.9167
         ],
         "legendgroup": "saskylakh",
         "lon": [
          114.0833
         ],
         "marker": {
          "color": "#FFA15A",
          "opacity": 0.6,
          "size": [
           97
          ],
          "sizemode": "area",
          "sizeref": 0.591715976331361,
          "symbol": "circle"
         },
         "mode": "markers",
         "name": "saskylakh",
         "showlegend": true,
         "type": "scattergeo"
        },
        {
         "geo": "geo",
         "hovertemplate": "<b>%{hovertext}</b><br><br>City=dudinka<br>Humidity=%{marker.size}<br>Lat=%{lat}<br>Lng=%{lon}<extra></extra>",
         "hovertext": [
          "dudinka"
         ],
         "lat": [
          69.4058
         ],
         "legendgroup": "dudinka",
         "lon": [
          86.1778
         ],
         "marker": {
          "color": "#19d3f3",
          "opacity": 0.6,
          "size": [
           96
          ],
          "sizemode": "area",
          "sizeref": 0.591715976331361,
          "symbol": "circle"
         },
         "mode": "markers",
         "name": "dudinka",
         "showlegend": true,
         "type": "scattergeo"
        },
        {
         "geo": "geo",
         "hovertemplate": "<b>%{hovertext}</b><br><br>City=zamberk<br>Humidity=%{marker.size}<br>Lat=%{lat}<br>Lng=%{lon}<extra></extra>",
         "hovertext": [
          "zamberk"
         ],
         "lat": [
          50.086
         ],
         "legendgroup": "zamberk",
         "lon": [
          16.4674
         ],
         "marker": {
          "color": "#FF6692",
          "opacity": 0.6,
          "size": [
           73
          ],
          "sizemode": "area",
          "sizeref": 0.591715976331361,
          "symbol": "circle"
         },
         "mode": "markers",
         "name": "zamberk",
         "showlegend": true,
         "type": "scattergeo"
        },
        {
         "geo": "geo",
         "hovertemplate": "<b>%{hovertext}</b><br><br>City=jaguariaiva<br>Humidity=%{marker.size}<br>Lat=%{lat}<br>Lng=%{lon}<extra></extra>",
         "hovertext": [
          "jaguariaiva"
         ],
         "lat": [
          -24.2511
         ],
         "legendgroup": "jaguariaiva",
         "lon": [
          -49.7058
         ],
         "marker": {
          "color": "#B6E880",
          "opacity": 0.6,
          "size": [
           81
          ],
          "sizemode": "area",
          "sizeref": 0.591715976331361,
          "symbol": "circle"
         },
         "mode": "markers",
         "name": "jaguariaiva",
         "showlegend": true,
         "type": "scattergeo"
        },
        {
         "geo": "geo",
         "hovertemplate": "<b>%{hovertext}</b><br><br>City=aberdeen<br>Humidity=%{marker.size}<br>Lat=%{lat}<br>Lng=%{lon}<extra></extra>",
         "hovertext": [
          "aberdeen"
         ],
         "lat": [
          57.1437
         ],
         "legendgroup": "aberdeen",
         "lon": [
          -2.0981
         ],
         "marker": {
          "color": "#FF97FF",
          "opacity": 0.6,
          "size": [
           78
          ],
          "sizemode": "area",
          "sizeref": 0.591715976331361,
          "symbol": "circle"
         },
         "mode": "markers",
         "name": "aberdeen",
         "showlegend": true,
         "type": "scattergeo"
        },
        {
         "geo": "geo",
         "hovertemplate": "<b>%{hovertext}</b><br><br>City=mahebourg<br>Humidity=%{marker.size}<br>Lat=%{lat}<br>Lng=%{lon}<extra></extra>",
         "hovertext": [
          "mahebourg"
         ],
         "lat": [
          -20.4081
         ],
         "legendgroup": "mahebourg",
         "lon": [
          57.7
         ],
         "marker": {
          "color": "#FECB52",
          "opacity": 0.6,
          "size": [
           68
          ],
          "sizemode": "area",
          "sizeref": 0.591715976331361,
          "symbol": "circle"
         },
         "mode": "markers",
         "name": "mahebourg",
         "showlegend": true,
         "type": "scattergeo"
        },
        {
         "geo": "geo",
         "hovertemplate": "<b>%{hovertext}</b><br><br>City=kedrovyy<br>Humidity=%{marker.size}<br>Lat=%{lat}<br>Lng=%{lon}<extra></extra>",
         "hovertext": [
          "kedrovyy"
         ],
         "lat": [
          56.1667
         ],
         "legendgroup": "kedrovyy",
         "lon": [
          91.8167
         ],
         "marker": {
          "color": "#636efa",
          "opacity": 0.6,
          "size": [
           95
          ],
          "sizemode": "area",
          "sizeref": 0.591715976331361,
          "symbol": "circle"
         },
         "mode": "markers",
         "name": "kedrovyy",
         "showlegend": true,
         "type": "scattergeo"
        },
        {
         "geo": "geo",
         "hovertemplate": "<b>%{hovertext}</b><br><br>City=makakilo city<br>Humidity=%{marker.size}<br>Lat=%{lat}<br>Lng=%{lon}<extra></extra>",
         "hovertext": [
          "makakilo city"
         ],
         "lat": [
          21.3469
         ],
         "legendgroup": "makakilo city",
         "lon": [
          -158.0858
         ],
         "marker": {
          "color": "#EF553B",
          "opacity": 0.6,
          "size": [
           81
          ],
          "sizemode": "area",
          "sizeref": 0.591715976331361,
          "symbol": "circle"
         },
         "mode": "markers",
         "name": "makakilo city",
         "showlegend": true,
         "type": "scattergeo"
        },
        {
         "geo": "geo",
         "hovertemplate": "<b>%{hovertext}</b><br><br>City=qostanay<br>Humidity=%{marker.size}<br>Lat=%{lat}<br>Lng=%{lon}<extra></extra>",
         "hovertext": [
          "qostanay"
         ],
         "lat": [
          53.1667
         ],
         "legendgroup": "qostanay",
         "lon": [
          63.5833
         ],
         "marker": {
          "color": "#00cc96",
          "opacity": 0.6,
          "size": [
           70
          ],
          "sizemode": "area",
          "sizeref": 0.591715976331361,
          "symbol": "circle"
         },
         "mode": "markers",
         "name": "qostanay",
         "showlegend": true,
         "type": "scattergeo"
        },
        {
         "geo": "geo",
         "hovertemplate": "<b>%{hovertext}</b><br><br>City=esperance<br>Humidity=%{marker.size}<br>Lat=%{lat}<br>Lng=%{lon}<extra></extra>",
         "hovertext": [
          "esperance"
         ],
         "lat": [
          -33.8667
         ],
         "legendgroup": "esperance",
         "lon": [
          121.9
         ],
         "marker": {
          "color": "#ab63fa",
          "opacity": 0.6,
          "size": [
           87
          ],
          "sizemode": "area",
          "sizeref": 0.591715976331361,
          "symbol": "circle"
         },
         "mode": "markers",
         "name": "esperance",
         "showlegend": true,
         "type": "scattergeo"
        },
        {
         "geo": "geo",
         "hovertemplate": "<b>%{hovertext}</b><br><br>City=darnah<br>Humidity=%{marker.size}<br>Lat=%{lat}<br>Lng=%{lon}<extra></extra>",
         "hovertext": [
          "darnah"
         ],
         "lat": [
          32.767
         ],
         "legendgroup": "darnah",
         "lon": [
          22.6367
         ],
         "marker": {
          "color": "#FFA15A",
          "opacity": 0.6,
          "size": [
           73
          ],
          "sizemode": "area",
          "sizeref": 0.591715976331361,
          "symbol": "circle"
         },
         "mode": "markers",
         "name": "darnah",
         "showlegend": true,
         "type": "scattergeo"
        },
        {
         "geo": "geo",
         "hovertemplate": "<b>%{hovertext}</b><br><br>City=provideniya<br>Humidity=%{marker.size}<br>Lat=%{lat}<br>Lng=%{lon}<extra></extra>",
         "hovertext": [
          "provideniya"
         ],
         "lat": [
          64.3833
         ],
         "legendgroup": "provideniya",
         "lon": [
          -173.3
         ],
         "marker": {
          "color": "#19d3f3",
          "opacity": 0.6,
          "size": [
           76
          ],
          "sizemode": "area",
          "sizeref": 0.591715976331361,
          "symbol": "circle"
         },
         "mode": "markers",
         "name": "provideniya",
         "showlegend": true,
         "type": "scattergeo"
        },
        {
         "geo": "geo",
         "hovertemplate": "<b>%{hovertext}</b><br><br>City=rafaela<br>Humidity=%{marker.size}<br>Lat=%{lat}<br>Lng=%{lon}<extra></extra>",
         "hovertext": [
          "rafaela"
         ],
         "lat": [
          -31.2503
         ],
         "legendgroup": "rafaela",
         "lon": [
          -61.4867
         ],
         "marker": {
          "color": "#FF6692",
          "opacity": 0.6,
          "size": [
           42
          ],
          "sizemode": "area",
          "sizeref": 0.591715976331361,
          "symbol": "circle"
         },
         "mode": "markers",
         "name": "rafaela",
         "showlegend": true,
         "type": "scattergeo"
        },
        {
         "geo": "geo",
         "hovertemplate": "<b>%{hovertext}</b><br><br>City=saint-philippe<br>Humidity=%{marker.size}<br>Lat=%{lat}<br>Lng=%{lon}<extra></extra>",
         "hovertext": [
          "saint-philippe"
         ],
         "lat": [
          -21.3585
         ],
         "legendgroup": "saint-philippe",
         "lon": [
          55.7679
         ],
         "marker": {
          "color": "#B6E880",
          "opacity": 0.6,
          "size": [
           76
          ],
          "sizemode": "area",
          "sizeref": 0.591715976331361,
          "symbol": "circle"
         },
         "mode": "markers",
         "name": "saint-philippe",
         "showlegend": true,
         "type": "scattergeo"
        },
        {
         "geo": "geo",
         "hovertemplate": "<b>%{hovertext}</b><br><br>City=ponta do sol<br>Humidity=%{marker.size}<br>Lat=%{lat}<br>Lng=%{lon}<extra></extra>",
         "hovertext": [
          "ponta do sol"
         ],
         "lat": [
          32.6667
         ],
         "legendgroup": "ponta do sol",
         "lon": [
          -17.1
         ],
         "marker": {
          "color": "#FF97FF",
          "opacity": 0.6,
          "size": [
           69
          ],
          "sizemode": "area",
          "sizeref": 0.591715976331361,
          "symbol": "circle"
         },
         "mode": "markers",
         "name": "ponta do sol",
         "showlegend": true,
         "type": "scattergeo"
        },
        {
         "geo": "geo",
         "hovertemplate": "<b>%{hovertext}</b><br><br>City=solnechnyy<br>Humidity=%{marker.size}<br>Lat=%{lat}<br>Lng=%{lon}<extra></extra>",
         "hovertext": [
          "solnechnyy"
         ],
         "lat": [
          50.7214
         ],
         "legendgroup": "solnechnyy",
         "lon": [
          136.6319
         ],
         "marker": {
          "color": "#FECB52",
          "opacity": 0.6,
          "size": [
           60
          ],
          "sizemode": "area",
          "sizeref": 0.591715976331361,
          "symbol": "circle"
         },
         "mode": "markers",
         "name": "solnechnyy",
         "showlegend": true,
         "type": "scattergeo"
        },
        {
         "geo": "geo",
         "hovertemplate": "<b>%{hovertext}</b><br><br>City=saint george<br>Humidity=%{marker.size}<br>Lat=%{lat}<br>Lng=%{lon}<extra></extra>",
         "hovertext": [
          "saint george"
         ],
         "lat": [
          37.1041
         ],
         "legendgroup": "saint george",
         "lon": [
          -113.5841
         ],
         "marker": {
          "color": "#636efa",
          "opacity": 0.6,
          "size": [
           44
          ],
          "sizemode": "area",
          "sizeref": 0.591715976331361,
          "symbol": "circle"
         },
         "mode": "markers",
         "name": "saint george",
         "showlegend": true,
         "type": "scattergeo"
        },
        {
         "geo": "geo",
         "hovertemplate": "<b>%{hovertext}</b><br><br>City=alba<br>Humidity=%{marker.size}<br>Lat=%{lat}<br>Lng=%{lon}<extra></extra>",
         "hovertext": [
          "alba"
         ],
         "lat": [
          52.0324
         ],
         "legendgroup": "alba",
         "lon": [
          23.1165
         ],
         "marker": {
          "color": "#EF553B",
          "opacity": 0.6,
          "size": [
           69
          ],
          "sizemode": "area",
          "sizeref": 0.591715976331361,
          "symbol": "circle"
         },
         "mode": "markers",
         "name": "alba",
         "showlegend": true,
         "type": "scattergeo"
        },
        {
         "geo": "geo",
         "hovertemplate": "<b>%{hovertext}</b><br><br>City=arman<br>Humidity=%{marker.size}<br>Lat=%{lat}<br>Lng=%{lon}<extra></extra>",
         "hovertext": [
          "arman"
         ],
         "lat": [
          59.7
         ],
         "legendgroup": "arman",
         "lon": [
          150.1667
         ],
         "marker": {
          "color": "#00cc96",
          "opacity": 0.6,
          "size": [
           49
          ],
          "sizemode": "area",
          "sizeref": 0.591715976331361,
          "symbol": "circle"
         },
         "mode": "markers",
         "name": "arman",
         "showlegend": true,
         "type": "scattergeo"
        },
        {
         "geo": "geo",
         "hovertemplate": "<b>%{hovertext}</b><br><br>City=ugoofaaru<br>Humidity=%{marker.size}<br>Lat=%{lat}<br>Lng=%{lon}<extra></extra>",
         "hovertext": [
          "ugoofaaru"
         ],
         "lat": [
          5.6667
         ],
         "legendgroup": "ugoofaaru",
         "lon": [
          73
         ],
         "marker": {
          "color": "#ab63fa",
          "opacity": 0.6,
          "size": [
           80
          ],
          "sizemode": "area",
          "sizeref": 0.591715976331361,
          "symbol": "circle"
         },
         "mode": "markers",
         "name": "ugoofaaru",
         "showlegend": true,
         "type": "scattergeo"
        },
        {
         "geo": "geo",
         "hovertemplate": "<b>%{hovertext}</b><br><br>City=butaritari<br>Humidity=%{marker.size}<br>Lat=%{lat}<br>Lng=%{lon}<extra></extra>",
         "hovertext": [
          "butaritari"
         ],
         "lat": [
          3.0707
         ],
         "legendgroup": "butaritari",
         "lon": [
          172.7902
         ],
         "marker": {
          "color": "#FFA15A",
          "opacity": 0.6,
          "size": [
           77
          ],
          "sizemode": "area",
          "sizeref": 0.591715976331361,
          "symbol": "circle"
         },
         "mode": "markers",
         "name": "butaritari",
         "showlegend": true,
         "type": "scattergeo"
        },
        {
         "geo": "geo",
         "hovertemplate": "<b>%{hovertext}</b><br><br>City=kavaratti<br>Humidity=%{marker.size}<br>Lat=%{lat}<br>Lng=%{lon}<extra></extra>",
         "hovertext": [
          "kavaratti"
         ],
         "lat": [
          10.5669
         ],
         "legendgroup": "kavaratti",
         "lon": [
          72.642
         ],
         "marker": {
          "color": "#19d3f3",
          "opacity": 0.6,
          "size": [
           78
          ],
          "sizemode": "area",
          "sizeref": 0.591715976331361,
          "symbol": "circle"
         },
         "mode": "markers",
         "name": "kavaratti",
         "showlegend": true,
         "type": "scattergeo"
        },
        {
         "geo": "geo",
         "hovertemplate": "<b>%{hovertext}</b><br><br>City=zhangye<br>Humidity=%{marker.size}<br>Lat=%{lat}<br>Lng=%{lon}<extra></extra>",
         "hovertext": [
          "zhangye"
         ],
         "lat": [
          38.9342
         ],
         "legendgroup": "zhangye",
         "lon": [
          100.4517
         ],
         "marker": {
          "color": "#FF6692",
          "opacity": 0.6,
          "size": [
           16
          ],
          "sizemode": "area",
          "sizeref": 0.591715976331361,
          "symbol": "circle"
         },
         "mode": "markers",
         "name": "zhangye",
         "showlegend": true,
         "type": "scattergeo"
        },
        {
         "geo": "geo",
         "hovertemplate": "<b>%{hovertext}</b><br><br>City=shenjiamen<br>Humidity=%{marker.size}<br>Lat=%{lat}<br>Lng=%{lon}<extra></extra>",
         "hovertext": [
          "shenjiamen"
         ],
         "lat": [
          29.9576
         ],
         "legendgroup": "shenjiamen",
         "lon": [
          122.298
         ],
         "marker": {
          "color": "#B6E880",
          "opacity": 0.6,
          "size": [
           59
          ],
          "sizemode": "area",
          "sizeref": 0.591715976331361,
          "symbol": "circle"
         },
         "mode": "markers",
         "name": "shenjiamen",
         "showlegend": true,
         "type": "scattergeo"
        },
        {
         "geo": "geo",
         "hovertemplate": "<b>%{hovertext}</b><br><br>City=itarema<br>Humidity=%{marker.size}<br>Lat=%{lat}<br>Lng=%{lon}<extra></extra>",
         "hovertext": [
          "itarema"
         ],
         "lat": [
          -2.9248
         ],
         "legendgroup": "itarema",
         "lon": [
          -39.9167
         ],
         "marker": {
          "color": "#FF97FF",
          "opacity": 0.6,
          "size": [
           54
          ],
          "sizemode": "area",
          "sizeref": 0.591715976331361,
          "symbol": "circle"
         },
         "mode": "markers",
         "name": "itarema",
         "showlegend": true,
         "type": "scattergeo"
        },
        {
         "geo": "geo",
         "hovertemplate": "<b>%{hovertext}</b><br><br>City=trincomalee<br>Humidity=%{marker.size}<br>Lat=%{lat}<br>Lng=%{lon}<extra></extra>",
         "hovertext": [
          "trincomalee"
         ],
         "lat": [
          8.5711
         ],
         "legendgroup": "trincomalee",
         "lon": [
          81.2335
         ],
         "marker": {
          "color": "#FECB52",
          "opacity": 0.6,
          "size": [
           82
          ],
          "sizemode": "area",
          "sizeref": 0.591715976331361,
          "symbol": "circle"
         },
         "mode": "markers",
         "name": "trincomalee",
         "showlegend": true,
         "type": "scattergeo"
        },
        {
         "geo": "geo",
         "hovertemplate": "<b>%{hovertext}</b><br><br>City=castro<br>Humidity=%{marker.size}<br>Lat=%{lat}<br>Lng=%{lon}<extra></extra>",
         "hovertext": [
          "castro"
         ],
         "lat": [
          -24.7911
         ],
         "legendgroup": "castro",
         "lon": [
          -50.0119
         ],
         "marker": {
          "color": "#636efa",
          "opacity": 0.6,
          "size": [
           88
          ],
          "sizemode": "area",
          "sizeref": 0.591715976331361,
          "symbol": "circle"
         },
         "mode": "markers",
         "name": "castro",
         "showlegend": true,
         "type": "scattergeo"
        },
        {
         "geo": "geo",
         "hovertemplate": "<b>%{hovertext}</b><br><br>City=heihe<br>Humidity=%{marker.size}<br>Lat=%{lat}<br>Lng=%{lon}<extra></extra>",
         "hovertext": [
          "heihe"
         ],
         "lat": [
          50.2441
         ],
         "legendgroup": "heihe",
         "lon": [
          127.4902
         ],
         "marker": {
          "color": "#EF553B",
          "opacity": 0.6,
          "size": [
           49
          ],
          "sizemode": "area",
          "sizeref": 0.591715976331361,
          "symbol": "circle"
         },
         "mode": "markers",
         "name": "heihe",
         "showlegend": true,
         "type": "scattergeo"
        },
        {
         "geo": "geo",
         "hovertemplate": "<b>%{hovertext}</b><br><br>City=rio gallegos<br>Humidity=%{marker.size}<br>Lat=%{lat}<br>Lng=%{lon}<extra></extra>",
         "hovertext": [
          "rio gallegos"
         ],
         "lat": [
          -51.6226
         ],
         "legendgroup": "rio gallegos",
         "lon": [
          -69.2181
         ],
         "marker": {
          "color": "#00cc96",
          "opacity": 0.6,
          "size": [
           26
          ],
          "sizemode": "area",
          "sizeref": 0.591715976331361,
          "symbol": "circle"
         },
         "mode": "markers",
         "name": "rio gallegos",
         "showlegend": true,
         "type": "scattergeo"
        },
        {
         "geo": "geo",
         "hovertemplate": "<b>%{hovertext}</b><br><br>City=siavonga<br>Humidity=%{marker.size}<br>Lat=%{lat}<br>Lng=%{lon}<extra></extra>",
         "hovertext": [
          "siavonga"
         ],
         "lat": [
          -16.5382
         ],
         "legendgroup": "siavonga",
         "lon": [
          28.7088
         ],
         "marker": {
          "color": "#ab63fa",
          "opacity": 0.6,
          "size": [
           32
          ],
          "sizemode": "area",
          "sizeref": 0.591715976331361,
          "symbol": "circle"
         },
         "mode": "markers",
         "name": "siavonga",
         "showlegend": true,
         "type": "scattergeo"
        },
        {
         "geo": "geo",
         "hovertemplate": "<b>%{hovertext}</b><br><br>City=bluff<br>Humidity=%{marker.size}<br>Lat=%{lat}<br>Lng=%{lon}<extra></extra>",
         "hovertext": [
          "bluff"
         ],
         "lat": [
          -46.6
         ],
         "legendgroup": "bluff",
         "lon": [
          168.3333
         ],
         "marker": {
          "color": "#FFA15A",
          "opacity": 0.6,
          "size": [
           76
          ],
          "sizemode": "area",
          "sizeref": 0.591715976331361,
          "symbol": "circle"
         },
         "mode": "markers",
         "name": "bluff",
         "showlegend": true,
         "type": "scattergeo"
        },
        {
         "geo": "geo",
         "hovertemplate": "<b>%{hovertext}</b><br><br>City=nova olimpia<br>Humidity=%{marker.size}<br>Lat=%{lat}<br>Lng=%{lon}<extra></extra>",
         "hovertext": [
          "nova olimpia"
         ],
         "lat": [
          -14.7972
         ],
         "legendgroup": "nova olimpia",
         "lon": [
          -57.2881
         ],
         "marker": {
          "color": "#19d3f3",
          "opacity": 0.6,
          "size": [
           21
          ],
          "sizemode": "area",
          "sizeref": 0.591715976331361,
          "symbol": "circle"
         },
         "mode": "markers",
         "name": "nova olimpia",
         "showlegend": true,
         "type": "scattergeo"
        },
        {
         "geo": "geo",
         "hovertemplate": "<b>%{hovertext}</b><br><br>City=palencia<br>Humidity=%{marker.size}<br>Lat=%{lat}<br>Lng=%{lon}<extra></extra>",
         "hovertext": [
          "palencia"
         ],
         "lat": [
          42.4167
         ],
         "legendgroup": "palencia",
         "lon": [
          -4.5
         ],
         "marker": {
          "color": "#FF6692",
          "opacity": 0.6,
          "size": [
           30
          ],
          "sizemode": "area",
          "sizeref": 0.591715976331361,
          "symbol": "circle"
         },
         "mode": "markers",
         "name": "palencia",
         "showlegend": true,
         "type": "scattergeo"
        },
        {
         "geo": "geo",
         "hovertemplate": "<b>%{hovertext}</b><br><br>City=inhambane<br>Humidity=%{marker.size}<br>Lat=%{lat}<br>Lng=%{lon}<extra></extra>",
         "hovertext": [
          "inhambane"
         ],
         "lat": [
          -23.865
         ],
         "legendgroup": "inhambane",
         "lon": [
          35.3833
         ],
         "marker": {
          "color": "#B6E880",
          "opacity": 0.6,
          "size": [
           65
          ],
          "sizemode": "area",
          "sizeref": 0.591715976331361,
          "symbol": "circle"
         },
         "mode": "markers",
         "name": "inhambane",
         "showlegend": true,
         "type": "scattergeo"
        },
        {
         "geo": "geo",
         "hovertemplate": "<b>%{hovertext}</b><br><br>City=iqaluit<br>Humidity=%{marker.size}<br>Lat=%{lat}<br>Lng=%{lon}<extra></extra>",
         "hovertext": [
          "iqaluit"
         ],
         "lat": [
          63.7506
         ],
         "legendgroup": "iqaluit",
         "lon": [
          -68.5145
         ],
         "marker": {
          "color": "#FF97FF",
          "opacity": 0.6,
          "size": [
           79
          ],
          "sizemode": "area",
          "sizeref": 0.591715976331361,
          "symbol": "circle"
         },
         "mode": "markers",
         "name": "iqaluit",
         "showlegend": true,
         "type": "scattergeo"
        },
        {
         "geo": "geo",
         "hovertemplate": "<b>%{hovertext}</b><br><br>City=lebu<br>Humidity=%{marker.size}<br>Lat=%{lat}<br>Lng=%{lon}<extra></extra>",
         "hovertext": [
          "lebu"
         ],
         "lat": [
          -37.6167
         ],
         "legendgroup": "lebu",
         "lon": [
          -73.65
         ],
         "marker": {
          "color": "#FECB52",
          "opacity": 0.6,
          "size": [
           72
          ],
          "sizemode": "area",
          "sizeref": 0.591715976331361,
          "symbol": "circle"
         },
         "mode": "markers",
         "name": "lebu",
         "showlegend": true,
         "type": "scattergeo"
        },
        {
         "geo": "geo",
         "hovertemplate": "<b>%{hovertext}</b><br><br>City=calabozo<br>Humidity=%{marker.size}<br>Lat=%{lat}<br>Lng=%{lon}<extra></extra>",
         "hovertext": [
          "calabozo"
         ],
         "lat": [
          8.9242
         ],
         "legendgroup": "calabozo",
         "lon": [
          -67.4293
         ],
         "marker": {
          "color": "#636efa",
          "opacity": 0.6,
          "size": [
           75
          ],
          "sizemode": "area",
          "sizeref": 0.591715976331361,
          "symbol": "circle"
         },
         "mode": "markers",
         "name": "calabozo",
         "showlegend": true,
         "type": "scattergeo"
        },
        {
         "geo": "geo",
         "hovertemplate": "<b>%{hovertext}</b><br><br>City=sao filipe<br>Humidity=%{marker.size}<br>Lat=%{lat}<br>Lng=%{lon}<extra></extra>",
         "hovertext": [
          "sao filipe"
         ],
         "lat": [
          14.8961
         ],
         "legendgroup": "sao filipe",
         "lon": [
          -24.4956
         ],
         "marker": {
          "color": "#EF553B",
          "opacity": 0.6,
          "size": [
           78
          ],
          "sizemode": "area",
          "sizeref": 0.591715976331361,
          "symbol": "circle"
         },
         "mode": "markers",
         "name": "sao filipe",
         "showlegend": true,
         "type": "scattergeo"
        },
        {
         "geo": "geo",
         "hovertemplate": "<b>%{hovertext}</b><br><br>City=torbay<br>Humidity=%{marker.size}<br>Lat=%{lat}<br>Lng=%{lon}<extra></extra>",
         "hovertext": [
          "torbay"
         ],
         "lat": [
          47.6666
         ],
         "legendgroup": "torbay",
         "lon": [
          -52.7314
         ],
         "marker": {
          "color": "#00cc96",
          "opacity": 0.6,
          "size": [
           95
          ],
          "sizemode": "area",
          "sizeref": 0.591715976331361,
          "symbol": "circle"
         },
         "mode": "markers",
         "name": "torbay",
         "showlegend": true,
         "type": "scattergeo"
        },
        {
         "geo": "geo",
         "hovertemplate": "<b>%{hovertext}</b><br><br>City=kavieng<br>Humidity=%{marker.size}<br>Lat=%{lat}<br>Lng=%{lon}<extra></extra>",
         "hovertext": [
          "kavieng"
         ],
         "lat": [
          -2.5744
         ],
         "legendgroup": "kavieng",
         "lon": [
          150.7967
         ],
         "marker": {
          "color": "#ab63fa",
          "opacity": 0.6,
          "size": [
           71
          ],
          "sizemode": "area",
          "sizeref": 0.591715976331361,
          "symbol": "circle"
         },
         "mode": "markers",
         "name": "kavieng",
         "showlegend": true,
         "type": "scattergeo"
        },
        {
         "geo": "geo",
         "hovertemplate": "<b>%{hovertext}</b><br><br>City=yidu<br>Humidity=%{marker.size}<br>Lat=%{lat}<br>Lng=%{lon}<extra></extra>",
         "hovertext": [
          "yidu"
         ],
         "lat": [
          24.1614
         ],
         "legendgroup": "yidu",
         "lon": [
          115.1328
         ],
         "marker": {
          "color": "#FFA15A",
          "opacity": 0.6,
          "size": [
           27
          ],
          "sizemode": "area",
          "sizeref": 0.591715976331361,
          "symbol": "circle"
         },
         "mode": "markers",
         "name": "yidu",
         "showlegend": true,
         "type": "scattergeo"
        },
        {
         "geo": "geo",
         "hovertemplate": "<b>%{hovertext}</b><br><br>City=cedar city<br>Humidity=%{marker.size}<br>Lat=%{lat}<br>Lng=%{lon}<extra></extra>",
         "hovertext": [
          "cedar city"
         ],
         "lat": [
          37.6775
         ],
         "legendgroup": "cedar city",
         "lon": [
          -113.0619
         ],
         "marker": {
          "color": "#19d3f3",
          "opacity": 0.6,
          "size": [
           49
          ],
          "sizemode": "area",
          "sizeref": 0.591715976331361,
          "symbol": "circle"
         },
         "mode": "markers",
         "name": "cedar city",
         "showlegend": true,
         "type": "scattergeo"
        },
        {
         "geo": "geo",
         "hovertemplate": "<b>%{hovertext}</b><br><br>City=victoria<br>Humidity=%{marker.size}<br>Lat=%{lat}<br>Lng=%{lon}<extra></extra>",
         "hovertext": [
          "victoria"
         ],
         "lat": [
          22.2855
         ],
         "legendgroup": "victoria",
         "lon": [
          114.1577
         ],
         "marker": {
          "color": "#FF6692",
          "opacity": 0.6,
          "size": [
           77
          ],
          "sizemode": "area",
          "sizeref": 0.591715976331361,
          "symbol": "circle"
         },
         "mode": "markers",
         "name": "victoria",
         "showlegend": true,
         "type": "scattergeo"
        },
        {
         "geo": "geo",
         "hovertemplate": "<b>%{hovertext}</b><br><br>City=faanui<br>Humidity=%{marker.size}<br>Lat=%{lat}<br>Lng=%{lon}<extra></extra>",
         "hovertext": [
          "faanui"
         ],
         "lat": [
          -16.4833
         ],
         "legendgroup": "faanui",
         "lon": [
          -151.75
         ],
         "marker": {
          "color": "#B6E880",
          "opacity": 0.6,
          "size": [
           78
          ],
          "sizemode": "area",
          "sizeref": 0.591715976331361,
          "symbol": "circle"
         },
         "mode": "markers",
         "name": "faanui",
         "showlegend": true,
         "type": "scattergeo"
        },
        {
         "geo": "geo",
         "hovertemplate": "<b>%{hovertext}</b><br><br>City=arraial do cabo<br>Humidity=%{marker.size}<br>Lat=%{lat}<br>Lng=%{lon}<extra></extra>",
         "hovertext": [
          "arraial do cabo"
         ],
         "lat": [
          -22.9661
         ],
         "legendgroup": "arraial do cabo",
         "lon": [
          -42.0278
         ],
         "marker": {
          "color": "#FF97FF",
          "opacity": 0.6,
          "size": [
           74
          ],
          "sizemode": "area",
          "sizeref": 0.591715976331361,
          "symbol": "circle"
         },
         "mode": "markers",
         "name": "arraial do cabo",
         "showlegend": true,
         "type": "scattergeo"
        },
        {
         "geo": "geo",
         "hovertemplate": "<b>%{hovertext}</b><br><br>City=hithadhoo<br>Humidity=%{marker.size}<br>Lat=%{lat}<br>Lng=%{lon}<extra></extra>",
         "hovertext": [
          "hithadhoo"
         ],
         "lat": [
          -0.6
         ],
         "legendgroup": "hithadhoo",
         "lon": [
          73.0833
         ],
         "marker": {
          "color": "#FECB52",
          "opacity": 0.6,
          "size": [
           69
          ],
          "sizemode": "area",
          "sizeref": 0.591715976331361,
          "symbol": "circle"
         },
         "mode": "markers",
         "name": "hithadhoo",
         "showlegend": true,
         "type": "scattergeo"
        },
        {
         "geo": "geo",
         "hovertemplate": "<b>%{hovertext}</b><br><br>City=port alfred<br>Humidity=%{marker.size}<br>Lat=%{lat}<br>Lng=%{lon}<extra></extra>",
         "hovertext": [
          "port alfred"
         ],
         "lat": [
          -33.5906
         ],
         "legendgroup": "port alfred",
         "lon": [
          26.891
         ],
         "marker": {
          "color": "#636efa",
          "opacity": 0.6,
          "size": [
           87
          ],
          "sizemode": "area",
          "sizeref": 0.591715976331361,
          "symbol": "circle"
         },
         "mode": "markers",
         "name": "port alfred",
         "showlegend": true,
         "type": "scattergeo"
        },
        {
         "geo": "geo",
         "hovertemplate": "<b>%{hovertext}</b><br><br>City=lichuan<br>Humidity=%{marker.size}<br>Lat=%{lat}<br>Lng=%{lon}<extra></extra>",
         "hovertext": [
          "lichuan"
         ],
         "lat": [
          30.3
         ],
         "legendgroup": "lichuan",
         "lon": [
          108.85
         ],
         "marker": {
          "color": "#EF553B",
          "opacity": 0.6,
          "size": [
           77
          ],
          "sizemode": "area",
          "sizeref": 0.591715976331361,
          "symbol": "circle"
         },
         "mode": "markers",
         "name": "lichuan",
         "showlegend": true,
         "type": "scattergeo"
        },
        {
         "geo": "geo",
         "hovertemplate": "<b>%{hovertext}</b><br><br>City=talnakh<br>Humidity=%{marker.size}<br>Lat=%{lat}<br>Lng=%{lon}<extra></extra>",
         "hovertext": [
          "talnakh"
         ],
         "lat": [
          69.4865
         ],
         "legendgroup": "talnakh",
         "lon": [
          88.3972
         ],
         "marker": {
          "color": "#00cc96",
          "opacity": 0.6,
          "size": [
           99
          ],
          "sizemode": "area",
          "sizeref": 0.591715976331361,
          "symbol": "circle"
         },
         "mode": "markers",
         "name": "talnakh",
         "showlegend": true,
         "type": "scattergeo"
        },
        {
         "geo": "geo",
         "hovertemplate": "<b>%{hovertext}</b><br><br>City=novorzhev<br>Humidity=%{marker.size}<br>Lat=%{lat}<br>Lng=%{lon}<extra></extra>",
         "hovertext": [
          "novorzhev"
         ],
         "lat": [
          57.0294
         ],
         "legendgroup": "novorzhev",
         "lon": [
          29.3338
         ],
         "marker": {
          "color": "#ab63fa",
          "opacity": 0.6,
          "size": [
           90
          ],
          "sizemode": "area",
          "sizeref": 0.591715976331361,
          "symbol": "circle"
         },
         "mode": "markers",
         "name": "novorzhev",
         "showlegend": true,
         "type": "scattergeo"
        },
        {
         "geo": "geo",
         "hovertemplate": "<b>%{hovertext}</b><br><br>City=muncar<br>Humidity=%{marker.size}<br>Lat=%{lat}<br>Lng=%{lon}<extra></extra>",
         "hovertext": [
          "muncar"
         ],
         "lat": [
          -8.4333
         ],
         "legendgroup": "muncar",
         "lon": [
          114.3333
         ],
         "marker": {
          "color": "#FFA15A",
          "opacity": 0.6,
          "size": [
           96
          ],
          "sizemode": "area",
          "sizeref": 0.591715976331361,
          "symbol": "circle"
         },
         "mode": "markers",
         "name": "muncar",
         "showlegend": true,
         "type": "scattergeo"
        },
        {
         "geo": "geo",
         "hovertemplate": "<b>%{hovertext}</b><br><br>City=jashpurnagar<br>Humidity=%{marker.size}<br>Lat=%{lat}<br>Lng=%{lon}<extra></extra>",
         "hovertext": [
          "jashpurnagar"
         ],
         "lat": [
          22.9
         ],
         "legendgroup": "jashpurnagar",
         "lon": [
          84.15
         ],
         "marker": {
          "color": "#19d3f3",
          "opacity": 0.6,
          "size": [
           87
          ],
          "sizemode": "area",
          "sizeref": 0.591715976331361,
          "symbol": "circle"
         },
         "mode": "markers",
         "name": "jashpurnagar",
         "showlegend": true,
         "type": "scattergeo"
        },
        {
         "geo": "geo",
         "hovertemplate": "<b>%{hovertext}</b><br><br>City=chuy<br>Humidity=%{marker.size}<br>Lat=%{lat}<br>Lng=%{lon}<extra></extra>",
         "hovertext": [
          "chuy"
         ],
         "lat": [
          -33.6971
         ],
         "legendgroup": "chuy",
         "lon": [
          -53.4616
         ],
         "marker": {
          "color": "#FF6692",
          "opacity": 0.6,
          "size": [
           71
          ],
          "sizemode": "area",
          "sizeref": 0.591715976331361,
          "symbol": "circle"
         },
         "mode": "markers",
         "name": "chuy",
         "showlegend": true,
         "type": "scattergeo"
        },
        {
         "geo": "geo",
         "hovertemplate": "<b>%{hovertext}</b><br><br>City=kulykivka<br>Humidity=%{marker.size}<br>Lat=%{lat}<br>Lng=%{lon}<extra></extra>",
         "hovertext": [
          "kulykivka"
         ],
         "lat": [
          51.3735
         ],
         "legendgroup": "kulykivka",
         "lon": [
          31.6466
         ],
         "marker": {
          "color": "#B6E880",
          "opacity": 0.6,
          "size": [
           62
          ],
          "sizemode": "area",
          "sizeref": 0.591715976331361,
          "symbol": "circle"
         },
         "mode": "markers",
         "name": "kulykivka",
         "showlegend": true,
         "type": "scattergeo"
        },
        {
         "geo": "geo",
         "hovertemplate": "<b>%{hovertext}</b><br><br>City=half moon bay<br>Humidity=%{marker.size}<br>Lat=%{lat}<br>Lng=%{lon}<extra></extra>",
         "hovertext": [
          "half moon bay"
         ],
         "lat": [
          37.4636
         ],
         "legendgroup": "half moon bay",
         "lon": [
          -122.4286
         ],
         "marker": {
          "color": "#FF97FF",
          "opacity": 0.6,
          "size": [
           86
          ],
          "sizemode": "area",
          "sizeref": 0.591715976331361,
          "symbol": "circle"
         },
         "mode": "markers",
         "name": "half moon bay",
         "showlegend": true,
         "type": "scattergeo"
        },
        {
         "geo": "geo",
         "hovertemplate": "<b>%{hovertext}</b><br><br>City=bocana de paiwas<br>Humidity=%{marker.size}<br>Lat=%{lat}<br>Lng=%{lon}<extra></extra>",
         "hovertext": [
          "bocana de paiwas"
         ],
         "lat": [
          12.7857
         ],
         "legendgroup": "bocana de paiwas",
         "lon": [
          -85.1227
         ],
         "marker": {
          "color": "#FECB52",
          "opacity": 0.6,
          "size": [
           81
          ],
          "sizemode": "area",
          "sizeref": 0.591715976331361,
          "symbol": "circle"
         },
         "mode": "markers",
         "name": "bocana de paiwas",
         "showlegend": true,
         "type": "scattergeo"
        },
        {
         "geo": "geo",
         "hovertemplate": "<b>%{hovertext}</b><br><br>City=el alto<br>Humidity=%{marker.size}<br>Lat=%{lat}<br>Lng=%{lon}<extra></extra>",
         "hovertext": [
          "el alto"
         ],
         "lat": [
          -4.2714
         ],
         "legendgroup": "el alto",
         "lon": [
          -81.2147
         ],
         "marker": {
          "color": "#636efa",
          "opacity": 0.6,
          "size": [
           68
          ],
          "sizemode": "area",
          "sizeref": 0.591715976331361,
          "symbol": "circle"
         },
         "mode": "markers",
         "name": "el alto",
         "showlegend": true,
         "type": "scattergeo"
        },
        {
         "geo": "geo",
         "hovertemplate": "<b>%{hovertext}</b><br><br>City=sitka<br>Humidity=%{marker.size}<br>Lat=%{lat}<br>Lng=%{lon}<extra></extra>",
         "hovertext": [
          "sitka"
         ],
         "lat": [
          57.0531
         ],
         "legendgroup": "sitka",
         "lon": [
          -135.33
         ],
         "marker": {
          "color": "#EF553B",
          "opacity": 0.6,
          "size": [
           82
          ],
          "sizemode": "area",
          "sizeref": 0.591715976331361,
          "symbol": "circle"
         },
         "mode": "markers",
         "name": "sitka",
         "showlegend": true,
         "type": "scattergeo"
        },
        {
         "geo": "geo",
         "hovertemplate": "<b>%{hovertext}</b><br><br>City=punta arenas<br>Humidity=%{marker.size}<br>Lat=%{lat}<br>Lng=%{lon}<extra></extra>",
         "hovertext": [
          "punta arenas"
         ],
         "lat": [
          -53.15
         ],
         "legendgroup": "punta arenas",
         "lon": [
          -70.9167
         ],
         "marker": {
          "color": "#00cc96",
          "opacity": 0.6,
          "size": [
           62
          ],
          "sizemode": "area",
          "sizeref": 0.591715976331361,
          "symbol": "circle"
         },
         "mode": "markers",
         "name": "punta arenas",
         "showlegend": true,
         "type": "scattergeo"
        },
        {
         "geo": "geo",
         "hovertemplate": "<b>%{hovertext}</b><br><br>City=bay city<br>Humidity=%{marker.size}<br>Lat=%{lat}<br>Lng=%{lon}<extra></extra>",
         "hovertext": [
          "bay city"
         ],
         "lat": [
          43.5945
         ],
         "legendgroup": "bay city",
         "lon": [
          -83.8889
         ],
         "marker": {
          "color": "#ab63fa",
          "opacity": 0.6,
          "size": [
           89
          ],
          "sizemode": "area",
          "sizeref": 0.591715976331361,
          "symbol": "circle"
         },
         "mode": "markers",
         "name": "bay city",
         "showlegend": true,
         "type": "scattergeo"
        },
        {
         "geo": "geo",
         "hovertemplate": "<b>%{hovertext}</b><br><br>City=baruun-urt<br>Humidity=%{marker.size}<br>Lat=%{lat}<br>Lng=%{lon}<extra></extra>",
         "hovertext": [
          "baruun-urt"
         ],
         "lat": [
          46.6806
         ],
         "legendgroup": "baruun-urt",
         "lon": [
          113.2792
         ],
         "marker": {
          "color": "#FFA15A",
          "opacity": 0.6,
          "size": [
           22
          ],
          "sizemode": "area",
          "sizeref": 0.591715976331361,
          "symbol": "circle"
         },
         "mode": "markers",
         "name": "baruun-urt",
         "showlegend": true,
         "type": "scattergeo"
        },
        {
         "geo": "geo",
         "hovertemplate": "<b>%{hovertext}</b><br><br>City=ambon<br>Humidity=%{marker.size}<br>Lat=%{lat}<br>Lng=%{lon}<extra></extra>",
         "hovertext": [
          "ambon"
         ],
         "lat": [
          -3.6954
         ],
         "legendgroup": "ambon",
         "lon": [
          128.1814
         ],
         "marker": {
          "color": "#19d3f3",
          "opacity": 0.6,
          "size": [
           83
          ],
          "sizemode": "area",
          "sizeref": 0.591715976331361,
          "symbol": "circle"
         },
         "mode": "markers",
         "name": "ambon",
         "showlegend": true,
         "type": "scattergeo"
        },
        {
         "geo": "geo",
         "hovertemplate": "<b>%{hovertext}</b><br><br>City=corowa<br>Humidity=%{marker.size}<br>Lat=%{lat}<br>Lng=%{lon}<extra></extra>",
         "hovertext": [
          "corowa"
         ],
         "lat": [
          -36.0333
         ],
         "legendgroup": "corowa",
         "lon": [
          146.3833
         ],
         "marker": {
          "color": "#FF6692",
          "opacity": 0.6,
          "size": [
           92
          ],
          "sizemode": "area",
          "sizeref": 0.591715976331361,
          "symbol": "circle"
         },
         "mode": "markers",
         "name": "corowa",
         "showlegend": true,
         "type": "scattergeo"
        },
        {
         "geo": "geo",
         "hovertemplate": "<b>%{hovertext}</b><br><br>City=port elizabeth<br>Humidity=%{marker.size}<br>Lat=%{lat}<br>Lng=%{lon}<extra></extra>",
         "hovertext": [
          "port elizabeth"
         ],
         "lat": [
          -33.918
         ],
         "legendgroup": "port elizabeth",
         "lon": [
          25.5701
         ],
         "marker": {
          "color": "#B6E880",
          "opacity": 0.6,
          "size": [
           83
          ],
          "sizemode": "area",
          "sizeref": 0.591715976331361,
          "symbol": "circle"
         },
         "mode": "markers",
         "name": "port elizabeth",
         "showlegend": true,
         "type": "scattergeo"
        },
        {
         "geo": "geo",
         "hovertemplate": "<b>%{hovertext}</b><br><br>City=ocos<br>Humidity=%{marker.size}<br>Lat=%{lat}<br>Lng=%{lon}<extra></extra>",
         "hovertext": [
          "ocos"
         ],
         "lat": [
          14.5094
         ],
         "legendgroup": "ocos",
         "lon": [
          -92.1933
         ],
         "marker": {
          "color": "#FF97FF",
          "opacity": 0.6,
          "size": [
           86
          ],
          "sizemode": "area",
          "sizeref": 0.591715976331361,
          "symbol": "circle"
         },
         "mode": "markers",
         "name": "ocos",
         "showlegend": true,
         "type": "scattergeo"
        },
        {
         "geo": "geo",
         "hovertemplate": "<b>%{hovertext}</b><br><br>City=georgetown<br>Humidity=%{marker.size}<br>Lat=%{lat}<br>Lng=%{lon}<extra></extra>",
         "hovertext": [
          "georgetown"
         ],
         "lat": [
          5.4112
         ],
         "legendgroup": "georgetown",
         "lon": [
          100.3354
         ],
         "marker": {
          "color": "#FECB52",
          "opacity": 0.6,
          "size": [
           89
          ],
          "sizemode": "area",
          "sizeref": 0.591715976331361,
          "symbol": "circle"
         },
         "mode": "markers",
         "name": "georgetown",
         "showlegend": true,
         "type": "scattergeo"
        },
        {
         "geo": "geo",
         "hovertemplate": "<b>%{hovertext}</b><br><br>City=tuktoyaktuk<br>Humidity=%{marker.size}<br>Lat=%{lat}<br>Lng=%{lon}<extra></extra>",
         "hovertext": [
          "tuktoyaktuk"
         ],
         "lat": [
          69.4541
         ],
         "legendgroup": "tuktoyaktuk",
         "lon": [
          -133.0374
         ],
         "marker": {
          "color": "#636efa",
          "opacity": 0.6,
          "size": [
           93
          ],
          "sizemode": "area",
          "sizeref": 0.591715976331361,
          "symbol": "circle"
         },
         "mode": "markers",
         "name": "tuktoyaktuk",
         "showlegend": true,
         "type": "scattergeo"
        },
        {
         "geo": "geo",
         "hovertemplate": "<b>%{hovertext}</b><br><br>City=brenham<br>Humidity=%{marker.size}<br>Lat=%{lat}<br>Lng=%{lon}<extra></extra>",
         "hovertext": [
          "brenham"
         ],
         "lat": [
          30.1669
         ],
         "legendgroup": "brenham",
         "lon": [
          -96.3977
         ],
         "marker": {
          "color": "#EF553B",
          "opacity": 0.6,
          "size": [
           40
          ],
          "sizemode": "area",
          "sizeref": 0.591715976331361,
          "symbol": "circle"
         },
         "mode": "markers",
         "name": "brenham",
         "showlegend": true,
         "type": "scattergeo"
        },
        {
         "geo": "geo",
         "hovertemplate": "<b>%{hovertext}</b><br><br>City=peniche<br>Humidity=%{marker.size}<br>Lat=%{lat}<br>Lng=%{lon}<extra></extra>",
         "hovertext": [
          "peniche"
         ],
         "lat": [
          39.3558
         ],
         "legendgroup": "peniche",
         "lon": [
          -9.3811
         ],
         "marker": {
          "color": "#00cc96",
          "opacity": 0.6,
          "size": [
           89
          ],
          "sizemode": "area",
          "sizeref": 0.591715976331361,
          "symbol": "circle"
         },
         "mode": "markers",
         "name": "peniche",
         "showlegend": true,
         "type": "scattergeo"
        },
        {
         "geo": "geo",
         "hovertemplate": "<b>%{hovertext}</b><br><br>City=tawang<br>Humidity=%{marker.size}<br>Lat=%{lat}<br>Lng=%{lon}<extra></extra>",
         "hovertext": [
          "tawang"
         ],
         "lat": [
          27.5833
         ],
         "legendgroup": "tawang",
         "lon": [
          91.8667
         ],
         "marker": {
          "color": "#ab63fa",
          "opacity": 0.6,
          "size": [
           77
          ],
          "sizemode": "area",
          "sizeref": 0.591715976331361,
          "symbol": "circle"
         },
         "mode": "markers",
         "name": "tawang",
         "showlegend": true,
         "type": "scattergeo"
        },
        {
         "geo": "geo",
         "hovertemplate": "<b>%{hovertext}</b><br><br>City=havelock<br>Humidity=%{marker.size}<br>Lat=%{lat}<br>Lng=%{lon}<extra></extra>",
         "hovertext": [
          "havelock"
         ],
         "lat": [
          34.8791
         ],
         "legendgroup": "havelock",
         "lon": [
          -76.9013
         ],
         "marker": {
          "color": "#FFA15A",
          "opacity": 0.6,
          "size": [
           69
          ],
          "sizemode": "area",
          "sizeref": 0.591715976331361,
          "symbol": "circle"
         },
         "mode": "markers",
         "name": "havelock",
         "showlegend": true,
         "type": "scattergeo"
        },
        {
         "geo": "geo",
         "hovertemplate": "<b>%{hovertext}</b><br><br>City=novobelokatay<br>Humidity=%{marker.size}<br>Lat=%{lat}<br>Lng=%{lon}<extra></extra>",
         "hovertext": [
          "novobelokatay"
         ],
         "lat": [
          55.7062
         ],
         "legendgroup": "novobelokatay",
         "lon": [
          58.9549
         ],
         "marker": {
          "color": "#19d3f3",
          "opacity": 0.6,
          "size": [
           93
          ],
          "sizemode": "area",
          "sizeref": 0.591715976331361,
          "symbol": "circle"
         },
         "mode": "markers",
         "name": "novobelokatay",
         "showlegend": true,
         "type": "scattergeo"
        },
        {
         "geo": "geo",
         "hovertemplate": "<b>%{hovertext}</b><br><br>City=puerto del rosario<br>Humidity=%{marker.size}<br>Lat=%{lat}<br>Lng=%{lon}<extra></extra>",
         "hovertext": [
          "puerto del rosario"
         ],
         "lat": [
          28.5004
         ],
         "legendgroup": "puerto del rosario",
         "lon": [
          -13.8627
         ],
         "marker": {
          "color": "#FF6692",
          "opacity": 0.6,
          "size": [
           73
          ],
          "sizemode": "area",
          "sizeref": 0.591715976331361,
          "symbol": "circle"
         },
         "mode": "markers",
         "name": "puerto del rosario",
         "showlegend": true,
         "type": "scattergeo"
        },
        {
         "geo": "geo",
         "hovertemplate": "<b>%{hovertext}</b><br><br>City=mount gambier<br>Humidity=%{marker.size}<br>Lat=%{lat}<br>Lng=%{lon}<extra></extra>",
         "hovertext": [
          "mount gambier"
         ],
         "lat": [
          -37.8333
         ],
         "legendgroup": "mount gambier",
         "lon": [
          140.7667
         ],
         "marker": {
          "color": "#B6E880",
          "opacity": 0.6,
          "size": [
           91
          ],
          "sizemode": "area",
          "sizeref": 0.591715976331361,
          "symbol": "circle"
         },
         "mode": "markers",
         "name": "mount gambier",
         "showlegend": true,
         "type": "scattergeo"
        },
        {
         "geo": "geo",
         "hovertemplate": "<b>%{hovertext}</b><br><br>City=rindal<br>Humidity=%{marker.size}<br>Lat=%{lat}<br>Lng=%{lon}<extra></extra>",
         "hovertext": [
          "rindal"
         ],
         "lat": [
          63.0565
         ],
         "legendgroup": "rindal",
         "lon": [
          9.2124
         ],
         "marker": {
          "color": "#FF97FF",
          "opacity": 0.6,
          "size": [
           94
          ],
          "sizemode": "area",
          "sizeref": 0.591715976331361,
          "symbol": "circle"
         },
         "mode": "markers",
         "name": "rindal",
         "showlegend": true,
         "type": "scattergeo"
        },
        {
         "geo": "geo",
         "hovertemplate": "<b>%{hovertext}</b><br><br>City=roseburg<br>Humidity=%{marker.size}<br>Lat=%{lat}<br>Lng=%{lon}<extra></extra>",
         "hovertext": [
          "roseburg"
         ],
         "lat": [
          43.2165
         ],
         "legendgroup": "roseburg",
         "lon": [
          -123.3417
         ],
         "marker": {
          "color": "#FECB52",
          "opacity": 0.6,
          "size": [
           82
          ],
          "sizemode": "area",
          "sizeref": 0.591715976331361,
          "symbol": "circle"
         },
         "mode": "markers",
         "name": "roseburg",
         "showlegend": true,
         "type": "scattergeo"
        },
        {
         "geo": "geo",
         "hovertemplate": "<b>%{hovertext}</b><br><br>City=kaeo<br>Humidity=%{marker.size}<br>Lat=%{lat}<br>Lng=%{lon}<extra></extra>",
         "hovertext": [
          "kaeo"
         ],
         "lat": [
          -35.1
         ],
         "legendgroup": "kaeo",
         "lon": [
          173.7833
         ],
         "marker": {
          "color": "#636efa",
          "opacity": 0.6,
          "size": [
           94
          ],
          "sizemode": "area",
          "sizeref": 0.591715976331361,
          "symbol": "circle"
         },
         "mode": "markers",
         "name": "kaeo",
         "showlegend": true,
         "type": "scattergeo"
        },
        {
         "geo": "geo",
         "hovertemplate": "<b>%{hovertext}</b><br><br>City=biak<br>Humidity=%{marker.size}<br>Lat=%{lat}<br>Lng=%{lon}<extra></extra>",
         "hovertext": [
          "biak"
         ],
         "lat": [
          -0.9131
         ],
         "legendgroup": "biak",
         "lon": [
          122.8766
         ],
         "marker": {
          "color": "#EF553B",
          "opacity": 0.6,
          "size": [
           88
          ],
          "sizemode": "area",
          "sizeref": 0.591715976331361,
          "symbol": "circle"
         },
         "mode": "markers",
         "name": "biak",
         "showlegend": true,
         "type": "scattergeo"
        },
        {
         "geo": "geo",
         "hovertemplate": "<b>%{hovertext}</b><br><br>City=kahului<br>Humidity=%{marker.size}<br>Lat=%{lat}<br>Lng=%{lon}<extra></extra>",
         "hovertext": [
          "kahului"
         ],
         "lat": [
          20.8947
         ],
         "legendgroup": "kahului",
         "lon": [
          -156.47
         ],
         "marker": {
          "color": "#00cc96",
          "opacity": 0.6,
          "size": [
           60
          ],
          "sizemode": "area",
          "sizeref": 0.591715976331361,
          "symbol": "circle"
         },
         "mode": "markers",
         "name": "kahului",
         "showlegend": true,
         "type": "scattergeo"
        },
        {
         "geo": "geo",
         "hovertemplate": "<b>%{hovertext}</b><br><br>City=lavrentiya<br>Humidity=%{marker.size}<br>Lat=%{lat}<br>Lng=%{lon}<extra></extra>",
         "hovertext": [
          "lavrentiya"
         ],
         "lat": [
          65.5833
         ],
         "legendgroup": "lavrentiya",
         "lon": [
          -171
         ],
         "marker": {
          "color": "#ab63fa",
          "opacity": 0.6,
          "size": [
           75
          ],
          "sizemode": "area",
          "sizeref": 0.591715976331361,
          "symbol": "circle"
         },
         "mode": "markers",
         "name": "lavrentiya",
         "showlegend": true,
         "type": "scattergeo"
        },
        {
         "geo": "geo",
         "hovertemplate": "<b>%{hovertext}</b><br><br>City=sabang<br>Humidity=%{marker.size}<br>Lat=%{lat}<br>Lng=%{lon}<extra></extra>",
         "hovertext": [
          "sabang"
         ],
         "lat": [
          5.8933
         ],
         "legendgroup": "sabang",
         "lon": [
          95.3214
         ],
         "marker": {
          "color": "#FFA15A",
          "opacity": 0.6,
          "size": [
           81
          ],
          "sizemode": "area",
          "sizeref": 0.591715976331361,
          "symbol": "circle"
         },
         "mode": "markers",
         "name": "sabang",
         "showlegend": true,
         "type": "scattergeo"
        },
        {
         "geo": "geo",
         "hovertemplate": "<b>%{hovertext}</b><br><br>City=pangnirtung<br>Humidity=%{marker.size}<br>Lat=%{lat}<br>Lng=%{lon}<extra></extra>",
         "hovertext": [
          "pangnirtung"
         ],
         "lat": [
          66.1451
         ],
         "legendgroup": "pangnirtung",
         "lon": [
          -65.7125
         ],
         "marker": {
          "color": "#19d3f3",
          "opacity": 0.6,
          "size": [
           63
          ],
          "sizemode": "area",
          "sizeref": 0.591715976331361,
          "symbol": "circle"
         },
         "mode": "markers",
         "name": "pangnirtung",
         "showlegend": true,
         "type": "scattergeo"
        },
        {
         "geo": "geo",
         "hovertemplate": "<b>%{hovertext}</b><br><br>City=corn island<br>Humidity=%{marker.size}<br>Lat=%{lat}<br>Lng=%{lon}<extra></extra>",
         "hovertext": [
          "corn island"
         ],
         "lat": [
          12.1694
         ],
         "legendgroup": "corn island",
         "lon": [
          -83.0418
         ],
         "marker": {
          "color": "#FF6692",
          "opacity": 0.6,
          "size": [
           74
          ],
          "sizemode": "area",
          "sizeref": 0.591715976331361,
          "symbol": "circle"
         },
         "mode": "markers",
         "name": "corn island",
         "showlegend": true,
         "type": "scattergeo"
        },
        {
         "geo": "geo",
         "hovertemplate": "<b>%{hovertext}</b><br><br>City=innisfail<br>Humidity=%{marker.size}<br>Lat=%{lat}<br>Lng=%{lon}<extra></extra>",
         "hovertext": [
          "innisfail"
         ],
         "lat": [
          -17.5333
         ],
         "legendgroup": "innisfail",
         "lon": [
          146.0333
         ],
         "marker": {
          "color": "#B6E880",
          "opacity": 0.6,
          "size": [
           74
          ],
          "sizemode": "area",
          "sizeref": 0.591715976331361,
          "symbol": "circle"
         },
         "mode": "markers",
         "name": "innisfail",
         "showlegend": true,
         "type": "scattergeo"
        },
        {
         "geo": "geo",
         "hovertemplate": "<b>%{hovertext}</b><br><br>City=almaznyy<br>Humidity=%{marker.size}<br>Lat=%{lat}<br>Lng=%{lon}<extra></extra>",
         "hovertext": [
          "almaznyy"
         ],
         "lat": [
          48.0448
         ],
         "legendgroup": "almaznyy",
         "lon": [
          40.045
         ],
         "marker": {
          "color": "#FF97FF",
          "opacity": 0.6,
          "size": [
           47
          ],
          "sizemode": "area",
          "sizeref": 0.591715976331361,
          "symbol": "circle"
         },
         "mode": "markers",
         "name": "almaznyy",
         "showlegend": true,
         "type": "scattergeo"
        },
        {
         "geo": "geo",
         "hovertemplate": "<b>%{hovertext}</b><br><br>City=geraldton<br>Humidity=%{marker.size}<br>Lat=%{lat}<br>Lng=%{lon}<extra></extra>",
         "hovertext": [
          "geraldton"
         ],
         "lat": [
          -28.7667
         ],
         "legendgroup": "geraldton",
         "lon": [
          114.6
         ],
         "marker": {
          "color": "#FECB52",
          "opacity": 0.6,
          "size": [
           88
          ],
          "sizemode": "area",
          "sizeref": 0.591715976331361,
          "symbol": "circle"
         },
         "mode": "markers",
         "name": "geraldton",
         "showlegend": true,
         "type": "scattergeo"
        },
        {
         "geo": "geo",
         "hovertemplate": "<b>%{hovertext}</b><br><br>City=kokopo<br>Humidity=%{marker.size}<br>Lat=%{lat}<br>Lng=%{lon}<extra></extra>",
         "hovertext": [
          "kokopo"
         ],
         "lat": [
          -4.352
         ],
         "legendgroup": "kokopo",
         "lon": [
          152.2633
         ],
         "marker": {
          "color": "#636efa",
          "opacity": 0.6,
          "size": [
           75
          ],
          "sizemode": "area",
          "sizeref": 0.591715976331361,
          "symbol": "circle"
         },
         "mode": "markers",
         "name": "kokopo",
         "showlegend": true,
         "type": "scattergeo"
        },
        {
         "geo": "geo",
         "hovertemplate": "<b>%{hovertext}</b><br><br>City=yellowknife<br>Humidity=%{marker.size}<br>Lat=%{lat}<br>Lng=%{lon}<extra></extra>",
         "hovertext": [
          "yellowknife"
         ],
         "lat": [
          62.456
         ],
         "legendgroup": "yellowknife",
         "lon": [
          -114.3525
         ],
         "marker": {
          "color": "#EF553B",
          "opacity": 0.6,
          "size": [
           87
          ],
          "sizemode": "area",
          "sizeref": 0.591715976331361,
          "symbol": "circle"
         },
         "mode": "markers",
         "name": "yellowknife",
         "showlegend": true,
         "type": "scattergeo"
        },
        {
         "geo": "geo",
         "hovertemplate": "<b>%{hovertext}</b><br><br>City=sao miguel do araguaia<br>Humidity=%{marker.size}<br>Lat=%{lat}<br>Lng=%{lon}<extra></extra>",
         "hovertext": [
          "sao miguel do araguaia"
         ],
         "lat": [
          -13.275
         ],
         "legendgroup": "sao miguel do araguaia",
         "lon": [
          -50.1628
         ],
         "marker": {
          "color": "#00cc96",
          "opacity": 0.6,
          "size": [
           13
          ],
          "sizemode": "area",
          "sizeref": 0.591715976331361,
          "symbol": "circle"
         },
         "mode": "markers",
         "name": "sao miguel do araguaia",
         "showlegend": true,
         "type": "scattergeo"
        },
        {
         "geo": "geo",
         "hovertemplate": "<b>%{hovertext}</b><br><br>City=belmonte<br>Humidity=%{marker.size}<br>Lat=%{lat}<br>Lng=%{lon}<extra></extra>",
         "hovertext": [
          "belmonte"
         ],
         "lat": [
          -15.8631
         ],
         "legendgroup": "belmonte",
         "lon": [
          -38.8828
         ],
         "marker": {
          "color": "#ab63fa",
          "opacity": 0.6,
          "size": [
           65
          ],
          "sizemode": "area",
          "sizeref": 0.591715976331361,
          "symbol": "circle"
         },
         "mode": "markers",
         "name": "belmonte",
         "showlegend": true,
         "type": "scattergeo"
        },
        {
         "geo": "geo",
         "hovertemplate": "<b>%{hovertext}</b><br><br>City=pisco<br>Humidity=%{marker.size}<br>Lat=%{lat}<br>Lng=%{lon}<extra></extra>",
         "hovertext": [
          "pisco"
         ],
         "lat": [
          -13.7
         ],
         "legendgroup": "pisco",
         "lon": [
          -76.2167
         ],
         "marker": {
          "color": "#FFA15A",
          "opacity": 0.6,
          "size": [
           77
          ],
          "sizemode": "area",
          "sizeref": 0.591715976331361,
          "symbol": "circle"
         },
         "mode": "markers",
         "name": "pisco",
         "showlegend": true,
         "type": "scattergeo"
        },
        {
         "geo": "geo",
         "hovertemplate": "<b>%{hovertext}</b><br><br>City=ambilobe<br>Humidity=%{marker.size}<br>Lat=%{lat}<br>Lng=%{lon}<extra></extra>",
         "hovertext": [
          "ambilobe"
         ],
         "lat": [
          -13.2
         ],
         "legendgroup": "ambilobe",
         "lon": [
          49.05
         ],
         "marker": {
          "color": "#19d3f3",
          "opacity": 0.6,
          "size": [
           62
          ],
          "sizemode": "area",
          "sizeref": 0.591715976331361,
          "symbol": "circle"
         },
         "mode": "markers",
         "name": "ambilobe",
         "showlegend": true,
         "type": "scattergeo"
        },
        {
         "geo": "geo",
         "hovertemplate": "<b>%{hovertext}</b><br><br>City=aripuana<br>Humidity=%{marker.size}<br>Lat=%{lat}<br>Lng=%{lon}<extra></extra>",
         "hovertext": [
          "aripuana"
         ],
         "lat": [
          -9.1667
         ],
         "legendgroup": "aripuana",
         "lon": [
          -60.6333
         ],
         "marker": {
          "color": "#FF6692",
          "opacity": 0.6,
          "size": [
           45
          ],
          "sizemode": "area",
          "sizeref": 0.591715976331361,
          "symbol": "circle"
         },
         "mode": "markers",
         "name": "aripuana",
         "showlegend": true,
         "type": "scattergeo"
        },
        {
         "geo": "geo",
         "hovertemplate": "<b>%{hovertext}</b><br><br>City=kaitangata<br>Humidity=%{marker.size}<br>Lat=%{lat}<br>Lng=%{lon}<extra></extra>",
         "hovertext": [
          "kaitangata"
         ],
         "lat": [
          -46.2817
         ],
         "legendgroup": "kaitangata",
         "lon": [
          169.8464
         ],
         "marker": {
          "color": "#B6E880",
          "opacity": 0.6,
          "size": [
           77
          ],
          "sizemode": "area",
          "sizeref": 0.591715976331361,
          "symbol": "circle"
         },
         "mode": "markers",
         "name": "kaitangata",
         "showlegend": true,
         "type": "scattergeo"
        },
        {
         "geo": "geo",
         "hovertemplate": "<b>%{hovertext}</b><br><br>City=lesnoy<br>Humidity=%{marker.size}<br>Lat=%{lat}<br>Lng=%{lon}<extra></extra>",
         "hovertext": [
          "lesnoy"
         ],
         "lat": [
          57.6198
         ],
         "legendgroup": "lesnoy",
         "lon": [
          63.0784
         ],
         "marker": {
          "color": "#FF97FF",
          "opacity": 0.6,
          "size": [
           74
          ],
          "sizemode": "area",
          "sizeref": 0.591715976331361,
          "symbol": "circle"
         },
         "mode": "markers",
         "name": "lesnoy",
         "showlegend": true,
         "type": "scattergeo"
        },
        {
         "geo": "geo",
         "hovertemplate": "<b>%{hovertext}</b><br><br>City=evensk<br>Humidity=%{marker.size}<br>Lat=%{lat}<br>Lng=%{lon}<extra></extra>",
         "hovertext": [
          "evensk"
         ],
         "lat": [
          61.95
         ],
         "legendgroup": "evensk",
         "lon": [
          159.2333
         ],
         "marker": {
          "color": "#FECB52",
          "opacity": 0.6,
          "size": [
           85
          ],
          "sizemode": "area",
          "sizeref": 0.591715976331361,
          "symbol": "circle"
         },
         "mode": "markers",
         "name": "evensk",
         "showlegend": true,
         "type": "scattergeo"
        },
        {
         "geo": "geo",
         "hovertemplate": "<b>%{hovertext}</b><br><br>City=sur<br>Humidity=%{marker.size}<br>Lat=%{lat}<br>Lng=%{lon}<extra></extra>",
         "hovertext": [
          "sur"
         ],
         "lat": [
          22.5667
         ],
         "legendgroup": "sur",
         "lon": [
          59.5289
         ],
         "marker": {
          "color": "#636efa",
          "opacity": 0.6,
          "size": [
           40
          ],
          "sizemode": "area",
          "sizeref": 0.591715976331361,
          "symbol": "circle"
         },
         "mode": "markers",
         "name": "sur",
         "showlegend": true,
         "type": "scattergeo"
        },
        {
         "geo": "geo",
         "hovertemplate": "<b>%{hovertext}</b><br><br>City=la ronge<br>Humidity=%{marker.size}<br>Lat=%{lat}<br>Lng=%{lon}<extra></extra>",
         "hovertext": [
          "la ronge"
         ],
         "lat": [
          55.1001
         ],
         "legendgroup": "la ronge",
         "lon": [
          -105.2842
         ],
         "marker": {
          "color": "#EF553B",
          "opacity": 0.6,
          "size": [
           52
          ],
          "sizemode": "area",
          "sizeref": 0.591715976331361,
          "symbol": "circle"
         },
         "mode": "markers",
         "name": "la ronge",
         "showlegend": true,
         "type": "scattergeo"
        },
        {
         "geo": "geo",
         "hovertemplate": "<b>%{hovertext}</b><br><br>City=danielskuil<br>Humidity=%{marker.size}<br>Lat=%{lat}<br>Lng=%{lon}<extra></extra>",
         "hovertext": [
          "danielskuil"
         ],
         "lat": [
          -28.1887
         ],
         "legendgroup": "danielskuil",
         "lon": [
          23.5395
         ],
         "marker": {
          "color": "#00cc96",
          "opacity": 0.6,
          "size": [
           60
          ],
          "sizemode": "area",
          "sizeref": 0.591715976331361,
          "symbol": "circle"
         },
         "mode": "markers",
         "name": "danielskuil",
         "showlegend": true,
         "type": "scattergeo"
        },
        {
         "geo": "geo",
         "hovertemplate": "<b>%{hovertext}</b><br><br>City=chunhuhub<br>Humidity=%{marker.size}<br>Lat=%{lat}<br>Lng=%{lon}<extra></extra>",
         "hovertext": [
          "chunhuhub"
         ],
         "lat": [
          19.55
         ],
         "legendgroup": "chunhuhub",
         "lon": [
          -88.6833
         ],
         "marker": {
          "color": "#ab63fa",
          "opacity": 0.6,
          "size": [
           54
          ],
          "sizemode": "area",
          "sizeref": 0.591715976331361,
          "symbol": "circle"
         },
         "mode": "markers",
         "name": "chunhuhub",
         "showlegend": true,
         "type": "scattergeo"
        },
        {
         "geo": "geo",
         "hovertemplate": "<b>%{hovertext}</b><br><br>City=avera<br>Humidity=%{marker.size}<br>Lat=%{lat}<br>Lng=%{lon}<extra></extra>",
         "hovertext": [
          "avera"
         ],
         "lat": [
          33.194
         ],
         "legendgroup": "avera",
         "lon": [
          -82.5271
         ],
         "marker": {
          "color": "#FFA15A",
          "opacity": 0.6,
          "size": [
           26
          ],
          "sizemode": "area",
          "sizeref": 0.591715976331361,
          "symbol": "circle"
         },
         "mode": "markers",
         "name": "avera",
         "showlegend": true,
         "type": "scattergeo"
        },
        {
         "geo": "geo",
         "hovertemplate": "<b>%{hovertext}</b><br><br>City=ouallam<br>Humidity=%{marker.size}<br>Lat=%{lat}<br>Lng=%{lon}<extra></extra>",
         "hovertext": [
          "ouallam"
         ],
         "lat": [
          14.3188
         ],
         "legendgroup": "ouallam",
         "lon": [
          2.0866
         ],
         "marker": {
          "color": "#19d3f3",
          "opacity": 0.6,
          "size": [
           10
          ],
          "sizemode": "area",
          "sizeref": 0.591715976331361,
          "symbol": "circle"
         },
         "mode": "markers",
         "name": "ouallam",
         "showlegend": true,
         "type": "scattergeo"
        },
        {
         "geo": "geo",
         "hovertemplate": "<b>%{hovertext}</b><br><br>City=challapata<br>Humidity=%{marker.size}<br>Lat=%{lat}<br>Lng=%{lon}<extra></extra>",
         "hovertext": [
          "challapata"
         ],
         "lat": [
          -18.9
         ],
         "legendgroup": "challapata",
         "lon": [
          -66.7667
         ],
         "marker": {
          "color": "#FF6692",
          "opacity": 0.6,
          "size": [
           30
          ],
          "sizemode": "area",
          "sizeref": 0.591715976331361,
          "symbol": "circle"
         },
         "mode": "markers",
         "name": "challapata",
         "showlegend": true,
         "type": "scattergeo"
        },
        {
         "geo": "geo",
         "hovertemplate": "<b>%{hovertext}</b><br><br>City=olafsvik<br>Humidity=%{marker.size}<br>Lat=%{lat}<br>Lng=%{lon}<extra></extra>",
         "hovertext": [
          "olafsvik"
         ],
         "lat": [
          64.8945
         ],
         "legendgroup": "olafsvik",
         "lon": [
          -23.7142
         ],
         "marker": {
          "color": "#B6E880",
          "opacity": 0.6,
          "size": [
           76
          ],
          "sizemode": "area",
          "sizeref": 0.591715976331361,
          "symbol": "circle"
         },
         "mode": "markers",
         "name": "olafsvik",
         "showlegend": true,
         "type": "scattergeo"
        },
        {
         "geo": "geo",
         "hovertemplate": "<b>%{hovertext}</b><br><br>City=neepawa<br>Humidity=%{marker.size}<br>Lat=%{lat}<br>Lng=%{lon}<extra></extra>",
         "hovertext": [
          "neepawa"
         ],
         "lat": [
          50.2289
         ],
         "legendgroup": "neepawa",
         "lon": [
          -99.4664
         ],
         "marker": {
          "color": "#FF97FF",
          "opacity": 0.6,
          "size": [
           27
          ],
          "sizemode": "area",
          "sizeref": 0.591715976331361,
          "symbol": "circle"
         },
         "mode": "markers",
         "name": "neepawa",
         "showlegend": true,
         "type": "scattergeo"
        },
        {
         "geo": "geo",
         "hovertemplate": "<b>%{hovertext}</b><br><br>City=freetown<br>Humidity=%{marker.size}<br>Lat=%{lat}<br>Lng=%{lon}<extra></extra>",
         "hovertext": [
          "freetown"
         ],
         "lat": [
          8.484
         ],
         "legendgroup": "freetown",
         "lon": [
          -13.2299
         ],
         "marker": {
          "color": "#FECB52",
          "opacity": 0.6,
          "size": [
           74
          ],
          "sizemode": "area",
          "sizeref": 0.591715976331361,
          "symbol": "circle"
         },
         "mode": "markers",
         "name": "freetown",
         "showlegend": true,
         "type": "scattergeo"
        },
        {
         "geo": "geo",
         "hovertemplate": "<b>%{hovertext}</b><br><br>City=nome<br>Humidity=%{marker.size}<br>Lat=%{lat}<br>Lng=%{lon}<extra></extra>",
         "hovertext": [
          "nome"
         ],
         "lat": [
          64.5011
         ],
         "legendgroup": "nome",
         "lon": [
          -165.4064
         ],
         "marker": {
          "color": "#636efa",
          "opacity": 0.6,
          "size": [
           100
          ],
          "sizemode": "area",
          "sizeref": 0.591715976331361,
          "symbol": "circle"
         },
         "mode": "markers",
         "name": "nome",
         "showlegend": true,
         "type": "scattergeo"
        },
        {
         "geo": "geo",
         "hovertemplate": "<b>%{hovertext}</b><br><br>City=hovd<br>Humidity=%{marker.size}<br>Lat=%{lat}<br>Lng=%{lon}<extra></extra>",
         "hovertext": [
          "hovd"
         ],
         "lat": [
          48.0056
         ],
         "legendgroup": "hovd",
         "lon": [
          91.6419
         ],
         "marker": {
          "color": "#EF553B",
          "opacity": 0.6,
          "size": [
           39
          ],
          "sizemode": "area",
          "sizeref": 0.591715976331361,
          "symbol": "circle"
         },
         "mode": "markers",
         "name": "hovd",
         "showlegend": true,
         "type": "scattergeo"
        },
        {
         "geo": "geo",
         "hovertemplate": "<b>%{hovertext}</b><br><br>City=ugra<br>Humidity=%{marker.size}<br>Lat=%{lat}<br>Lng=%{lon}<extra></extra>",
         "hovertext": [
          "ugra"
         ],
         "lat": [
          54.7777
         ],
         "legendgroup": "ugra",
         "lon": [
          34.3267
         ],
         "marker": {
          "color": "#00cc96",
          "opacity": 0.6,
          "size": [
           80
          ],
          "sizemode": "area",
          "sizeref": 0.591715976331361,
          "symbol": "circle"
         },
         "mode": "markers",
         "name": "ugra",
         "showlegend": true,
         "type": "scattergeo"
        },
        {
         "geo": "geo",
         "hovertemplate": "<b>%{hovertext}</b><br><br>City=upernavik<br>Humidity=%{marker.size}<br>Lat=%{lat}<br>Lng=%{lon}<extra></extra>",
         "hovertext": [
          "upernavik"
         ],
         "lat": [
          72.7868
         ],
         "legendgroup": "upernavik",
         "lon": [
          -56.1549
         ],
         "marker": {
          "color": "#ab63fa",
          "opacity": 0.6,
          "size": [
           95
          ],
          "sizemode": "area",
          "sizeref": 0.591715976331361,
          "symbol": "circle"
         },
         "mode": "markers",
         "name": "upernavik",
         "showlegend": true,
         "type": "scattergeo"
        },
        {
         "geo": "geo",
         "hovertemplate": "<b>%{hovertext}</b><br><br>City=sembakung<br>Humidity=%{marker.size}<br>Lat=%{lat}<br>Lng=%{lon}<extra></extra>",
         "hovertext": [
          "sembakung"
         ],
         "lat": [
          3.8167
         ],
         "legendgroup": "sembakung",
         "lon": [
          117.25
         ],
         "marker": {
          "color": "#FFA15A",
          "opacity": 0.6,
          "size": [
           99
          ],
          "sizemode": "area",
          "sizeref": 0.591715976331361,
          "symbol": "circle"
         },
         "mode": "markers",
         "name": "sembakung",
         "showlegend": true,
         "type": "scattergeo"
        },
        {
         "geo": "geo",
         "hovertemplate": "<b>%{hovertext}</b><br><br>City=shakawe<br>Humidity=%{marker.size}<br>Lat=%{lat}<br>Lng=%{lon}<extra></extra>",
         "hovertext": [
          "shakawe"
         ],
         "lat": [
          -18.3667
         ],
         "legendgroup": "shakawe",
         "lon": [
          21.85
         ],
         "marker": {
          "color": "#19d3f3",
          "opacity": 0.6,
          "size": [
           27
          ],
          "sizemode": "area",
          "sizeref": 0.591715976331361,
          "symbol": "circle"
         },
         "mode": "markers",
         "name": "shakawe",
         "showlegend": true,
         "type": "scattergeo"
        },
        {
         "geo": "geo",
         "hovertemplate": "<b>%{hovertext}</b><br><br>City=upington<br>Humidity=%{marker.size}<br>Lat=%{lat}<br>Lng=%{lon}<extra></extra>",
         "hovertext": [
          "upington"
         ],
         "lat": [
          -28.4478
         ],
         "legendgroup": "upington",
         "lon": [
          21.2561
         ],
         "marker": {
          "color": "#FF6692",
          "opacity": 0.6,
          "size": [
           19
          ],
          "sizemode": "area",
          "sizeref": 0.591715976331361,
          "symbol": "circle"
         },
         "mode": "markers",
         "name": "upington",
         "showlegend": true,
         "type": "scattergeo"
        },
        {
         "geo": "geo",
         "hovertemplate": "<b>%{hovertext}</b><br><br>City=gwanda<br>Humidity=%{marker.size}<br>Lat=%{lat}<br>Lng=%{lon}<extra></extra>",
         "hovertext": [
          "gwanda"
         ],
         "lat": [
          -20.9333
         ],
         "legendgroup": "gwanda",
         "lon": [
          29
         ],
         "marker": {
          "color": "#B6E880",
          "opacity": 0.6,
          "size": [
           25
          ],
          "sizemode": "area",
          "sizeref": 0.591715976331361,
          "symbol": "circle"
         },
         "mode": "markers",
         "name": "gwanda",
         "showlegend": true,
         "type": "scattergeo"
        },
        {
         "geo": "geo",
         "hovertemplate": "<b>%{hovertext}</b><br><br>City=kruisfontein<br>Humidity=%{marker.size}<br>Lat=%{lat}<br>Lng=%{lon}<extra></extra>",
         "hovertext": [
          "kruisfontein"
         ],
         "lat": [
          -34.0033
         ],
         "legendgroup": "kruisfontein",
         "lon": [
          24.7314
         ],
         "marker": {
          "color": "#FF97FF",
          "opacity": 0.6,
          "size": [
           82
          ],
          "sizemode": "area",
          "sizeref": 0.591715976331361,
          "symbol": "circle"
         },
         "mode": "markers",
         "name": "kruisfontein",
         "showlegend": true,
         "type": "scattergeo"
        },
        {
         "geo": "geo",
         "hovertemplate": "<b>%{hovertext}</b><br><br>City=grand gaube<br>Humidity=%{marker.size}<br>Lat=%{lat}<br>Lng=%{lon}<extra></extra>",
         "hovertext": [
          "grand gaube"
         ],
         "lat": [
          -20.0064
         ],
         "legendgroup": "grand gaube",
         "lon": [
          57.6608
         ],
         "marker": {
          "color": "#FECB52",
          "opacity": 0.6,
          "size": [
           65
          ],
          "sizemode": "area",
          "sizeref": 0.591715976331361,
          "symbol": "circle"
         },
         "mode": "markers",
         "name": "grand gaube",
         "showlegend": true,
         "type": "scattergeo"
        },
        {
         "geo": "geo",
         "hovertemplate": "<b>%{hovertext}</b><br><br>City=cacahuatepec<br>Humidity=%{marker.size}<br>Lat=%{lat}<br>Lng=%{lon}<extra></extra>",
         "hovertext": [
          "cacahuatepec"
         ],
         "lat": [
          16.8861
         ],
         "legendgroup": "cacahuatepec",
         "lon": [
          -99.6106
         ],
         "marker": {
          "color": "#636efa",
          "opacity": 0.6,
          "size": [
           91
          ],
          "sizemode": "area",
          "sizeref": 0.591715976331361,
          "symbol": "circle"
         },
         "mode": "markers",
         "name": "cacahuatepec",
         "showlegend": true,
         "type": "scattergeo"
        },
        {
         "geo": "geo",
         "hovertemplate": "<b>%{hovertext}</b><br><br>City=paita<br>Humidity=%{marker.size}<br>Lat=%{lat}<br>Lng=%{lon}<extra></extra>",
         "hovertext": [
          "paita"
         ],
         "lat": [
          -5.0892
         ],
         "legendgroup": "paita",
         "lon": [
          -81.1144
         ],
         "marker": {
          "color": "#EF553B",
          "opacity": 0.6,
          "size": [
           67
          ],
          "sizemode": "area",
          "sizeref": 0.591715976331361,
          "symbol": "circle"
         },
         "mode": "markers",
         "name": "paita",
         "showlegend": true,
         "type": "scattergeo"
        },
        {
         "geo": "geo",
         "hovertemplate": "<b>%{hovertext}</b><br><br>City=bumba<br>Humidity=%{marker.size}<br>Lat=%{lat}<br>Lng=%{lon}<extra></extra>",
         "hovertext": [
          "bumba"
         ],
         "lat": [
          2.1833
         ],
         "legendgroup": "bumba",
         "lon": [
          22.4667
         ],
         "marker": {
          "color": "#00cc96",
          "opacity": 0.6,
          "size": [
           70
          ],
          "sizemode": "area",
          "sizeref": 0.591715976331361,
          "symbol": "circle"
         },
         "mode": "markers",
         "name": "bumba",
         "showlegend": true,
         "type": "scattergeo"
        },
        {
         "geo": "geo",
         "hovertemplate": "<b>%{hovertext}</b><br><br>City=maragogi<br>Humidity=%{marker.size}<br>Lat=%{lat}<br>Lng=%{lon}<extra></extra>",
         "hovertext": [
          "maragogi"
         ],
         "lat": [
          -9.0122
         ],
         "legendgroup": "maragogi",
         "lon": [
          -35.2225
         ],
         "marker": {
          "color": "#ab63fa",
          "opacity": 0.6,
          "size": [
           73
          ],
          "sizemode": "area",
          "sizeref": 0.591715976331361,
          "symbol": "circle"
         },
         "mode": "markers",
         "name": "maragogi",
         "showlegend": true,
         "type": "scattergeo"
        },
        {
         "geo": "geo",
         "hovertemplate": "<b>%{hovertext}</b><br><br>City=kosa<br>Humidity=%{marker.size}<br>Lat=%{lat}<br>Lng=%{lon}<extra></extra>",
         "hovertext": [
          "kosa"
         ],
         "lat": [
          59.9445
         ],
         "legendgroup": "kosa",
         "lon": [
          54.9977
         ],
         "marker": {
          "color": "#FFA15A",
          "opacity": 0.6,
          "size": [
           92
          ],
          "sizemode": "area",
          "sizeref": 0.591715976331361,
          "symbol": "circle"
         },
         "mode": "markers",
         "name": "kosa",
         "showlegend": true,
         "type": "scattergeo"
        },
        {
         "geo": "geo",
         "hovertemplate": "<b>%{hovertext}</b><br><br>City=lagoa<br>Humidity=%{marker.size}<br>Lat=%{lat}<br>Lng=%{lon}<extra></extra>",
         "hovertext": [
          "lagoa"
         ],
         "lat": [
          39.05
         ],
         "legendgroup": "lagoa",
         "lon": [
          -27.9833
         ],
         "marker": {
          "color": "#19d3f3",
          "opacity": 0.6,
          "size": [
           61
          ],
          "sizemode": "area",
          "sizeref": 0.591715976331361,
          "symbol": "circle"
         },
         "mode": "markers",
         "name": "lagoa",
         "showlegend": true,
         "type": "scattergeo"
        },
        {
         "geo": "geo",
         "hovertemplate": "<b>%{hovertext}</b><br><br>City=cabra<br>Humidity=%{marker.size}<br>Lat=%{lat}<br>Lng=%{lon}<extra></extra>",
         "hovertext": [
          "cabra"
         ],
         "lat": [
          37.4725
         ],
         "legendgroup": "cabra",
         "lon": [
          -4.4421
         ],
         "marker": {
          "color": "#FF6692",
          "opacity": 0.6,
          "size": [
           30
          ],
          "sizemode": "area",
          "sizeref": 0.591715976331361,
          "symbol": "circle"
         },
         "mode": "markers",
         "name": "cabra",
         "showlegend": true,
         "type": "scattergeo"
        },
        {
         "geo": "geo",
         "hovertemplate": "<b>%{hovertext}</b><br><br>City=gat<br>Humidity=%{marker.size}<br>Lat=%{lat}<br>Lng=%{lon}<extra></extra>",
         "hovertext": [
          "gat"
         ],
         "lat": [
          31.61
         ],
         "legendgroup": "gat",
         "lon": [
          34.7642
         ],
         "marker": {
          "color": "#B6E880",
          "opacity": 0.6,
          "size": [
           100
          ],
          "sizemode": "area",
          "sizeref": 0.591715976331361,
          "symbol": "circle"
         },
         "mode": "markers",
         "name": "gat",
         "showlegend": true,
         "type": "scattergeo"
        },
        {
         "geo": "geo",
         "hovertemplate": "<b>%{hovertext}</b><br><br>City=buala<br>Humidity=%{marker.size}<br>Lat=%{lat}<br>Lng=%{lon}<extra></extra>",
         "hovertext": [
          "buala"
         ],
         "lat": [
          -8.145
         ],
         "legendgroup": "buala",
         "lon": [
          159.5921
         ],
         "marker": {
          "color": "#FF97FF",
          "opacity": 0.6,
          "size": [
           82
          ],
          "sizemode": "area",
          "sizeref": 0.591715976331361,
          "symbol": "circle"
         },
         "mode": "markers",
         "name": "buala",
         "showlegend": true,
         "type": "scattergeo"
        },
        {
         "geo": "geo",
         "hovertemplate": "<b>%{hovertext}</b><br><br>City=asau<br>Humidity=%{marker.size}<br>Lat=%{lat}<br>Lng=%{lon}<extra></extra>",
         "hovertext": [
          "asau"
         ],
         "lat": [
          46.4333
         ],
         "legendgroup": "asau",
         "lon": [
          26.4
         ],
         "marker": {
          "color": "#FECB52",
          "opacity": 0.6,
          "size": [
           48
          ],
          "sizemode": "area",
          "sizeref": 0.591715976331361,
          "symbol": "circle"
         },
         "mode": "markers",
         "name": "asau",
         "showlegend": true,
         "type": "scattergeo"
        },
        {
         "geo": "geo",
         "hovertemplate": "<b>%{hovertext}</b><br><br>City=isangel<br>Humidity=%{marker.size}<br>Lat=%{lat}<br>Lng=%{lon}<extra></extra>",
         "hovertext": [
          "isangel"
         ],
         "lat": [
          -19.55
         ],
         "legendgroup": "isangel",
         "lon": [
          169.2667
         ],
         "marker": {
          "color": "#636efa",
          "opacity": 0.6,
          "size": [
           88
          ],
          "sizemode": "area",
          "sizeref": 0.591715976331361,
          "symbol": "circle"
         },
         "mode": "markers",
         "name": "isangel",
         "showlegend": true,
         "type": "scattergeo"
        },
        {
         "geo": "geo",
         "hovertemplate": "<b>%{hovertext}</b><br><br>City=pevek<br>Humidity=%{marker.size}<br>Lat=%{lat}<br>Lng=%{lon}<extra></extra>",
         "hovertext": [
          "pevek"
         ],
         "lat": [
          69.7008
         ],
         "legendgroup": "pevek",
         "lon": [
          170.3133
         ],
         "marker": {
          "color": "#EF553B",
          "opacity": 0.6,
          "size": [
           96
          ],
          "sizemode": "area",
          "sizeref": 0.591715976331361,
          "symbol": "circle"
         },
         "mode": "markers",
         "name": "pevek",
         "showlegend": true,
         "type": "scattergeo"
        },
        {
         "geo": "geo",
         "hovertemplate": "<b>%{hovertext}</b><br><br>City=husavik<br>Humidity=%{marker.size}<br>Lat=%{lat}<br>Lng=%{lon}<extra></extra>",
         "hovertext": [
          "husavik"
         ],
         "lat": [
          66.0449
         ],
         "legendgroup": "husavik",
         "lon": [
          -17.3389
         ],
         "marker": {
          "color": "#00cc96",
          "opacity": 0.6,
          "size": [
           75
          ],
          "sizemode": "area",
          "sizeref": 0.591715976331361,
          "symbol": "circle"
         },
         "mode": "markers",
         "name": "husavik",
         "showlegend": true,
         "type": "scattergeo"
        },
        {
         "geo": "geo",
         "hovertemplate": "<b>%{hovertext}</b><br><br>City=kodiak<br>Humidity=%{marker.size}<br>Lat=%{lat}<br>Lng=%{lon}<extra></extra>",
         "hovertext": [
          "kodiak"
         ],
         "lat": [
          57.79
         ],
         "legendgroup": "kodiak",
         "lon": [
          -152.4072
         ],
         "marker": {
          "color": "#ab63fa",
          "opacity": 0.6,
          "size": [
           81
          ],
          "sizemode": "area",
          "sizeref": 0.591715976331361,
          "symbol": "circle"
         },
         "mode": "markers",
         "name": "kodiak",
         "showlegend": true,
         "type": "scattergeo"
        },
        {
         "geo": "geo",
         "hovertemplate": "<b>%{hovertext}</b><br><br>City=zyryanka<br>Humidity=%{marker.size}<br>Lat=%{lat}<br>Lng=%{lon}<extra></extra>",
         "hovertext": [
          "zyryanka"
         ],
         "lat": [
          65.75
         ],
         "legendgroup": "zyryanka",
         "lon": [
          150.85
         ],
         "marker": {
          "color": "#FFA15A",
          "opacity": 0.6,
          "size": [
           93
          ],
          "sizemode": "area",
          "sizeref": 0.591715976331361,
          "symbol": "circle"
         },
         "mode": "markers",
         "name": "zyryanka",
         "showlegend": true,
         "type": "scattergeo"
        },
        {
         "geo": "geo",
         "hovertemplate": "<b>%{hovertext}</b><br><br>City=valparaiso<br>Humidity=%{marker.size}<br>Lat=%{lat}<br>Lng=%{lon}<extra></extra>",
         "hovertext": [
          "valparaiso"
         ],
         "lat": [
          -33.0393
         ],
         "legendgroup": "valparaiso",
         "lon": [
          -71.6273
         ],
         "marker": {
          "color": "#19d3f3",
          "opacity": 0.6,
          "size": [
           79
          ],
          "sizemode": "area",
          "sizeref": 0.591715976331361,
          "symbol": "circle"
         },
         "mode": "markers",
         "name": "valparaiso",
         "showlegend": true,
         "type": "scattergeo"
        },
        {
         "geo": "geo",
         "hovertemplate": "<b>%{hovertext}</b><br><br>City=baykit<br>Humidity=%{marker.size}<br>Lat=%{lat}<br>Lng=%{lon}<extra></extra>",
         "hovertext": [
          "baykit"
         ],
         "lat": [
          61.67
         ],
         "legendgroup": "baykit",
         "lon": [
          96.37
         ],
         "marker": {
          "color": "#FF6692",
          "opacity": 0.6,
          "size": [
           89
          ],
          "sizemode": "area",
          "sizeref": 0.591715976331361,
          "symbol": "circle"
         },
         "mode": "markers",
         "name": "baykit",
         "showlegend": true,
         "type": "scattergeo"
        },
        {
         "geo": "geo",
         "hovertemplate": "<b>%{hovertext}</b><br><br>City=port moresby<br>Humidity=%{marker.size}<br>Lat=%{lat}<br>Lng=%{lon}<extra></extra>",
         "hovertext": [
          "port moresby"
         ],
         "lat": [
          -9.4431
         ],
         "legendgroup": "port moresby",
         "lon": [
          147.1797
         ],
         "marker": {
          "color": "#B6E880",
          "opacity": 0.6,
          "size": [
           94
          ],
          "sizemode": "area",
          "sizeref": 0.591715976331361,
          "symbol": "circle"
         },
         "mode": "markers",
         "name": "port moresby",
         "showlegend": true,
         "type": "scattergeo"
        },
        {
         "geo": "geo",
         "hovertemplate": "<b>%{hovertext}</b><br><br>City=meulaboh<br>Humidity=%{marker.size}<br>Lat=%{lat}<br>Lng=%{lon}<extra></extra>",
         "hovertext": [
          "meulaboh"
         ],
         "lat": [
          4.1363
         ],
         "legendgroup": "meulaboh",
         "lon": [
          96.1285
         ],
         "marker": {
          "color": "#FF97FF",
          "opacity": 0.6,
          "size": [
           88
          ],
          "sizemode": "area",
          "sizeref": 0.591715976331361,
          "symbol": "circle"
         },
         "mode": "markers",
         "name": "meulaboh",
         "showlegend": true,
         "type": "scattergeo"
        },
        {
         "geo": "geo",
         "hovertemplate": "<b>%{hovertext}</b><br><br>City=nakamura<br>Humidity=%{marker.size}<br>Lat=%{lat}<br>Lng=%{lon}<extra></extra>",
         "hovertext": [
          "nakamura"
         ],
         "lat": [
          32.9833
         ],
         "legendgroup": "nakamura",
         "lon": [
          132.9333
         ],
         "marker": {
          "color": "#FECB52",
          "opacity": 0.6,
          "size": [
           87
          ],
          "sizemode": "area",
          "sizeref": 0.591715976331361,
          "symbol": "circle"
         },
         "mode": "markers",
         "name": "nakamura",
         "showlegend": true,
         "type": "scattergeo"
        },
        {
         "geo": "geo",
         "hovertemplate": "<b>%{hovertext}</b><br><br>City=simao<br>Humidity=%{marker.size}<br>Lat=%{lat}<br>Lng=%{lon}<extra></extra>",
         "hovertext": [
          "simao"
         ],
         "lat": [
          22.7886
         ],
         "legendgroup": "simao",
         "lon": [
          100.9748
         ],
         "marker": {
          "color": "#636efa",
          "opacity": 0.6,
          "size": [
           67
          ],
          "sizemode": "area",
          "sizeref": 0.591715976331361,
          "symbol": "circle"
         },
         "mode": "markers",
         "name": "simao",
         "showlegend": true,
         "type": "scattergeo"
        },
        {
         "geo": "geo",
         "hovertemplate": "<b>%{hovertext}</b><br><br>City=laguna<br>Humidity=%{marker.size}<br>Lat=%{lat}<br>Lng=%{lon}<extra></extra>",
         "hovertext": [
          "laguna"
         ],
         "lat": [
          38.421
         ],
         "legendgroup": "laguna",
         "lon": [
          -121.4238
         ],
         "marker": {
          "color": "#EF553B",
          "opacity": 0.6,
          "size": [
           79
          ],
          "sizemode": "area",
          "sizeref": 0.591715976331361,
          "symbol": "circle"
         },
         "mode": "markers",
         "name": "laguna",
         "showlegend": true,
         "type": "scattergeo"
        },
        {
         "geo": "geo",
         "hovertemplate": "<b>%{hovertext}</b><br><br>City=bethel<br>Humidity=%{marker.size}<br>Lat=%{lat}<br>Lng=%{lon}<extra></extra>",
         "hovertext": [
          "bethel"
         ],
         "lat": [
          41.3712
         ],
         "legendgroup": "bethel",
         "lon": [
          -73.414
         ],
         "marker": {
          "color": "#00cc96",
          "opacity": 0.6,
          "size": [
           54
          ],
          "sizemode": "area",
          "sizeref": 0.591715976331361,
          "symbol": "circle"
         },
         "mode": "markers",
         "name": "bethel",
         "showlegend": true,
         "type": "scattergeo"
        },
        {
         "geo": "geo",
         "hovertemplate": "<b>%{hovertext}</b><br><br>City=kodinsk<br>Humidity=%{marker.size}<br>Lat=%{lat}<br>Lng=%{lon}<extra></extra>",
         "hovertext": [
          "kodinsk"
         ],
         "lat": [
          58.6881
         ],
         "legendgroup": "kodinsk",
         "lon": [
          99.1844
         ],
         "marker": {
          "color": "#ab63fa",
          "opacity": 0.6,
          "size": [
           98
          ],
          "sizemode": "area",
          "sizeref": 0.591715976331361,
          "symbol": "circle"
         },
         "mode": "markers",
         "name": "kodinsk",
         "showlegend": true,
         "type": "scattergeo"
        },
        {
         "geo": "geo",
         "hovertemplate": "<b>%{hovertext}</b><br><br>City=luderitz<br>Humidity=%{marker.size}<br>Lat=%{lat}<br>Lng=%{lon}<extra></extra>",
         "hovertext": [
          "luderitz"
         ],
         "lat": [
          -26.6481
         ],
         "legendgroup": "luderitz",
         "lon": [
          15.1594
         ],
         "marker": {
          "color": "#FFA15A",
          "opacity": 0.6,
          "size": [
           68
          ],
          "sizemode": "area",
          "sizeref": 0.591715976331361,
          "symbol": "circle"
         },
         "mode": "markers",
         "name": "luderitz",
         "showlegend": true,
         "type": "scattergeo"
        },
        {
         "geo": "geo",
         "hovertemplate": "<b>%{hovertext}</b><br><br>City=touros<br>Humidity=%{marker.size}<br>Lat=%{lat}<br>Lng=%{lon}<extra></extra>",
         "hovertext": [
          "touros"
         ],
         "lat": [
          -5.1989
         ],
         "legendgroup": "touros",
         "lon": [
          -35.4608
         ],
         "marker": {
          "color": "#19d3f3",
          "opacity": 0.6,
          "size": [
           61
          ],
          "sizemode": "area",
          "sizeref": 0.591715976331361,
          "symbol": "circle"
         },
         "mode": "markers",
         "name": "touros",
         "showlegend": true,
         "type": "scattergeo"
        },
        {
         "geo": "geo",
         "hovertemplate": "<b>%{hovertext}</b><br><br>City=glasgow<br>Humidity=%{marker.size}<br>Lat=%{lat}<br>Lng=%{lon}<extra></extra>",
         "hovertext": [
          "glasgow"
         ],
         "lat": [
          55.8652
         ],
         "legendgroup": "glasgow",
         "lon": [
          -4.2576
         ],
         "marker": {
          "color": "#FF6692",
          "opacity": 0.6,
          "size": [
           73
          ],
          "sizemode": "area",
          "sizeref": 0.591715976331361,
          "symbol": "circle"
         },
         "mode": "markers",
         "name": "glasgow",
         "showlegend": true,
         "type": "scattergeo"
        },
        {
         "geo": "geo",
         "hovertemplate": "<b>%{hovertext}</b><br><br>City=ladario<br>Humidity=%{marker.size}<br>Lat=%{lat}<br>Lng=%{lon}<extra></extra>",
         "hovertext": [
          "ladario"
         ],
         "lat": [
          -19.0047
         ],
         "legendgroup": "ladario",
         "lon": [
          -57.6017
         ],
         "marker": {
          "color": "#B6E880",
          "opacity": 0.6,
          "size": [
           78
          ],
          "sizemode": "area",
          "sizeref": 0.591715976331361,
          "symbol": "circle"
         },
         "mode": "markers",
         "name": "ladario",
         "showlegend": true,
         "type": "scattergeo"
        },
        {
         "geo": "geo",
         "hovertemplate": "<b>%{hovertext}</b><br><br>City=sao teotonio<br>Humidity=%{marker.size}<br>Lat=%{lat}<br>Lng=%{lon}<extra></extra>",
         "hovertext": [
          "sao teotonio"
         ],
         "lat": [
          37.5128
         ],
         "legendgroup": "sao teotonio",
         "lon": [
          -8.7071
         ],
         "marker": {
          "color": "#FF97FF",
          "opacity": 0.6,
          "size": [
           60
          ],
          "sizemode": "area",
          "sizeref": 0.591715976331361,
          "symbol": "circle"
         },
         "mode": "markers",
         "name": "sao teotonio",
         "showlegend": true,
         "type": "scattergeo"
        },
        {
         "geo": "geo",
         "hovertemplate": "<b>%{hovertext}</b><br><br>City=puri<br>Humidity=%{marker.size}<br>Lat=%{lat}<br>Lng=%{lon}<extra></extra>",
         "hovertext": [
          "puri"
         ],
         "lat": [
          19.8
         ],
         "legendgroup": "puri",
         "lon": [
          85.85
         ],
         "marker": {
          "color": "#FECB52",
          "opacity": 0.6,
          "size": [
           72
          ],
          "sizemode": "area",
          "sizeref": 0.591715976331361,
          "symbol": "circle"
         },
         "mode": "markers",
         "name": "puri",
         "showlegend": true,
         "type": "scattergeo"
        },
        {
         "geo": "geo",
         "hovertemplate": "<b>%{hovertext}</b><br><br>City=yumbe<br>Humidity=%{marker.size}<br>Lat=%{lat}<br>Lng=%{lon}<extra></extra>",
         "hovertext": [
          "yumbe"
         ],
         "lat": [
          3.4651
         ],
         "legendgroup": "yumbe",
         "lon": [
          31.2469
         ],
         "marker": {
          "color": "#636efa",
          "opacity": 0.6,
          "size": [
           84
          ],
          "sizemode": "area",
          "sizeref": 0.591715976331361,
          "symbol": "circle"
         },
         "mode": "markers",
         "name": "yumbe",
         "showlegend": true,
         "type": "scattergeo"
        },
        {
         "geo": "geo",
         "hovertemplate": "<b>%{hovertext}</b><br><br>City=pangkalanbuun<br>Humidity=%{marker.size}<br>Lat=%{lat}<br>Lng=%{lon}<extra></extra>",
         "hovertext": [
          "pangkalanbuun"
         ],
         "lat": [
          -2.6833
         ],
         "legendgroup": "pangkalanbuun",
         "lon": [
          111.6167
         ],
         "marker": {
          "color": "#EF553B",
          "opacity": 0.6,
          "size": [
           96
          ],
          "sizemode": "area",
          "sizeref": 0.591715976331361,
          "symbol": "circle"
         },
         "mode": "markers",
         "name": "pangkalanbuun",
         "showlegend": true,
         "type": "scattergeo"
        },
        {
         "geo": "geo",
         "hovertemplate": "<b>%{hovertext}</b><br><br>City=hay river<br>Humidity=%{marker.size}<br>Lat=%{lat}<br>Lng=%{lon}<extra></extra>",
         "hovertext": [
          "hay river"
         ],
         "lat": [
          60.8156
         ],
         "legendgroup": "hay river",
         "lon": [
          -115.7999
         ],
         "marker": {
          "color": "#00cc96",
          "opacity": 0.6,
          "size": [
           58
          ],
          "sizemode": "area",
          "sizeref": 0.591715976331361,
          "symbol": "circle"
         },
         "mode": "markers",
         "name": "hay river",
         "showlegend": true,
         "type": "scattergeo"
        },
        {
         "geo": "geo",
         "hovertemplate": "<b>%{hovertext}</b><br><br>City=verkhniye achaluki<br>Humidity=%{marker.size}<br>Lat=%{lat}<br>Lng=%{lon}<extra></extra>",
         "hovertext": [
          "verkhniye achaluki"
         ],
         "lat": [
          43.3469
         ],
         "legendgroup": "verkhniye achaluki",
         "lon": [
          44.6975
         ],
         "marker": {
          "color": "#ab63fa",
          "opacity": 0.6,
          "size": [
           93
          ],
          "sizemode": "area",
          "sizeref": 0.591715976331361,
          "symbol": "circle"
         },
         "mode": "markers",
         "name": "verkhniye achaluki",
         "showlegend": true,
         "type": "scattergeo"
        },
        {
         "geo": "geo",
         "hovertemplate": "<b>%{hovertext}</b><br><br>City=terrace bay<br>Humidity=%{marker.size}<br>Lat=%{lat}<br>Lng=%{lon}<extra></extra>",
         "hovertext": [
          "terrace bay"
         ],
         "lat": [
          48.7834
         ],
         "legendgroup": "terrace bay",
         "lon": [
          -87.1
         ],
         "marker": {
          "color": "#FFA15A",
          "opacity": 0.6,
          "size": [
           74
          ],
          "sizemode": "area",
          "sizeref": 0.591715976331361,
          "symbol": "circle"
         },
         "mode": "markers",
         "name": "terrace bay",
         "showlegend": true,
         "type": "scattergeo"
        },
        {
         "geo": "geo",
         "hovertemplate": "<b>%{hovertext}</b><br><br>City=ust-koksa<br>Humidity=%{marker.size}<br>Lat=%{lat}<br>Lng=%{lon}<extra></extra>",
         "hovertext": [
          "ust-koksa"
         ],
         "lat": [
          50.2696
         ],
         "legendgroup": "ust-koksa",
         "lon": [
          85.6108
         ],
         "marker": {
          "color": "#19d3f3",
          "opacity": 0.6,
          "size": [
           91
          ],
          "sizemode": "area",
          "sizeref": 0.591715976331361,
          "symbol": "circle"
         },
         "mode": "markers",
         "name": "ust-koksa",
         "showlegend": true,
         "type": "scattergeo"
        },
        {
         "geo": "geo",
         "hovertemplate": "<b>%{hovertext}</b><br><br>City=sorong<br>Humidity=%{marker.size}<br>Lat=%{lat}<br>Lng=%{lon}<extra></extra>",
         "hovertext": [
          "sorong"
         ],
         "lat": [
          -0.8833
         ],
         "legendgroup": "sorong",
         "lon": [
          131.25
         ],
         "marker": {
          "color": "#FF6692",
          "opacity": 0.6,
          "size": [
           83
          ],
          "sizemode": "area",
          "sizeref": 0.591715976331361,
          "symbol": "circle"
         },
         "mode": "markers",
         "name": "sorong",
         "showlegend": true,
         "type": "scattergeo"
        },
        {
         "geo": "geo",
         "hovertemplate": "<b>%{hovertext}</b><br><br>City=longyearbyen<br>Humidity=%{marker.size}<br>Lat=%{lat}<br>Lng=%{lon}<extra></extra>",
         "hovertext": [
          "longyearbyen"
         ],
         "lat": [
          78.2186
         ],
         "legendgroup": "longyearbyen",
         "lon": [
          15.6401
         ],
         "marker": {
          "color": "#B6E880",
          "opacity": 0.6,
          "size": [
           81
          ],
          "sizemode": "area",
          "sizeref": 0.591715976331361,
          "symbol": "circle"
         },
         "mode": "markers",
         "name": "longyearbyen",
         "showlegend": true,
         "type": "scattergeo"
        },
        {
         "geo": "geo",
         "hovertemplate": "<b>%{hovertext}</b><br><br>City=san patricio<br>Humidity=%{marker.size}<br>Lat=%{lat}<br>Lng=%{lon}<extra></extra>",
         "hovertext": [
          "san patricio"
         ],
         "lat": [
          28.017
         ],
         "legendgroup": "san patricio",
         "lon": [
          -97.5169
         ],
         "marker": {
          "color": "#FF97FF",
          "opacity": 0.6,
          "size": [
           43
          ],
          "sizemode": "area",
          "sizeref": 0.591715976331361,
          "symbol": "circle"
         },
         "mode": "markers",
         "name": "san patricio",
         "showlegend": true,
         "type": "scattergeo"
        },
        {
         "geo": "geo",
         "hovertemplate": "<b>%{hovertext}</b><br><br>City=san cristobal<br>Humidity=%{marker.size}<br>Lat=%{lat}<br>Lng=%{lon}<extra></extra>",
         "hovertext": [
          "san cristobal"
         ],
         "lat": [
          7.7669
         ],
         "legendgroup": "san cristobal",
         "lon": [
          -72.225
         ],
         "marker": {
          "color": "#FECB52",
          "opacity": 0.6,
          "size": [
           45
          ],
          "sizemode": "area",
          "sizeref": 0.591715976331361,
          "symbol": "circle"
         },
         "mode": "markers",
         "name": "san cristobal",
         "showlegend": true,
         "type": "scattergeo"
        },
        {
         "geo": "geo",
         "hovertemplate": "<b>%{hovertext}</b><br><br>City=lensk<br>Humidity=%{marker.size}<br>Lat=%{lat}<br>Lng=%{lon}<extra></extra>",
         "hovertext": [
          "lensk"
         ],
         "lat": [
          60.7253
         ],
         "legendgroup": "lensk",
         "lon": [
          114.9278
         ],
         "marker": {
          "color": "#636efa",
          "opacity": 0.6,
          "size": [
           91
          ],
          "sizemode": "area",
          "sizeref": 0.591715976331361,
          "symbol": "circle"
         },
         "mode": "markers",
         "name": "lensk",
         "showlegend": true,
         "type": "scattergeo"
        },
        {
         "geo": "geo",
         "hovertemplate": "<b>%{hovertext}</b><br><br>City=carrollton<br>Humidity=%{marker.size}<br>Lat=%{lat}<br>Lng=%{lon}<extra></extra>",
         "hovertext": [
          "carrollton"
         ],
         "lat": [
          32.9537
         ],
         "legendgroup": "carrollton",
         "lon": [
          -96.8903
         ],
         "marker": {
          "color": "#EF553B",
          "opacity": 0.6,
          "size": [
           31
          ],
          "sizemode": "area",
          "sizeref": 0.591715976331361,
          "symbol": "circle"
         },
         "mode": "markers",
         "name": "carrollton",
         "showlegend": true,
         "type": "scattergeo"
        },
        {
         "geo": "geo",
         "hovertemplate": "<b>%{hovertext}</b><br><br>City=norman wells<br>Humidity=%{marker.size}<br>Lat=%{lat}<br>Lng=%{lon}<extra></extra>",
         "hovertext": [
          "norman wells"
         ],
         "lat": [
          65.282
         ],
         "legendgroup": "norman wells",
         "lon": [
          -126.8329
         ],
         "marker": {
          "color": "#00cc96",
          "opacity": 0.6,
          "size": [
           100
          ],
          "sizemode": "area",
          "sizeref": 0.591715976331361,
          "symbol": "circle"
         },
         "mode": "markers",
         "name": "norman wells",
         "showlegend": true,
         "type": "scattergeo"
        },
        {
         "geo": "geo",
         "hovertemplate": "<b>%{hovertext}</b><br><br>City=makokou<br>Humidity=%{marker.size}<br>Lat=%{lat}<br>Lng=%{lon}<extra></extra>",
         "hovertext": [
          "makokou"
         ],
         "lat": [
          0.5738
         ],
         "legendgroup": "makokou",
         "lon": [
          12.8642
         ],
         "marker": {
          "color": "#ab63fa",
          "opacity": 0.6,
          "size": [
           95
          ],
          "sizemode": "area",
          "sizeref": 0.591715976331361,
          "symbol": "circle"
         },
         "mode": "markers",
         "name": "makokou",
         "showlegend": true,
         "type": "scattergeo"
        },
        {
         "geo": "geo",
         "hovertemplate": "<b>%{hovertext}</b><br><br>City=llata<br>Humidity=%{marker.size}<br>Lat=%{lat}<br>Lng=%{lon}<extra></extra>",
         "hovertext": [
          "llata"
         ],
         "lat": [
          -9.4167
         ],
         "legendgroup": "llata",
         "lon": [
          -76.7833
         ],
         "marker": {
          "color": "#FFA15A",
          "opacity": 0.6,
          "size": [
           62
          ],
          "sizemode": "area",
          "sizeref": 0.591715976331361,
          "symbol": "circle"
         },
         "mode": "markers",
         "name": "llata",
         "showlegend": true,
         "type": "scattergeo"
        },
        {
         "geo": "geo",
         "hovertemplate": "<b>%{hovertext}</b><br><br>City=neiafu<br>Humidity=%{marker.size}<br>Lat=%{lat}<br>Lng=%{lon}<extra></extra>",
         "hovertext": [
          "neiafu"
         ],
         "lat": [
          -18.65
         ],
         "legendgroup": "neiafu",
         "lon": [
          -173.9833
         ],
         "marker": {
          "color": "#19d3f3",
          "opacity": 0.6,
          "size": [
           88
          ],
          "sizemode": "area",
          "sizeref": 0.591715976331361,
          "symbol": "circle"
         },
         "mode": "markers",
         "name": "neiafu",
         "showlegend": true,
         "type": "scattergeo"
        },
        {
         "geo": "geo",
         "hovertemplate": "<b>%{hovertext}</b><br><br>City=moroni<br>Humidity=%{marker.size}<br>Lat=%{lat}<br>Lng=%{lon}<extra></extra>",
         "hovertext": [
          "moroni"
         ],
         "lat": [
          -11.7022
         ],
         "legendgroup": "moroni",
         "lon": [
          43.2551
         ],
         "marker": {
          "color": "#FF6692",
          "opacity": 0.6,
          "size": [
           73
          ],
          "sizemode": "area",
          "sizeref": 0.591715976331361,
          "symbol": "circle"
         },
         "mode": "markers",
         "name": "moroni",
         "showlegend": true,
         "type": "scattergeo"
        },
        {
         "geo": "geo",
         "hovertemplate": "<b>%{hovertext}</b><br><br>City=cap malheureux<br>Humidity=%{marker.size}<br>Lat=%{lat}<br>Lng=%{lon}<extra></extra>",
         "hovertext": [
          "cap malheureux"
         ],
         "lat": [
          -19.9842
         ],
         "legendgroup": "cap malheureux",
         "lon": [
          57.6142
         ],
         "marker": {
          "color": "#B6E880",
          "opacity": 0.6,
          "size": [
           65
          ],
          "sizemode": "area",
          "sizeref": 0.591715976331361,
          "symbol": "circle"
         },
         "mode": "markers",
         "name": "cap malheureux",
         "showlegend": true,
         "type": "scattergeo"
        },
        {
         "geo": "geo",
         "hovertemplate": "<b>%{hovertext}</b><br><br>City=walvis bay<br>Humidity=%{marker.size}<br>Lat=%{lat}<br>Lng=%{lon}<extra></extra>",
         "hovertext": [
          "walvis bay"
         ],
         "lat": [
          -22.9575
         ],
         "legendgroup": "walvis bay",
         "lon": [
          14.5053
         ],
         "marker": {
          "color": "#FF97FF",
          "opacity": 0.6,
          "size": [
           71
          ],
          "sizemode": "area",
          "sizeref": 0.591715976331361,
          "symbol": "circle"
         },
         "mode": "markers",
         "name": "walvis bay",
         "showlegend": true,
         "type": "scattergeo"
        },
        {
         "geo": "geo",
         "hovertemplate": "<b>%{hovertext}</b><br><br>City=rawson<br>Humidity=%{marker.size}<br>Lat=%{lat}<br>Lng=%{lon}<extra></extra>",
         "hovertext": [
          "rawson"
         ],
         "lat": [
          -43.3002
         ],
         "legendgroup": "rawson",
         "lon": [
          -65.1023
         ],
         "marker": {
          "color": "#FECB52",
          "opacity": 0.6,
          "size": [
           25
          ],
          "sizemode": "area",
          "sizeref": 0.591715976331361,
          "symbol": "circle"
         },
         "mode": "markers",
         "name": "rawson",
         "showlegend": true,
         "type": "scattergeo"
        },
        {
         "geo": "geo",
         "hovertemplate": "<b>%{hovertext}</b><br><br>City=tikaitnagar<br>Humidity=%{marker.size}<br>Lat=%{lat}<br>Lng=%{lon}<extra></extra>",
         "hovertext": [
          "tikaitnagar"
         ],
         "lat": [
          26.95
         ],
         "legendgroup": "tikaitnagar",
         "lon": [
          81.5833
         ],
         "marker": {
          "color": "#636efa",
          "opacity": 0.6,
          "size": [
           59
          ],
          "sizemode": "area",
          "sizeref": 0.591715976331361,
          "symbol": "circle"
         },
         "mode": "markers",
         "name": "tikaitnagar",
         "showlegend": true,
         "type": "scattergeo"
        },
        {
         "geo": "geo",
         "hovertemplate": "<b>%{hovertext}</b><br><br>City=sembe<br>Humidity=%{marker.size}<br>Lat=%{lat}<br>Lng=%{lon}<extra></extra>",
         "hovertext": [
          "sembe"
         ],
         "lat": [
          1.6481
         ],
         "legendgroup": "sembe",
         "lon": [
          14.5806
         ],
         "marker": {
          "color": "#EF553B",
          "opacity": 0.6,
          "size": [
           91
          ],
          "sizemode": "area",
          "sizeref": 0.591715976331361,
          "symbol": "circle"
         },
         "mode": "markers",
         "name": "sembe",
         "showlegend": true,
         "type": "scattergeo"
        },
        {
         "geo": "geo",
         "hovertemplate": "<b>%{hovertext}</b><br><br>City=aksu<br>Humidity=%{marker.size}<br>Lat=%{lat}<br>Lng=%{lon}<extra></extra>",
         "hovertext": [
          "aksu"
         ],
         "lat": [
          41.1231
         ],
         "legendgroup": "aksu",
         "lon": [
          80.2644
         ],
         "marker": {
          "color": "#00cc96",
          "opacity": 0.6,
          "size": [
           20
          ],
          "sizemode": "area",
          "sizeref": 0.591715976331361,
          "symbol": "circle"
         },
         "mode": "markers",
         "name": "aksu",
         "showlegend": true,
         "type": "scattergeo"
        },
        {
         "geo": "geo",
         "hovertemplate": "<b>%{hovertext}</b><br><br>City=russkaya polyana<br>Humidity=%{marker.size}<br>Lat=%{lat}<br>Lng=%{lon}<extra></extra>",
         "hovertext": [
          "russkaya polyana"
         ],
         "lat": [
          49.417
         ],
         "legendgroup": "russkaya polyana",
         "lon": [
          31.9201
         ],
         "marker": {
          "color": "#ab63fa",
          "opacity": 0.6,
          "size": [
           32
          ],
          "sizemode": "area",
          "sizeref": 0.591715976331361,
          "symbol": "circle"
         },
         "mode": "markers",
         "name": "russkaya polyana",
         "showlegend": true,
         "type": "scattergeo"
        },
        {
         "geo": "geo",
         "hovertemplate": "<b>%{hovertext}</b><br><br>City=broken hill<br>Humidity=%{marker.size}<br>Lat=%{lat}<br>Lng=%{lon}<extra></extra>",
         "hovertext": [
          "broken hill"
         ],
         "lat": [
          -31.95
         ],
         "legendgroup": "broken hill",
         "lon": [
          141.4333
         ],
         "marker": {
          "color": "#FFA15A",
          "opacity": 0.6,
          "size": [
           66
          ],
          "sizemode": "area",
          "sizeref": 0.591715976331361,
          "symbol": "circle"
         },
         "mode": "markers",
         "name": "broken hill",
         "showlegend": true,
         "type": "scattergeo"
        },
        {
         "geo": "geo",
         "hovertemplate": "<b>%{hovertext}</b><br><br>City=cherskiy<br>Humidity=%{marker.size}<br>Lat=%{lat}<br>Lng=%{lon}<extra></extra>",
         "hovertext": [
          "cherskiy"
         ],
         "lat": [
          68.75
         ],
         "legendgroup": "cherskiy",
         "lon": [
          161.3
         ],
         "marker": {
          "color": "#19d3f3",
          "opacity": 0.6,
          "size": [
           100
          ],
          "sizemode": "area",
          "sizeref": 0.591715976331361,
          "symbol": "circle"
         },
         "mode": "markers",
         "name": "cherskiy",
         "showlegend": true,
         "type": "scattergeo"
        },
        {
         "geo": "geo",
         "hovertemplate": "<b>%{hovertext}</b><br><br>City=beya<br>Humidity=%{marker.size}<br>Lat=%{lat}<br>Lng=%{lon}<extra></extra>",
         "hovertext": [
          "beya"
         ],
         "lat": [
          53.0533
         ],
         "legendgroup": "beya",
         "lon": [
          90.9139
         ],
         "marker": {
          "color": "#FF6692",
          "opacity": 0.6,
          "size": [
           73
          ],
          "sizemode": "area",
          "sizeref": 0.591715976331361,
          "symbol": "circle"
         },
         "mode": "markers",
         "name": "beya",
         "showlegend": true,
         "type": "scattergeo"
        },
        {
         "geo": "geo",
         "hovertemplate": "<b>%{hovertext}</b><br><br>City=goba<br>Humidity=%{marker.size}<br>Lat=%{lat}<br>Lng=%{lon}<extra></extra>",
         "hovertext": [
          "goba"
         ],
         "lat": [
          7.0167
         ],
         "legendgroup": "goba",
         "lon": [
          39.9833
         ],
         "marker": {
          "color": "#B6E880",
          "opacity": 0.6,
          "size": [
           95
          ],
          "sizemode": "area",
          "sizeref": 0.591715976331361,
          "symbol": "circle"
         },
         "mode": "markers",
         "name": "goba",
         "showlegend": true,
         "type": "scattergeo"
        },
        {
         "geo": "geo",
         "hovertemplate": "<b>%{hovertext}</b><br><br>City=ordzhonikidze<br>Humidity=%{marker.size}<br>Lat=%{lat}<br>Lng=%{lon}<extra></extra>",
         "hovertext": [
          "ordzhonikidze"
         ],
         "lat": [
          52.4411
         ],
         "legendgroup": "ordzhonikidze",
         "lon": [
          61.7408
         ],
         "marker": {
          "color": "#FF97FF",
          "opacity": 0.6,
          "size": [
           57
          ],
          "sizemode": "area",
          "sizeref": 0.591715976331361,
          "symbol": "circle"
         },
         "mode": "markers",
         "name": "ordzhonikidze",
         "showlegend": true,
         "type": "scattergeo"
        },
        {
         "geo": "geo",
         "hovertemplate": "<b>%{hovertext}</b><br><br>City=high rock<br>Humidity=%{marker.size}<br>Lat=%{lat}<br>Lng=%{lon}<extra></extra>",
         "hovertext": [
          "high rock"
         ],
         "lat": [
          26.6208
         ],
         "legendgroup": "high rock",
         "lon": [
          -78.2833
         ],
         "marker": {
          "color": "#FECB52",
          "opacity": 0.6,
          "size": [
           72
          ],
          "sizemode": "area",
          "sizeref": 0.591715976331361,
          "symbol": "circle"
         },
         "mode": "markers",
         "name": "high rock",
         "showlegend": true,
         "type": "scattergeo"
        },
        {
         "geo": "geo",
         "hovertemplate": "<b>%{hovertext}</b><br><br>City=floro<br>Humidity=%{marker.size}<br>Lat=%{lat}<br>Lng=%{lon}<extra></extra>",
         "hovertext": [
          "floro"
         ],
         "lat": [
          61.5996
         ],
         "legendgroup": "floro",
         "lon": [
          5.0328
         ],
         "marker": {
          "color": "#636efa",
          "opacity": 0.6,
          "size": [
           61
          ],
          "sizemode": "area",
          "sizeref": 0.591715976331361,
          "symbol": "circle"
         },
         "mode": "markers",
         "name": "floro",
         "showlegend": true,
         "type": "scattergeo"
        },
        {
         "geo": "geo",
         "hovertemplate": "<b>%{hovertext}</b><br><br>City=balabac<br>Humidity=%{marker.size}<br>Lat=%{lat}<br>Lng=%{lon}<extra></extra>",
         "hovertext": [
          "balabac"
         ],
         "lat": [
          7.9868
         ],
         "legendgroup": "balabac",
         "lon": [
          117.0645
         ],
         "marker": {
          "color": "#EF553B",
          "opacity": 0.6,
          "size": [
           83
          ],
          "sizemode": "area",
          "sizeref": 0.591715976331361,
          "symbol": "circle"
         },
         "mode": "markers",
         "name": "balabac",
         "showlegend": true,
         "type": "scattergeo"
        },
        {
         "geo": "geo",
         "hovertemplate": "<b>%{hovertext}</b><br><br>City=bintulu<br>Humidity=%{marker.size}<br>Lat=%{lat}<br>Lng=%{lon}<extra></extra>",
         "hovertext": [
          "bintulu"
         ],
         "lat": [
          3.1667
         ],
         "legendgroup": "bintulu",
         "lon": [
          113.0333
         ],
         "marker": {
          "color": "#00cc96",
          "opacity": 0.6,
          "size": [
           100
          ],
          "sizemode": "area",
          "sizeref": 0.591715976331361,
          "symbol": "circle"
         },
         "mode": "markers",
         "name": "bintulu",
         "showlegend": true,
         "type": "scattergeo"
        },
        {
         "geo": "geo",
         "hovertemplate": "<b>%{hovertext}</b><br><br>City=tchaourou<br>Humidity=%{marker.size}<br>Lat=%{lat}<br>Lng=%{lon}<extra></extra>",
         "hovertext": [
          "tchaourou"
         ],
         "lat": [
          8.8865
         ],
         "legendgroup": "tchaourou",
         "lon": [
          2.5975
         ],
         "marker": {
          "color": "#ab63fa",
          "opacity": 0.6,
          "size": [
           56
          ],
          "sizemode": "area",
          "sizeref": 0.591715976331361,
          "symbol": "circle"
         },
         "mode": "markers",
         "name": "tchaourou",
         "showlegend": true,
         "type": "scattergeo"
        },
        {
         "geo": "geo",
         "hovertemplate": "<b>%{hovertext}</b><br><br>City=zhongshan<br>Humidity=%{marker.size}<br>Lat=%{lat}<br>Lng=%{lon}<extra></extra>",
         "hovertext": [
          "zhongshan"
         ],
         "lat": [
          21.3226
         ],
         "legendgroup": "zhongshan",
         "lon": [
          110.5829
         ],
         "marker": {
          "color": "#FFA15A",
          "opacity": 0.6,
          "size": [
           72
          ],
          "sizemode": "area",
          "sizeref": 0.591715976331361,
          "symbol": "circle"
         },
         "mode": "markers",
         "name": "zhongshan",
         "showlegend": true,
         "type": "scattergeo"
        },
        {
         "geo": "geo",
         "hovertemplate": "<b>%{hovertext}</b><br><br>City=quatre cocos<br>Humidity=%{marker.size}<br>Lat=%{lat}<br>Lng=%{lon}<extra></extra>",
         "hovertext": [
          "quatre cocos"
         ],
         "lat": [
          -20.2078
         ],
         "legendgroup": "quatre cocos",
         "lon": [
          57.7625
         ],
         "marker": {
          "color": "#19d3f3",
          "opacity": 0.6,
          "size": [
           73
          ],
          "sizemode": "area",
          "sizeref": 0.591715976331361,
          "symbol": "circle"
         },
         "mode": "markers",
         "name": "quatre cocos",
         "showlegend": true,
         "type": "scattergeo"
        },
        {
         "geo": "geo",
         "hovertemplate": "<b>%{hovertext}</b><br><br>City=prieska<br>Humidity=%{marker.size}<br>Lat=%{lat}<br>Lng=%{lon}<extra></extra>",
         "hovertext": [
          "prieska"
         ],
         "lat": [
          -29.6641
         ],
         "legendgroup": "prieska",
         "lon": [
          22.7474
         ],
         "marker": {
          "color": "#FF6692",
          "opacity": 0.6,
          "size": [
           31
          ],
          "sizemode": "area",
          "sizeref": 0.591715976331361,
          "symbol": "circle"
         },
         "mode": "markers",
         "name": "prieska",
         "showlegend": true,
         "type": "scattergeo"
        },
        {
         "geo": "geo",
         "hovertemplate": "<b>%{hovertext}</b><br><br>City=pathanamthitta<br>Humidity=%{marker.size}<br>Lat=%{lat}<br>Lng=%{lon}<extra></extra>",
         "hovertext": [
          "pathanamthitta"
         ],
         "lat": [
          9.2667
         ],
         "legendgroup": "pathanamthitta",
         "lon": [
          76.7833
         ],
         "marker": {
          "color": "#B6E880",
          "opacity": 0.6,
          "size": [
           97
          ],
          "sizemode": "area",
          "sizeref": 0.591715976331361,
          "symbol": "circle"
         },
         "mode": "markers",
         "name": "pathanamthitta",
         "showlegend": true,
         "type": "scattergeo"
        },
        {
         "geo": "geo",
         "hovertemplate": "<b>%{hovertext}</b><br><br>City=comodoro rivadavia<br>Humidity=%{marker.size}<br>Lat=%{lat}<br>Lng=%{lon}<extra></extra>",
         "hovertext": [
          "comodoro rivadavia"
         ],
         "lat": [
          -45.8667
         ],
         "legendgroup": "comodoro rivadavia",
         "lon": [
          -67.5
         ],
         "marker": {
          "color": "#FF97FF",
          "opacity": 0.6,
          "size": [
           24
          ],
          "sizemode": "area",
          "sizeref": 0.591715976331361,
          "symbol": "circle"
         },
         "mode": "markers",
         "name": "comodoro rivadavia",
         "showlegend": true,
         "type": "scattergeo"
        },
        {
         "geo": "geo",
         "hovertemplate": "<b>%{hovertext}</b><br><br>City=sungaipenuh<br>Humidity=%{marker.size}<br>Lat=%{lat}<br>Lng=%{lon}<extra></extra>",
         "hovertext": [
          "sungaipenuh"
         ],
         "lat": [
          -2.0833
         ],
         "legendgroup": "sungaipenuh",
         "lon": [
          101.3833
         ],
         "marker": {
          "color": "#FECB52",
          "opacity": 0.6,
          "size": [
           95
          ],
          "sizemode": "area",
          "sizeref": 0.591715976331361,
          "symbol": "circle"
         },
         "mode": "markers",
         "name": "sungaipenuh",
         "showlegend": true,
         "type": "scattergeo"
        },
        {
         "geo": "geo",
         "hovertemplate": "<b>%{hovertext}</b><br><br>City=aklavik<br>Humidity=%{marker.size}<br>Lat=%{lat}<br>Lng=%{lon}<extra></extra>",
         "hovertext": [
          "aklavik"
         ],
         "lat": [
          68.2191
         ],
         "legendgroup": "aklavik",
         "lon": [
          -135.0107
         ],
         "marker": {
          "color": "#636efa",
          "opacity": 0.6,
          "size": [
           93
          ],
          "sizemode": "area",
          "sizeref": 0.591715976331361,
          "symbol": "circle"
         },
         "mode": "markers",
         "name": "aklavik",
         "showlegend": true,
         "type": "scattergeo"
        },
        {
         "geo": "geo",
         "hovertemplate": "<b>%{hovertext}</b><br><br>City=camacha<br>Humidity=%{marker.size}<br>Lat=%{lat}<br>Lng=%{lon}<extra></extra>",
         "hovertext": [
          "camacha"
         ],
         "lat": [
          33.0833
         ],
         "legendgroup": "camacha",
         "lon": [
          -16.3333
         ],
         "marker": {
          "color": "#EF553B",
          "opacity": 0.6,
          "size": [
           73
          ],
          "sizemode": "area",
          "sizeref": 0.591715976331361,
          "symbol": "circle"
         },
         "mode": "markers",
         "name": "camacha",
         "showlegend": true,
         "type": "scattergeo"
        },
        {
         "geo": "geo",
         "hovertemplate": "<b>%{hovertext}</b><br><br>City=thompson<br>Humidity=%{marker.size}<br>Lat=%{lat}<br>Lng=%{lon}<extra></extra>",
         "hovertext": [
          "thompson"
         ],
         "lat": [
          55.7435
         ],
         "legendgroup": "thompson",
         "lon": [
          -97.8558
         ],
         "marker": {
          "color": "#00cc96",
          "opacity": 0.6,
          "size": [
           60
          ],
          "sizemode": "area",
          "sizeref": 0.591715976331361,
          "symbol": "circle"
         },
         "mode": "markers",
         "name": "thompson",
         "showlegend": true,
         "type": "scattergeo"
        },
        {
         "geo": "geo",
         "hovertemplate": "<b>%{hovertext}</b><br><br>City=hambantota<br>Humidity=%{marker.size}<br>Lat=%{lat}<br>Lng=%{lon}<extra></extra>",
         "hovertext": [
          "hambantota"
         ],
         "lat": [
          6.1241
         ],
         "legendgroup": "hambantota",
         "lon": [
          81.1185
         ],
         "marker": {
          "color": "#ab63fa",
          "opacity": 0.6,
          "size": [
           89
          ],
          "sizemode": "area",
          "sizeref": 0.591715976331361,
          "symbol": "circle"
         },
         "mode": "markers",
         "name": "hambantota",
         "showlegend": true,
         "type": "scattergeo"
        },
        {
         "geo": "geo",
         "hovertemplate": "<b>%{hovertext}</b><br><br>City=swanton<br>Humidity=%{marker.size}<br>Lat=%{lat}<br>Lng=%{lon}<extra></extra>",
         "hovertext": [
          "swanton"
         ],
         "lat": [
          41.5887
         ],
         "legendgroup": "swanton",
         "lon": [
          -83.8911
         ],
         "marker": {
          "color": "#FFA15A",
          "opacity": 0.6,
          "size": [
           71
          ],
          "sizemode": "area",
          "sizeref": 0.591715976331361,
          "symbol": "circle"
         },
         "mode": "markers",
         "name": "swanton",
         "showlegend": true,
         "type": "scattergeo"
        },
        {
         "geo": "geo",
         "hovertemplate": "<b>%{hovertext}</b><br><br>City=san quintin<br>Humidity=%{marker.size}<br>Lat=%{lat}<br>Lng=%{lon}<extra></extra>",
         "hovertext": [
          "san quintin"
         ],
         "lat": [
          30.4833
         ],
         "legendgroup": "san quintin",
         "lon": [
          -115.95
         ],
         "marker": {
          "color": "#19d3f3",
          "opacity": 0.6,
          "size": [
           74
          ],
          "sizemode": "area",
          "sizeref": 0.591715976331361,
          "symbol": "circle"
         },
         "mode": "markers",
         "name": "san quintin",
         "showlegend": true,
         "type": "scattergeo"
        },
        {
         "geo": "geo",
         "hovertemplate": "<b>%{hovertext}</b><br><br>City=codrington<br>Humidity=%{marker.size}<br>Lat=%{lat}<br>Lng=%{lon}<extra></extra>",
         "hovertext": [
          "codrington"
         ],
         "lat": [
          -38.2667
         ],
         "legendgroup": "codrington",
         "lon": [
          141.9667
         ],
         "marker": {
          "color": "#FF6692",
          "opacity": 0.6,
          "size": [
           89
          ],
          "sizemode": "area",
          "sizeref": 0.591715976331361,
          "symbol": "circle"
         },
         "mode": "markers",
         "name": "codrington",
         "showlegend": true,
         "type": "scattergeo"
        },
        {
         "geo": "geo",
         "hovertemplate": "<b>%{hovertext}</b><br><br>City=chapais<br>Humidity=%{marker.size}<br>Lat=%{lat}<br>Lng=%{lon}<extra></extra>",
         "hovertext": [
          "chapais"
         ],
         "lat": [
          49.7834
         ],
         "legendgroup": "chapais",
         "lon": [
          -74.8492
         ],
         "marker": {
          "color": "#B6E880",
          "opacity": 0.6,
          "size": [
           90
          ],
          "sizemode": "area",
          "sizeref": 0.591715976331361,
          "symbol": "circle"
         },
         "mode": "markers",
         "name": "chapais",
         "showlegend": true,
         "type": "scattergeo"
        },
        {
         "geo": "geo",
         "hovertemplate": "<b>%{hovertext}</b><br><br>City=chengde<br>Humidity=%{marker.size}<br>Lat=%{lat}<br>Lng=%{lon}<extra></extra>",
         "hovertext": [
          "chengde"
         ],
         "lat": [
          40.9725
         ],
         "legendgroup": "chengde",
         "lon": [
          117.9361
         ],
         "marker": {
          "color": "#FF97FF",
          "opacity": 0.6,
          "size": [
           26
          ],
          "sizemode": "area",
          "sizeref": 0.591715976331361,
          "symbol": "circle"
         },
         "mode": "markers",
         "name": "chengde",
         "showlegend": true,
         "type": "scattergeo"
        },
        {
         "geo": "geo",
         "hovertemplate": "<b>%{hovertext}</b><br><br>City=portland<br>Humidity=%{marker.size}<br>Lat=%{lat}<br>Lng=%{lon}<extra></extra>",
         "hovertext": [
          "portland"
         ],
         "lat": [
          45.5234
         ],
         "legendgroup": "portland",
         "lon": [
          -122.6762
         ],
         "marker": {
          "color": "#FECB52",
          "opacity": 0.6,
          "size": [
           96
          ],
          "sizemode": "area",
          "sizeref": 0.591715976331361,
          "symbol": "circle"
         },
         "mode": "markers",
         "name": "portland",
         "showlegend": true,
         "type": "scattergeo"
        },
        {
         "geo": "geo",
         "hovertemplate": "<b>%{hovertext}</b><br><br>City=berdigestyakh<br>Humidity=%{marker.size}<br>Lat=%{lat}<br>Lng=%{lon}<extra></extra>",
         "hovertext": [
          "berdigestyakh"
         ],
         "lat": [
          62.0989
         ],
         "legendgroup": "berdigestyakh",
         "lon": [
          126.6992
         ],
         "marker": {
          "color": "#636efa",
          "opacity": 0.6,
          "size": [
           99
          ],
          "sizemode": "area",
          "sizeref": 0.591715976331361,
          "symbol": "circle"
         },
         "mode": "markers",
         "name": "berdigestyakh",
         "showlegend": true,
         "type": "scattergeo"
        },
        {
         "geo": "geo",
         "hovertemplate": "<b>%{hovertext}</b><br><br>City=coquimbo<br>Humidity=%{marker.size}<br>Lat=%{lat}<br>Lng=%{lon}<extra></extra>",
         "hovertext": [
          "coquimbo"
         ],
         "lat": [
          -29.9533
         ],
         "legendgroup": "coquimbo",
         "lon": [
          -71.3436
         ],
         "marker": {
          "color": "#EF553B",
          "opacity": 0.6,
          "size": [
           72
          ],
          "sizemode": "area",
          "sizeref": 0.591715976331361,
          "symbol": "circle"
         },
         "mode": "markers",
         "name": "coquimbo",
         "showlegend": true,
         "type": "scattergeo"
        },
        {
         "geo": "geo",
         "hovertemplate": "<b>%{hovertext}</b><br><br>City=samana<br>Humidity=%{marker.size}<br>Lat=%{lat}<br>Lng=%{lon}<extra></extra>",
         "hovertext": [
          "samana"
         ],
         "lat": [
          19.2056
         ],
         "legendgroup": "samana",
         "lon": [
          -69.3369
         ],
         "marker": {
          "color": "#00cc96",
          "opacity": 0.6,
          "size": [
           79
          ],
          "sizemode": "area",
          "sizeref": 0.591715976331361,
          "symbol": "circle"
         },
         "mode": "markers",
         "name": "samana",
         "showlegend": true,
         "type": "scattergeo"
        },
        {
         "geo": "geo",
         "hovertemplate": "<b>%{hovertext}</b><br><br>City=anchorage<br>Humidity=%{marker.size}<br>Lat=%{lat}<br>Lng=%{lon}<extra></extra>",
         "hovertext": [
          "anchorage"
         ],
         "lat": [
          61.2181
         ],
         "legendgroup": "anchorage",
         "lon": [
          -149.9003
         ],
         "marker": {
          "color": "#ab63fa",
          "opacity": 0.6,
          "size": [
           90
          ],
          "sizemode": "area",
          "sizeref": 0.591715976331361,
          "symbol": "circle"
         },
         "mode": "markers",
         "name": "anchorage",
         "showlegend": true,
         "type": "scattergeo"
        },
        {
         "geo": "geo",
         "hovertemplate": "<b>%{hovertext}</b><br><br>City=fairbanks<br>Humidity=%{marker.size}<br>Lat=%{lat}<br>Lng=%{lon}<extra></extra>",
         "hovertext": [
          "fairbanks"
         ],
         "lat": [
          64.8378
         ],
         "legendgroup": "fairbanks",
         "lon": [
          -147.7164
         ],
         "marker": {
          "color": "#FFA15A",
          "opacity": 0.6,
          "size": [
           91
          ],
          "sizemode": "area",
          "sizeref": 0.591715976331361,
          "symbol": "circle"
         },
         "mode": "markers",
         "name": "fairbanks",
         "showlegend": true,
         "type": "scattergeo"
        },
        {
         "geo": "geo",
         "hovertemplate": "<b>%{hovertext}</b><br><br>City=cockburn town<br>Humidity=%{marker.size}<br>Lat=%{lat}<br>Lng=%{lon}<extra></extra>",
         "hovertext": [
          "cockburn town"
         ],
         "lat": [
          21.4612
         ],
         "legendgroup": "cockburn town",
         "lon": [
          -71.1419
         ],
         "marker": {
          "color": "#19d3f3",
          "opacity": 0.6,
          "size": [
           74
          ],
          "sizemode": "area",
          "sizeref": 0.591715976331361,
          "symbol": "circle"
         },
         "mode": "markers",
         "name": "cockburn town",
         "showlegend": true,
         "type": "scattergeo"
        },
        {
         "geo": "geo",
         "hovertemplate": "<b>%{hovertext}</b><br><br>City=tura<br>Humidity=%{marker.size}<br>Lat=%{lat}<br>Lng=%{lon}<extra></extra>",
         "hovertext": [
          "tura"
         ],
         "lat": [
          25.5198
         ],
         "legendgroup": "tura",
         "lon": [
          90.2201
         ],
         "marker": {
          "color": "#FF6692",
          "opacity": 0.6,
          "size": [
           90
          ],
          "sizemode": "area",
          "sizeref": 0.591715976331361,
          "symbol": "circle"
         },
         "mode": "markers",
         "name": "tura",
         "showlegend": true,
         "type": "scattergeo"
        },
        {
         "geo": "geo",
         "hovertemplate": "<b>%{hovertext}</b><br><br>City=sakakah<br>Humidity=%{marker.size}<br>Lat=%{lat}<br>Lng=%{lon}<extra></extra>",
         "hovertext": [
          "sakakah"
         ],
         "lat": [
          29.9697
         ],
         "legendgroup": "sakakah",
         "lon": [
          40.2064
         ],
         "marker": {
          "color": "#B6E880",
          "opacity": 0.6,
          "size": [
           18
          ],
          "sizemode": "area",
          "sizeref": 0.591715976331361,
          "symbol": "circle"
         },
         "mode": "markers",
         "name": "sakakah",
         "showlegend": true,
         "type": "scattergeo"
        },
        {
         "geo": "geo",
         "hovertemplate": "<b>%{hovertext}</b><br><br>City=ola<br>Humidity=%{marker.size}<br>Lat=%{lat}<br>Lng=%{lon}<extra></extra>",
         "hovertext": [
          "ola"
         ],
         "lat": [
          59.5833
         ],
         "legendgroup": "ola",
         "lon": [
          151.2833
         ],
         "marker": {
          "color": "#FF97FF",
          "opacity": 0.6,
          "size": [
           48
          ],
          "sizemode": "area",
          "sizeref": 0.591715976331361,
          "symbol": "circle"
         },
         "mode": "markers",
         "name": "ola",
         "showlegend": true,
         "type": "scattergeo"
        },
        {
         "geo": "geo",
         "hovertemplate": "<b>%{hovertext}</b><br><br>City=hasaki<br>Humidity=%{marker.size}<br>Lat=%{lat}<br>Lng=%{lon}<extra></extra>",
         "hovertext": [
          "hasaki"
         ],
         "lat": [
          35.7333
         ],
         "legendgroup": "hasaki",
         "lon": [
          140.8333
         ],
         "marker": {
          "color": "#FECB52",
          "opacity": 0.6,
          "size": [
           75
          ],
          "sizemode": "area",
          "sizeref": 0.591715976331361,
          "symbol": "circle"
         },
         "mode": "markers",
         "name": "hasaki",
         "showlegend": true,
         "type": "scattergeo"
        },
        {
         "geo": "geo",
         "hovertemplate": "<b>%{hovertext}</b><br><br>City=jiuquan<br>Humidity=%{marker.size}<br>Lat=%{lat}<br>Lng=%{lon}<extra></extra>",
         "hovertext": [
          "jiuquan"
         ],
         "lat": [
          39.7432
         ],
         "legendgroup": "jiuquan",
         "lon": [
          98.5174
         ],
         "marker": {
          "color": "#636efa",
          "opacity": 0.6,
          "size": [
           15
          ],
          "sizemode": "area",
          "sizeref": 0.591715976331361,
          "symbol": "circle"
         },
         "mode": "markers",
         "name": "jiuquan",
         "showlegend": true,
         "type": "scattergeo"
        },
        {
         "geo": "geo",
         "hovertemplate": "<b>%{hovertext}</b><br><br>City=tuatapere<br>Humidity=%{marker.size}<br>Lat=%{lat}<br>Lng=%{lon}<extra></extra>",
         "hovertext": [
          "tuatapere"
         ],
         "lat": [
          -46.1333
         ],
         "legendgroup": "tuatapere",
         "lon": [
          167.6833
         ],
         "marker": {
          "color": "#EF553B",
          "opacity": 0.6,
          "size": [
           92
          ],
          "sizemode": "area",
          "sizeref": 0.591715976331361,
          "symbol": "circle"
         },
         "mode": "markers",
         "name": "tuatapere",
         "showlegend": true,
         "type": "scattergeo"
        },
        {
         "geo": "geo",
         "hovertemplate": "<b>%{hovertext}</b><br><br>City=kloulklubed<br>Humidity=%{marker.size}<br>Lat=%{lat}<br>Lng=%{lon}<extra></extra>",
         "hovertext": [
          "kloulklubed"
         ],
         "lat": [
          7.0419
         ],
         "legendgroup": "kloulklubed",
         "lon": [
          134.2556
         ],
         "marker": {
          "color": "#00cc96",
          "opacity": 0.6,
          "size": [
           75
          ],
          "sizemode": "area",
          "sizeref": 0.591715976331361,
          "symbol": "circle"
         },
         "mode": "markers",
         "name": "kloulklubed",
         "showlegend": true,
         "type": "scattergeo"
        },
        {
         "geo": "geo",
         "hovertemplate": "<b>%{hovertext}</b><br><br>City=ust-maya<br>Humidity=%{marker.size}<br>Lat=%{lat}<br>Lng=%{lon}<extra></extra>",
         "hovertext": [
          "ust-maya"
         ],
         "lat": [
          60.4167
         ],
         "legendgroup": "ust-maya",
         "lon": [
          134.5333
         ],
         "marker": {
          "color": "#ab63fa",
          "opacity": 0.6,
          "size": [
           98
          ],
          "sizemode": "area",
          "sizeref": 0.591715976331361,
          "symbol": "circle"
         },
         "mode": "markers",
         "name": "ust-maya",
         "showlegend": true,
         "type": "scattergeo"
        },
        {
         "geo": "geo",
         "hovertemplate": "<b>%{hovertext}</b><br><br>City=san juan<br>Humidity=%{marker.size}<br>Lat=%{lat}<br>Lng=%{lon}<extra></extra>",
         "hovertext": [
          "san juan"
         ],
         "lat": [
          -31.5375
         ],
         "legendgroup": "san juan",
         "lon": [
          -68.5364
         ],
         "marker": {
          "color": "#FFA15A",
          "opacity": 0.6,
          "size": [
           53
          ],
          "sizemode": "area",
          "sizeref": 0.591715976331361,
          "symbol": "circle"
         },
         "mode": "markers",
         "name": "san juan",
         "showlegend": true,
         "type": "scattergeo"
        },
        {
         "geo": "geo",
         "hovertemplate": "<b>%{hovertext}</b><br><br>City=whitianga<br>Humidity=%{marker.size}<br>Lat=%{lat}<br>Lng=%{lon}<extra></extra>",
         "hovertext": [
          "whitianga"
         ],
         "lat": [
          -36.8333
         ],
         "legendgroup": "whitianga",
         "lon": [
          175.7
         ],
         "marker": {
          "color": "#19d3f3",
          "opacity": 0.6,
          "size": [
           84
          ],
          "sizemode": "area",
          "sizeref": 0.591715976331361,
          "symbol": "circle"
         },
         "mode": "markers",
         "name": "whitianga",
         "showlegend": true,
         "type": "scattergeo"
        },
        {
         "geo": "geo",
         "hovertemplate": "<b>%{hovertext}</b><br><br>City=praia<br>Humidity=%{marker.size}<br>Lat=%{lat}<br>Lng=%{lon}<extra></extra>",
         "hovertext": [
          "praia"
         ],
         "lat": [
          14.9215
         ],
         "legendgroup": "praia",
         "lon": [
          -23.5087
         ],
         "marker": {
          "color": "#FF6692",
          "opacity": 0.6,
          "size": [
           74
          ],
          "sizemode": "area",
          "sizeref": 0.591715976331361,
          "symbol": "circle"
         },
         "mode": "markers",
         "name": "praia",
         "showlegend": true,
         "type": "scattergeo"
        },
        {
         "geo": "geo",
         "hovertemplate": "<b>%{hovertext}</b><br><br>City=okitipupa<br>Humidity=%{marker.size}<br>Lat=%{lat}<br>Lng=%{lon}<extra></extra>",
         "hovertext": [
          "okitipupa"
         ],
         "lat": [
          6.5047
         ],
         "legendgroup": "okitipupa",
         "lon": [
          4.7839
         ],
         "marker": {
          "color": "#B6E880",
          "opacity": 0.6,
          "size": [
           89
          ],
          "sizemode": "area",
          "sizeref": 0.591715976331361,
          "symbol": "circle"
         },
         "mode": "markers",
         "name": "okitipupa",
         "showlegend": true,
         "type": "scattergeo"
        },
        {
         "geo": "geo",
         "hovertemplate": "<b>%{hovertext}</b><br><br>City=monmouth<br>Humidity=%{marker.size}<br>Lat=%{lat}<br>Lng=%{lon}<extra></extra>",
         "hovertext": [
          "monmouth"
         ],
         "lat": [
          40.3001
         ],
         "legendgroup": "monmouth",
         "lon": [
          -74.1663
         ],
         "marker": {
          "color": "#FF97FF",
          "opacity": 0.6,
          "size": [
           53
          ],
          "sizemode": "area",
          "sizeref": 0.591715976331361,
          "symbol": "circle"
         },
         "mode": "markers",
         "name": "monmouth",
         "showlegend": true,
         "type": "scattergeo"
        },
        {
         "geo": "geo",
         "hovertemplate": "<b>%{hovertext}</b><br><br>City=san andres<br>Humidity=%{marker.size}<br>Lat=%{lat}<br>Lng=%{lon}<extra></extra>",
         "hovertext": [
          "san andres"
         ],
         "lat": [
          12.5847
         ],
         "legendgroup": "san andres",
         "lon": [
          -81.7006
         ],
         "marker": {
          "color": "#FECB52",
          "opacity": 0.6,
          "size": [
           70
          ],
          "sizemode": "area",
          "sizeref": 0.591715976331361,
          "symbol": "circle"
         },
         "mode": "markers",
         "name": "san andres",
         "showlegend": true,
         "type": "scattergeo"
        },
        {
         "geo": "geo",
         "hovertemplate": "<b>%{hovertext}</b><br><br>City=lyngseidet<br>Humidity=%{marker.size}<br>Lat=%{lat}<br>Lng=%{lon}<extra></extra>",
         "hovertext": [
          "lyngseidet"
         ],
         "lat": [
          69.5763
         ],
         "legendgroup": "lyngseidet",
         "lon": [
          20.2189
         ],
         "marker": {
          "color": "#636efa",
          "opacity": 0.6,
          "size": [
           94
          ],
          "sizemode": "area",
          "sizeref": 0.591715976331361,
          "symbol": "circle"
         },
         "mode": "markers",
         "name": "lyngseidet",
         "showlegend": true,
         "type": "scattergeo"
        },
        {
         "geo": "geo",
         "hovertemplate": "<b>%{hovertext}</b><br><br>City=dunmore town<br>Humidity=%{marker.size}<br>Lat=%{lat}<br>Lng=%{lon}<extra></extra>",
         "hovertext": [
          "dunmore town"
         ],
         "lat": [
          25.5
         ],
         "legendgroup": "dunmore town",
         "lon": [
          -76.65
         ],
         "marker": {
          "color": "#EF553B",
          "opacity": 0.6,
          "size": [
           70
          ],
          "sizemode": "area",
          "sizeref": 0.591715976331361,
          "symbol": "circle"
         },
         "mode": "markers",
         "name": "dunmore town",
         "showlegend": true,
         "type": "scattergeo"
        },
        {
         "geo": "geo",
         "hovertemplate": "<b>%{hovertext}</b><br><br>City=galegos<br>Humidity=%{marker.size}<br>Lat=%{lat}<br>Lng=%{lon}<extra></extra>",
         "hovertext": [
          "galegos"
         ],
         "lat": [
          41.5627
         ],
         "legendgroup": "galegos",
         "lon": [
          -8.572
         ],
         "marker": {
          "color": "#00cc96",
          "opacity": 0.6,
          "size": [
           82
          ],
          "sizemode": "area",
          "sizeref": 0.591715976331361,
          "symbol": "circle"
         },
         "mode": "markers",
         "name": "galegos",
         "showlegend": true,
         "type": "scattergeo"
        },
        {
         "geo": "geo",
         "hovertemplate": "<b>%{hovertext}</b><br><br>City=kamen-rybolov<br>Humidity=%{marker.size}<br>Lat=%{lat}<br>Lng=%{lon}<extra></extra>",
         "hovertext": [
          "kamen-rybolov"
         ],
         "lat": [
          44.7481
         ],
         "legendgroup": "kamen-rybolov",
         "lon": [
          132.0403
         ],
         "marker": {
          "color": "#ab63fa",
          "opacity": 0.6,
          "size": [
           55
          ],
          "sizemode": "area",
          "sizeref": 0.591715976331361,
          "symbol": "circle"
         },
         "mode": "markers",
         "name": "kamen-rybolov",
         "showlegend": true,
         "type": "scattergeo"
        },
        {
         "geo": "geo",
         "hovertemplate": "<b>%{hovertext}</b><br><br>City=dabat<br>Humidity=%{marker.size}<br>Lat=%{lat}<br>Lng=%{lon}<extra></extra>",
         "hovertext": [
          "dabat"
         ],
         "lat": [
          12.9842
         ],
         "legendgroup": "dabat",
         "lon": [
          37.765
         ],
         "marker": {
          "color": "#FFA15A",
          "opacity": 0.6,
          "size": [
           80
          ],
          "sizemode": "area",
          "sizeref": 0.591715976331361,
          "symbol": "circle"
         },
         "mode": "markers",
         "name": "dabat",
         "showlegend": true,
         "type": "scattergeo"
        },
        {
         "geo": "geo",
         "hovertemplate": "<b>%{hovertext}</b><br><br>City=camopi<br>Humidity=%{marker.size}<br>Lat=%{lat}<br>Lng=%{lon}<extra></extra>",
         "hovertext": [
          "camopi"
         ],
         "lat": [
          3.1655
         ],
         "legendgroup": "camopi",
         "lon": [
          -52.3158
         ],
         "marker": {
          "color": "#19d3f3",
          "opacity": 0.6,
          "size": [
           48
          ],
          "sizemode": "area",
          "sizeref": 0.591715976331361,
          "symbol": "circle"
         },
         "mode": "markers",
         "name": "camopi",
         "showlegend": true,
         "type": "scattergeo"
        },
        {
         "geo": "geo",
         "hovertemplate": "<b>%{hovertext}</b><br><br>City=jalu<br>Humidity=%{marker.size}<br>Lat=%{lat}<br>Lng=%{lon}<extra></extra>",
         "hovertext": [
          "jalu"
         ],
         "lat": [
          29.0331
         ],
         "legendgroup": "jalu",
         "lon": [
          21.5482
         ],
         "marker": {
          "color": "#FF6692",
          "opacity": 0.6,
          "size": [
           37
          ],
          "sizemode": "area",
          "sizeref": 0.591715976331361,
          "symbol": "circle"
         },
         "mode": "markers",
         "name": "jalu",
         "showlegend": true,
         "type": "scattergeo"
        },
        {
         "geo": "geo",
         "hovertemplate": "<b>%{hovertext}</b><br><br>City=eyl<br>Humidity=%{marker.size}<br>Lat=%{lat}<br>Lng=%{lon}<extra></extra>",
         "hovertext": [
          "eyl"
         ],
         "lat": [
          7.9803
         ],
         "legendgroup": "eyl",
         "lon": [
          49.8164
         ],
         "marker": {
          "color": "#B6E880",
          "opacity": 0.6,
          "size": [
           76
          ],
          "sizemode": "area",
          "sizeref": 0.591715976331361,
          "symbol": "circle"
         },
         "mode": "markers",
         "name": "eyl",
         "showlegend": true,
         "type": "scattergeo"
        },
        {
         "geo": "geo",
         "hovertemplate": "<b>%{hovertext}</b><br><br>City=valdivia<br>Humidity=%{marker.size}<br>Lat=%{lat}<br>Lng=%{lon}<extra></extra>",
         "hovertext": [
          "valdivia"
         ],
         "lat": [
          -39.8142
         ],
         "legendgroup": "valdivia",
         "lon": [
          -73.2459
         ],
         "marker": {
          "color": "#FF97FF",
          "opacity": 0.6,
          "size": [
           63
          ],
          "sizemode": "area",
          "sizeref": 0.591715976331361,
          "symbol": "circle"
         },
         "mode": "markers",
         "name": "valdivia",
         "showlegend": true,
         "type": "scattergeo"
        },
        {
         "geo": "geo",
         "hovertemplate": "<b>%{hovertext}</b><br><br>City=teguldet<br>Humidity=%{marker.size}<br>Lat=%{lat}<br>Lng=%{lon}<extra></extra>",
         "hovertext": [
          "teguldet"
         ],
         "lat": [
          57.3064
         ],
         "legendgroup": "teguldet",
         "lon": [
          88.1667
         ],
         "marker": {
          "color": "#FECB52",
          "opacity": 0.6,
          "size": [
           96
          ],
          "sizemode": "area",
          "sizeref": 0.591715976331361,
          "symbol": "circle"
         },
         "mode": "markers",
         "name": "teguldet",
         "showlegend": true,
         "type": "scattergeo"
        },
        {
         "geo": "geo",
         "hovertemplate": "<b>%{hovertext}</b><br><br>City=aquiraz<br>Humidity=%{marker.size}<br>Lat=%{lat}<br>Lng=%{lon}<extra></extra>",
         "hovertext": [
          "aquiraz"
         ],
         "lat": [
          -3.9014
         ],
         "legendgroup": "aquiraz",
         "lon": [
          -38.3911
         ],
         "marker": {
          "color": "#636efa",
          "opacity": 0.6,
          "size": [
           56
          ],
          "sizemode": "area",
          "sizeref": 0.591715976331361,
          "symbol": "circle"
         },
         "mode": "markers",
         "name": "aquiraz",
         "showlegend": true,
         "type": "scattergeo"
        },
        {
         "geo": "geo",
         "hovertemplate": "<b>%{hovertext}</b><br><br>City=ulaangom<br>Humidity=%{marker.size}<br>Lat=%{lat}<br>Lng=%{lon}<extra></extra>",
         "hovertext": [
          "ulaangom"
         ],
         "lat": [
          49.9811
         ],
         "legendgroup": "ulaangom",
         "lon": [
          92.0667
         ],
         "marker": {
          "color": "#EF553B",
          "opacity": 0.6,
          "size": [
           55
          ],
          "sizemode": "area",
          "sizeref": 0.591715976331361,
          "symbol": "circle"
         },
         "mode": "markers",
         "name": "ulaangom",
         "showlegend": true,
         "type": "scattergeo"
        },
        {
         "geo": "geo",
         "hovertemplate": "<b>%{hovertext}</b><br><br>City=souillac<br>Humidity=%{marker.size}<br>Lat=%{lat}<br>Lng=%{lon}<extra></extra>",
         "hovertext": [
          "souillac"
         ],
         "lat": [
          -20.5167
         ],
         "legendgroup": "souillac",
         "lon": [
          57.5167
         ],
         "marker": {
          "color": "#00cc96",
          "opacity": 0.6,
          "size": [
           68
          ],
          "sizemode": "area",
          "sizeref": 0.591715976331361,
          "symbol": "circle"
         },
         "mode": "markers",
         "name": "souillac",
         "showlegend": true,
         "type": "scattergeo"
        },
        {
         "geo": "geo",
         "hovertemplate": "<b>%{hovertext}</b><br><br>City=alice springs<br>Humidity=%{marker.size}<br>Lat=%{lat}<br>Lng=%{lon}<extra></extra>",
         "hovertext": [
          "alice springs"
         ],
         "lat": [
          -23.7
         ],
         "legendgroup": "alice springs",
         "lon": [
          133.8833
         ],
         "marker": {
          "color": "#ab63fa",
          "opacity": 0.6,
          "size": [
           63
          ],
          "sizemode": "area",
          "sizeref": 0.591715976331361,
          "symbol": "circle"
         },
         "mode": "markers",
         "name": "alice springs",
         "showlegend": true,
         "type": "scattergeo"
        },
        {
         "geo": "geo",
         "hovertemplate": "<b>%{hovertext}</b><br><br>City=koriyama<br>Humidity=%{marker.size}<br>Lat=%{lat}<br>Lng=%{lon}<extra></extra>",
         "hovertext": [
          "koriyama"
         ],
         "lat": [
          37.4
         ],
         "legendgroup": "koriyama",
         "lon": [
          140.3833
         ],
         "marker": {
          "color": "#FFA15A",
          "opacity": 0.6,
          "size": [
           78
          ],
          "sizemode": "area",
          "sizeref": 0.591715976331361,
          "symbol": "circle"
         },
         "mode": "markers",
         "name": "koriyama",
         "showlegend": true,
         "type": "scattergeo"
        },
        {
         "geo": "geo",
         "hovertemplate": "<b>%{hovertext}</b><br><br>City=kingman<br>Humidity=%{marker.size}<br>Lat=%{lat}<br>Lng=%{lon}<extra></extra>",
         "hovertext": [
          "kingman"
         ],
         "lat": [
          35.1894
         ],
         "legendgroup": "kingman",
         "lon": [
          -114.053
         ],
         "marker": {
          "color": "#19d3f3",
          "opacity": 0.6,
          "size": [
           49
          ],
          "sizemode": "area",
          "sizeref": 0.591715976331361,
          "symbol": "circle"
         },
         "mode": "markers",
         "name": "kingman",
         "showlegend": true,
         "type": "scattergeo"
        },
        {
         "geo": "geo",
         "hovertemplate": "<b>%{hovertext}</b><br><br>City=college<br>Humidity=%{marker.size}<br>Lat=%{lat}<br>Lng=%{lon}<extra></extra>",
         "hovertext": [
          "college"
         ],
         "lat": [
          64.8569
         ],
         "legendgroup": "college",
         "lon": [
          -147.8028
         ],
         "marker": {
          "color": "#FF6692",
          "opacity": 0.6,
          "size": [
           93
          ],
          "sizemode": "area",
          "sizeref": 0.591715976331361,
          "symbol": "circle"
         },
         "mode": "markers",
         "name": "college",
         "showlegend": true,
         "type": "scattergeo"
        },
        {
         "geo": "geo",
         "hovertemplate": "<b>%{hovertext}</b><br><br>City=la romana<br>Humidity=%{marker.size}<br>Lat=%{lat}<br>Lng=%{lon}<extra></extra>",
         "hovertext": [
          "la romana"
         ],
         "lat": [
          18.4273
         ],
         "legendgroup": "la romana",
         "lon": [
          -68.9728
         ],
         "marker": {
          "color": "#B6E880",
          "opacity": 0.6,
          "size": [
           79
          ],
          "sizemode": "area",
          "sizeref": 0.591715976331361,
          "symbol": "circle"
         },
         "mode": "markers",
         "name": "la romana",
         "showlegend": true,
         "type": "scattergeo"
        },
        {
         "geo": "geo",
         "hovertemplate": "<b>%{hovertext}</b><br><br>City=daru<br>Humidity=%{marker.size}<br>Lat=%{lat}<br>Lng=%{lon}<extra></extra>",
         "hovertext": [
          "daru"
         ],
         "lat": [
          -9.0763
         ],
         "legendgroup": "daru",
         "lon": [
          143.2092
         ],
         "marker": {
          "color": "#FF97FF",
          "opacity": 0.6,
          "size": [
           86
          ],
          "sizemode": "area",
          "sizeref": 0.591715976331361,
          "symbol": "circle"
         },
         "mode": "markers",
         "name": "daru",
         "showlegend": true,
         "type": "scattergeo"
        },
        {
         "geo": "geo",
         "hovertemplate": "<b>%{hovertext}</b><br><br>City=boden<br>Humidity=%{marker.size}<br>Lat=%{lat}<br>Lng=%{lon}<extra></extra>",
         "hovertext": [
          "boden"
         ],
         "lat": [
          65.8252
         ],
         "legendgroup": "boden",
         "lon": [
          21.6886
         ],
         "marker": {
          "color": "#FECB52",
          "opacity": 0.6,
          "size": [
           82
          ],
          "sizemode": "area",
          "sizeref": 0.591715976331361,
          "symbol": "circle"
         },
         "mode": "markers",
         "name": "boden",
         "showlegend": true,
         "type": "scattergeo"
        },
        {
         "geo": "geo",
         "hovertemplate": "<b>%{hovertext}</b><br><br>City=carroll<br>Humidity=%{marker.size}<br>Lat=%{lat}<br>Lng=%{lon}<extra></extra>",
         "hovertext": [
          "carroll"
         ],
         "lat": [
          39.5501
         ],
         "legendgroup": "carroll",
         "lon": [
          -77.0164
         ],
         "marker": {
          "color": "#636efa",
          "opacity": 0.6,
          "size": [
           55
          ],
          "sizemode": "area",
          "sizeref": 0.591715976331361,
          "symbol": "circle"
         },
         "mode": "markers",
         "name": "carroll",
         "showlegend": true,
         "type": "scattergeo"
        },
        {
         "geo": "geo",
         "hovertemplate": "<b>%{hovertext}</b><br><br>City=ust-kuyga<br>Humidity=%{marker.size}<br>Lat=%{lat}<br>Lng=%{lon}<extra></extra>",
         "hovertext": [
          "ust-kuyga"
         ],
         "lat": [
          70.0167
         ],
         "legendgroup": "ust-kuyga",
         "lon": [
          135.6
         ],
         "marker": {
          "color": "#EF553B",
          "opacity": 0.6,
          "size": [
           100
          ],
          "sizemode": "area",
          "sizeref": 0.591715976331361,
          "symbol": "circle"
         },
         "mode": "markers",
         "name": "ust-kuyga",
         "showlegend": true,
         "type": "scattergeo"
        },
        {
         "geo": "geo",
         "hovertemplate": "<b>%{hovertext}</b><br><br>City=bucerias<br>Humidity=%{marker.size}<br>Lat=%{lat}<br>Lng=%{lon}<extra></extra>",
         "hovertext": [
          "bucerias"
         ],
         "lat": [
          20.75
         ],
         "legendgroup": "bucerias",
         "lon": [
          -105.3333
         ],
         "marker": {
          "color": "#00cc96",
          "opacity": 0.6,
          "size": [
           70
          ],
          "sizemode": "area",
          "sizeref": 0.591715976331361,
          "symbol": "circle"
         },
         "mode": "markers",
         "name": "bucerias",
         "showlegend": true,
         "type": "scattergeo"
        },
        {
         "geo": "geo",
         "hovertemplate": "<b>%{hovertext}</b><br><br>City=tandil<br>Humidity=%{marker.size}<br>Lat=%{lat}<br>Lng=%{lon}<extra></extra>",
         "hovertext": [
          "tandil"
         ],
         "lat": [
          -37.3217
         ],
         "legendgroup": "tandil",
         "lon": [
          -59.1332
         ],
         "marker": {
          "color": "#ab63fa",
          "opacity": 0.6,
          "size": [
           40
          ],
          "sizemode": "area",
          "sizeref": 0.591715976331361,
          "symbol": "circle"
         },
         "mode": "markers",
         "name": "tandil",
         "showlegend": true,
         "type": "scattergeo"
        },
        {
         "geo": "geo",
         "hovertemplate": "<b>%{hovertext}</b><br><br>City=horsham<br>Humidity=%{marker.size}<br>Lat=%{lat}<br>Lng=%{lon}<extra></extra>",
         "hovertext": [
          "horsham"
         ],
         "lat": [
          51.064
         ],
         "legendgroup": "horsham",
         "lon": [
          -0.3272
         ],
         "marker": {
          "color": "#FFA15A",
          "opacity": 0.6,
          "size": [
           72
          ],
          "sizemode": "area",
          "sizeref": 0.591715976331361,
          "symbol": "circle"
         },
         "mode": "markers",
         "name": "horsham",
         "showlegend": true,
         "type": "scattergeo"
        },
        {
         "geo": "geo",
         "hovertemplate": "<b>%{hovertext}</b><br><br>City=vao<br>Humidity=%{marker.size}<br>Lat=%{lat}<br>Lng=%{lon}<extra></extra>",
         "hovertext": [
          "vao"
         ],
         "lat": [
          -22.6667
         ],
         "legendgroup": "vao",
         "lon": [
          167.4833
         ],
         "marker": {
          "color": "#19d3f3",
          "opacity": 0.6,
          "size": [
           74
          ],
          "sizemode": "area",
          "sizeref": 0.591715976331361,
          "symbol": "circle"
         },
         "mode": "markers",
         "name": "vao",
         "showlegend": true,
         "type": "scattergeo"
        },
        {
         "geo": "geo",
         "hovertemplate": "<b>%{hovertext}</b><br><br>City=bathsheba<br>Humidity=%{marker.size}<br>Lat=%{lat}<br>Lng=%{lon}<extra></extra>",
         "hovertext": [
          "bathsheba"
         ],
         "lat": [
          13.2167
         ],
         "legendgroup": "bathsheba",
         "lon": [
          -59.5167
         ],
         "marker": {
          "color": "#FF6692",
          "opacity": 0.6,
          "size": [
           70
          ],
          "sizemode": "area",
          "sizeref": 0.591715976331361,
          "symbol": "circle"
         },
         "mode": "markers",
         "name": "bathsheba",
         "showlegend": true,
         "type": "scattergeo"
        },
        {
         "geo": "geo",
         "hovertemplate": "<b>%{hovertext}</b><br><br>City=salalah<br>Humidity=%{marker.size}<br>Lat=%{lat}<br>Lng=%{lon}<extra></extra>",
         "hovertext": [
          "salalah"
         ],
         "lat": [
          17.0151
         ],
         "legendgroup": "salalah",
         "lon": [
          54.0924
         ],
         "marker": {
          "color": "#B6E880",
          "opacity": 0.6,
          "size": [
           59
          ],
          "sizemode": "area",
          "sizeref": 0.591715976331361,
          "symbol": "circle"
         },
         "mode": "markers",
         "name": "salalah",
         "showlegend": true,
         "type": "scattergeo"
        },
        {
         "geo": "geo",
         "hovertemplate": "<b>%{hovertext}</b><br><br>City=harwich<br>Humidity=%{marker.size}<br>Lat=%{lat}<br>Lng=%{lon}<extra></extra>",
         "hovertext": [
          "harwich"
         ],
         "lat": [
          51.9419
         ],
         "legendgroup": "harwich",
         "lon": [
          1.2844
         ],
         "marker": {
          "color": "#FF97FF",
          "opacity": 0.6,
          "size": [
           69
          ],
          "sizemode": "area",
          "sizeref": 0.591715976331361,
          "symbol": "circle"
         },
         "mode": "markers",
         "name": "harwich",
         "showlegend": true,
         "type": "scattergeo"
        },
        {
         "geo": "geo",
         "hovertemplate": "<b>%{hovertext}</b><br><br>City=sambava<br>Humidity=%{marker.size}<br>Lat=%{lat}<br>Lng=%{lon}<extra></extra>",
         "hovertext": [
          "sambava"
         ],
         "lat": [
          -14.2667
         ],
         "legendgroup": "sambava",
         "lon": [
          50.1667
         ],
         "marker": {
          "color": "#FECB52",
          "opacity": 0.6,
          "size": [
           79
          ],
          "sizemode": "area",
          "sizeref": 0.591715976331361,
          "symbol": "circle"
         },
         "mode": "markers",
         "name": "sambava",
         "showlegend": true,
         "type": "scattergeo"
        },
        {
         "geo": "geo",
         "hovertemplate": "<b>%{hovertext}</b><br><br>City=yarada<br>Humidity=%{marker.size}<br>Lat=%{lat}<br>Lng=%{lon}<extra></extra>",
         "hovertext": [
          "yarada"
         ],
         "lat": [
          17.65
         ],
         "legendgroup": "yarada",
         "lon": [
          83.2667
         ],
         "marker": {
          "color": "#636efa",
          "opacity": 0.6,
          "size": [
           89
          ],
          "sizemode": "area",
          "sizeref": 0.591715976331361,
          "symbol": "circle"
         },
         "mode": "markers",
         "name": "yarada",
         "showlegend": true,
         "type": "scattergeo"
        },
        {
         "geo": "geo",
         "hovertemplate": "<b>%{hovertext}</b><br><br>City=namibe<br>Humidity=%{marker.size}<br>Lat=%{lat}<br>Lng=%{lon}<extra></extra>",
         "hovertext": [
          "namibe"
         ],
         "lat": [
          -15.1961
         ],
         "legendgroup": "namibe",
         "lon": [
          12.1522
         ],
         "marker": {
          "color": "#EF553B",
          "opacity": 0.6,
          "size": [
           72
          ],
          "sizemode": "area",
          "sizeref": 0.591715976331361,
          "symbol": "circle"
         },
         "mode": "markers",
         "name": "namibe",
         "showlegend": true,
         "type": "scattergeo"
        },
        {
         "geo": "geo",
         "hovertemplate": "<b>%{hovertext}</b><br><br>City=kokkola<br>Humidity=%{marker.size}<br>Lat=%{lat}<br>Lng=%{lon}<extra></extra>",
         "hovertext": [
          "kokkola"
         ],
         "lat": [
          63.8385
         ],
         "legendgroup": "kokkola",
         "lon": [
          23.1307
         ],
         "marker": {
          "color": "#00cc96",
          "opacity": 0.6,
          "size": [
           76
          ],
          "sizemode": "area",
          "sizeref": 0.591715976331361,
          "symbol": "circle"
         },
         "mode": "markers",
         "name": "kokkola",
         "showlegend": true,
         "type": "scattergeo"
        },
        {
         "geo": "geo",
         "hovertemplate": "<b>%{hovertext}</b><br><br>City=leningradskiy<br>Humidity=%{marker.size}<br>Lat=%{lat}<br>Lng=%{lon}<extra></extra>",
         "hovertext": [
          "leningradskiy"
         ],
         "lat": [
          69.3833
         ],
         "legendgroup": "leningradskiy",
         "lon": [
          178.4167
         ],
         "marker": {
          "color": "#ab63fa",
          "opacity": 0.6,
          "size": [
           86
          ],
          "sizemode": "area",
          "sizeref": 0.591715976331361,
          "symbol": "circle"
         },
         "mode": "markers",
         "name": "leningradskiy",
         "showlegend": true,
         "type": "scattergeo"
        },
        {
         "geo": "geo",
         "hovertemplate": "<b>%{hovertext}</b><br><br>City=vostok<br>Humidity=%{marker.size}<br>Lat=%{lat}<br>Lng=%{lon}<extra></extra>",
         "hovertext": [
          "vostok"
         ],
         "lat": [
          46.4856
         ],
         "legendgroup": "vostok",
         "lon": [
          135.8833
         ],
         "marker": {
          "color": "#FFA15A",
          "opacity": 0.6,
          "size": [
           68
          ],
          "sizemode": "area",
          "sizeref": 0.591715976331361,
          "symbol": "circle"
         },
         "mode": "markers",
         "name": "vostok",
         "showlegend": true,
         "type": "scattergeo"
        },
        {
         "geo": "geo",
         "hovertemplate": "<b>%{hovertext}</b><br><br>City=rio grande<br>Humidity=%{marker.size}<br>Lat=%{lat}<br>Lng=%{lon}<extra></extra>",
         "hovertext": [
          "rio grande"
         ],
         "lat": [
          -32.035
         ],
         "legendgroup": "rio grande",
         "lon": [
          -52.0986
         ],
         "marker": {
          "color": "#19d3f3",
          "opacity": 0.6,
          "size": [
           81
          ],
          "sizemode": "area",
          "sizeref": 0.591715976331361,
          "symbol": "circle"
         },
         "mode": "markers",
         "name": "rio grande",
         "showlegend": true,
         "type": "scattergeo"
        },
        {
         "geo": "geo",
         "hovertemplate": "<b>%{hovertext}</b><br><br>City=chegdomyn<br>Humidity=%{marker.size}<br>Lat=%{lat}<br>Lng=%{lon}<extra></extra>",
         "hovertext": [
          "chegdomyn"
         ],
         "lat": [
          51.1167
         ],
         "legendgroup": "chegdomyn",
         "lon": [
          133.0167
         ],
         "marker": {
          "color": "#FF6692",
          "opacity": 0.6,
          "size": [
           78
          ],
          "sizemode": "area",
          "sizeref": 0.591715976331361,
          "symbol": "circle"
         },
         "mode": "markers",
         "name": "chegdomyn",
         "showlegend": true,
         "type": "scattergeo"
        },
        {
         "geo": "geo",
         "hovertemplate": "<b>%{hovertext}</b><br><br>City=ilulissat<br>Humidity=%{marker.size}<br>Lat=%{lat}<br>Lng=%{lon}<extra></extra>",
         "hovertext": [
          "ilulissat"
         ],
         "lat": [
          69.2167
         ],
         "legendgroup": "ilulissat",
         "lon": [
          -51.1
         ],
         "marker": {
          "color": "#B6E880",
          "opacity": 0.6,
          "size": [
           98
          ],
          "sizemode": "area",
          "sizeref": 0.591715976331361,
          "symbol": "circle"
         },
         "mode": "markers",
         "name": "ilulissat",
         "showlegend": true,
         "type": "scattergeo"
        },
        {
         "geo": "geo",
         "hovertemplate": "<b>%{hovertext}</b><br><br>City=viseu<br>Humidity=%{marker.size}<br>Lat=%{lat}<br>Lng=%{lon}<extra></extra>",
         "hovertext": [
          "viseu"
         ],
         "lat": [
          40.661
         ],
         "legendgroup": "viseu",
         "lon": [
          -7.9097
         ],
         "marker": {
          "color": "#FF97FF",
          "opacity": 0.6,
          "size": [
           39
          ],
          "sizemode": "area",
          "sizeref": 0.591715976331361,
          "symbol": "circle"
         },
         "mode": "markers",
         "name": "viseu",
         "showlegend": true,
         "type": "scattergeo"
        },
        {
         "geo": "geo",
         "hovertemplate": "<b>%{hovertext}</b><br><br>City=cidreira<br>Humidity=%{marker.size}<br>Lat=%{lat}<br>Lng=%{lon}<extra></extra>",
         "hovertext": [
          "cidreira"
         ],
         "lat": [
          -30.1811
         ],
         "legendgroup": "cidreira",
         "lon": [
          -50.2056
         ],
         "marker": {
          "color": "#FECB52",
          "opacity": 0.6,
          "size": [
           91
          ],
          "sizemode": "area",
          "sizeref": 0.591715976331361,
          "symbol": "circle"
         },
         "mode": "markers",
         "name": "cidreira",
         "showlegend": true,
         "type": "scattergeo"
        },
        {
         "geo": "geo",
         "hovertemplate": "<b>%{hovertext}</b><br><br>City=bafoulabe<br>Humidity=%{marker.size}<br>Lat=%{lat}<br>Lng=%{lon}<extra></extra>",
         "hovertext": [
          "bafoulabe"
         ],
         "lat": [
          13.8065
         ],
         "legendgroup": "bafoulabe",
         "lon": [
          -10.8321
         ],
         "marker": {
          "color": "#636efa",
          "opacity": 0.6,
          "size": [
           72
          ],
          "sizemode": "area",
          "sizeref": 0.591715976331361,
          "symbol": "circle"
         },
         "mode": "markers",
         "name": "bafoulabe",
         "showlegend": true,
         "type": "scattergeo"
        },
        {
         "geo": "geo",
         "hovertemplate": "<b>%{hovertext}</b><br><br>City=swan river<br>Humidity=%{marker.size}<br>Lat=%{lat}<br>Lng=%{lon}<extra></extra>",
         "hovertext": [
          "swan river"
         ],
         "lat": [
          52.1058
         ],
         "legendgroup": "swan river",
         "lon": [
          -101.2676
         ],
         "marker": {
          "color": "#EF553B",
          "opacity": 0.6,
          "size": [
           40
          ],
          "sizemode": "area",
          "sizeref": 0.591715976331361,
          "symbol": "circle"
         },
         "mode": "markers",
         "name": "swan river",
         "showlegend": true,
         "type": "scattergeo"
        },
        {
         "geo": "geo",
         "hovertemplate": "<b>%{hovertext}</b><br><br>City=rocha<br>Humidity=%{marker.size}<br>Lat=%{lat}<br>Lng=%{lon}<extra></extra>",
         "hovertext": [
          "rocha"
         ],
         "lat": [
          -34.4833
         ],
         "legendgroup": "rocha",
         "lon": [
          -54.3333
         ],
         "marker": {
          "color": "#00cc96",
          "opacity": 0.6,
          "size": [
           66
          ],
          "sizemode": "area",
          "sizeref": 0.591715976331361,
          "symbol": "circle"
         },
         "mode": "markers",
         "name": "rocha",
         "showlegend": true,
         "type": "scattergeo"
        },
        {
         "geo": "geo",
         "hovertemplate": "<b>%{hovertext}</b><br><br>City=juruti<br>Humidity=%{marker.size}<br>Lat=%{lat}<br>Lng=%{lon}<extra></extra>",
         "hovertext": [
          "juruti"
         ],
         "lat": [
          -2.1522
         ],
         "legendgroup": "juruti",
         "lon": [
          -56.0922
         ],
         "marker": {
          "color": "#ab63fa",
          "opacity": 0.6,
          "size": [
           62
          ],
          "sizemode": "area",
          "sizeref": 0.591715976331361,
          "symbol": "circle"
         },
         "mode": "markers",
         "name": "juruti",
         "showlegend": true,
         "type": "scattergeo"
        },
        {
         "geo": "geo",
         "hovertemplate": "<b>%{hovertext}</b><br><br>City=kailua<br>Humidity=%{marker.size}<br>Lat=%{lat}<br>Lng=%{lon}<extra></extra>",
         "hovertext": [
          "kailua"
         ],
         "lat": [
          21.4022
         ],
         "legendgroup": "kailua",
         "lon": [
          -157.7394
         ],
         "marker": {
          "color": "#FFA15A",
          "opacity": 0.6,
          "size": [
           89
          ],
          "sizemode": "area",
          "sizeref": 0.591715976331361,
          "symbol": "circle"
         },
         "mode": "markers",
         "name": "kailua",
         "showlegend": true,
         "type": "scattergeo"
        },
        {
         "geo": "geo",
         "hovertemplate": "<b>%{hovertext}</b><br><br>City=verkh-suetka<br>Humidity=%{marker.size}<br>Lat=%{lat}<br>Lng=%{lon}<extra></extra>",
         "hovertext": [
          "verkh-suetka"
         ],
         "lat": [
          53.3
         ],
         "legendgroup": "verkh-suetka",
         "lon": [
          80.05
         ],
         "marker": {
          "color": "#19d3f3",
          "opacity": 0.6,
          "size": [
           76
          ],
          "sizemode": "area",
          "sizeref": 0.591715976331361,
          "symbol": "circle"
         },
         "mode": "markers",
         "name": "verkh-suetka",
         "showlegend": true,
         "type": "scattergeo"
        },
        {
         "geo": "geo",
         "hovertemplate": "<b>%{hovertext}</b><br><br>City=dunedin<br>Humidity=%{marker.size}<br>Lat=%{lat}<br>Lng=%{lon}<extra></extra>",
         "hovertext": [
          "dunedin"
         ],
         "lat": [
          -45.8742
         ],
         "legendgroup": "dunedin",
         "lon": [
          170.5036
         ],
         "marker": {
          "color": "#FF6692",
          "opacity": 0.6,
          "size": [
           73
          ],
          "sizemode": "area",
          "sizeref": 0.591715976331361,
          "symbol": "circle"
         },
         "mode": "markers",
         "name": "dunedin",
         "showlegend": true,
         "type": "scattergeo"
        },
        {
         "geo": "geo",
         "hovertemplate": "<b>%{hovertext}</b><br><br>City=mount isa<br>Humidity=%{marker.size}<br>Lat=%{lat}<br>Lng=%{lon}<extra></extra>",
         "hovertext": [
          "mount isa"
         ],
         "lat": [
          -20.7333
         ],
         "legendgroup": "mount isa",
         "lon": [
          139.5
         ],
         "marker": {
          "color": "#B6E880",
          "opacity": 0.6,
          "size": [
           100
          ],
          "sizemode": "area",
          "sizeref": 0.591715976331361,
          "symbol": "circle"
         },
         "mode": "markers",
         "name": "mount isa",
         "showlegend": true,
         "type": "scattergeo"
        },
        {
         "geo": "geo",
         "hovertemplate": "<b>%{hovertext}</b><br><br>City=mahina<br>Humidity=%{marker.size}<br>Lat=%{lat}<br>Lng=%{lon}<extra></extra>",
         "hovertext": [
          "mahina"
         ],
         "lat": [
          -17.5065
         ],
         "legendgroup": "mahina",
         "lon": [
          -149.489
         ],
         "marker": {
          "color": "#FF97FF",
          "opacity": 0.6,
          "size": [
           83
          ],
          "sizemode": "area",
          "sizeref": 0.591715976331361,
          "symbol": "circle"
         },
         "mode": "markers",
         "name": "mahina",
         "showlegend": true,
         "type": "scattergeo"
        },
        {
         "geo": "geo",
         "hovertemplate": "<b>%{hovertext}</b><br><br>City=kamloops<br>Humidity=%{marker.size}<br>Lat=%{lat}<br>Lng=%{lon}<extra></extra>",
         "hovertext": [
          "kamloops"
         ],
         "lat": [
          50.6665
         ],
         "legendgroup": "kamloops",
         "lon": [
          -120.3192
         ],
         "marker": {
          "color": "#FECB52",
          "opacity": 0.6,
          "size": [
           93
          ],
          "sizemode": "area",
          "sizeref": 0.591715976331361,
          "symbol": "circle"
         },
         "mode": "markers",
         "name": "kamloops",
         "showlegend": true,
         "type": "scattergeo"
        },
        {
         "geo": "geo",
         "hovertemplate": "<b>%{hovertext}</b><br><br>City=santa rosalia<br>Humidity=%{marker.size}<br>Lat=%{lat}<br>Lng=%{lon}<extra></extra>",
         "hovertext": [
          "santa rosalia"
         ],
         "lat": [
          27.3167
         ],
         "legendgroup": "santa rosalia",
         "lon": [
          -112.2833
         ],
         "marker": {
          "color": "#636efa",
          "opacity": 0.6,
          "size": [
           56
          ],
          "sizemode": "area",
          "sizeref": 0.591715976331361,
          "symbol": "circle"
         },
         "mode": "markers",
         "name": "santa rosalia",
         "showlegend": true,
         "type": "scattergeo"
        },
        {
         "geo": "geo",
         "hovertemplate": "<b>%{hovertext}</b><br><br>City=nerchinskiy zavod<br>Humidity=%{marker.size}<br>Lat=%{lat}<br>Lng=%{lon}<extra></extra>",
         "hovertext": [
          "nerchinskiy zavod"
         ],
         "lat": [
          51.3088
         ],
         "legendgroup": "nerchinskiy zavod",
         "lon": [
          119.61
         ],
         "marker": {
          "color": "#EF553B",
          "opacity": 0.6,
          "size": [
           52
          ],
          "sizemode": "area",
          "sizeref": 0.591715976331361,
          "symbol": "circle"
         },
         "mode": "markers",
         "name": "nerchinskiy zavod",
         "showlegend": true,
         "type": "scattergeo"
        },
        {
         "geo": "geo",
         "hovertemplate": "<b>%{hovertext}</b><br><br>City=torrington<br>Humidity=%{marker.size}<br>Lat=%{lat}<br>Lng=%{lon}<extra></extra>",
         "hovertext": [
          "torrington"
         ],
         "lat": [
          41.8007
         ],
         "legendgroup": "torrington",
         "lon": [
          -73.1212
         ],
         "marker": {
          "color": "#00cc96",
          "opacity": 0.6,
          "size": [
           64
          ],
          "sizemode": "area",
          "sizeref": 0.591715976331361,
          "symbol": "circle"
         },
         "mode": "markers",
         "name": "torrington",
         "showlegend": true,
         "type": "scattergeo"
        },
        {
         "geo": "geo",
         "hovertemplate": "<b>%{hovertext}</b><br><br>City=krutikha<br>Humidity=%{marker.size}<br>Lat=%{lat}<br>Lng=%{lon}<extra></extra>",
         "hovertext": [
          "krutikha"
         ],
         "lat": [
          53.9599
         ],
         "legendgroup": "krutikha",
         "lon": [
          81.2093
         ],
         "marker": {
          "color": "#ab63fa",
          "opacity": 0.6,
          "size": [
           80
          ],
          "sizemode": "area",
          "sizeref": 0.591715976331361,
          "symbol": "circle"
         },
         "mode": "markers",
         "name": "krutikha",
         "showlegend": true,
         "type": "scattergeo"
        },
        {
         "geo": "geo",
         "hovertemplate": "<b>%{hovertext}</b><br><br>City=bonavista<br>Humidity=%{marker.size}<br>Lat=%{lat}<br>Lng=%{lon}<extra></extra>",
         "hovertext": [
          "bonavista"
         ],
         "lat": [
          48.6499
         ],
         "legendgroup": "bonavista",
         "lon": [
          -53.1147
         ],
         "marker": {
          "color": "#FFA15A",
          "opacity": 0.6,
          "size": [
           90
          ],
          "sizemode": "area",
          "sizeref": 0.591715976331361,
          "symbol": "circle"
         },
         "mode": "markers",
         "name": "bonavista",
         "showlegend": true,
         "type": "scattergeo"
        },
        {
         "geo": "geo",
         "hovertemplate": "<b>%{hovertext}</b><br><br>City=zaysan<br>Humidity=%{marker.size}<br>Lat=%{lat}<br>Lng=%{lon}<extra></extra>",
         "hovertext": [
          "zaysan"
         ],
         "lat": [
          47.4667
         ],
         "legendgroup": "zaysan",
         "lon": [
          84.8667
         ],
         "marker": {
          "color": "#19d3f3",
          "opacity": 0.6,
          "size": [
           85
          ],
          "sizemode": "area",
          "sizeref": 0.591715976331361,
          "symbol": "circle"
         },
         "mode": "markers",
         "name": "zaysan",
         "showlegend": true,
         "type": "scattergeo"
        },
        {
         "geo": "geo",
         "hovertemplate": "<b>%{hovertext}</b><br><br>City=mana<br>Humidity=%{marker.size}<br>Lat=%{lat}<br>Lng=%{lon}<extra></extra>",
         "hovertext": [
          "mana"
         ],
         "lat": [
          5.6592
         ],
         "legendgroup": "mana",
         "lon": [
          -53.7767
         ],
         "marker": {
          "color": "#FF6692",
          "opacity": 0.6,
          "size": [
           64
          ],
          "sizemode": "area",
          "sizeref": 0.591715976331361,
          "symbol": "circle"
         },
         "mode": "markers",
         "name": "mana",
         "showlegend": true,
         "type": "scattergeo"
        },
        {
         "geo": "geo",
         "hovertemplate": "<b>%{hovertext}</b><br><br>City=nemuro<br>Humidity=%{marker.size}<br>Lat=%{lat}<br>Lng=%{lon}<extra></extra>",
         "hovertext": [
          "nemuro"
         ],
         "lat": [
          43.3236
         ],
         "legendgroup": "nemuro",
         "lon": [
          145.575
         ],
         "marker": {
          "color": "#B6E880",
          "opacity": 0.6,
          "size": [
           78
          ],
          "sizemode": "area",
          "sizeref": 0.591715976331361,
          "symbol": "circle"
         },
         "mode": "markers",
         "name": "nemuro",
         "showlegend": true,
         "type": "scattergeo"
        },
        {
         "geo": "geo",
         "hovertemplate": "<b>%{hovertext}</b><br><br>City=mandera<br>Humidity=%{marker.size}<br>Lat=%{lat}<br>Lng=%{lon}<extra></extra>",
         "hovertext": [
          "mandera"
         ],
         "lat": [
          3.9366
         ],
         "legendgroup": "mandera",
         "lon": [
          41.867
         ],
         "marker": {
          "color": "#FF97FF",
          "opacity": 0.6,
          "size": [
           48
          ],
          "sizemode": "area",
          "sizeref": 0.591715976331361,
          "symbol": "circle"
         },
         "mode": "markers",
         "name": "mandera",
         "showlegend": true,
         "type": "scattergeo"
        },
        {
         "geo": "geo",
         "hovertemplate": "<b>%{hovertext}</b><br><br>City=numan<br>Humidity=%{marker.size}<br>Lat=%{lat}<br>Lng=%{lon}<extra></extra>",
         "hovertext": [
          "numan"
         ],
         "lat": [
          9.4667
         ],
         "legendgroup": "numan",
         "lon": [
          12.0333
         ],
         "marker": {
          "color": "#FECB52",
          "opacity": 0.6,
          "size": [
           40
          ],
          "sizemode": "area",
          "sizeref": 0.591715976331361,
          "symbol": "circle"
         },
         "mode": "markers",
         "name": "numan",
         "showlegend": true,
         "type": "scattergeo"
        },
        {
         "geo": "geo",
         "hovertemplate": "<b>%{hovertext}</b><br><br>City=pingliang<br>Humidity=%{marker.size}<br>Lat=%{lat}<br>Lng=%{lon}<extra></extra>",
         "hovertext": [
          "pingliang"
         ],
         "lat": [
          35.5392
         ],
         "legendgroup": "pingliang",
         "lon": [
          106.6861
         ],
         "marker": {
          "color": "#636efa",
          "opacity": 0.6,
          "size": [
           64
          ],
          "sizemode": "area",
          "sizeref": 0.591715976331361,
          "symbol": "circle"
         },
         "mode": "markers",
         "name": "pingliang",
         "showlegend": true,
         "type": "scattergeo"
        },
        {
         "geo": "geo",
         "hovertemplate": "<b>%{hovertext}</b><br><br>City=saldanha<br>Humidity=%{marker.size}<br>Lat=%{lat}<br>Lng=%{lon}<extra></extra>",
         "hovertext": [
          "saldanha"
         ],
         "lat": [
          -33.0117
         ],
         "legendgroup": "saldanha",
         "lon": [
          17.9442
         ],
         "marker": {
          "color": "#EF553B",
          "opacity": 0.6,
          "size": [
           86
          ],
          "sizemode": "area",
          "sizeref": 0.591715976331361,
          "symbol": "circle"
         },
         "mode": "markers",
         "name": "saldanha",
         "showlegend": true,
         "type": "scattergeo"
        },
        {
         "geo": "geo",
         "hovertemplate": "<b>%{hovertext}</b><br><br>City=petropavlovsk-kamchatskiy<br>Humidity=%{marker.size}<br>Lat=%{lat}<br>Lng=%{lon}<extra></extra>",
         "hovertext": [
          "petropavlovsk-kamchatskiy"
         ],
         "lat": [
          53.0452
         ],
         "legendgroup": "petropavlovsk-kamchatskiy",
         "lon": [
          158.6483
         ],
         "marker": {
          "color": "#00cc96",
          "opacity": 0.6,
          "size": [
           52
          ],
          "sizemode": "area",
          "sizeref": 0.591715976331361,
          "symbol": "circle"
         },
         "mode": "markers",
         "name": "petropavlovsk-kamchatskiy",
         "showlegend": true,
         "type": "scattergeo"
        },
        {
         "geo": "geo",
         "hovertemplate": "<b>%{hovertext}</b><br><br>City=vila velha<br>Humidity=%{marker.size}<br>Lat=%{lat}<br>Lng=%{lon}<extra></extra>",
         "hovertext": [
          "vila velha"
         ],
         "lat": [
          -20.3297
         ],
         "legendgroup": "vila velha",
         "lon": [
          -40.2925
         ],
         "marker": {
          "color": "#ab63fa",
          "opacity": 0.6,
          "size": [
           75
          ],
          "sizemode": "area",
          "sizeref": 0.591715976331361,
          "symbol": "circle"
         },
         "mode": "markers",
         "name": "vila velha",
         "showlegend": true,
         "type": "scattergeo"
        },
        {
         "geo": "geo",
         "hovertemplate": "<b>%{hovertext}</b><br><br>City=bengkulu<br>Humidity=%{marker.size}<br>Lat=%{lat}<br>Lng=%{lon}<extra></extra>",
         "hovertext": [
          "bengkulu"
         ],
         "lat": [
          -3.8004
         ],
         "legendgroup": "bengkulu",
         "lon": [
          102.2655
         ],
         "marker": {
          "color": "#FFA15A",
          "opacity": 0.6,
          "size": [
           90
          ],
          "sizemode": "area",
          "sizeref": 0.591715976331361,
          "symbol": "circle"
         },
         "mode": "markers",
         "name": "bengkulu",
         "showlegend": true,
         "type": "scattergeo"
        },
        {
         "geo": "geo",
         "hovertemplate": "<b>%{hovertext}</b><br><br>City=honiara<br>Humidity=%{marker.size}<br>Lat=%{lat}<br>Lng=%{lon}<extra></extra>",
         "hovertext": [
          "honiara"
         ],
         "lat": [
          -9.4333
         ],
         "legendgroup": "honiara",
         "lon": [
          159.95
         ],
         "marker": {
          "color": "#19d3f3",
          "opacity": 0.6,
          "size": [
           85
          ],
          "sizemode": "area",
          "sizeref": 0.591715976331361,
          "symbol": "circle"
         },
         "mode": "markers",
         "name": "honiara",
         "showlegend": true,
         "type": "scattergeo"
        },
        {
         "geo": "geo",
         "hovertemplate": "<b>%{hovertext}</b><br><br>City=pemba<br>Humidity=%{marker.size}<br>Lat=%{lat}<br>Lng=%{lon}<extra></extra>",
         "hovertext": [
          "pemba"
         ],
         "lat": [
          -12.974
         ],
         "legendgroup": "pemba",
         "lon": [
          40.5178
         ],
         "marker": {
          "color": "#FF6692",
          "opacity": 0.6,
          "size": [
           76
          ],
          "sizemode": "area",
          "sizeref": 0.591715976331361,
          "symbol": "circle"
         },
         "mode": "markers",
         "name": "pemba",
         "showlegend": true,
         "type": "scattergeo"
        },
        {
         "geo": "geo",
         "hovertemplate": "<b>%{hovertext}</b><br><br>City=ahipara<br>Humidity=%{marker.size}<br>Lat=%{lat}<br>Lng=%{lon}<extra></extra>",
         "hovertext": [
          "ahipara"
         ],
         "lat": [
          -35.1667
         ],
         "legendgroup": "ahipara",
         "lon": [
          173.1667
         ],
         "marker": {
          "color": "#B6E880",
          "opacity": 0.6,
          "size": [
           73
          ],
          "sizemode": "area",
          "sizeref": 0.591715976331361,
          "symbol": "circle"
         },
         "mode": "markers",
         "name": "ahipara",
         "showlegend": true,
         "type": "scattergeo"
        },
        {
         "geo": "geo",
         "hovertemplate": "<b>%{hovertext}</b><br><br>City=shingu<br>Humidity=%{marker.size}<br>Lat=%{lat}<br>Lng=%{lon}<extra></extra>",
         "hovertext": [
          "shingu"
         ],
         "lat": [
          33.7333
         ],
         "legendgroup": "shingu",
         "lon": [
          135.9833
         ],
         "marker": {
          "color": "#FF97FF",
          "opacity": 0.6,
          "size": [
           79
          ],
          "sizemode": "area",
          "sizeref": 0.591715976331361,
          "symbol": "circle"
         },
         "mode": "markers",
         "name": "shingu",
         "showlegend": true,
         "type": "scattergeo"
        },
        {
         "geo": "geo",
         "hovertemplate": "<b>%{hovertext}</b><br><br>City=korla<br>Humidity=%{marker.size}<br>Lat=%{lat}<br>Lng=%{lon}<extra></extra>",
         "hovertext": [
          "korla"
         ],
         "lat": [
          41.7597
         ],
         "legendgroup": "korla",
         "lon": [
          86.1469
         ],
         "marker": {
          "color": "#FECB52",
          "opacity": 0.6,
          "size": [
           19
          ],
          "sizemode": "area",
          "sizeref": 0.591715976331361,
          "symbol": "circle"
         },
         "mode": "markers",
         "name": "korla",
         "showlegend": true,
         "type": "scattergeo"
        },
        {
         "geo": "geo",
         "hovertemplate": "<b>%{hovertext}</b><br><br>City=lerik<br>Humidity=%{marker.size}<br>Lat=%{lat}<br>Lng=%{lon}<extra></extra>",
         "hovertext": [
          "lerik"
         ],
         "lat": [
          38.7726
         ],
         "legendgroup": "lerik",
         "lon": [
          48.4128
         ],
         "marker": {
          "color": "#636efa",
          "opacity": 0.6,
          "size": [
           95
          ],
          "sizemode": "area",
          "sizeref": 0.591715976331361,
          "symbol": "circle"
         },
         "mode": "markers",
         "name": "lerik",
         "showlegend": true,
         "type": "scattergeo"
        },
        {
         "geo": "geo",
         "hovertemplate": "<b>%{hovertext}</b><br><br>City=quelimane<br>Humidity=%{marker.size}<br>Lat=%{lat}<br>Lng=%{lon}<extra></extra>",
         "hovertext": [
          "quelimane"
         ],
         "lat": [
          -17.8786
         ],
         "legendgroup": "quelimane",
         "lon": [
          36.8883
         ],
         "marker": {
          "color": "#EF553B",
          "opacity": 0.6,
          "size": [
           75
          ],
          "sizemode": "area",
          "sizeref": 0.591715976331361,
          "symbol": "circle"
         },
         "mode": "markers",
         "name": "quelimane",
         "showlegend": true,
         "type": "scattergeo"
        },
        {
         "geo": "geo",
         "hovertemplate": "<b>%{hovertext}</b><br><br>City=katyuzhanka<br>Humidity=%{marker.size}<br>Lat=%{lat}<br>Lng=%{lon}<extra></extra>",
         "hovertext": [
          "katyuzhanka"
         ],
         "lat": [
          50.806
         ],
         "legendgroup": "katyuzhanka",
         "lon": [
          30.1376
         ],
         "marker": {
          "color": "#00cc96",
          "opacity": 0.6,
          "size": [
           58
          ],
          "sizemode": "area",
          "sizeref": 0.591715976331361,
          "symbol": "circle"
         },
         "mode": "markers",
         "name": "katyuzhanka",
         "showlegend": true,
         "type": "scattergeo"
        },
        {
         "geo": "geo",
         "hovertemplate": "<b>%{hovertext}</b><br><br>City=narwar<br>Humidity=%{marker.size}<br>Lat=%{lat}<br>Lng=%{lon}<extra></extra>",
         "hovertext": [
          "narwar"
         ],
         "lat": [
          25.65
         ],
         "legendgroup": "narwar",
         "lon": [
          77.9
         ],
         "marker": {
          "color": "#ab63fa",
          "opacity": 0.6,
          "size": [
           55
          ],
          "sizemode": "area",
          "sizeref": 0.591715976331361,
          "symbol": "circle"
         },
         "mode": "markers",
         "name": "narwar",
         "showlegend": true,
         "type": "scattergeo"
        },
        {
         "geo": "geo",
         "hovertemplate": "<b>%{hovertext}</b><br><br>City=port hardy<br>Humidity=%{marker.size}<br>Lat=%{lat}<br>Lng=%{lon}<extra></extra>",
         "hovertext": [
          "port hardy"
         ],
         "lat": [
          50.6996
         ],
         "legendgroup": "port hardy",
         "lon": [
          -127.4199
         ],
         "marker": {
          "color": "#FFA15A",
          "opacity": 0.6,
          "size": [
           93
          ],
          "sizemode": "area",
          "sizeref": 0.591715976331361,
          "symbol": "circle"
         },
         "mode": "markers",
         "name": "port hardy",
         "showlegend": true,
         "type": "scattergeo"
        },
        {
         "geo": "geo",
         "hovertemplate": "<b>%{hovertext}</b><br><br>City=sol-iletsk<br>Humidity=%{marker.size}<br>Lat=%{lat}<br>Lng=%{lon}<extra></extra>",
         "hovertext": [
          "sol-iletsk"
         ],
         "lat": [
          51.1631
         ],
         "legendgroup": "sol-iletsk",
         "lon": [
          54.9918
         ],
         "marker": {
          "color": "#19d3f3",
          "opacity": 0.6,
          "size": [
           65
          ],
          "sizemode": "area",
          "sizeref": 0.591715976331361,
          "symbol": "circle"
         },
         "mode": "markers",
         "name": "sol-iletsk",
         "showlegend": true,
         "type": "scattergeo"
        },
        {
         "geo": "geo",
         "hovertemplate": "<b>%{hovertext}</b><br><br>City=tabou<br>Humidity=%{marker.size}<br>Lat=%{lat}<br>Lng=%{lon}<extra></extra>",
         "hovertext": [
          "tabou"
         ],
         "lat": [
          4.423
         ],
         "legendgroup": "tabou",
         "lon": [
          -7.3528
         ],
         "marker": {
          "color": "#FF6692",
          "opacity": 0.6,
          "size": [
           77
          ],
          "sizemode": "area",
          "sizeref": 0.591715976331361,
          "symbol": "circle"
         },
         "mode": "markers",
         "name": "tabou",
         "showlegend": true,
         "type": "scattergeo"
        },
        {
         "geo": "geo",
         "hovertemplate": "<b>%{hovertext}</b><br><br>City=saint anthony<br>Humidity=%{marker.size}<br>Lat=%{lat}<br>Lng=%{lon}<extra></extra>",
         "hovertext": [
          "saint anthony"
         ],
         "lat": [
          45.0205
         ],
         "legendgroup": "saint anthony",
         "lon": [
          -93.218
         ],
         "marker": {
          "color": "#B6E880",
          "opacity": 0.6,
          "size": [
           61
          ],
          "sizemode": "area",
          "sizeref": 0.591715976331361,
          "symbol": "circle"
         },
         "mode": "markers",
         "name": "saint anthony",
         "showlegend": true,
         "type": "scattergeo"
        },
        {
         "geo": "geo",
         "hovertemplate": "<b>%{hovertext}</b><br><br>City=srednekolymsk<br>Humidity=%{marker.size}<br>Lat=%{lat}<br>Lng=%{lon}<extra></extra>",
         "hovertext": [
          "srednekolymsk"
         ],
         "lat": [
          67.45
         ],
         "legendgroup": "srednekolymsk",
         "lon": [
          153.6833
         ],
         "marker": {
          "color": "#FF97FF",
          "opacity": 0.6,
          "size": [
           98
          ],
          "sizemode": "area",
          "sizeref": 0.591715976331361,
          "symbol": "circle"
         },
         "mode": "markers",
         "name": "srednekolymsk",
         "showlegend": true,
         "type": "scattergeo"
        },
        {
         "geo": "geo",
         "hovertemplate": "<b>%{hovertext}</b><br><br>City=homer<br>Humidity=%{marker.size}<br>Lat=%{lat}<br>Lng=%{lon}<extra></extra>",
         "hovertext": [
          "homer"
         ],
         "lat": [
          59.6425
         ],
         "legendgroup": "homer",
         "lon": [
          -151.5483
         ],
         "marker": {
          "color": "#FECB52",
          "opacity": 0.6,
          "size": [
           87
          ],
          "sizemode": "area",
          "sizeref": 0.591715976331361,
          "symbol": "circle"
         },
         "mode": "markers",
         "name": "homer",
         "showlegend": true,
         "type": "scattergeo"
        },
        {
         "geo": "geo",
         "hovertemplate": "<b>%{hovertext}</b><br><br>City=livingston<br>Humidity=%{marker.size}<br>Lat=%{lat}<br>Lng=%{lon}<extra></extra>",
         "hovertext": [
          "livingston"
         ],
         "lat": [
          55.9029
         ],
         "legendgroup": "livingston",
         "lon": [
          -3.5226
         ],
         "marker": {
          "color": "#636efa",
          "opacity": 0.6,
          "size": [
           82
          ],
          "sizemode": "area",
          "sizeref": 0.591715976331361,
          "symbol": "circle"
         },
         "mode": "markers",
         "name": "livingston",
         "showlegend": true,
         "type": "scattergeo"
        },
        {
         "geo": "geo",
         "hovertemplate": "<b>%{hovertext}</b><br><br>City=lima<br>Humidity=%{marker.size}<br>Lat=%{lat}<br>Lng=%{lon}<extra></extra>",
         "hovertext": [
          "lima"
         ],
         "lat": [
          -12.0432
         ],
         "legendgroup": "lima",
         "lon": [
          -77.0282
         ],
         "marker": {
          "color": "#EF553B",
          "opacity": 0.6,
          "size": [
           79
          ],
          "sizemode": "area",
          "sizeref": 0.591715976331361,
          "symbol": "circle"
         },
         "mode": "markers",
         "name": "lima",
         "showlegend": true,
         "type": "scattergeo"
        },
        {
         "geo": "geo",
         "hovertemplate": "<b>%{hovertext}</b><br><br>City=christchurch<br>Humidity=%{marker.size}<br>Lat=%{lat}<br>Lng=%{lon}<extra></extra>",
         "hovertext": [
          "christchurch"
         ],
         "lat": [
          -43.5333
         ],
         "legendgroup": "christchurch",
         "lon": [
          172.6333
         ],
         "marker": {
          "color": "#00cc96",
          "opacity": 0.6,
          "size": [
           95
          ],
          "sizemode": "area",
          "sizeref": 0.591715976331361,
          "symbol": "circle"
         },
         "mode": "markers",
         "name": "christchurch",
         "showlegend": true,
         "type": "scattergeo"
        },
        {
         "geo": "geo",
         "hovertemplate": "<b>%{hovertext}</b><br><br>City=beitbridge<br>Humidity=%{marker.size}<br>Lat=%{lat}<br>Lng=%{lon}<extra></extra>",
         "hovertext": [
          "beitbridge"
         ],
         "lat": [
          -22.2167
         ],
         "legendgroup": "beitbridge",
         "lon": [
          30
         ],
         "marker": {
          "color": "#ab63fa",
          "opacity": 0.6,
          "size": [
           22
          ],
          "sizemode": "area",
          "sizeref": 0.591715976331361,
          "symbol": "circle"
         },
         "mode": "markers",
         "name": "beitbridge",
         "showlegend": true,
         "type": "scattergeo"
        },
        {
         "geo": "geo",
         "hovertemplate": "<b>%{hovertext}</b><br><br>City=kortkeros<br>Humidity=%{marker.size}<br>Lat=%{lat}<br>Lng=%{lon}<extra></extra>",
         "hovertext": [
          "kortkeros"
         ],
         "lat": [
          61.8106
         ],
         "legendgroup": "kortkeros",
         "lon": [
          51.5806
         ],
         "marker": {
          "color": "#FFA15A",
          "opacity": 0.6,
          "size": [
           84
          ],
          "sizemode": "area",
          "sizeref": 0.591715976331361,
          "symbol": "circle"
         },
         "mode": "markers",
         "name": "kortkeros",
         "showlegend": true,
         "type": "scattergeo"
        },
        {
         "geo": "geo",
         "hovertemplate": "<b>%{hovertext}</b><br><br>City=port hedland<br>Humidity=%{marker.size}<br>Lat=%{lat}<br>Lng=%{lon}<extra></extra>",
         "hovertext": [
          "port hedland"
         ],
         "lat": [
          -20.3167
         ],
         "legendgroup": "port hedland",
         "lon": [
          118.5667
         ],
         "marker": {
          "color": "#19d3f3",
          "opacity": 0.6,
          "size": [
           73
          ],
          "sizemode": "area",
          "sizeref": 0.591715976331361,
          "symbol": "circle"
         },
         "mode": "markers",
         "name": "port hedland",
         "showlegend": true,
         "type": "scattergeo"
        },
        {
         "geo": "geo",
         "hovertemplate": "<b>%{hovertext}</b><br><br>City=fortuna<br>Humidity=%{marker.size}<br>Lat=%{lat}<br>Lng=%{lon}<extra></extra>",
         "hovertext": [
          "fortuna"
         ],
         "lat": [
          40.5982
         ],
         "legendgroup": "fortuna",
         "lon": [
          -124.1573
         ],
         "marker": {
          "color": "#FF6692",
          "opacity": 0.6,
          "size": [
           100
          ],
          "sizemode": "area",
          "sizeref": 0.591715976331361,
          "symbol": "circle"
         },
         "mode": "markers",
         "name": "fortuna",
         "showlegend": true,
         "type": "scattergeo"
        },
        {
         "geo": "geo",
         "hovertemplate": "<b>%{hovertext}</b><br><br>City=dicabisagan<br>Humidity=%{marker.size}<br>Lat=%{lat}<br>Lng=%{lon}<extra></extra>",
         "hovertext": [
          "dicabisagan"
         ],
         "lat": [
          17.0818
         ],
         "legendgroup": "dicabisagan",
         "lon": [
          122.4157
         ],
         "marker": {
          "color": "#B6E880",
          "opacity": 0.6,
          "size": [
           88
          ],
          "sizemode": "area",
          "sizeref": 0.591715976331361,
          "symbol": "circle"
         },
         "mode": "markers",
         "name": "dicabisagan",
         "showlegend": true,
         "type": "scattergeo"
        },
        {
         "geo": "geo",
         "hovertemplate": "<b>%{hovertext}</b><br><br>City=smithers<br>Humidity=%{marker.size}<br>Lat=%{lat}<br>Lng=%{lon}<extra></extra>",
         "hovertext": [
          "smithers"
         ],
         "lat": [
          54.7804
         ],
         "legendgroup": "smithers",
         "lon": [
          -127.1743
         ],
         "marker": {
          "color": "#FF97FF",
          "opacity": 0.6,
          "size": [
           93
          ],
          "sizemode": "area",
          "sizeref": 0.591715976331361,
          "symbol": "circle"
         },
         "mode": "markers",
         "name": "smithers",
         "showlegend": true,
         "type": "scattergeo"
        },
        {
         "geo": "geo",
         "hovertemplate": "<b>%{hovertext}</b><br><br>City=peleduy<br>Humidity=%{marker.size}<br>Lat=%{lat}<br>Lng=%{lon}<extra></extra>",
         "hovertext": [
          "peleduy"
         ],
         "lat": [
          59.6289
         ],
         "legendgroup": "peleduy",
         "lon": [
          112.7406
         ],
         "marker": {
          "color": "#FECB52",
          "opacity": 0.6,
          "size": [
           98
          ],
          "sizemode": "area",
          "sizeref": 0.591715976331361,
          "symbol": "circle"
         },
         "mode": "markers",
         "name": "peleduy",
         "showlegend": true,
         "type": "scattergeo"
        },
        {
         "geo": "geo",
         "hovertemplate": "<b>%{hovertext}</b><br><br>City=yulara<br>Humidity=%{marker.size}<br>Lat=%{lat}<br>Lng=%{lon}<extra></extra>",
         "hovertext": [
          "yulara"
         ],
         "lat": [
          -25.2406
         ],
         "legendgroup": "yulara",
         "lon": [
          130.9889
         ],
         "marker": {
          "color": "#636efa",
          "opacity": 0.6,
          "size": [
           57
          ],
          "sizemode": "area",
          "sizeref": 0.591715976331361,
          "symbol": "circle"
         },
         "mode": "markers",
         "name": "yulara",
         "showlegend": true,
         "type": "scattergeo"
        },
        {
         "geo": "geo",
         "hovertemplate": "<b>%{hovertext}</b><br><br>City=roebourne<br>Humidity=%{marker.size}<br>Lat=%{lat}<br>Lng=%{lon}<extra></extra>",
         "hovertext": [
          "roebourne"
         ],
         "lat": [
          -20.7833
         ],
         "legendgroup": "roebourne",
         "lon": [
          117.1333
         ],
         "marker": {
          "color": "#EF553B",
          "opacity": 0.6,
          "size": [
           65
          ],
          "sizemode": "area",
          "sizeref": 0.591715976331361,
          "symbol": "circle"
         },
         "mode": "markers",
         "name": "roebourne",
         "showlegend": true,
         "type": "scattergeo"
        },
        {
         "geo": "geo",
         "hovertemplate": "<b>%{hovertext}</b><br><br>City=mariinskiy posad<br>Humidity=%{marker.size}<br>Lat=%{lat}<br>Lng=%{lon}<extra></extra>",
         "hovertext": [
          "mariinskiy posad"
         ],
         "lat": [
          56.115
         ],
         "legendgroup": "mariinskiy posad",
         "lon": [
          47.718
         ],
         "marker": {
          "color": "#00cc96",
          "opacity": 0.6,
          "size": [
           87
          ],
          "sizemode": "area",
          "sizeref": 0.591715976331361,
          "symbol": "circle"
         },
         "mode": "markers",
         "name": "mariinskiy posad",
         "showlegend": true,
         "type": "scattergeo"
        },
        {
         "geo": "geo",
         "hovertemplate": "<b>%{hovertext}</b><br><br>City=mayumba<br>Humidity=%{marker.size}<br>Lat=%{lat}<br>Lng=%{lon}<extra></extra>",
         "hovertext": [
          "mayumba"
         ],
         "lat": [
          -3.432
         ],
         "legendgroup": "mayumba",
         "lon": [
          10.6554
         ],
         "marker": {
          "color": "#ab63fa",
          "opacity": 0.6,
          "size": [
           79
          ],
          "sizemode": "area",
          "sizeref": 0.591715976331361,
          "symbol": "circle"
         },
         "mode": "markers",
         "name": "mayumba",
         "showlegend": true,
         "type": "scattergeo"
        },
        {
         "geo": "geo",
         "hovertemplate": "<b>%{hovertext}</b><br><br>City=adrar<br>Humidity=%{marker.size}<br>Lat=%{lat}<br>Lng=%{lon}<extra></extra>",
         "hovertext": [
          "adrar"
         ],
         "lat": [
          20.5022
         ],
         "legendgroup": "adrar",
         "lon": [
          -10.0711
         ],
         "marker": {
          "color": "#FFA15A",
          "opacity": 0.6,
          "size": [
           8
          ],
          "sizemode": "area",
          "sizeref": 0.591715976331361,
          "symbol": "circle"
         },
         "mode": "markers",
         "name": "adrar",
         "showlegend": true,
         "type": "scattergeo"
        },
        {
         "geo": "geo",
         "hovertemplate": "<b>%{hovertext}</b><br><br>City=port blair<br>Humidity=%{marker.size}<br>Lat=%{lat}<br>Lng=%{lon}<extra></extra>",
         "hovertext": [
          "port blair"
         ],
         "lat": [
          11.6667
         ],
         "legendgroup": "port blair",
         "lon": [
          92.75
         ],
         "marker": {
          "color": "#19d3f3",
          "opacity": 0.6,
          "size": [
           89
          ],
          "sizemode": "area",
          "sizeref": 0.591715976331361,
          "symbol": "circle"
         },
         "mode": "markers",
         "name": "port blair",
         "showlegend": true,
         "type": "scattergeo"
        },
        {
         "geo": "geo",
         "hovertemplate": "<b>%{hovertext}</b><br><br>City=komsomolskiy<br>Humidity=%{marker.size}<br>Lat=%{lat}<br>Lng=%{lon}<extra></extra>",
         "hovertext": [
          "komsomolskiy"
         ],
         "lat": [
          40.4272
         ],
         "legendgroup": "komsomolskiy",
         "lon": [
          71.7189
         ],
         "marker": {
          "color": "#FF6692",
          "opacity": 0.6,
          "size": [
           77
          ],
          "sizemode": "area",
          "sizeref": 0.591715976331361,
          "symbol": "circle"
         },
         "mode": "markers",
         "name": "komsomolskiy",
         "showlegend": true,
         "type": "scattergeo"
        },
        {
         "geo": "geo",
         "hovertemplate": "<b>%{hovertext}</b><br><br>City=ribeira grande<br>Humidity=%{marker.size}<br>Lat=%{lat}<br>Lng=%{lon}<extra></extra>",
         "hovertext": [
          "ribeira grande"
         ],
         "lat": [
          38.5167
         ],
         "legendgroup": "ribeira grande",
         "lon": [
          -28.7
         ],
         "marker": {
          "color": "#B6E880",
          "opacity": 0.6,
          "size": [
           48
          ],
          "sizemode": "area",
          "sizeref": 0.591715976331361,
          "symbol": "circle"
         },
         "mode": "markers",
         "name": "ribeira grande",
         "showlegend": true,
         "type": "scattergeo"
        },
        {
         "geo": "geo",
         "hovertemplate": "<b>%{hovertext}</b><br><br>City=qasigiannguit<br>Humidity=%{marker.size}<br>Lat=%{lat}<br>Lng=%{lon}<extra></extra>",
         "hovertext": [
          "qasigiannguit"
         ],
         "lat": [
          68.8193
         ],
         "legendgroup": "qasigiannguit",
         "lon": [
          -51.1922
         ],
         "marker": {
          "color": "#FF97FF",
          "opacity": 0.6,
          "size": [
           99
          ],
          "sizemode": "area",
          "sizeref": 0.591715976331361,
          "symbol": "circle"
         },
         "mode": "markers",
         "name": "qasigiannguit",
         "showlegend": true,
         "type": "scattergeo"
        },
        {
         "geo": "geo",
         "hovertemplate": "<b>%{hovertext}</b><br><br>City=buraydah<br>Humidity=%{marker.size}<br>Lat=%{lat}<br>Lng=%{lon}<extra></extra>",
         "hovertext": [
          "buraydah"
         ],
         "lat": [
          26.326
         ],
         "legendgroup": "buraydah",
         "lon": [
          43.975
         ],
         "marker": {
          "color": "#FECB52",
          "opacity": 0.6,
          "size": [
           11
          ],
          "sizemode": "area",
          "sizeref": 0.591715976331361,
          "symbol": "circle"
         },
         "mode": "markers",
         "name": "buraydah",
         "showlegend": true,
         "type": "scattergeo"
        },
        {
         "geo": "geo",
         "hovertemplate": "<b>%{hovertext}</b><br><br>City=port-gentil<br>Humidity=%{marker.size}<br>Lat=%{lat}<br>Lng=%{lon}<extra></extra>",
         "hovertext": [
          "port-gentil"
         ],
         "lat": [
          -0.7193
         ],
         "legendgroup": "port-gentil",
         "lon": [
          8.7815
         ],
         "marker": {
          "color": "#636efa",
          "opacity": 0.6,
          "size": [
           79
          ],
          "sizemode": "area",
          "sizeref": 0.591715976331361,
          "symbol": "circle"
         },
         "mode": "markers",
         "name": "port-gentil",
         "showlegend": true,
         "type": "scattergeo"
        },
        {
         "geo": "geo",
         "hovertemplate": "<b>%{hovertext}</b><br><br>City=saint-francois<br>Humidity=%{marker.size}<br>Lat=%{lat}<br>Lng=%{lon}<extra></extra>",
         "hovertext": [
          "saint-francois"
         ],
         "lat": [
          46.4154
         ],
         "legendgroup": "saint-francois",
         "lon": [
          3.9054
         ],
         "marker": {
          "color": "#EF553B",
          "opacity": 0.6,
          "size": [
           57
          ],
          "sizemode": "area",
          "sizeref": 0.591715976331361,
          "symbol": "circle"
         },
         "mode": "markers",
         "name": "saint-francois",
         "showlegend": true,
         "type": "scattergeo"
        },
        {
         "geo": "geo",
         "hovertemplate": "<b>%{hovertext}</b><br><br>City=vestmannaeyjar<br>Humidity=%{marker.size}<br>Lat=%{lat}<br>Lng=%{lon}<extra></extra>",
         "hovertext": [
          "vestmannaeyjar"
         ],
         "lat": [
          63.4427
         ],
         "legendgroup": "vestmannaeyjar",
         "lon": [
          -20.2734
         ],
         "marker": {
          "color": "#00cc96",
          "opacity": 0.6,
          "size": [
           70
          ],
          "sizemode": "area",
          "sizeref": 0.591715976331361,
          "symbol": "circle"
         },
         "mode": "markers",
         "name": "vestmannaeyjar",
         "showlegend": true,
         "type": "scattergeo"
        },
        {
         "geo": "geo",
         "hovertemplate": "<b>%{hovertext}</b><br><br>City=bogande<br>Humidity=%{marker.size}<br>Lat=%{lat}<br>Lng=%{lon}<extra></extra>",
         "hovertext": [
          "bogande"
         ],
         "lat": [
          12.9714
         ],
         "legendgroup": "bogande",
         "lon": [
          -0.1436
         ],
         "marker": {
          "color": "#ab63fa",
          "opacity": 0.6,
          "size": [
           15
          ],
          "sizemode": "area",
          "sizeref": 0.591715976331361,
          "symbol": "circle"
         },
         "mode": "markers",
         "name": "bogande",
         "showlegend": true,
         "type": "scattergeo"
        },
        {
         "geo": "geo",
         "hovertemplate": "<b>%{hovertext}</b><br><br>City=quesnel<br>Humidity=%{marker.size}<br>Lat=%{lat}<br>Lng=%{lon}<extra></extra>",
         "hovertext": [
          "quesnel"
         ],
         "lat": [
          52.9999
         ],
         "legendgroup": "quesnel",
         "lon": [
          -122.5029
         ],
         "marker": {
          "color": "#FFA15A",
          "opacity": 0.6,
          "size": [
           93
          ],
          "sizemode": "area",
          "sizeref": 0.591715976331361,
          "symbol": "circle"
         },
         "mode": "markers",
         "name": "quesnel",
         "showlegend": true,
         "type": "scattergeo"
        },
        {
         "geo": "geo",
         "hovertemplate": "<b>%{hovertext}</b><br><br>City=usman<br>Humidity=%{marker.size}<br>Lat=%{lat}<br>Lng=%{lon}<extra></extra>",
         "hovertext": [
          "usman"
         ],
         "lat": [
          52.0466
         ],
         "legendgroup": "usman",
         "lon": [
          39.7288
         ],
         "marker": {
          "color": "#19d3f3",
          "opacity": 0.6,
          "size": [
           63
          ],
          "sizemode": "area",
          "sizeref": 0.591715976331361,
          "symbol": "circle"
         },
         "mode": "markers",
         "name": "usman",
         "showlegend": true,
         "type": "scattergeo"
        },
        {
         "geo": "geo",
         "hovertemplate": "<b>%{hovertext}</b><br><br>City=aykhal<br>Humidity=%{marker.size}<br>Lat=%{lat}<br>Lng=%{lon}<extra></extra>",
         "hovertext": [
          "aykhal"
         ],
         "lat": [
          66
         ],
         "legendgroup": "aykhal",
         "lon": [
          111.5
         ],
         "marker": {
          "color": "#FF6692",
          "opacity": 0.6,
          "size": [
           97
          ],
          "sizemode": "area",
          "sizeref": 0.591715976331361,
          "symbol": "circle"
         },
         "mode": "markers",
         "name": "aykhal",
         "showlegend": true,
         "type": "scattergeo"
        },
        {
         "geo": "geo",
         "hovertemplate": "<b>%{hovertext}</b><br><br>City=carlyle<br>Humidity=%{marker.size}<br>Lat=%{lat}<br>Lng=%{lon}<extra></extra>",
         "hovertext": [
          "carlyle"
         ],
         "lat": [
          38.6103
         ],
         "legendgroup": "carlyle",
         "lon": [
          -89.3726
         ],
         "marker": {
          "color": "#B6E880",
          "opacity": 0.6,
          "size": [
           62
          ],
          "sizemode": "area",
          "sizeref": 0.591715976331361,
          "symbol": "circle"
         },
         "mode": "markers",
         "name": "carlyle",
         "showlegend": true,
         "type": "scattergeo"
        },
        {
         "geo": "geo",
         "hovertemplate": "<b>%{hovertext}</b><br><br>City=kayerkan<br>Humidity=%{marker.size}<br>Lat=%{lat}<br>Lng=%{lon}<extra></extra>",
         "hovertext": [
          "kayerkan"
         ],
         "lat": [
          69.3497
         ],
         "legendgroup": "kayerkan",
         "lon": [
          87.7602
         ],
         "marker": {
          "color": "#FF97FF",
          "opacity": 0.6,
          "size": [
           100
          ],
          "sizemode": "area",
          "sizeref": 0.591715976331361,
          "symbol": "circle"
         },
         "mode": "markers",
         "name": "kayerkan",
         "showlegend": true,
         "type": "scattergeo"
        },
        {
         "geo": "geo",
         "hovertemplate": "<b>%{hovertext}</b><br><br>City=moron<br>Humidity=%{marker.size}<br>Lat=%{lat}<br>Lng=%{lon}<extra></extra>",
         "hovertext": [
          "moron"
         ],
         "lat": [
          -34.6534
         ],
         "legendgroup": "moron",
         "lon": [
          -58.6198
         ],
         "marker": {
          "color": "#FECB52",
          "opacity": 0.6,
          "size": [
           71
          ],
          "sizemode": "area",
          "sizeref": 0.591715976331361,
          "symbol": "circle"
         },
         "mode": "markers",
         "name": "moron",
         "showlegend": true,
         "type": "scattergeo"
        },
        {
         "geo": "geo",
         "hovertemplate": "<b>%{hovertext}</b><br><br>City=paamiut<br>Humidity=%{marker.size}<br>Lat=%{lat}<br>Lng=%{lon}<extra></extra>",
         "hovertext": [
          "paamiut"
         ],
         "lat": [
          61.994
         ],
         "legendgroup": "paamiut",
         "lon": [
          -49.6678
         ],
         "marker": {
          "color": "#636efa",
          "opacity": 0.6,
          "size": [
           80
          ],
          "sizemode": "area",
          "sizeref": 0.591715976331361,
          "symbol": "circle"
         },
         "mode": "markers",
         "name": "paamiut",
         "showlegend": true,
         "type": "scattergeo"
        },
        {
         "geo": "geo",
         "hovertemplate": "<b>%{hovertext}</b><br><br>City=hamilton<br>Humidity=%{marker.size}<br>Lat=%{lat}<br>Lng=%{lon}<extra></extra>",
         "hovertext": [
          "hamilton"
         ],
         "lat": [
          39.1834
         ],
         "legendgroup": "hamilton",
         "lon": [
          -84.5333
         ],
         "marker": {
          "color": "#EF553B",
          "opacity": 0.6,
          "size": [
           72
          ],
          "sizemode": "area",
          "sizeref": 0.591715976331361,
          "symbol": "circle"
         },
         "mode": "markers",
         "name": "hamilton",
         "showlegend": true,
         "type": "scattergeo"
        },
        {
         "geo": "geo",
         "hovertemplate": "<b>%{hovertext}</b><br><br>City=seoul<br>Humidity=%{marker.size}<br>Lat=%{lat}<br>Lng=%{lon}<extra></extra>",
         "hovertext": [
          "seoul"
         ],
         "lat": [
          37.5683
         ],
         "legendgroup": "seoul",
         "lon": [
          126.9778
         ],
         "marker": {
          "color": "#00cc96",
          "opacity": 0.6,
          "size": [
           70
          ],
          "sizemode": "area",
          "sizeref": 0.591715976331361,
          "symbol": "circle"
         },
         "mode": "markers",
         "name": "seoul",
         "showlegend": true,
         "type": "scattergeo"
        },
        {
         "geo": "geo",
         "hovertemplate": "<b>%{hovertext}</b><br><br>City=woodward<br>Humidity=%{marker.size}<br>Lat=%{lat}<br>Lng=%{lon}<extra></extra>",
         "hovertext": [
          "woodward"
         ],
         "lat": [
          36.4337
         ],
         "legendgroup": "woodward",
         "lon": [
          -99.3904
         ],
         "marker": {
          "color": "#ab63fa",
          "opacity": 0.6,
          "size": [
           42
          ],
          "sizemode": "area",
          "sizeref": 0.591715976331361,
          "symbol": "circle"
         },
         "mode": "markers",
         "name": "woodward",
         "showlegend": true,
         "type": "scattergeo"
        },
        {
         "geo": "geo",
         "hovertemplate": "<b>%{hovertext}</b><br><br>City=georgiyevskoye<br>Humidity=%{marker.size}<br>Lat=%{lat}<br>Lng=%{lon}<extra></extra>",
         "hovertext": [
          "georgiyevskoye"
         ],
         "lat": [
          58.731
         ],
         "legendgroup": "georgiyevskoye",
         "lon": [
          45.024
         ],
         "marker": {
          "color": "#FFA15A",
          "opacity": 0.6,
          "size": [
           93
          ],
          "sizemode": "area",
          "sizeref": 0.591715976331361,
          "symbol": "circle"
         },
         "mode": "markers",
         "name": "georgiyevskoye",
         "showlegend": true,
         "type": "scattergeo"
        },
        {
         "geo": "geo",
         "hovertemplate": "<b>%{hovertext}</b><br><br>City=mayo<br>Humidity=%{marker.size}<br>Lat=%{lat}<br>Lng=%{lon}<extra></extra>",
         "hovertext": [
          "mayo"
         ],
         "lat": [
          38.8876
         ],
         "legendgroup": "mayo",
         "lon": [
          -76.5119
         ],
         "marker": {
          "color": "#19d3f3",
          "opacity": 0.6,
          "size": [
           53
          ],
          "sizemode": "area",
          "sizeref": 0.591715976331361,
          "symbol": "circle"
         },
         "mode": "markers",
         "name": "mayo",
         "showlegend": true,
         "type": "scattergeo"
        },
        {
         "geo": "geo",
         "hovertemplate": "<b>%{hovertext}</b><br><br>City=kysyl-syr<br>Humidity=%{marker.size}<br>Lat=%{lat}<br>Lng=%{lon}<extra></extra>",
         "hovertext": [
          "kysyl-syr"
         ],
         "lat": [
          63.8986
         ],
         "legendgroup": "kysyl-syr",
         "lon": [
          122.7617
         ],
         "marker": {
          "color": "#FF6692",
          "opacity": 0.6,
          "size": [
           99
          ],
          "sizemode": "area",
          "sizeref": 0.591715976331361,
          "symbol": "circle"
         },
         "mode": "markers",
         "name": "kysyl-syr",
         "showlegend": true,
         "type": "scattergeo"
        },
        {
         "geo": "geo",
         "hovertemplate": "<b>%{hovertext}</b><br><br>City=tashara<br>Humidity=%{marker.size}<br>Lat=%{lat}<br>Lng=%{lon}<extra></extra>",
         "hovertext": [
          "tashara"
         ],
         "lat": [
          55.5195
         ],
         "legendgroup": "tashara",
         "lon": [
          83.5094
         ],
         "marker": {
          "color": "#B6E880",
          "opacity": 0.6,
          "size": [
           95
          ],
          "sizemode": "area",
          "sizeref": 0.591715976331361,
          "symbol": "circle"
         },
         "mode": "markers",
         "name": "tashara",
         "showlegend": true,
         "type": "scattergeo"
        },
        {
         "geo": "geo",
         "hovertemplate": "<b>%{hovertext}</b><br><br>City=acajutla<br>Humidity=%{marker.size}<br>Lat=%{lat}<br>Lng=%{lon}<extra></extra>",
         "hovertext": [
          "acajutla"
         ],
         "lat": [
          13.5928
         ],
         "legendgroup": "acajutla",
         "lon": [
          -89.8275
         ],
         "marker": {
          "color": "#FF97FF",
          "opacity": 0.6,
          "size": [
           71
          ],
          "sizemode": "area",
          "sizeref": 0.591715976331361,
          "symbol": "circle"
         },
         "mode": "markers",
         "name": "acajutla",
         "showlegend": true,
         "type": "scattergeo"
        },
        {
         "geo": "geo",
         "hovertemplate": "<b>%{hovertext}</b><br><br>City=capoterra<br>Humidity=%{marker.size}<br>Lat=%{lat}<br>Lng=%{lon}<extra></extra>",
         "hovertext": [
          "capoterra"
         ],
         "lat": [
          39.1763
         ],
         "legendgroup": "capoterra",
         "lon": [
          8.9718
         ],
         "marker": {
          "color": "#FECB52",
          "opacity": 0.6,
          "size": [
           71
          ],
          "sizemode": "area",
          "sizeref": 0.591715976331361,
          "symbol": "circle"
         },
         "mode": "markers",
         "name": "capoterra",
         "showlegend": true,
         "type": "scattergeo"
        },
        {
         "geo": "geo",
         "hovertemplate": "<b>%{hovertext}</b><br><br>City=muisne<br>Humidity=%{marker.size}<br>Lat=%{lat}<br>Lng=%{lon}<extra></extra>",
         "hovertext": [
          "muisne"
         ],
         "lat": [
          0.6
         ],
         "legendgroup": "muisne",
         "lon": [
          -80.0333
         ],
         "marker": {
          "color": "#636efa",
          "opacity": 0.6,
          "size": [
           81
          ],
          "sizemode": "area",
          "sizeref": 0.591715976331361,
          "symbol": "circle"
         },
         "mode": "markers",
         "name": "muisne",
         "showlegend": true,
         "type": "scattergeo"
        },
        {
         "geo": "geo",
         "hovertemplate": "<b>%{hovertext}</b><br><br>City=praia da vitoria<br>Humidity=%{marker.size}<br>Lat=%{lat}<br>Lng=%{lon}<extra></extra>",
         "hovertext": [
          "praia da vitoria"
         ],
         "lat": [
          38.7333
         ],
         "legendgroup": "praia da vitoria",
         "lon": [
          -27.0667
         ],
         "marker": {
          "color": "#EF553B",
          "opacity": 0.6,
          "size": [
           77
          ],
          "sizemode": "area",
          "sizeref": 0.591715976331361,
          "symbol": "circle"
         },
         "mode": "markers",
         "name": "praia da vitoria",
         "showlegend": true,
         "type": "scattergeo"
        },
        {
         "geo": "geo",
         "hovertemplate": "<b>%{hovertext}</b><br><br>City=maniitsoq<br>Humidity=%{marker.size}<br>Lat=%{lat}<br>Lng=%{lon}<extra></extra>",
         "hovertext": [
          "maniitsoq"
         ],
         "lat": [
          65.4167
         ],
         "legendgroup": "maniitsoq",
         "lon": [
          -52.9
         ],
         "marker": {
          "color": "#00cc96",
          "opacity": 0.6,
          "size": [
           97
          ],
          "sizemode": "area",
          "sizeref": 0.591715976331361,
          "symbol": "circle"
         },
         "mode": "markers",
         "name": "maniitsoq",
         "showlegend": true,
         "type": "scattergeo"
        },
        {
         "geo": "geo",
         "hovertemplate": "<b>%{hovertext}</b><br><br>City=kalemie<br>Humidity=%{marker.size}<br>Lat=%{lat}<br>Lng=%{lon}<extra></extra>",
         "hovertext": [
          "kalemie"
         ],
         "lat": [
          -5.9475
         ],
         "legendgroup": "kalemie",
         "lon": [
          29.1947
         ],
         "marker": {
          "color": "#ab63fa",
          "opacity": 0.6,
          "size": [
           60
          ],
          "sizemode": "area",
          "sizeref": 0.591715976331361,
          "symbol": "circle"
         },
         "mode": "markers",
         "name": "kalemie",
         "showlegend": true,
         "type": "scattergeo"
        },
        {
         "geo": "geo",
         "hovertemplate": "<b>%{hovertext}</b><br><br>City=tagusao<br>Humidity=%{marker.size}<br>Lat=%{lat}<br>Lng=%{lon}<extra></extra>",
         "hovertext": [
          "tagusao"
         ],
         "lat": [
          9.1924
         ],
         "legendgroup": "tagusao",
         "lon": [
          117.8141
         ],
         "marker": {
          "color": "#FFA15A",
          "opacity": 0.6,
          "size": [
           82
          ],
          "sizemode": "area",
          "sizeref": 0.591715976331361,
          "symbol": "circle"
         },
         "mode": "markers",
         "name": "tagusao",
         "showlegend": true,
         "type": "scattergeo"
        },
        {
         "geo": "geo",
         "hovertemplate": "<b>%{hovertext}</b><br><br>City=mao<br>Humidity=%{marker.size}<br>Lat=%{lat}<br>Lng=%{lon}<extra></extra>",
         "hovertext": [
          "mao"
         ],
         "lat": [
          39.8885
         ],
         "legendgroup": "mao",
         "lon": [
          4.2658
         ],
         "marker": {
          "color": "#19d3f3",
          "opacity": 0.6,
          "size": [
           78
          ],
          "sizemode": "area",
          "sizeref": 0.591715976331361,
          "symbol": "circle"
         },
         "mode": "markers",
         "name": "mao",
         "showlegend": true,
         "type": "scattergeo"
        },
        {
         "geo": "geo",
         "hovertemplate": "<b>%{hovertext}</b><br><br>City=mahibadhoo<br>Humidity=%{marker.size}<br>Lat=%{lat}<br>Lng=%{lon}<extra></extra>",
         "hovertext": [
          "mahibadhoo"
         ],
         "lat": [
          3.7833
         ],
         "legendgroup": "mahibadhoo",
         "lon": [
          72.9667
         ],
         "marker": {
          "color": "#FF6692",
          "opacity": 0.6,
          "size": [
           73
          ],
          "sizemode": "area",
          "sizeref": 0.591715976331361,
          "symbol": "circle"
         },
         "mode": "markers",
         "name": "mahibadhoo",
         "showlegend": true,
         "type": "scattergeo"
        },
        {
         "geo": "geo",
         "hovertemplate": "<b>%{hovertext}</b><br><br>City=cabo san lucas<br>Humidity=%{marker.size}<br>Lat=%{lat}<br>Lng=%{lon}<extra></extra>",
         "hovertext": [
          "cabo san lucas"
         ],
         "lat": [
          22.8909
         ],
         "legendgroup": "cabo san lucas",
         "lon": [
          -109.9124
         ],
         "marker": {
          "color": "#B6E880",
          "opacity": 0.6,
          "size": [
           69
          ],
          "sizemode": "area",
          "sizeref": 0.591715976331361,
          "symbol": "circle"
         },
         "mode": "markers",
         "name": "cabo san lucas",
         "showlegend": true,
         "type": "scattergeo"
        },
        {
         "geo": "geo",
         "hovertemplate": "<b>%{hovertext}</b><br><br>City=panuco<br>Humidity=%{marker.size}<br>Lat=%{lat}<br>Lng=%{lon}<extra></extra>",
         "hovertext": [
          "panuco"
         ],
         "lat": [
          22.05
         ],
         "legendgroup": "panuco",
         "lon": [
          -98.1667
         ],
         "marker": {
          "color": "#FF97FF",
          "opacity": 0.6,
          "size": [
           88
          ],
          "sizemode": "area",
          "sizeref": 0.591715976331361,
          "symbol": "circle"
         },
         "mode": "markers",
         "name": "panuco",
         "showlegend": true,
         "type": "scattergeo"
        },
        {
         "geo": "geo",
         "hovertemplate": "<b>%{hovertext}</b><br><br>City=hervey bay<br>Humidity=%{marker.size}<br>Lat=%{lat}<br>Lng=%{lon}<extra></extra>",
         "hovertext": [
          "hervey bay"
         ],
         "lat": [
          -25.2986
         ],
         "legendgroup": "hervey bay",
         "lon": [
          152.8535
         ],
         "marker": {
          "color": "#FECB52",
          "opacity": 0.6,
          "size": [
           81
          ],
          "sizemode": "area",
          "sizeref": 0.591715976331361,
          "symbol": "circle"
         },
         "mode": "markers",
         "name": "hervey bay",
         "showlegend": true,
         "type": "scattergeo"
        },
        {
         "geo": "geo",
         "hovertemplate": "<b>%{hovertext}</b><br><br>City=fayaoue<br>Humidity=%{marker.size}<br>Lat=%{lat}<br>Lng=%{lon}<extra></extra>",
         "hovertext": [
          "fayaoue"
         ],
         "lat": [
          -20.65
         ],
         "legendgroup": "fayaoue",
         "lon": [
          166.5333
         ],
         "marker": {
          "color": "#636efa",
          "opacity": 0.6,
          "size": [
           78
          ],
          "sizemode": "area",
          "sizeref": 0.591715976331361,
          "symbol": "circle"
         },
         "mode": "markers",
         "name": "fayaoue",
         "showlegend": true,
         "type": "scattergeo"
        },
        {
         "geo": "geo",
         "hovertemplate": "<b>%{hovertext}</b><br><br>City=stolac<br>Humidity=%{marker.size}<br>Lat=%{lat}<br>Lng=%{lon}<extra></extra>",
         "hovertext": [
          "stolac"
         ],
         "lat": [
          43.0844
         ],
         "legendgroup": "stolac",
         "lon": [
          17.9575
         ],
         "marker": {
          "color": "#EF553B",
          "opacity": 0.6,
          "size": [
           68
          ],
          "sizemode": "area",
          "sizeref": 0.591715976331361,
          "symbol": "circle"
         },
         "mode": "markers",
         "name": "stolac",
         "showlegend": true,
         "type": "scattergeo"
        },
        {
         "geo": "geo",
         "hovertemplate": "<b>%{hovertext}</b><br><br>City=gamboma<br>Humidity=%{marker.size}<br>Lat=%{lat}<br>Lng=%{lon}<extra></extra>",
         "hovertext": [
          "gamboma"
         ],
         "lat": [
          -1.8764
         ],
         "legendgroup": "gamboma",
         "lon": [
          15.8644
         ],
         "marker": {
          "color": "#00cc96",
          "opacity": 0.6,
          "size": [
           68
          ],
          "sizemode": "area",
          "sizeref": 0.591715976331361,
          "symbol": "circle"
         },
         "mode": "markers",
         "name": "gamboma",
         "showlegend": true,
         "type": "scattergeo"
        },
        {
         "geo": "geo",
         "hovertemplate": "<b>%{hovertext}</b><br><br>City=rundu<br>Humidity=%{marker.size}<br>Lat=%{lat}<br>Lng=%{lon}<extra></extra>",
         "hovertext": [
          "rundu"
         ],
         "lat": [
          -17.9333
         ],
         "legendgroup": "rundu",
         "lon": [
          19.7667
         ],
         "marker": {
          "color": "#ab63fa",
          "opacity": 0.6,
          "size": [
           27
          ],
          "sizemode": "area",
          "sizeref": 0.591715976331361,
          "symbol": "circle"
         },
         "mode": "markers",
         "name": "rundu",
         "showlegend": true,
         "type": "scattergeo"
        },
        {
         "geo": "geo",
         "hovertemplate": "<b>%{hovertext}</b><br><br>City=carutapera<br>Humidity=%{marker.size}<br>Lat=%{lat}<br>Lng=%{lon}<extra></extra>",
         "hovertext": [
          "carutapera"
         ],
         "lat": [
          -1.195
         ],
         "legendgroup": "carutapera",
         "lon": [
          -46.02
         ],
         "marker": {
          "color": "#FFA15A",
          "opacity": 0.6,
          "size": [
           60
          ],
          "sizemode": "area",
          "sizeref": 0.591715976331361,
          "symbol": "circle"
         },
         "mode": "markers",
         "name": "carutapera",
         "showlegend": true,
         "type": "scattergeo"
        },
        {
         "geo": "geo",
         "hovertemplate": "<b>%{hovertext}</b><br><br>City=port-de-bouc<br>Humidity=%{marker.size}<br>Lat=%{lat}<br>Lng=%{lon}<extra></extra>",
         "hovertext": [
          "port-de-bouc"
         ],
         "lat": [
          43.4
         ],
         "legendgroup": "port-de-bouc",
         "lon": [
          4.9833
         ],
         "marker": {
          "color": "#19d3f3",
          "opacity": 0.6,
          "size": [
           65
          ],
          "sizemode": "area",
          "sizeref": 0.591715976331361,
          "symbol": "circle"
         },
         "mode": "markers",
         "name": "port-de-bouc",
         "showlegend": true,
         "type": "scattergeo"
        },
        {
         "geo": "geo",
         "hovertemplate": "<b>%{hovertext}</b><br><br>City=nanortalik<br>Humidity=%{marker.size}<br>Lat=%{lat}<br>Lng=%{lon}<extra></extra>",
         "hovertext": [
          "nanortalik"
         ],
         "lat": [
          60.1432
         ],
         "legendgroup": "nanortalik",
         "lon": [
          -45.2371
         ],
         "marker": {
          "color": "#FF6692",
          "opacity": 0.6,
          "size": [
           89
          ],
          "sizemode": "area",
          "sizeref": 0.591715976331361,
          "symbol": "circle"
         },
         "mode": "markers",
         "name": "nanortalik",
         "showlegend": true,
         "type": "scattergeo"
        },
        {
         "geo": "geo",
         "hovertemplate": "<b>%{hovertext}</b><br><br>City=dzaoudzi<br>Humidity=%{marker.size}<br>Lat=%{lat}<br>Lng=%{lon}<extra></extra>",
         "hovertext": [
          "dzaoudzi"
         ],
         "lat": [
          -12.7887
         ],
         "legendgroup": "dzaoudzi",
         "lon": [
          45.2699
         ],
         "marker": {
          "color": "#B6E880",
          "opacity": 0.6,
          "size": [
           73
          ],
          "sizemode": "area",
          "sizeref": 0.591715976331361,
          "symbol": "circle"
         },
         "mode": "markers",
         "name": "dzaoudzi",
         "showlegend": true,
         "type": "scattergeo"
        },
        {
         "geo": "geo",
         "hovertemplate": "<b>%{hovertext}</b><br><br>City=aktau<br>Humidity=%{marker.size}<br>Lat=%{lat}<br>Lng=%{lon}<extra></extra>",
         "hovertext": [
          "aktau"
         ],
         "lat": [
          43.65
         ],
         "legendgroup": "aktau",
         "lon": [
          51.2
         ],
         "marker": {
          "color": "#FF97FF",
          "opacity": 0.6,
          "size": [
           46
          ],
          "sizemode": "area",
          "sizeref": 0.591715976331361,
          "symbol": "circle"
         },
         "mode": "markers",
         "name": "aktau",
         "showlegend": true,
         "type": "scattergeo"
        },
        {
         "geo": "geo",
         "hovertemplate": "<b>%{hovertext}</b><br><br>City=lorengau<br>Humidity=%{marker.size}<br>Lat=%{lat}<br>Lng=%{lon}<extra></extra>",
         "hovertext": [
          "lorengau"
         ],
         "lat": [
          -2.0226
         ],
         "legendgroup": "lorengau",
         "lon": [
          147.2712
         ],
         "marker": {
          "color": "#FECB52",
          "opacity": 0.6,
          "size": [
           74
          ],
          "sizemode": "area",
          "sizeref": 0.591715976331361,
          "symbol": "circle"
         },
         "mode": "markers",
         "name": "lorengau",
         "showlegend": true,
         "type": "scattergeo"
        },
        {
         "geo": "geo",
         "hovertemplate": "<b>%{hovertext}</b><br><br>City=pachino<br>Humidity=%{marker.size}<br>Lat=%{lat}<br>Lng=%{lon}<extra></extra>",
         "hovertext": [
          "pachino"
         ],
         "lat": [
          36.7186
         ],
         "legendgroup": "pachino",
         "lon": [
          15.0907
         ],
         "marker": {
          "color": "#636efa",
          "opacity": 0.6,
          "size": [
           67
          ],
          "sizemode": "area",
          "sizeref": 0.591715976331361,
          "symbol": "circle"
         },
         "mode": "markers",
         "name": "pachino",
         "showlegend": true,
         "type": "scattergeo"
        },
        {
         "geo": "geo",
         "hovertemplate": "<b>%{hovertext}</b><br><br>City=cabedelo<br>Humidity=%{marker.size}<br>Lat=%{lat}<br>Lng=%{lon}<extra></extra>",
         "hovertext": [
          "cabedelo"
         ],
         "lat": [
          -6.9811
         ],
         "legendgroup": "cabedelo",
         "lon": [
          -34.8339
         ],
         "marker": {
          "color": "#EF553B",
          "opacity": 0.6,
          "size": [
           68
          ],
          "sizemode": "area",
          "sizeref": 0.591715976331361,
          "symbol": "circle"
         },
         "mode": "markers",
         "name": "cabedelo",
         "showlegend": true,
         "type": "scattergeo"
        },
        {
         "geo": "geo",
         "hovertemplate": "<b>%{hovertext}</b><br><br>City=denpasar<br>Humidity=%{marker.size}<br>Lat=%{lat}<br>Lng=%{lon}<extra></extra>",
         "hovertext": [
          "denpasar"
         ],
         "lat": [
          -8.65
         ],
         "legendgroup": "denpasar",
         "lon": [
          115.2167
         ],
         "marker": {
          "color": "#00cc96",
          "opacity": 0.6,
          "size": [
           100
          ],
          "sizemode": "area",
          "sizeref": 0.591715976331361,
          "symbol": "circle"
         },
         "mode": "markers",
         "name": "denpasar",
         "showlegend": true,
         "type": "scattergeo"
        },
        {
         "geo": "geo",
         "hovertemplate": "<b>%{hovertext}</b><br><br>City=ipixuna<br>Humidity=%{marker.size}<br>Lat=%{lat}<br>Lng=%{lon}<extra></extra>",
         "hovertext": [
          "ipixuna"
         ],
         "lat": [
          -1.7625
         ],
         "legendgroup": "ipixuna",
         "lon": [
          -48.8043
         ],
         "marker": {
          "color": "#ab63fa",
          "opacity": 0.6,
          "size": [
           46
          ],
          "sizemode": "area",
          "sizeref": 0.591715976331361,
          "symbol": "circle"
         },
         "mode": "markers",
         "name": "ipixuna",
         "showlegend": true,
         "type": "scattergeo"
        },
        {
         "geo": "geo",
         "hovertemplate": "<b>%{hovertext}</b><br><br>City=broome<br>Humidity=%{marker.size}<br>Lat=%{lat}<br>Lng=%{lon}<extra></extra>",
         "hovertext": [
          "broome"
         ],
         "lat": [
          42.2506
         ],
         "legendgroup": "broome",
         "lon": [
          -75.833
         ],
         "marker": {
          "color": "#FFA15A",
          "opacity": 0.6,
          "size": [
           67
          ],
          "sizemode": "area",
          "sizeref": 0.591715976331361,
          "symbol": "circle"
         },
         "mode": "markers",
         "name": "broome",
         "showlegend": true,
         "type": "scattergeo"
        },
        {
         "geo": "geo",
         "hovertemplate": "<b>%{hovertext}</b><br><br>City=tilichiki<br>Humidity=%{marker.size}<br>Lat=%{lat}<br>Lng=%{lon}<extra></extra>",
         "hovertext": [
          "tilichiki"
         ],
         "lat": [
          60.4667
         ],
         "legendgroup": "tilichiki",
         "lon": [
          166.1
         ],
         "marker": {
          "color": "#19d3f3",
          "opacity": 0.6,
          "size": [
           84
          ],
          "sizemode": "area",
          "sizeref": 0.591715976331361,
          "symbol": "circle"
         },
         "mode": "markers",
         "name": "tilichiki",
         "showlegend": true,
         "type": "scattergeo"
        },
        {
         "geo": "geo",
         "hovertemplate": "<b>%{hovertext}</b><br><br>City=lakki marwat<br>Humidity=%{marker.size}<br>Lat=%{lat}<br>Lng=%{lon}<extra></extra>",
         "hovertext": [
          "lakki marwat"
         ],
         "lat": [
          32.6079
         ],
         "legendgroup": "lakki marwat",
         "lon": [
          70.9114
         ],
         "marker": {
          "color": "#FF6692",
          "opacity": 0.6,
          "size": [
           20
          ],
          "sizemode": "area",
          "sizeref": 0.591715976331361,
          "symbol": "circle"
         },
         "mode": "markers",
         "name": "lakki marwat",
         "showlegend": true,
         "type": "scattergeo"
        },
        {
         "geo": "geo",
         "hovertemplate": "<b>%{hovertext}</b><br><br>City=veinticinco de mayo<br>Humidity=%{marker.size}<br>Lat=%{lat}<br>Lng=%{lon}<extra></extra>",
         "hovertext": [
          "veinticinco de mayo"
         ],
         "lat": [
          -35.4323
         ],
         "legendgroup": "veinticinco de mayo",
         "lon": [
          -60.1727
         ],
         "marker": {
          "color": "#B6E880",
          "opacity": 0.6,
          "size": [
           87
          ],
          "sizemode": "area",
          "sizeref": 0.591715976331361,
          "symbol": "circle"
         },
         "mode": "markers",
         "name": "veinticinco de mayo",
         "showlegend": true,
         "type": "scattergeo"
        },
        {
         "geo": "geo",
         "hovertemplate": "<b>%{hovertext}</b><br><br>City=avdon<br>Humidity=%{marker.size}<br>Lat=%{lat}<br>Lng=%{lon}<extra></extra>",
         "hovertext": [
          "avdon"
         ],
         "lat": [
          54.6667
         ],
         "legendgroup": "avdon",
         "lon": [
          55.7167
         ],
         "marker": {
          "color": "#FF97FF",
          "opacity": 0.6,
          "size": [
           86
          ],
          "sizemode": "area",
          "sizeref": 0.591715976331361,
          "symbol": "circle"
         },
         "mode": "markers",
         "name": "avdon",
         "showlegend": true,
         "type": "scattergeo"
        },
        {
         "geo": "geo",
         "hovertemplate": "<b>%{hovertext}</b><br><br>City=katobu<br>Humidity=%{marker.size}<br>Lat=%{lat}<br>Lng=%{lon}<extra></extra>",
         "hovertext": [
          "katobu"
         ],
         "lat": [
          -4.9408
         ],
         "legendgroup": "katobu",
         "lon": [
          122.5276
         ],
         "marker": {
          "color": "#FECB52",
          "opacity": 0.6,
          "size": [
           94
          ],
          "sizemode": "area",
          "sizeref": 0.591715976331361,
          "symbol": "circle"
         },
         "mode": "markers",
         "name": "katobu",
         "showlegend": true,
         "type": "scattergeo"
        },
        {
         "geo": "geo",
         "hovertemplate": "<b>%{hovertext}</b><br><br>City=merauke<br>Humidity=%{marker.size}<br>Lat=%{lat}<br>Lng=%{lon}<extra></extra>",
         "hovertext": [
          "merauke"
         ],
         "lat": [
          -8.4667
         ],
         "legendgroup": "merauke",
         "lon": [
          140.3333
         ],
         "marker": {
          "color": "#636efa",
          "opacity": 0.6,
          "size": [
           89
          ],
          "sizemode": "area",
          "sizeref": 0.591715976331361,
          "symbol": "circle"
         },
         "mode": "markers",
         "name": "merauke",
         "showlegend": true,
         "type": "scattergeo"
        },
        {
         "geo": "geo",
         "hovertemplate": "<b>%{hovertext}</b><br><br>City=yangliuqing<br>Humidity=%{marker.size}<br>Lat=%{lat}<br>Lng=%{lon}<extra></extra>",
         "hovertext": [
          "yangliuqing"
         ],
         "lat": [
          39.1375
         ],
         "legendgroup": "yangliuqing",
         "lon": [
          116.9997
         ],
         "marker": {
          "color": "#EF553B",
          "opacity": 0.6,
          "size": [
           31
          ],
          "sizemode": "area",
          "sizeref": 0.591715976331361,
          "symbol": "circle"
         },
         "mode": "markers",
         "name": "yangliuqing",
         "showlegend": true,
         "type": "scattergeo"
        },
        {
         "geo": "geo",
         "hovertemplate": "<b>%{hovertext}</b><br><br>City=tieling<br>Humidity=%{marker.size}<br>Lat=%{lat}<br>Lng=%{lon}<extra></extra>",
         "hovertext": [
          "tieling"
         ],
         "lat": [
          42.2931
         ],
         "legendgroup": "tieling",
         "lon": [
          123.8414
         ],
         "marker": {
          "color": "#00cc96",
          "opacity": 0.6,
          "size": [
           50
          ],
          "sizemode": "area",
          "sizeref": 0.591715976331361,
          "symbol": "circle"
         },
         "mode": "markers",
         "name": "tieling",
         "showlegend": true,
         "type": "scattergeo"
        },
        {
         "geo": "geo",
         "hovertemplate": "<b>%{hovertext}</b><br><br>City=togur<br>Humidity=%{marker.size}<br>Lat=%{lat}<br>Lng=%{lon}<extra></extra>",
         "hovertext": [
          "togur"
         ],
         "lat": [
          58.3631
         ],
         "legendgroup": "togur",
         "lon": [
          82.8265
         ],
         "marker": {
          "color": "#ab63fa",
          "opacity": 0.6,
          "size": [
           95
          ],
          "sizemode": "area",
          "sizeref": 0.591715976331361,
          "symbol": "circle"
         },
         "mode": "markers",
         "name": "togur",
         "showlegend": true,
         "type": "scattergeo"
        },
        {
         "geo": "geo",
         "hovertemplate": "<b>%{hovertext}</b><br><br>City=thinadhoo<br>Humidity=%{marker.size}<br>Lat=%{lat}<br>Lng=%{lon}<extra></extra>",
         "hovertext": [
          "thinadhoo"
         ],
         "lat": [
          0.5333
         ],
         "legendgroup": "thinadhoo",
         "lon": [
          72.9333
         ],
         "marker": {
          "color": "#FFA15A",
          "opacity": 0.6,
          "size": [
           76
          ],
          "sizemode": "area",
          "sizeref": 0.591715976331361,
          "symbol": "circle"
         },
         "mode": "markers",
         "name": "thinadhoo",
         "showlegend": true,
         "type": "scattergeo"
        },
        {
         "geo": "geo",
         "hovertemplate": "<b>%{hovertext}</b><br><br>City=terra santa<br>Humidity=%{marker.size}<br>Lat=%{lat}<br>Lng=%{lon}<extra></extra>",
         "hovertext": [
          "terra santa"
         ],
         "lat": [
          -2.1042
         ],
         "legendgroup": "terra santa",
         "lon": [
          -56.4869
         ],
         "marker": {
          "color": "#19d3f3",
          "opacity": 0.6,
          "size": [
           67
          ],
          "sizemode": "area",
          "sizeref": 0.591715976331361,
          "symbol": "circle"
         },
         "mode": "markers",
         "name": "terra santa",
         "showlegend": true,
         "type": "scattergeo"
        },
        {
         "geo": "geo",
         "hovertemplate": "<b>%{hovertext}</b><br><br>City=colares<br>Humidity=%{marker.size}<br>Lat=%{lat}<br>Lng=%{lon}<extra></extra>",
         "hovertext": [
          "colares"
         ],
         "lat": [
          38.7992
         ],
         "legendgroup": "colares",
         "lon": [
          -9.4469
         ],
         "marker": {
          "color": "#FF6692",
          "opacity": 0.6,
          "size": [
           84
          ],
          "sizemode": "area",
          "sizeref": 0.591715976331361,
          "symbol": "circle"
         },
         "mode": "markers",
         "name": "colares",
         "showlegend": true,
         "type": "scattergeo"
        },
        {
         "geo": "geo",
         "hovertemplate": "<b>%{hovertext}</b><br><br>City=havoysund<br>Humidity=%{marker.size}<br>Lat=%{lat}<br>Lng=%{lon}<extra></extra>",
         "hovertext": [
          "havoysund"
         ],
         "lat": [
          70.9963
         ],
         "legendgroup": "havoysund",
         "lon": [
          24.6622
         ],
         "marker": {
          "color": "#B6E880",
          "opacity": 0.6,
          "size": [
           68
          ],
          "sizemode": "area",
          "sizeref": 0.591715976331361,
          "symbol": "circle"
         },
         "mode": "markers",
         "name": "havoysund",
         "showlegend": true,
         "type": "scattergeo"
        },
        {
         "geo": "geo",
         "hovertemplate": "<b>%{hovertext}</b><br><br>City=ostrovnoy<br>Humidity=%{marker.size}<br>Lat=%{lat}<br>Lng=%{lon}<extra></extra>",
         "hovertext": [
          "ostrovnoy"
         ],
         "lat": [
          68.0531
         ],
         "legendgroup": "ostrovnoy",
         "lon": [
          39.5131
         ],
         "marker": {
          "color": "#FF97FF",
          "opacity": 0.6,
          "size": [
           87
          ],
          "sizemode": "area",
          "sizeref": 0.591715976331361,
          "symbol": "circle"
         },
         "mode": "markers",
         "name": "ostrovnoy",
         "showlegend": true,
         "type": "scattergeo"
        },
        {
         "geo": "geo",
         "hovertemplate": "<b>%{hovertext}</b><br><br>City=alofi<br>Humidity=%{marker.size}<br>Lat=%{lat}<br>Lng=%{lon}<extra></extra>",
         "hovertext": [
          "alofi"
         ],
         "lat": [
          -19.0595
         ],
         "legendgroup": "alofi",
         "lon": [
          -169.9187
         ],
         "marker": {
          "color": "#FECB52",
          "opacity": 0.6,
          "size": [
           94
          ],
          "sizemode": "area",
          "sizeref": 0.591715976331361,
          "symbol": "circle"
         },
         "mode": "markers",
         "name": "alofi",
         "showlegend": true,
         "type": "scattergeo"
        },
        {
         "geo": "geo",
         "hovertemplate": "<b>%{hovertext}</b><br><br>City=samandag<br>Humidity=%{marker.size}<br>Lat=%{lat}<br>Lng=%{lon}<extra></extra>",
         "hovertext": [
          "samandag"
         ],
         "lat": [
          36.0842
         ],
         "legendgroup": "samandag",
         "lon": [
          35.9771
         ],
         "marker": {
          "color": "#636efa",
          "opacity": 0.6,
          "size": [
           80
          ],
          "sizemode": "area",
          "sizeref": 0.591715976331361,
          "symbol": "circle"
         },
         "mode": "markers",
         "name": "samandag",
         "showlegend": true,
         "type": "scattergeo"
        },
        {
         "geo": "geo",
         "hovertemplate": "<b>%{hovertext}</b><br><br>City=san joaquin<br>Humidity=%{marker.size}<br>Lat=%{lat}<br>Lng=%{lon}<extra></extra>",
         "hovertext": [
          "san joaquin"
         ],
         "lat": [
          37.9333
         ],
         "legendgroup": "san joaquin",
         "lon": [
          -121.3011
         ],
         "marker": {
          "color": "#EF553B",
          "opacity": 0.6,
          "size": [
           89
          ],
          "sizemode": "area",
          "sizeref": 0.591715976331361,
          "symbol": "circle"
         },
         "mode": "markers",
         "name": "san joaquin",
         "showlegend": true,
         "type": "scattergeo"
        },
        {
         "geo": "geo",
         "hovertemplate": "<b>%{hovertext}</b><br><br>City=treinta y tres<br>Humidity=%{marker.size}<br>Lat=%{lat}<br>Lng=%{lon}<extra></extra>",
         "hovertext": [
          "treinta y tres"
         ],
         "lat": [
          -33.2333
         ],
         "legendgroup": "treinta y tres",
         "lon": [
          -54.3833
         ],
         "marker": {
          "color": "#00cc96",
          "opacity": 0.6,
          "size": [
           74
          ],
          "sizemode": "area",
          "sizeref": 0.591715976331361,
          "symbol": "circle"
         },
         "mode": "markers",
         "name": "treinta y tres",
         "showlegend": true,
         "type": "scattergeo"
        },
        {
         "geo": "geo",
         "hovertemplate": "<b>%{hovertext}</b><br><br>City=nazareno<br>Humidity=%{marker.size}<br>Lat=%{lat}<br>Lng=%{lon}<extra></extra>",
         "hovertext": [
          "nazareno"
         ],
         "lat": [
          25.3833
         ],
         "legendgroup": "nazareno",
         "lon": [
          -103.4167
         ],
         "marker": {
          "color": "#ab63fa",
          "opacity": 0.6,
          "size": [
           83
          ],
          "sizemode": "area",
          "sizeref": 0.591715976331361,
          "symbol": "circle"
         },
         "mode": "markers",
         "name": "nazareno",
         "showlegend": true,
         "type": "scattergeo"
        },
        {
         "geo": "geo",
         "hovertemplate": "<b>%{hovertext}</b><br><br>City=tessalit<br>Humidity=%{marker.size}<br>Lat=%{lat}<br>Lng=%{lon}<extra></extra>",
         "hovertext": [
          "tessalit"
         ],
         "lat": [
          20.1986
         ],
         "legendgroup": "tessalit",
         "lon": [
          1.0114
         ],
         "marker": {
          "color": "#FFA15A",
          "opacity": 0.6,
          "size": [
           13
          ],
          "sizemode": "area",
          "sizeref": 0.591715976331361,
          "symbol": "circle"
         },
         "mode": "markers",
         "name": "tessalit",
         "showlegend": true,
         "type": "scattergeo"
        },
        {
         "geo": "geo",
         "hovertemplate": "<b>%{hovertext}</b><br><br>City=yaan<br>Humidity=%{marker.size}<br>Lat=%{lat}<br>Lng=%{lon}<extra></extra>",
         "hovertext": [
          "yaan"
         ],
         "lat": [
          7.3833
         ],
         "legendgroup": "yaan",
         "lon": [
          8.5667
         ],
         "marker": {
          "color": "#19d3f3",
          "opacity": 0.6,
          "size": [
           69
          ],
          "sizemode": "area",
          "sizeref": 0.591715976331361,
          "symbol": "circle"
         },
         "mode": "markers",
         "name": "yaan",
         "showlegend": true,
         "type": "scattergeo"
        },
        {
         "geo": "geo",
         "hovertemplate": "<b>%{hovertext}</b><br><br>City=ixtapa<br>Humidity=%{marker.size}<br>Lat=%{lat}<br>Lng=%{lon}<extra></extra>",
         "hovertext": [
          "ixtapa"
         ],
         "lat": [
          20.7
         ],
         "legendgroup": "ixtapa",
         "lon": [
          -105.2
         ],
         "marker": {
          "color": "#FF6692",
          "opacity": 0.6,
          "size": [
           70
          ],
          "sizemode": "area",
          "sizeref": 0.591715976331361,
          "symbol": "circle"
         },
         "mode": "markers",
         "name": "ixtapa",
         "showlegend": true,
         "type": "scattergeo"
        },
        {
         "geo": "geo",
         "hovertemplate": "<b>%{hovertext}</b><br><br>City=dong hoi<br>Humidity=%{marker.size}<br>Lat=%{lat}<br>Lng=%{lon}<extra></extra>",
         "hovertext": [
          "dong hoi"
         ],
         "lat": [
          17.4833
         ],
         "legendgroup": "dong hoi",
         "lon": [
          106.6
         ],
         "marker": {
          "color": "#B6E880",
          "opacity": 0.6,
          "size": [
           70
          ],
          "sizemode": "area",
          "sizeref": 0.591715976331361,
          "symbol": "circle"
         },
         "mode": "markers",
         "name": "dong hoi",
         "showlegend": true,
         "type": "scattergeo"
        },
        {
         "geo": "geo",
         "hovertemplate": "<b>%{hovertext}</b><br><br>City=harindanga<br>Humidity=%{marker.size}<br>Lat=%{lat}<br>Lng=%{lon}<extra></extra>",
         "hovertext": [
          "harindanga"
         ],
         "lat": [
          22.0383
         ],
         "legendgroup": "harindanga",
         "lon": [
          88.3214
         ],
         "marker": {
          "color": "#FF97FF",
          "opacity": 0.6,
          "size": [
           75
          ],
          "sizemode": "area",
          "sizeref": 0.591715976331361,
          "symbol": "circle"
         },
         "mode": "markers",
         "name": "harindanga",
         "showlegend": true,
         "type": "scattergeo"
        },
        {
         "geo": "geo",
         "hovertemplate": "<b>%{hovertext}</b><br><br>City=pontypool<br>Humidity=%{marker.size}<br>Lat=%{lat}<br>Lng=%{lon}<extra></extra>",
         "hovertext": [
          "pontypool"
         ],
         "lat": [
          51.7011
         ],
         "legendgroup": "pontypool",
         "lon": [
          -3.0444
         ],
         "marker": {
          "color": "#FECB52",
          "opacity": 0.6,
          "size": [
           72
          ],
          "sizemode": "area",
          "sizeref": 0.591715976331361,
          "symbol": "circle"
         },
         "mode": "markers",
         "name": "pontypool",
         "showlegend": true,
         "type": "scattergeo"
        },
        {
         "geo": "geo",
         "hovertemplate": "<b>%{hovertext}</b><br><br>City=ulladulla<br>Humidity=%{marker.size}<br>Lat=%{lat}<br>Lng=%{lon}<extra></extra>",
         "hovertext": [
          "ulladulla"
         ],
         "lat": [
          -35.35
         ],
         "legendgroup": "ulladulla",
         "lon": [
          150.4667
         ],
         "marker": {
          "color": "#636efa",
          "opacity": 0.6,
          "size": [
           92
          ],
          "sizemode": "area",
          "sizeref": 0.591715976331361,
          "symbol": "circle"
         },
         "mode": "markers",
         "name": "ulladulla",
         "showlegend": true,
         "type": "scattergeo"
        },
        {
         "geo": "geo",
         "hovertemplate": "<b>%{hovertext}</b><br><br>City=la paz<br>Humidity=%{marker.size}<br>Lat=%{lat}<br>Lng=%{lon}<extra></extra>",
         "hovertext": [
          "la paz"
         ],
         "lat": [
          -16.5
         ],
         "legendgroup": "la paz",
         "lon": [
          -68.15
         ],
         "marker": {
          "color": "#EF553B",
          "opacity": 0.6,
          "size": [
           50
          ],
          "sizemode": "area",
          "sizeref": 0.591715976331361,
          "symbol": "circle"
         },
         "mode": "markers",
         "name": "la paz",
         "showlegend": true,
         "type": "scattergeo"
        },
        {
         "geo": "geo",
         "hovertemplate": "<b>%{hovertext}</b><br><br>City=hualmay<br>Humidity=%{marker.size}<br>Lat=%{lat}<br>Lng=%{lon}<extra></extra>",
         "hovertext": [
          "hualmay"
         ],
         "lat": [
          -11.0964
         ],
         "legendgroup": "hualmay",
         "lon": [
          -77.6139
         ],
         "marker": {
          "color": "#00cc96",
          "opacity": 0.6,
          "size": [
           71
          ],
          "sizemode": "area",
          "sizeref": 0.591715976331361,
          "symbol": "circle"
         },
         "mode": "markers",
         "name": "hualmay",
         "showlegend": true,
         "type": "scattergeo"
        },
        {
         "geo": "geo",
         "hovertemplate": "<b>%{hovertext}</b><br><br>City=barroso<br>Humidity=%{marker.size}<br>Lat=%{lat}<br>Lng=%{lon}<extra></extra>",
         "hovertext": [
          "barroso"
         ],
         "lat": [
          -21.1869
         ],
         "legendgroup": "barroso",
         "lon": [
          -43.9758
         ],
         "marker": {
          "color": "#ab63fa",
          "opacity": 0.6,
          "size": [
           34
          ],
          "sizemode": "area",
          "sizeref": 0.591715976331361,
          "symbol": "circle"
         },
         "mode": "markers",
         "name": "barroso",
         "showlegend": true,
         "type": "scattergeo"
        },
        {
         "geo": "geo",
         "hovertemplate": "<b>%{hovertext}</b><br><br>City=vryburg<br>Humidity=%{marker.size}<br>Lat=%{lat}<br>Lng=%{lon}<extra></extra>",
         "hovertext": [
          "vryburg"
         ],
         "lat": [
          -26.9566
         ],
         "legendgroup": "vryburg",
         "lon": [
          24.7284
         ],
         "marker": {
          "color": "#FFA15A",
          "opacity": 0.6,
          "size": [
           44
          ],
          "sizemode": "area",
          "sizeref": 0.591715976331361,
          "symbol": "circle"
         },
         "mode": "markers",
         "name": "vryburg",
         "showlegend": true,
         "type": "scattergeo"
        },
        {
         "geo": "geo",
         "hovertemplate": "<b>%{hovertext}</b><br><br>City=beira<br>Humidity=%{marker.size}<br>Lat=%{lat}<br>Lng=%{lon}<extra></extra>",
         "hovertext": [
          "beira"
         ],
         "lat": [
          -19.8436
         ],
         "legendgroup": "beira",
         "lon": [
          34.8389
         ],
         "marker": {
          "color": "#19d3f3",
          "opacity": 0.6,
          "size": [
           69
          ],
          "sizemode": "area",
          "sizeref": 0.591715976331361,
          "symbol": "circle"
         },
         "mode": "markers",
         "name": "beira",
         "showlegend": true,
         "type": "scattergeo"
        },
        {
         "geo": "geo",
         "hovertemplate": "<b>%{hovertext}</b><br><br>City=the valley<br>Humidity=%{marker.size}<br>Lat=%{lat}<br>Lng=%{lon}<extra></extra>",
         "hovertext": [
          "the valley"
         ],
         "lat": [
          18.217
         ],
         "legendgroup": "the valley",
         "lon": [
          -63.0578
         ],
         "marker": {
          "color": "#FF6692",
          "opacity": 0.6,
          "size": [
           65
          ],
          "sizemode": "area",
          "sizeref": 0.591715976331361,
          "symbol": "circle"
         },
         "mode": "markers",
         "name": "the valley",
         "showlegend": true,
         "type": "scattergeo"
        },
        {
         "geo": "geo",
         "hovertemplate": "<b>%{hovertext}</b><br><br>City=narsaq<br>Humidity=%{marker.size}<br>Lat=%{lat}<br>Lng=%{lon}<extra></extra>",
         "hovertext": [
          "narsaq"
         ],
         "lat": [
          60.9167
         ],
         "legendgroup": "narsaq",
         "lon": [
          -46.05
         ],
         "marker": {
          "color": "#B6E880",
          "opacity": 0.6,
          "size": [
           82
          ],
          "sizemode": "area",
          "sizeref": 0.591715976331361,
          "symbol": "circle"
         },
         "mode": "markers",
         "name": "narsaq",
         "showlegend": true,
         "type": "scattergeo"
        },
        {
         "geo": "geo",
         "hovertemplate": "<b>%{hovertext}</b><br><br>City=juegang<br>Humidity=%{marker.size}<br>Lat=%{lat}<br>Lng=%{lon}<extra></extra>",
         "hovertext": [
          "juegang"
         ],
         "lat": [
          32.3174
         ],
         "legendgroup": "juegang",
         "lon": [
          121.1855
         ],
         "marker": {
          "color": "#FF97FF",
          "opacity": 0.6,
          "size": [
           63
          ],
          "sizemode": "area",
          "sizeref": 0.591715976331361,
          "symbol": "circle"
         },
         "mode": "markers",
         "name": "juegang",
         "showlegend": true,
         "type": "scattergeo"
        },
        {
         "geo": "geo",
         "hovertemplate": "<b>%{hovertext}</b><br><br>City=verkhniy avzyan<br>Humidity=%{marker.size}<br>Lat=%{lat}<br>Lng=%{lon}<extra></extra>",
         "hovertext": [
          "verkhniy avzyan"
         ],
         "lat": [
          53.5289
         ],
         "legendgroup": "verkhniy avzyan",
         "lon": [
          57.5372
         ],
         "marker": {
          "color": "#FECB52",
          "opacity": 0.6,
          "size": [
           96
          ],
          "sizemode": "area",
          "sizeref": 0.591715976331361,
          "symbol": "circle"
         },
         "mode": "markers",
         "name": "verkhniy avzyan",
         "showlegend": true,
         "type": "scattergeo"
        },
        {
         "geo": "geo",
         "hovertemplate": "<b>%{hovertext}</b><br><br>City=araouane<br>Humidity=%{marker.size}<br>Lat=%{lat}<br>Lng=%{lon}<extra></extra>",
         "hovertext": [
          "araouane"
         ],
         "lat": [
          18.9048
         ],
         "legendgroup": "araouane",
         "lon": [
          -3.5265
         ],
         "marker": {
          "color": "#636efa",
          "opacity": 0.6,
          "size": [
           10
          ],
          "sizemode": "area",
          "sizeref": 0.591715976331361,
          "symbol": "circle"
         },
         "mode": "markers",
         "name": "araouane",
         "showlegend": true,
         "type": "scattergeo"
        },
        {
         "geo": "geo",
         "hovertemplate": "<b>%{hovertext}</b><br><br>City=kirakira<br>Humidity=%{marker.size}<br>Lat=%{lat}<br>Lng=%{lon}<extra></extra>",
         "hovertext": [
          "kirakira"
         ],
         "lat": [
          -10.4544
         ],
         "legendgroup": "kirakira",
         "lon": [
          161.9205
         ],
         "marker": {
          "color": "#EF553B",
          "opacity": 0.6,
          "size": [
           81
          ],
          "sizemode": "area",
          "sizeref": 0.591715976331361,
          "symbol": "circle"
         },
         "mode": "markers",
         "name": "kirakira",
         "showlegend": true,
         "type": "scattergeo"
        },
        {
         "geo": "geo",
         "hovertemplate": "<b>%{hovertext}</b><br><br>City=tautira<br>Humidity=%{marker.size}<br>Lat=%{lat}<br>Lng=%{lon}<extra></extra>",
         "hovertext": [
          "tautira"
         ],
         "lat": [
          -17.7333
         ],
         "legendgroup": "tautira",
         "lon": [
          -149.15
         ],
         "marker": {
          "color": "#00cc96",
          "opacity": 0.6,
          "size": [
           81
          ],
          "sizemode": "area",
          "sizeref": 0.591715976331361,
          "symbol": "circle"
         },
         "mode": "markers",
         "name": "tautira",
         "showlegend": true,
         "type": "scattergeo"
        },
        {
         "geo": "geo",
         "hovertemplate": "<b>%{hovertext}</b><br><br>City=singkang<br>Humidity=%{marker.size}<br>Lat=%{lat}<br>Lng=%{lon}<extra></extra>",
         "hovertext": [
          "singkang"
         ],
         "lat": [
          2.1006
         ],
         "legendgroup": "singkang",
         "lon": [
          102.7994
         ],
         "marker": {
          "color": "#ab63fa",
          "opacity": 0.6,
          "size": [
           89
          ],
          "sizemode": "area",
          "sizeref": 0.591715976331361,
          "symbol": "circle"
         },
         "mode": "markers",
         "name": "singkang",
         "showlegend": true,
         "type": "scattergeo"
        },
        {
         "geo": "geo",
         "hovertemplate": "<b>%{hovertext}</b><br><br>City=taitung<br>Humidity=%{marker.size}<br>Lat=%{lat}<br>Lng=%{lon}<extra></extra>",
         "hovertext": [
          "taitung"
         ],
         "lat": [
          22.7583
         ],
         "legendgroup": "taitung",
         "lon": [
          121.1444
         ],
         "marker": {
          "color": "#FFA15A",
          "opacity": 0.6,
          "size": [
           80
          ],
          "sizemode": "area",
          "sizeref": 0.591715976331361,
          "symbol": "circle"
         },
         "mode": "markers",
         "name": "taitung",
         "showlegend": true,
         "type": "scattergeo"
        },
        {
         "geo": "geo",
         "hovertemplate": "<b>%{hovertext}</b><br><br>City=nabire<br>Humidity=%{marker.size}<br>Lat=%{lat}<br>Lng=%{lon}<extra></extra>",
         "hovertext": [
          "nabire"
         ],
         "lat": [
          -3.3667
         ],
         "legendgroup": "nabire",
         "lon": [
          135.4833
         ],
         "marker": {
          "color": "#19d3f3",
          "opacity": 0.6,
          "size": [
           91
          ],
          "sizemode": "area",
          "sizeref": 0.591715976331361,
          "symbol": "circle"
         },
         "mode": "markers",
         "name": "nabire",
         "showlegend": true,
         "type": "scattergeo"
        },
        {
         "geo": "geo",
         "hovertemplate": "<b>%{hovertext}</b><br><br>City=chifeng<br>Humidity=%{marker.size}<br>Lat=%{lat}<br>Lng=%{lon}<extra></extra>",
         "hovertext": [
          "chifeng"
         ],
         "lat": [
          42.2683
         ],
         "legendgroup": "chifeng",
         "lon": [
          118.9636
         ],
         "marker": {
          "color": "#FF6692",
          "opacity": 0.6,
          "size": [
           20
          ],
          "sizemode": "area",
          "sizeref": 0.591715976331361,
          "symbol": "circle"
         },
         "mode": "markers",
         "name": "chifeng",
         "showlegend": true,
         "type": "scattergeo"
        },
        {
         "geo": "geo",
         "hovertemplate": "<b>%{hovertext}</b><br><br>City=caiaponia<br>Humidity=%{marker.size}<br>Lat=%{lat}<br>Lng=%{lon}<extra></extra>",
         "hovertext": [
          "caiaponia"
         ],
         "lat": [
          -16.9567
         ],
         "legendgroup": "caiaponia",
         "lon": [
          -51.8103
         ],
         "marker": {
          "color": "#B6E880",
          "opacity": 0.6,
          "size": [
           14
          ],
          "sizemode": "area",
          "sizeref": 0.591715976331361,
          "symbol": "circle"
         },
         "mode": "markers",
         "name": "caiaponia",
         "showlegend": true,
         "type": "scattergeo"
        },
        {
         "geo": "geo",
         "hovertemplate": "<b>%{hovertext}</b><br><br>City=salto<br>Humidity=%{marker.size}<br>Lat=%{lat}<br>Lng=%{lon}<extra></extra>",
         "hovertext": [
          "salto"
         ],
         "lat": [
          -31.3833
         ],
         "legendgroup": "salto",
         "lon": [
          -57.9667
         ],
         "marker": {
          "color": "#FF97FF",
          "opacity": 0.6,
          "size": [
           61
          ],
          "sizemode": "area",
          "sizeref": 0.591715976331361,
          "symbol": "circle"
         },
         "mode": "markers",
         "name": "salto",
         "showlegend": true,
         "type": "scattergeo"
        },
        {
         "geo": "geo",
         "hovertemplate": "<b>%{hovertext}</b><br><br>City=praya<br>Humidity=%{marker.size}<br>Lat=%{lat}<br>Lng=%{lon}<extra></extra>",
         "hovertext": [
          "praya"
         ],
         "lat": [
          14.9215
         ],
         "legendgroup": "praya",
         "lon": [
          -23.5087
         ],
         "marker": {
          "color": "#FECB52",
          "opacity": 0.6,
          "size": [
           74
          ],
          "sizemode": "area",
          "sizeref": 0.591715976331361,
          "symbol": "circle"
         },
         "mode": "markers",
         "name": "praya",
         "showlegend": true,
         "type": "scattergeo"
        },
        {
         "geo": "geo",
         "hovertemplate": "<b>%{hovertext}</b><br><br>City=aksarka<br>Humidity=%{marker.size}<br>Lat=%{lat}<br>Lng=%{lon}<extra></extra>",
         "hovertext": [
          "aksarka"
         ],
         "lat": [
          66.5606
         ],
         "legendgroup": "aksarka",
         "lon": [
          67.7975
         ],
         "marker": {
          "color": "#636efa",
          "opacity": 0.6,
          "size": [
           95
          ],
          "sizemode": "area",
          "sizeref": 0.591715976331361,
          "symbol": "circle"
         },
         "mode": "markers",
         "name": "aksarka",
         "showlegend": true,
         "type": "scattergeo"
        },
        {
         "geo": "geo",
         "hovertemplate": "<b>%{hovertext}</b><br><br>City=abu zabad<br>Humidity=%{marker.size}<br>Lat=%{lat}<br>Lng=%{lon}<extra></extra>",
         "hovertext": [
          "abu zabad"
         ],
         "lat": [
          12.35
         ],
         "legendgroup": "abu zabad",
         "lon": [
          29.25
         ],
         "marker": {
          "color": "#EF553B",
          "opacity": 0.6,
          "size": [
           29
          ],
          "sizemode": "area",
          "sizeref": 0.591715976331361,
          "symbol": "circle"
         },
         "mode": "markers",
         "name": "abu zabad",
         "showlegend": true,
         "type": "scattergeo"
        },
        {
         "geo": "geo",
         "hovertemplate": "<b>%{hovertext}</b><br><br>City=kushima<br>Humidity=%{marker.size}<br>Lat=%{lat}<br>Lng=%{lon}<extra></extra>",
         "hovertext": [
          "kushima"
         ],
         "lat": [
          31.4583
         ],
         "legendgroup": "kushima",
         "lon": [
          131.2333
         ],
         "marker": {
          "color": "#00cc96",
          "opacity": 0.6,
          "size": [
           82
          ],
          "sizemode": "area",
          "sizeref": 0.591715976331361,
          "symbol": "circle"
         },
         "mode": "markers",
         "name": "kushima",
         "showlegend": true,
         "type": "scattergeo"
        },
        {
         "geo": "geo",
         "hovertemplate": "<b>%{hovertext}</b><br><br>City=beaune<br>Humidity=%{marker.size}<br>Lat=%{lat}<br>Lng=%{lon}<extra></extra>",
         "hovertext": [
          "beaune"
         ],
         "lat": [
          47.0833
         ],
         "legendgroup": "beaune",
         "lon": [
          4.75
         ],
         "marker": {
          "color": "#ab63fa",
          "opacity": 0.6,
          "size": [
           74
          ],
          "sizemode": "area",
          "sizeref": 0.591715976331361,
          "symbol": "circle"
         },
         "mode": "markers",
         "name": "beaune",
         "showlegend": true,
         "type": "scattergeo"
        },
        {
         "geo": "geo",
         "hovertemplate": "<b>%{hovertext}</b><br><br>City=egvekinot<br>Humidity=%{marker.size}<br>Lat=%{lat}<br>Lng=%{lon}<extra></extra>",
         "hovertext": [
          "egvekinot"
         ],
         "lat": [
          66.3167
         ],
         "legendgroup": "egvekinot",
         "lon": [
          -179.1667
         ],
         "marker": {
          "color": "#FFA15A",
          "opacity": 0.6,
          "size": [
           87
          ],
          "sizemode": "area",
          "sizeref": 0.591715976331361,
          "symbol": "circle"
         },
         "mode": "markers",
         "name": "egvekinot",
         "showlegend": true,
         "type": "scattergeo"
        },
        {
         "geo": "geo",
         "hovertemplate": "<b>%{hovertext}</b><br><br>City=greenville<br>Humidity=%{marker.size}<br>Lat=%{lat}<br>Lng=%{lon}<extra></extra>",
         "hovertext": [
          "greenville"
         ],
         "lat": [
          35.6127
         ],
         "legendgroup": "greenville",
         "lon": [
          -77.3663
         ],
         "marker": {
          "color": "#19d3f3",
          "opacity": 0.6,
          "size": [
           48
          ],
          "sizemode": "area",
          "sizeref": 0.591715976331361,
          "symbol": "circle"
         },
         "mode": "markers",
         "name": "greenville",
         "showlegend": true,
         "type": "scattergeo"
        },
        {
         "geo": "geo",
         "hovertemplate": "<b>%{hovertext}</b><br><br>City=ust-ordynskiy<br>Humidity=%{marker.size}<br>Lat=%{lat}<br>Lng=%{lon}<extra></extra>",
         "hovertext": [
          "ust-ordynskiy"
         ],
         "lat": [
          52.805
         ],
         "legendgroup": "ust-ordynskiy",
         "lon": [
          104.7508
         ],
         "marker": {
          "color": "#FF6692",
          "opacity": 0.6,
          "size": [
           84
          ],
          "sizemode": "area",
          "sizeref": 0.591715976331361,
          "symbol": "circle"
         },
         "mode": "markers",
         "name": "ust-ordynskiy",
         "showlegend": true,
         "type": "scattergeo"
        },
        {
         "geo": "geo",
         "hovertemplate": "<b>%{hovertext}</b><br><br>City=tranas<br>Humidity=%{marker.size}<br>Lat=%{lat}<br>Lng=%{lon}<extra></extra>",
         "hovertext": [
          "tranas"
         ],
         "lat": [
          58.0372
         ],
         "legendgroup": "tranas",
         "lon": [
          14.9782
         ],
         "marker": {
          "color": "#B6E880",
          "opacity": 0.6,
          "size": [
           93
          ],
          "sizemode": "area",
          "sizeref": 0.591715976331361,
          "symbol": "circle"
         },
         "mode": "markers",
         "name": "tranas",
         "showlegend": true,
         "type": "scattergeo"
        },
        {
         "geo": "geo",
         "hovertemplate": "<b>%{hovertext}</b><br><br>City=pleasanton<br>Humidity=%{marker.size}<br>Lat=%{lat}<br>Lng=%{lon}<extra></extra>",
         "hovertext": [
          "pleasanton"
         ],
         "lat": [
          37.6624
         ],
         "legendgroup": "pleasanton",
         "lon": [
          -121.8747
         ],
         "marker": {
          "color": "#FF97FF",
          "opacity": 0.6,
          "size": [
           86
          ],
          "sizemode": "area",
          "sizeref": 0.591715976331361,
          "symbol": "circle"
         },
         "mode": "markers",
         "name": "pleasanton",
         "showlegend": true,
         "type": "scattergeo"
        },
        {
         "geo": "geo",
         "hovertemplate": "<b>%{hovertext}</b><br><br>City=beringovskiy<br>Humidity=%{marker.size}<br>Lat=%{lat}<br>Lng=%{lon}<extra></extra>",
         "hovertext": [
          "beringovskiy"
         ],
         "lat": [
          63.05
         ],
         "legendgroup": "beringovskiy",
         "lon": [
          179.3167
         ],
         "marker": {
          "color": "#FECB52",
          "opacity": 0.6,
          "size": [
           92
          ],
          "sizemode": "area",
          "sizeref": 0.591715976331361,
          "symbol": "circle"
         },
         "mode": "markers",
         "name": "beringovskiy",
         "showlegend": true,
         "type": "scattergeo"
        },
        {
         "geo": "geo",
         "hovertemplate": "<b>%{hovertext}</b><br><br>City=newcastleton<br>Humidity=%{marker.size}<br>Lat=%{lat}<br>Lng=%{lon}<extra></extra>",
         "hovertext": [
          "newcastleton"
         ],
         "lat": [
          55.1796
         ],
         "legendgroup": "newcastleton",
         "lon": [
          -2.8127
         ],
         "marker": {
          "color": "#636efa",
          "opacity": 0.6,
          "size": [
           71
          ],
          "sizemode": "area",
          "sizeref": 0.591715976331361,
          "symbol": "circle"
         },
         "mode": "markers",
         "name": "newcastleton",
         "showlegend": true,
         "type": "scattergeo"
        },
        {
         "geo": "geo",
         "hovertemplate": "<b>%{hovertext}</b><br><br>City=hirado<br>Humidity=%{marker.size}<br>Lat=%{lat}<br>Lng=%{lon}<extra></extra>",
         "hovertext": [
          "hirado"
         ],
         "lat": [
          33.3597
         ],
         "legendgroup": "hirado",
         "lon": [
          129.5531
         ],
         "marker": {
          "color": "#EF553B",
          "opacity": 0.6,
          "size": [
           55
          ],
          "sizemode": "area",
          "sizeref": 0.591715976331361,
          "symbol": "circle"
         },
         "mode": "markers",
         "name": "hirado",
         "showlegend": true,
         "type": "scattergeo"
        },
        {
         "geo": "geo",
         "hovertemplate": "<b>%{hovertext}</b><br><br>City=brokopondo<br>Humidity=%{marker.size}<br>Lat=%{lat}<br>Lng=%{lon}<extra></extra>",
         "hovertext": [
          "brokopondo"
         ],
         "lat": [
          4.75
         ],
         "legendgroup": "brokopondo",
         "lon": [
          -55.1667
         ],
         "marker": {
          "color": "#00cc96",
          "opacity": 0.6,
          "size": [
           60
          ],
          "sizemode": "area",
          "sizeref": 0.591715976331361,
          "symbol": "circle"
         },
         "mode": "markers",
         "name": "brokopondo",
         "showlegend": true,
         "type": "scattergeo"
        },
        {
         "geo": "geo",
         "hovertemplate": "<b>%{hovertext}</b><br><br>City=batagay<br>Humidity=%{marker.size}<br>Lat=%{lat}<br>Lng=%{lon}<extra></extra>",
         "hovertext": [
          "batagay"
         ],
         "lat": [
          67.6333
         ],
         "legendgroup": "batagay",
         "lon": [
          134.6333
         ],
         "marker": {
          "color": "#ab63fa",
          "opacity": 0.6,
          "size": [
           99
          ],
          "sizemode": "area",
          "sizeref": 0.591715976331361,
          "symbol": "circle"
         },
         "mode": "markers",
         "name": "batagay",
         "showlegend": true,
         "type": "scattergeo"
        },
        {
         "geo": "geo",
         "hovertemplate": "<b>%{hovertext}</b><br><br>City=laurel<br>Humidity=%{marker.size}<br>Lat=%{lat}<br>Lng=%{lon}<extra></extra>",
         "hovertext": [
          "laurel"
         ],
         "lat": [
          39.0993
         ],
         "legendgroup": "laurel",
         "lon": [
          -76.8483
         ],
         "marker": {
          "color": "#FFA15A",
          "opacity": 0.6,
          "size": [
           55
          ],
          "sizemode": "area",
          "sizeref": 0.591715976331361,
          "symbol": "circle"
         },
         "mode": "markers",
         "name": "laurel",
         "showlegend": true,
         "type": "scattergeo"
        },
        {
         "geo": "geo",
         "hovertemplate": "<b>%{hovertext}</b><br><br>City=statesville<br>Humidity=%{marker.size}<br>Lat=%{lat}<br>Lng=%{lon}<extra></extra>",
         "hovertext": [
          "statesville"
         ],
         "lat": [
          35.7826
         ],
         "legendgroup": "statesville",
         "lon": [
          -80.8873
         ],
         "marker": {
          "color": "#19d3f3",
          "opacity": 0.6,
          "size": [
           49
          ],
          "sizemode": "area",
          "sizeref": 0.591715976331361,
          "symbol": "circle"
         },
         "mode": "markers",
         "name": "statesville",
         "showlegend": true,
         "type": "scattergeo"
        },
        {
         "geo": "geo",
         "hovertemplate": "<b>%{hovertext}</b><br><br>City=tikrit<br>Humidity=%{marker.size}<br>Lat=%{lat}<br>Lng=%{lon}<extra></extra>",
         "hovertext": [
          "tikrit"
         ],
         "lat": [
          34.6071
         ],
         "legendgroup": "tikrit",
         "lon": [
          43.6782
         ],
         "marker": {
          "color": "#FF6692",
          "opacity": 0.6,
          "size": [
           14
          ],
          "sizemode": "area",
          "sizeref": 0.591715976331361,
          "symbol": "circle"
         },
         "mode": "markers",
         "name": "tikrit",
         "showlegend": true,
         "type": "scattergeo"
        },
        {
         "geo": "geo",
         "hovertemplate": "<b>%{hovertext}</b><br><br>City=iisalmi<br>Humidity=%{marker.size}<br>Lat=%{lat}<br>Lng=%{lon}<extra></extra>",
         "hovertext": [
          "iisalmi"
         ],
         "lat": [
          63.5592
         ],
         "legendgroup": "iisalmi",
         "lon": [
          27.1907
         ],
         "marker": {
          "color": "#B6E880",
          "opacity": 0.6,
          "size": [
           90
          ],
          "sizemode": "area",
          "sizeref": 0.591715976331361,
          "symbol": "circle"
         },
         "mode": "markers",
         "name": "iisalmi",
         "showlegend": true,
         "type": "scattergeo"
        },
        {
         "geo": "geo",
         "hovertemplate": "<b>%{hovertext}</b><br><br>City=lahij<br>Humidity=%{marker.size}<br>Lat=%{lat}<br>Lng=%{lon}<extra></extra>",
         "hovertext": [
          "lahij"
         ],
         "lat": [
          13.1667
         ],
         "legendgroup": "lahij",
         "lon": [
          44.5833
         ],
         "marker": {
          "color": "#FF97FF",
          "opacity": 0.6,
          "size": [
           55
          ],
          "sizemode": "area",
          "sizeref": 0.591715976331361,
          "symbol": "circle"
         },
         "mode": "markers",
         "name": "lahij",
         "showlegend": true,
         "type": "scattergeo"
        },
        {
         "geo": "geo",
         "hovertemplate": "<b>%{hovertext}</b><br><br>City=derzhavinsk<br>Humidity=%{marker.size}<br>Lat=%{lat}<br>Lng=%{lon}<extra></extra>",
         "hovertext": [
          "derzhavinsk"
         ],
         "lat": [
          51.1
         ],
         "legendgroup": "derzhavinsk",
         "lon": [
          66.3167
         ],
         "marker": {
          "color": "#FECB52",
          "opacity": 0.6,
          "size": [
           51
          ],
          "sizemode": "area",
          "sizeref": 0.591715976331361,
          "symbol": "circle"
         },
         "mode": "markers",
         "name": "derzhavinsk",
         "showlegend": true,
         "type": "scattergeo"
        },
        {
         "geo": "geo",
         "hovertemplate": "<b>%{hovertext}</b><br><br>City=kyren<br>Humidity=%{marker.size}<br>Lat=%{lat}<br>Lng=%{lon}<extra></extra>",
         "hovertext": [
          "kyren"
         ],
         "lat": [
          51.6828
         ],
         "legendgroup": "kyren",
         "lon": [
          102.1408
         ],
         "marker": {
          "color": "#636efa",
          "opacity": 0.6,
          "size": [
           73
          ],
          "sizemode": "area",
          "sizeref": 0.591715976331361,
          "symbol": "circle"
         },
         "mode": "markers",
         "name": "kyren",
         "showlegend": true,
         "type": "scattergeo"
        },
        {
         "geo": "geo",
         "hovertemplate": "<b>%{hovertext}</b><br><br>City=kapit<br>Humidity=%{marker.size}<br>Lat=%{lat}<br>Lng=%{lon}<extra></extra>",
         "hovertext": [
          "kapit"
         ],
         "lat": [
          2.0167
         ],
         "legendgroup": "kapit",
         "lon": [
          112.9333
         ],
         "marker": {
          "color": "#EF553B",
          "opacity": 0.6,
          "size": [
           99
          ],
          "sizemode": "area",
          "sizeref": 0.591715976331361,
          "symbol": "circle"
         },
         "mode": "markers",
         "name": "kapit",
         "showlegend": true,
         "type": "scattergeo"
        },
        {
         "geo": "geo",
         "hovertemplate": "<b>%{hovertext}</b><br><br>City=altay<br>Humidity=%{marker.size}<br>Lat=%{lat}<br>Lng=%{lon}<extra></extra>",
         "hovertext": [
          "altay"
         ],
         "lat": [
          47.8667
         ],
         "legendgroup": "altay",
         "lon": [
          88.1167
         ],
         "marker": {
          "color": "#00cc96",
          "opacity": 0.6,
          "size": [
           84
          ],
          "sizemode": "area",
          "sizeref": 0.591715976331361,
          "symbol": "circle"
         },
         "mode": "markers",
         "name": "altay",
         "showlegend": true,
         "type": "scattergeo"
        },
        {
         "geo": "geo",
         "hovertemplate": "<b>%{hovertext}</b><br><br>City=waseca<br>Humidity=%{marker.size}<br>Lat=%{lat}<br>Lng=%{lon}<extra></extra>",
         "hovertext": [
          "waseca"
         ],
         "lat": [
          44.0777
         ],
         "legendgroup": "waseca",
         "lon": [
          -93.5074
         ],
         "marker": {
          "color": "#ab63fa",
          "opacity": 0.6,
          "size": [
           65
          ],
          "sizemode": "area",
          "sizeref": 0.591715976331361,
          "symbol": "circle"
         },
         "mode": "markers",
         "name": "waseca",
         "showlegend": true,
         "type": "scattergeo"
        },
        {
         "geo": "geo",
         "hovertemplate": "<b>%{hovertext}</b><br><br>City=nantucket<br>Humidity=%{marker.size}<br>Lat=%{lat}<br>Lng=%{lon}<extra></extra>",
         "hovertext": [
          "nantucket"
         ],
         "lat": [
          41.2835
         ],
         "legendgroup": "nantucket",
         "lon": [
          -70.0995
         ],
         "marker": {
          "color": "#FFA15A",
          "opacity": 0.6,
          "size": [
           90
          ],
          "sizemode": "area",
          "sizeref": 0.591715976331361,
          "symbol": "circle"
         },
         "mode": "markers",
         "name": "nantucket",
         "showlegend": true,
         "type": "scattergeo"
        },
        {
         "geo": "geo",
         "hovertemplate": "<b>%{hovertext}</b><br><br>City=cadillac<br>Humidity=%{marker.size}<br>Lat=%{lat}<br>Lng=%{lon}<extra></extra>",
         "hovertext": [
          "cadillac"
         ],
         "lat": [
          44.2519
         ],
         "legendgroup": "cadillac",
         "lon": [
          -85.4012
         ],
         "marker": {
          "color": "#19d3f3",
          "opacity": 0.6,
          "size": [
           93
          ],
          "sizemode": "area",
          "sizeref": 0.591715976331361,
          "symbol": "circle"
         },
         "mode": "markers",
         "name": "cadillac",
         "showlegend": true,
         "type": "scattergeo"
        },
        {
         "geo": "geo",
         "hovertemplate": "<b>%{hovertext}</b><br><br>City=sfantu gheorghe<br>Humidity=%{marker.size}<br>Lat=%{lat}<br>Lng=%{lon}<extra></extra>",
         "hovertext": [
          "sfantu gheorghe"
         ],
         "lat": [
          45.8667
         ],
         "legendgroup": "sfantu gheorghe",
         "lon": [
          25.7833
         ],
         "marker": {
          "color": "#FF6692",
          "opacity": 0.6,
          "size": [
           51
          ],
          "sizemode": "area",
          "sizeref": 0.591715976331361,
          "symbol": "circle"
         },
         "mode": "markers",
         "name": "sfantu gheorghe",
         "showlegend": true,
         "type": "scattergeo"
        },
        {
         "geo": "geo",
         "hovertemplate": "<b>%{hovertext}</b><br><br>City=kundiawa<br>Humidity=%{marker.size}<br>Lat=%{lat}<br>Lng=%{lon}<extra></extra>",
         "hovertext": [
          "kundiawa"
         ],
         "lat": [
          -6.0167
         ],
         "legendgroup": "kundiawa",
         "lon": [
          144.9667
         ],
         "marker": {
          "color": "#B6E880",
          "opacity": 0.6,
          "size": [
           97
          ],
          "sizemode": "area",
          "sizeref": 0.591715976331361,
          "symbol": "circle"
         },
         "mode": "markers",
         "name": "kundiawa",
         "showlegend": true,
         "type": "scattergeo"
        },
        {
         "geo": "geo",
         "hovertemplate": "<b>%{hovertext}</b><br><br>City=gornopravdinsk<br>Humidity=%{marker.size}<br>Lat=%{lat}<br>Lng=%{lon}<extra></extra>",
         "hovertext": [
          "gornopravdinsk"
         ],
         "lat": [
          60.05
         ],
         "legendgroup": "gornopravdinsk",
         "lon": [
          69.9
         ],
         "marker": {
          "color": "#FF97FF",
          "opacity": 0.6,
          "size": [
           90
          ],
          "sizemode": "area",
          "sizeref": 0.591715976331361,
          "symbol": "circle"
         },
         "mode": "markers",
         "name": "gornopravdinsk",
         "showlegend": true,
         "type": "scattergeo"
        },
        {
         "geo": "geo",
         "hovertemplate": "<b>%{hovertext}</b><br><br>City=bhandara<br>Humidity=%{marker.size}<br>Lat=%{lat}<br>Lng=%{lon}<extra></extra>",
         "hovertext": [
          "bhandara"
         ],
         "lat": [
          21.1667
         ],
         "legendgroup": "bhandara",
         "lon": [
          79.65
         ],
         "marker": {
          "color": "#FECB52",
          "opacity": 0.6,
          "size": [
           86
          ],
          "sizemode": "area",
          "sizeref": 0.591715976331361,
          "symbol": "circle"
         },
         "mode": "markers",
         "name": "bhandara",
         "showlegend": true,
         "type": "scattergeo"
        },
        {
         "geo": "geo",
         "hovertemplate": "<b>%{hovertext}</b><br><br>City=wadi musa<br>Humidity=%{marker.size}<br>Lat=%{lat}<br>Lng=%{lon}<extra></extra>",
         "hovertext": [
          "wadi musa"
         ],
         "lat": [
          30.3222
         ],
         "legendgroup": "wadi musa",
         "lon": [
          35.4793
         ],
         "marker": {
          "color": "#636efa",
          "opacity": 0.6,
          "size": [
           63
          ],
          "sizemode": "area",
          "sizeref": 0.591715976331361,
          "symbol": "circle"
         },
         "mode": "markers",
         "name": "wadi musa",
         "showlegend": true,
         "type": "scattergeo"
        },
        {
         "geo": "geo",
         "hovertemplate": "<b>%{hovertext}</b><br><br>City=charters towers<br>Humidity=%{marker.size}<br>Lat=%{lat}<br>Lng=%{lon}<extra></extra>",
         "hovertext": [
          "charters towers"
         ],
         "lat": [
          -20.1
         ],
         "legendgroup": "charters towers",
         "lon": [
          146.2667
         ],
         "marker": {
          "color": "#EF553B",
          "opacity": 0.6,
          "size": [
           77
          ],
          "sizemode": "area",
          "sizeref": 0.591715976331361,
          "symbol": "circle"
         },
         "mode": "markers",
         "name": "charters towers",
         "showlegend": true,
         "type": "scattergeo"
        },
        {
         "geo": "geo",
         "hovertemplate": "<b>%{hovertext}</b><br><br>City=ustka<br>Humidity=%{marker.size}<br>Lat=%{lat}<br>Lng=%{lon}<extra></extra>",
         "hovertext": [
          "ustka"
         ],
         "lat": [
          54.5805
         ],
         "legendgroup": "ustka",
         "lon": [
          16.8619
         ],
         "marker": {
          "color": "#00cc96",
          "opacity": 0.6,
          "size": [
           86
          ],
          "sizemode": "area",
          "sizeref": 0.591715976331361,
          "symbol": "circle"
         },
         "mode": "markers",
         "name": "ustka",
         "showlegend": true,
         "type": "scattergeo"
        },
        {
         "geo": "geo",
         "hovertemplate": "<b>%{hovertext}</b><br><br>City=sawakin<br>Humidity=%{marker.size}<br>Lat=%{lat}<br>Lng=%{lon}<extra></extra>",
         "hovertext": [
          "sawakin"
         ],
         "lat": [
          19.1059
         ],
         "legendgroup": "sawakin",
         "lon": [
          37.3321
         ],
         "marker": {
          "color": "#ab63fa",
          "opacity": 0.6,
          "size": [
           69
          ],
          "sizemode": "area",
          "sizeref": 0.591715976331361,
          "symbol": "circle"
         },
         "mode": "markers",
         "name": "sawakin",
         "showlegend": true,
         "type": "scattergeo"
        },
        {
         "geo": "geo",
         "hovertemplate": "<b>%{hovertext}</b><br><br>City=severo-kurilsk<br>Humidity=%{marker.size}<br>Lat=%{lat}<br>Lng=%{lon}<extra></extra>",
         "hovertext": [
          "severo-kurilsk"
         ],
         "lat": [
          50.6789
         ],
         "legendgroup": "severo-kurilsk",
         "lon": [
          156.125
         ],
         "marker": {
          "color": "#FFA15A",
          "opacity": 0.6,
          "size": [
           68
          ],
          "sizemode": "area",
          "sizeref": 0.591715976331361,
          "symbol": "circle"
         },
         "mode": "markers",
         "name": "severo-kurilsk",
         "showlegend": true,
         "type": "scattergeo"
        },
        {
         "geo": "geo",
         "hovertemplate": "<b>%{hovertext}</b><br><br>City=rameswaram<br>Humidity=%{marker.size}<br>Lat=%{lat}<br>Lng=%{lon}<extra></extra>",
         "hovertext": [
          "rameswaram"
         ],
         "lat": [
          9.2833
         ],
         "legendgroup": "rameswaram",
         "lon": [
          79.3
         ],
         "marker": {
          "color": "#19d3f3",
          "opacity": 0.6,
          "size": [
           77
          ],
          "sizemode": "area",
          "sizeref": 0.591715976331361,
          "symbol": "circle"
         },
         "mode": "markers",
         "name": "rameswaram",
         "showlegend": true,
         "type": "scattergeo"
        },
        {
         "geo": "geo",
         "hovertemplate": "<b>%{hovertext}</b><br><br>City=guerrero negro<br>Humidity=%{marker.size}<br>Lat=%{lat}<br>Lng=%{lon}<extra></extra>",
         "hovertext": [
          "guerrero negro"
         ],
         "lat": [
          27.9769
         ],
         "legendgroup": "guerrero negro",
         "lon": [
          -114.0611
         ],
         "marker": {
          "color": "#FF6692",
          "opacity": 0.6,
          "size": [
           68
          ],
          "sizemode": "area",
          "sizeref": 0.591715976331361,
          "symbol": "circle"
         },
         "mode": "markers",
         "name": "guerrero negro",
         "showlegend": true,
         "type": "scattergeo"
        },
        {
         "geo": "geo",
         "hovertemplate": "<b>%{hovertext}</b><br><br>City=bandarbeyla<br>Humidity=%{marker.size}<br>Lat=%{lat}<br>Lng=%{lon}<extra></extra>",
         "hovertext": [
          "bandarbeyla"
         ],
         "lat": [
          9.4942
         ],
         "legendgroup": "bandarbeyla",
         "lon": [
          50.8122
         ],
         "marker": {
          "color": "#B6E880",
          "opacity": 0.6,
          "size": [
           81
          ],
          "sizemode": "area",
          "sizeref": 0.591715976331361,
          "symbol": "circle"
         },
         "mode": "markers",
         "name": "bandarbeyla",
         "showlegend": true,
         "type": "scattergeo"
        },
        {
         "geo": "geo",
         "hovertemplate": "<b>%{hovertext}</b><br><br>City=antofagasta<br>Humidity=%{marker.size}<br>Lat=%{lat}<br>Lng=%{lon}<extra></extra>",
         "hovertext": [
          "antofagasta"
         ],
         "lat": [
          -23.65
         ],
         "legendgroup": "antofagasta",
         "lon": [
          -70.4
         ],
         "marker": {
          "color": "#FF97FF",
          "opacity": 0.6,
          "size": [
           64
          ],
          "sizemode": "area",
          "sizeref": 0.591715976331361,
          "symbol": "circle"
         },
         "mode": "markers",
         "name": "antofagasta",
         "showlegend": true,
         "type": "scattergeo"
        },
        {
         "geo": "geo",
         "hovertemplate": "<b>%{hovertext}</b><br><br>City=vila franca do campo<br>Humidity=%{marker.size}<br>Lat=%{lat}<br>Lng=%{lon}<extra></extra>",
         "hovertext": [
          "vila franca do campo"
         ],
         "lat": [
          37.7167
         ],
         "legendgroup": "vila franca do campo",
         "lon": [
          -25.4333
         ],
         "marker": {
          "color": "#FECB52",
          "opacity": 0.6,
          "size": [
           70
          ],
          "sizemode": "area",
          "sizeref": 0.591715976331361,
          "symbol": "circle"
         },
         "mode": "markers",
         "name": "vila franca do campo",
         "showlegend": true,
         "type": "scattergeo"
        },
        {
         "geo": "geo",
         "hovertemplate": "<b>%{hovertext}</b><br><br>City=bauta<br>Humidity=%{marker.size}<br>Lat=%{lat}<br>Lng=%{lon}<extra></extra>",
         "hovertext": [
          "bauta"
         ],
         "lat": [
          22.9828
         ],
         "legendgroup": "bauta",
         "lon": [
          -82.5464
         ],
         "marker": {
          "color": "#636efa",
          "opacity": 0.6,
          "size": [
           71
          ],
          "sizemode": "area",
          "sizeref": 0.591715976331361,
          "symbol": "circle"
         },
         "mode": "markers",
         "name": "bauta",
         "showlegend": true,
         "type": "scattergeo"
        },
        {
         "geo": "geo",
         "hovertemplate": "<b>%{hovertext}</b><br><br>City=nsanje<br>Humidity=%{marker.size}<br>Lat=%{lat}<br>Lng=%{lon}<extra></extra>",
         "hovertext": [
          "nsanje"
         ],
         "lat": [
          -16.92
         ],
         "legendgroup": "nsanje",
         "lon": [
          35.262
         ],
         "marker": {
          "color": "#EF553B",
          "opacity": 0.6,
          "size": [
           26
          ],
          "sizemode": "area",
          "sizeref": 0.591715976331361,
          "symbol": "circle"
         },
         "mode": "markers",
         "name": "nsanje",
         "showlegend": true,
         "type": "scattergeo"
        },
        {
         "geo": "geo",
         "hovertemplate": "<b>%{hovertext}</b><br><br>City=xuchang<br>Humidity=%{marker.size}<br>Lat=%{lat}<br>Lng=%{lon}<extra></extra>",
         "hovertext": [
          "xuchang"
         ],
         "lat": [
          34.0167
         ],
         "legendgroup": "xuchang",
         "lon": [
          113.8167
         ],
         "marker": {
          "color": "#00cc96",
          "opacity": 0.6,
          "size": [
           35
          ],
          "sizemode": "area",
          "sizeref": 0.591715976331361,
          "symbol": "circle"
         },
         "mode": "markers",
         "name": "xuchang",
         "showlegend": true,
         "type": "scattergeo"
        },
        {
         "geo": "geo",
         "hovertemplate": "<b>%{hovertext}</b><br><br>City=todos santos<br>Humidity=%{marker.size}<br>Lat=%{lat}<br>Lng=%{lon}<extra></extra>",
         "hovertext": [
          "todos santos"
         ],
         "lat": [
          23.45
         ],
         "legendgroup": "todos santos",
         "lon": [
          -110.2167
         ],
         "marker": {
          "color": "#ab63fa",
          "opacity": 0.6,
          "size": [
           67
          ],
          "sizemode": "area",
          "sizeref": 0.591715976331361,
          "symbol": "circle"
         },
         "mode": "markers",
         "name": "todos santos",
         "showlegend": true,
         "type": "scattergeo"
        },
        {
         "geo": "geo",
         "hovertemplate": "<b>%{hovertext}</b><br><br>City=bataipora<br>Humidity=%{marker.size}<br>Lat=%{lat}<br>Lng=%{lon}<extra></extra>",
         "hovertext": [
          "bataipora"
         ],
         "lat": [
          -22.2953
         ],
         "legendgroup": "bataipora",
         "lon": [
          -53.2711
         ],
         "marker": {
          "color": "#FFA15A",
          "opacity": 0.6,
          "size": [
           89
          ],
          "sizemode": "area",
          "sizeref": 0.591715976331361,
          "symbol": "circle"
         },
         "mode": "markers",
         "name": "bataipora",
         "showlegend": true,
         "type": "scattergeo"
        },
        {
         "geo": "geo",
         "hovertemplate": "<b>%{hovertext}</b><br><br>City=tateyama<br>Humidity=%{marker.size}<br>Lat=%{lat}<br>Lng=%{lon}<extra></extra>",
         "hovertext": [
          "tateyama"
         ],
         "lat": [
          34.9833
         ],
         "legendgroup": "tateyama",
         "lon": [
          139.8667
         ],
         "marker": {
          "color": "#19d3f3",
          "opacity": 0.6,
          "size": [
           85
          ],
          "sizemode": "area",
          "sizeref": 0.591715976331361,
          "symbol": "circle"
         },
         "mode": "markers",
         "name": "tateyama",
         "showlegend": true,
         "type": "scattergeo"
        },
        {
         "geo": "geo",
         "hovertemplate": "<b>%{hovertext}</b><br><br>City=wajima<br>Humidity=%{marker.size}<br>Lat=%{lat}<br>Lng=%{lon}<extra></extra>",
         "hovertext": [
          "wajima"
         ],
         "lat": [
          37.4
         ],
         "legendgroup": "wajima",
         "lon": [
          136.9
         ],
         "marker": {
          "color": "#FF6692",
          "opacity": 0.6,
          "size": [
           55
          ],
          "sizemode": "area",
          "sizeref": 0.591715976331361,
          "symbol": "circle"
         },
         "mode": "markers",
         "name": "wajima",
         "showlegend": true,
         "type": "scattergeo"
        },
        {
         "geo": "geo",
         "hovertemplate": "<b>%{hovertext}</b><br><br>City=pokosnoye<br>Humidity=%{marker.size}<br>Lat=%{lat}<br>Lng=%{lon}<extra></extra>",
         "hovertext": [
          "pokosnoye"
         ],
         "lat": [
          55.5258
         ],
         "legendgroup": "pokosnoye",
         "lon": [
          101.0536
         ],
         "marker": {
          "color": "#B6E880",
          "opacity": 0.6,
          "size": [
           81
          ],
          "sizemode": "area",
          "sizeref": 0.591715976331361,
          "symbol": "circle"
         },
         "mode": "markers",
         "name": "pokosnoye",
         "showlegend": true,
         "type": "scattergeo"
        },
        {
         "geo": "geo",
         "hovertemplate": "<b>%{hovertext}</b><br><br>City=waipawa<br>Humidity=%{marker.size}<br>Lat=%{lat}<br>Lng=%{lon}<extra></extra>",
         "hovertext": [
          "waipawa"
         ],
         "lat": [
          -41.4122
         ],
         "legendgroup": "waipawa",
         "lon": [
          175.5153
         ],
         "marker": {
          "color": "#FF97FF",
          "opacity": 0.6,
          "size": [
           91
          ],
          "sizemode": "area",
          "sizeref": 0.591715976331361,
          "symbol": "circle"
         },
         "mode": "markers",
         "name": "waipawa",
         "showlegend": true,
         "type": "scattergeo"
        },
        {
         "geo": "geo",
         "hovertemplate": "<b>%{hovertext}</b><br><br>City=yaring<br>Humidity=%{marker.size}<br>Lat=%{lat}<br>Lng=%{lon}<extra></extra>",
         "hovertext": [
          "yaring"
         ],
         "lat": [
          6.8662
         ],
         "legendgroup": "yaring",
         "lon": [
          101.3689
         ],
         "marker": {
          "color": "#FECB52",
          "opacity": 0.6,
          "size": [
           87
          ],
          "sizemode": "area",
          "sizeref": 0.591715976331361,
          "symbol": "circle"
         },
         "mode": "markers",
         "name": "yaring",
         "showlegend": true,
         "type": "scattergeo"
        },
        {
         "geo": "geo",
         "hovertemplate": "<b>%{hovertext}</b><br><br>City=isiro<br>Humidity=%{marker.size}<br>Lat=%{lat}<br>Lng=%{lon}<extra></extra>",
         "hovertext": [
          "isiro"
         ],
         "lat": [
          2.7739
         ],
         "legendgroup": "isiro",
         "lon": [
          27.616
         ],
         "marker": {
          "color": "#636efa",
          "opacity": 0.6,
          "size": [
           73
          ],
          "sizemode": "area",
          "sizeref": 0.591715976331361,
          "symbol": "circle"
         },
         "mode": "markers",
         "name": "isiro",
         "showlegend": true,
         "type": "scattergeo"
        },
        {
         "geo": "geo",
         "hovertemplate": "<b>%{hovertext}</b><br><br>City=chivilcoy<br>Humidity=%{marker.size}<br>Lat=%{lat}<br>Lng=%{lon}<extra></extra>",
         "hovertext": [
          "chivilcoy"
         ],
         "lat": [
          -34.8957
         ],
         "legendgroup": "chivilcoy",
         "lon": [
          -60.0167
         ],
         "marker": {
          "color": "#EF553B",
          "opacity": 0.6,
          "size": [
           49
          ],
          "sizemode": "area",
          "sizeref": 0.591715976331361,
          "symbol": "circle"
         },
         "mode": "markers",
         "name": "chivilcoy",
         "showlegend": true,
         "type": "scattergeo"
        },
        {
         "geo": "geo",
         "hovertemplate": "<b>%{hovertext}</b><br><br>City=mandalgovi<br>Humidity=%{marker.size}<br>Lat=%{lat}<br>Lng=%{lon}<extra></extra>",
         "hovertext": [
          "mandalgovi"
         ],
         "lat": [
          45.7625
         ],
         "legendgroup": "mandalgovi",
         "lon": [
          106.2708
         ],
         "marker": {
          "color": "#00cc96",
          "opacity": 0.6,
          "size": [
           23
          ],
          "sizemode": "area",
          "sizeref": 0.591715976331361,
          "symbol": "circle"
         },
         "mode": "markers",
         "name": "mandalgovi",
         "showlegend": true,
         "type": "scattergeo"
        },
        {
         "geo": "geo",
         "hovertemplate": "<b>%{hovertext}</b><br><br>City=nicoya<br>Humidity=%{marker.size}<br>Lat=%{lat}<br>Lng=%{lon}<extra></extra>",
         "hovertext": [
          "nicoya"
         ],
         "lat": [
          10.1483
         ],
         "legendgroup": "nicoya",
         "lon": [
          -85.452
         ],
         "marker": {
          "color": "#ab63fa",
          "opacity": 0.6,
          "size": [
           73
          ],
          "sizemode": "area",
          "sizeref": 0.591715976331361,
          "symbol": "circle"
         },
         "mode": "markers",
         "name": "nicoya",
         "showlegend": true,
         "type": "scattergeo"
        },
        {
         "geo": "geo",
         "hovertemplate": "<b>%{hovertext}</b><br><br>City=novocheremshansk<br>Humidity=%{marker.size}<br>Lat=%{lat}<br>Lng=%{lon}<extra></extra>",
         "hovertext": [
          "novocheremshansk"
         ],
         "lat": [
          54.3571
         ],
         "legendgroup": "novocheremshansk",
         "lon": [
          50.1666
         ],
         "marker": {
          "color": "#FFA15A",
          "opacity": 0.6,
          "size": [
           81
          ],
          "sizemode": "area",
          "sizeref": 0.591715976331361,
          "symbol": "circle"
         },
         "mode": "markers",
         "name": "novocheremshansk",
         "showlegend": true,
         "type": "scattergeo"
        },
        {
         "geo": "geo",
         "hovertemplate": "<b>%{hovertext}</b><br><br>City=emirdag<br>Humidity=%{marker.size}<br>Lat=%{lat}<br>Lng=%{lon}<extra></extra>",
         "hovertext": [
          "emirdag"
         ],
         "lat": [
          39.0197
         ],
         "legendgroup": "emirdag",
         "lon": [
          31.15
         ],
         "marker": {
          "color": "#19d3f3",
          "opacity": 0.6,
          "size": [
           69
          ],
          "sizemode": "area",
          "sizeref": 0.591715976331361,
          "symbol": "circle"
         },
         "mode": "markers",
         "name": "emirdag",
         "showlegend": true,
         "type": "scattergeo"
        },
        {
         "geo": "geo",
         "hovertemplate": "<b>%{hovertext}</b><br><br>City=nouadhibou<br>Humidity=%{marker.size}<br>Lat=%{lat}<br>Lng=%{lon}<extra></extra>",
         "hovertext": [
          "nouadhibou"
         ],
         "lat": [
          20.931
         ],
         "legendgroup": "nouadhibou",
         "lon": [
          -17.0347
         ],
         "marker": {
          "color": "#FF6692",
          "opacity": 0.6,
          "size": [
           27
          ],
          "sizemode": "area",
          "sizeref": 0.591715976331361,
          "symbol": "circle"
         },
         "mode": "markers",
         "name": "nouadhibou",
         "showlegend": true,
         "type": "scattergeo"
        },
        {
         "geo": "geo",
         "hovertemplate": "<b>%{hovertext}</b><br><br>City=tongliao<br>Humidity=%{marker.size}<br>Lat=%{lat}<br>Lng=%{lon}<extra></extra>",
         "hovertext": [
          "tongliao"
         ],
         "lat": [
          43.6125
         ],
         "legendgroup": "tongliao",
         "lon": [
          122.2653
         ],
         "marker": {
          "color": "#B6E880",
          "opacity": 0.6,
          "size": [
           35
          ],
          "sizemode": "area",
          "sizeref": 0.591715976331361,
          "symbol": "circle"
         },
         "mode": "markers",
         "name": "tongliao",
         "showlegend": true,
         "type": "scattergeo"
        },
        {
         "geo": "geo",
         "hovertemplate": "<b>%{hovertext}</b><br><br>City=ryomgard<br>Humidity=%{marker.size}<br>Lat=%{lat}<br>Lng=%{lon}<extra></extra>",
         "hovertext": [
          "ryomgard"
         ],
         "lat": [
          56.3843
         ],
         "legendgroup": "ryomgard",
         "lon": [
          10.503
         ],
         "marker": {
          "color": "#FF97FF",
          "opacity": 0.6,
          "size": [
           81
          ],
          "sizemode": "area",
          "sizeref": 0.591715976331361,
          "symbol": "circle"
         },
         "mode": "markers",
         "name": "ryomgard",
         "showlegend": true,
         "type": "scattergeo"
        },
        {
         "geo": "geo",
         "hovertemplate": "<b>%{hovertext}</b><br><br>City=khudumelapye<br>Humidity=%{marker.size}<br>Lat=%{lat}<br>Lng=%{lon}<extra></extra>",
         "hovertext": [
          "khudumelapye"
         ],
         "lat": [
          -23.8833
         ],
         "legendgroup": "khudumelapye",
         "lon": [
          24.75
         ],
         "marker": {
          "color": "#FECB52",
          "opacity": 0.6,
          "size": [
           64
          ],
          "sizemode": "area",
          "sizeref": 0.591715976331361,
          "symbol": "circle"
         },
         "mode": "markers",
         "name": "khudumelapye",
         "showlegend": true,
         "type": "scattergeo"
        },
        {
         "geo": "geo",
         "hovertemplate": "<b>%{hovertext}</b><br><br>City=talcahuano<br>Humidity=%{marker.size}<br>Lat=%{lat}<br>Lng=%{lon}<extra></extra>",
         "hovertext": [
          "talcahuano"
         ],
         "lat": [
          -36.7167
         ],
         "legendgroup": "talcahuano",
         "lon": [
          -73.1167
         ],
         "marker": {
          "color": "#636efa",
          "opacity": 0.6,
          "size": [
           67
          ],
          "sizemode": "area",
          "sizeref": 0.591715976331361,
          "symbol": "circle"
         },
         "mode": "markers",
         "name": "talcahuano",
         "showlegend": true,
         "type": "scattergeo"
        },
        {
         "geo": "geo",
         "hovertemplate": "<b>%{hovertext}</b><br><br>City=gifhorn<br>Humidity=%{marker.size}<br>Lat=%{lat}<br>Lng=%{lon}<extra></extra>",
         "hovertext": [
          "gifhorn"
         ],
         "lat": [
          52.4833
         ],
         "legendgroup": "gifhorn",
         "lon": [
          10.55
         ],
         "marker": {
          "color": "#EF553B",
          "opacity": 0.6,
          "size": [
           68
          ],
          "sizemode": "area",
          "sizeref": 0.591715976331361,
          "symbol": "circle"
         },
         "mode": "markers",
         "name": "gifhorn",
         "showlegend": true,
         "type": "scattergeo"
        },
        {
         "geo": "geo",
         "hovertemplate": "<b>%{hovertext}</b><br><br>City=bilma<br>Humidity=%{marker.size}<br>Lat=%{lat}<br>Lng=%{lon}<extra></extra>",
         "hovertext": [
          "bilma"
         ],
         "lat": [
          18.6853
         ],
         "legendgroup": "bilma",
         "lon": [
          12.9164
         ],
         "marker": {
          "color": "#00cc96",
          "opacity": 0.6,
          "size": [
           18
          ],
          "sizemode": "area",
          "sizeref": 0.591715976331361,
          "symbol": "circle"
         },
         "mode": "markers",
         "name": "bilma",
         "showlegend": true,
         "type": "scattergeo"
        },
        {
         "geo": "geo",
         "hovertemplate": "<b>%{hovertext}</b><br><br>City=vung tau<br>Humidity=%{marker.size}<br>Lat=%{lat}<br>Lng=%{lon}<extra></extra>",
         "hovertext": [
          "vung tau"
         ],
         "lat": [
          10.346
         ],
         "legendgroup": "vung tau",
         "lon": [
          107.0843
         ],
         "marker": {
          "color": "#ab63fa",
          "opacity": 0.6,
          "size": [
           83
          ],
          "sizemode": "area",
          "sizeref": 0.591715976331361,
          "symbol": "circle"
         },
         "mode": "markers",
         "name": "vung tau",
         "showlegend": true,
         "type": "scattergeo"
        },
        {
         "geo": "geo",
         "hovertemplate": "<b>%{hovertext}</b><br><br>City=byron bay<br>Humidity=%{marker.size}<br>Lat=%{lat}<br>Lng=%{lon}<extra></extra>",
         "hovertext": [
          "byron bay"
         ],
         "lat": [
          -28.65
         ],
         "legendgroup": "byron bay",
         "lon": [
          153.6167
         ],
         "marker": {
          "color": "#FFA15A",
          "opacity": 0.6,
          "size": [
           83
          ],
          "sizemode": "area",
          "sizeref": 0.591715976331361,
          "symbol": "circle"
         },
         "mode": "markers",
         "name": "byron bay",
         "showlegend": true,
         "type": "scattergeo"
        },
        {
         "geo": "geo",
         "hovertemplate": "<b>%{hovertext}</b><br><br>City=kalabo<br>Humidity=%{marker.size}<br>Lat=%{lat}<br>Lng=%{lon}<extra></extra>",
         "hovertext": [
          "kalabo"
         ],
         "lat": [
          -14.97
         ],
         "legendgroup": "kalabo",
         "lon": [
          22.6814
         ],
         "marker": {
          "color": "#19d3f3",
          "opacity": 0.6,
          "size": [
           14
          ],
          "sizemode": "area",
          "sizeref": 0.591715976331361,
          "symbol": "circle"
         },
         "mode": "markers",
         "name": "kalabo",
         "showlegend": true,
         "type": "scattergeo"
        },
        {
         "geo": "geo",
         "hovertemplate": "<b>%{hovertext}</b><br><br>City=arcata<br>Humidity=%{marker.size}<br>Lat=%{lat}<br>Lng=%{lon}<extra></extra>",
         "hovertext": [
          "arcata"
         ],
         "lat": [
          40.8665
         ],
         "legendgroup": "arcata",
         "lon": [
          -124.0828
         ],
         "marker": {
          "color": "#FF6692",
          "opacity": 0.6,
          "size": [
           93
          ],
          "sizemode": "area",
          "sizeref": 0.591715976331361,
          "symbol": "circle"
         },
         "mode": "markers",
         "name": "arcata",
         "showlegend": true,
         "type": "scattergeo"
        },
        {
         "geo": "geo",
         "hovertemplate": "<b>%{hovertext}</b><br><br>City=lemoore<br>Humidity=%{marker.size}<br>Lat=%{lat}<br>Lng=%{lon}<extra></extra>",
         "hovertext": [
          "lemoore"
         ],
         "lat": [
          36.3008
         ],
         "legendgroup": "lemoore",
         "lon": [
          -119.7829
         ],
         "marker": {
          "color": "#B6E880",
          "opacity": 0.6,
          "size": [
           74
          ],
          "sizemode": "area",
          "sizeref": 0.591715976331361,
          "symbol": "circle"
         },
         "mode": "markers",
         "name": "lemoore",
         "showlegend": true,
         "type": "scattergeo"
        },
        {
         "geo": "geo",
         "hovertemplate": "<b>%{hovertext}</b><br><br>City=norfolk<br>Humidity=%{marker.size}<br>Lat=%{lat}<br>Lng=%{lon}<extra></extra>",
         "hovertext": [
          "norfolk"
         ],
         "lat": [
          42.1668
         ],
         "legendgroup": "norfolk",
         "lon": [
          -71.2495
         ],
         "marker": {
          "color": "#FF97FF",
          "opacity": 0.6,
          "size": [
           95
          ],
          "sizemode": "area",
          "sizeref": 0.591715976331361,
          "symbol": "circle"
         },
         "mode": "markers",
         "name": "norfolk",
         "showlegend": true,
         "type": "scattergeo"
        },
        {
         "geo": "geo",
         "hovertemplate": "<b>%{hovertext}</b><br><br>City=juba<br>Humidity=%{marker.size}<br>Lat=%{lat}<br>Lng=%{lon}<extra></extra>",
         "hovertext": [
          "juba"
         ],
         "lat": [
          4.8517
         ],
         "legendgroup": "juba",
         "lon": [
          31.5825
         ],
         "marker": {
          "color": "#FECB52",
          "opacity": 0.6,
          "size": [
           69
          ],
          "sizemode": "area",
          "sizeref": 0.591715976331361,
          "symbol": "circle"
         },
         "mode": "markers",
         "name": "juba",
         "showlegend": true,
         "type": "scattergeo"
        },
        {
         "geo": "geo",
         "hovertemplate": "<b>%{hovertext}</b><br><br>City=pali<br>Humidity=%{marker.size}<br>Lat=%{lat}<br>Lng=%{lon}<extra></extra>",
         "hovertext": [
          "pali"
         ],
         "lat": [
          25.7667
         ],
         "legendgroup": "pali",
         "lon": [
          73.3333
         ],
         "marker": {
          "color": "#636efa",
          "opacity": 0.6,
          "size": [
           26
          ],
          "sizemode": "area",
          "sizeref": 0.591715976331361,
          "symbol": "circle"
         },
         "mode": "markers",
         "name": "pali",
         "showlegend": true,
         "type": "scattergeo"
        },
        {
         "geo": "geo",
         "hovertemplate": "<b>%{hovertext}</b><br><br>City=katsuura<br>Humidity=%{marker.size}<br>Lat=%{lat}<br>Lng=%{lon}<extra></extra>",
         "hovertext": [
          "katsuura"
         ],
         "lat": [
          35.1333
         ],
         "legendgroup": "katsuura",
         "lon": [
          140.3
         ],
         "marker": {
          "color": "#EF553B",
          "opacity": 0.6,
          "size": [
           84
          ],
          "sizemode": "area",
          "sizeref": 0.591715976331361,
          "symbol": "circle"
         },
         "mode": "markers",
         "name": "katsuura",
         "showlegend": true,
         "type": "scattergeo"
        },
        {
         "geo": "geo",
         "hovertemplate": "<b>%{hovertext}</b><br><br>City=bambanglipuro<br>Humidity=%{marker.size}<br>Lat=%{lat}<br>Lng=%{lon}<extra></extra>",
         "hovertext": [
          "bambanglipuro"
         ],
         "lat": [
          -7.95
         ],
         "legendgroup": "bambanglipuro",
         "lon": [
          110.2833
         ],
         "marker": {
          "color": "#00cc96",
          "opacity": 0.6,
          "size": [
           87
          ],
          "sizemode": "area",
          "sizeref": 0.591715976331361,
          "symbol": "circle"
         },
         "mode": "markers",
         "name": "bambanglipuro",
         "showlegend": true,
         "type": "scattergeo"
        },
        {
         "geo": "geo",
         "hovertemplate": "<b>%{hovertext}</b><br><br>City=padang<br>Humidity=%{marker.size}<br>Lat=%{lat}<br>Lng=%{lon}<extra></extra>",
         "hovertext": [
          "padang"
         ],
         "lat": [
          -0.9492
         ],
         "legendgroup": "padang",
         "lon": [
          100.3543
         ],
         "marker": {
          "color": "#ab63fa",
          "opacity": 0.6,
          "size": [
           82
          ],
          "sizemode": "area",
          "sizeref": 0.591715976331361,
          "symbol": "circle"
         },
         "mode": "markers",
         "name": "padang",
         "showlegend": true,
         "type": "scattergeo"
        },
        {
         "geo": "geo",
         "hovertemplate": "<b>%{hovertext}</b><br><br>City=freeport<br>Humidity=%{marker.size}<br>Lat=%{lat}<br>Lng=%{lon}<extra></extra>",
         "hovertext": [
          "freeport"
         ],
         "lat": [
          40.6576
         ],
         "legendgroup": "freeport",
         "lon": [
          -73.5832
         ],
         "marker": {
          "color": "#FFA15A",
          "opacity": 0.6,
          "size": [
           46
          ],
          "sizemode": "area",
          "sizeref": 0.591715976331361,
          "symbol": "circle"
         },
         "mode": "markers",
         "name": "freeport",
         "showlegend": true,
         "type": "scattergeo"
        },
        {
         "geo": "geo",
         "hovertemplate": "<b>%{hovertext}</b><br><br>City=bulgan<br>Humidity=%{marker.size}<br>Lat=%{lat}<br>Lng=%{lon}<extra></extra>",
         "hovertext": [
          "bulgan"
         ],
         "lat": [
          48.8125
         ],
         "legendgroup": "bulgan",
         "lon": [
          103.5347
         ],
         "marker": {
          "color": "#19d3f3",
          "opacity": 0.6,
          "size": [
           40
          ],
          "sizemode": "area",
          "sizeref": 0.591715976331361,
          "symbol": "circle"
         },
         "mode": "markers",
         "name": "bulgan",
         "showlegend": true,
         "type": "scattergeo"
        },
        {
         "geo": "geo",
         "hovertemplate": "<b>%{hovertext}</b><br><br>City=sorland<br>Humidity=%{marker.size}<br>Lat=%{lat}<br>Lng=%{lon}<extra></extra>",
         "hovertext": [
          "sorland"
         ],
         "lat": [
          67.667
         ],
         "legendgroup": "sorland",
         "lon": [
          12.6934
         ],
         "marker": {
          "color": "#FF6692",
          "opacity": 0.6,
          "size": [
           67
          ],
          "sizemode": "area",
          "sizeref": 0.591715976331361,
          "symbol": "circle"
         },
         "mode": "markers",
         "name": "sorland",
         "showlegend": true,
         "type": "scattergeo"
        },
        {
         "geo": "geo",
         "hovertemplate": "<b>%{hovertext}</b><br><br>City=saryg-sep<br>Humidity=%{marker.size}<br>Lat=%{lat}<br>Lng=%{lon}<extra></extra>",
         "hovertext": [
          "saryg-sep"
         ],
         "lat": [
          51.5
         ],
         "legendgroup": "saryg-sep",
         "lon": [
          95.6
         ],
         "marker": {
          "color": "#B6E880",
          "opacity": 0.6,
          "size": [
           44
          ],
          "sizemode": "area",
          "sizeref": 0.591715976331361,
          "symbol": "circle"
         },
         "mode": "markers",
         "name": "saryg-sep",
         "showlegend": true,
         "type": "scattergeo"
        },
        {
         "geo": "geo",
         "hovertemplate": "<b>%{hovertext}</b><br><br>City=batagay-alyta<br>Humidity=%{marker.size}<br>Lat=%{lat}<br>Lng=%{lon}<extra></extra>",
         "hovertext": [
          "batagay-alyta"
         ],
         "lat": [
          67.8006
         ],
         "legendgroup": "batagay-alyta",
         "lon": [
          130.4114
         ],
         "marker": {
          "color": "#FF97FF",
          "opacity": 0.6,
          "size": [
           89
          ],
          "sizemode": "area",
          "sizeref": 0.591715976331361,
          "symbol": "circle"
         },
         "mode": "markers",
         "name": "batagay-alyta",
         "showlegend": true,
         "type": "scattergeo"
        },
        {
         "geo": "geo",
         "hovertemplate": "<b>%{hovertext}</b><br><br>City=lompoc<br>Humidity=%{marker.size}<br>Lat=%{lat}<br>Lng=%{lon}<extra></extra>",
         "hovertext": [
          "lompoc"
         ],
         "lat": [
          34.6391
         ],
         "legendgroup": "lompoc",
         "lon": [
          -120.4579
         ],
         "marker": {
          "color": "#FECB52",
          "opacity": 0.6,
          "size": [
           100
          ],
          "sizemode": "area",
          "sizeref": 0.591715976331361,
          "symbol": "circle"
         },
         "mode": "markers",
         "name": "lompoc",
         "showlegend": true,
         "type": "scattergeo"
        },
        {
         "geo": "geo",
         "hovertemplate": "<b>%{hovertext}</b><br><br>City=changli<br>Humidity=%{marker.size}<br>Lat=%{lat}<br>Lng=%{lon}<extra></extra>",
         "hovertext": [
          "changli"
         ],
         "lat": [
          39.7042
         ],
         "legendgroup": "changli",
         "lon": [
          119.1506
         ],
         "marker": {
          "color": "#636efa",
          "opacity": 0.6,
          "size": [
           33
          ],
          "sizemode": "area",
          "sizeref": 0.591715976331361,
          "symbol": "circle"
         },
         "mode": "markers",
         "name": "changli",
         "showlegend": true,
         "type": "scattergeo"
        },
        {
         "geo": "geo",
         "hovertemplate": "<b>%{hovertext}</b><br><br>City=choma<br>Humidity=%{marker.size}<br>Lat=%{lat}<br>Lng=%{lon}<extra></extra>",
         "hovertext": [
          "choma"
         ],
         "lat": [
          -16.8065
         ],
         "legendgroup": "choma",
         "lon": [
          26.9531
         ],
         "marker": {
          "color": "#EF553B",
          "opacity": 0.6,
          "size": [
           22
          ],
          "sizemode": "area",
          "sizeref": 0.591715976331361,
          "symbol": "circle"
         },
         "mode": "markers",
         "name": "choma",
         "showlegend": true,
         "type": "scattergeo"
        },
        {
         "geo": "geo",
         "hovertemplate": "<b>%{hovertext}</b><br><br>City=tena<br>Humidity=%{marker.size}<br>Lat=%{lat}<br>Lng=%{lon}<extra></extra>",
         "hovertext": [
          "tena"
         ],
         "lat": [
          -0.9833
         ],
         "legendgroup": "tena",
         "lon": [
          -77.8167
         ],
         "marker": {
          "color": "#00cc96",
          "opacity": 0.6,
          "size": [
           62
          ],
          "sizemode": "area",
          "sizeref": 0.591715976331361,
          "symbol": "circle"
         },
         "mode": "markers",
         "name": "tena",
         "showlegend": true,
         "type": "scattergeo"
        },
        {
         "geo": "geo",
         "hovertemplate": "<b>%{hovertext}</b><br><br>City=ilhabela<br>Humidity=%{marker.size}<br>Lat=%{lat}<br>Lng=%{lon}<extra></extra>",
         "hovertext": [
          "ilhabela"
         ],
         "lat": [
          -23.7781
         ],
         "legendgroup": "ilhabela",
         "lon": [
          -45.3581
         ],
         "marker": {
          "color": "#ab63fa",
          "opacity": 0.6,
          "size": [
           88
          ],
          "sizemode": "area",
          "sizeref": 0.591715976331361,
          "symbol": "circle"
         },
         "mode": "markers",
         "name": "ilhabela",
         "showlegend": true,
         "type": "scattergeo"
        },
        {
         "geo": "geo",
         "hovertemplate": "<b>%{hovertext}</b><br><br>City=redmond<br>Humidity=%{marker.size}<br>Lat=%{lat}<br>Lng=%{lon}<extra></extra>",
         "hovertext": [
          "redmond"
         ],
         "lat": [
          47.674
         ],
         "legendgroup": "redmond",
         "lon": [
          -122.1215
         ],
         "marker": {
          "color": "#FFA15A",
          "opacity": 0.6,
          "size": [
           91
          ],
          "sizemode": "area",
          "sizeref": 0.591715976331361,
          "symbol": "circle"
         },
         "mode": "markers",
         "name": "redmond",
         "showlegend": true,
         "type": "scattergeo"
        },
        {
         "geo": "geo",
         "hovertemplate": "<b>%{hovertext}</b><br><br>City=wyndham<br>Humidity=%{marker.size}<br>Lat=%{lat}<br>Lng=%{lon}<extra></extra>",
         "hovertext": [
          "wyndham"
         ],
         "lat": [
          37.6985
         ],
         "legendgroup": "wyndham",
         "lon": [
          -77.6125
         ],
         "marker": {
          "color": "#19d3f3",
          "opacity": 0.6,
          "size": [
           52
          ],
          "sizemode": "area",
          "sizeref": 0.591715976331361,
          "symbol": "circle"
         },
         "mode": "markers",
         "name": "wyndham",
         "showlegend": true,
         "type": "scattergeo"
        },
        {
         "geo": "geo",
         "hovertemplate": "<b>%{hovertext}</b><br><br>City=nhulunbuy<br>Humidity=%{marker.size}<br>Lat=%{lat}<br>Lng=%{lon}<extra></extra>",
         "hovertext": [
          "nhulunbuy"
         ],
         "lat": [
          -12.2333
         ],
         "legendgroup": "nhulunbuy",
         "lon": [
          136.7667
         ],
         "marker": {
          "color": "#FF6692",
          "opacity": 0.6,
          "size": [
           78
          ],
          "sizemode": "area",
          "sizeref": 0.591715976331361,
          "symbol": "circle"
         },
         "mode": "markers",
         "name": "nhulunbuy",
         "showlegend": true,
         "type": "scattergeo"
        },
        {
         "geo": "geo",
         "hovertemplate": "<b>%{hovertext}</b><br><br>City=sangamner<br>Humidity=%{marker.size}<br>Lat=%{lat}<br>Lng=%{lon}<extra></extra>",
         "hovertext": [
          "sangamner"
         ],
         "lat": [
          19.5667
         ],
         "legendgroup": "sangamner",
         "lon": [
          74.2167
         ],
         "marker": {
          "color": "#B6E880",
          "opacity": 0.6,
          "size": [
           85
          ],
          "sizemode": "area",
          "sizeref": 0.591715976331361,
          "symbol": "circle"
         },
         "mode": "markers",
         "name": "sangamner",
         "showlegend": true,
         "type": "scattergeo"
        },
        {
         "geo": "geo",
         "hovertemplate": "<b>%{hovertext}</b><br><br>City=road town<br>Humidity=%{marker.size}<br>Lat=%{lat}<br>Lng=%{lon}<extra></extra>",
         "hovertext": [
          "road town"
         ],
         "lat": [
          18.4167
         ],
         "legendgroup": "road town",
         "lon": [
          -64.6167
         ],
         "marker": {
          "color": "#FF97FF",
          "opacity": 0.6,
          "size": [
           70
          ],
          "sizemode": "area",
          "sizeref": 0.591715976331361,
          "symbol": "circle"
         },
         "mode": "markers",
         "name": "road town",
         "showlegend": true,
         "type": "scattergeo"
        },
        {
         "geo": "geo",
         "hovertemplate": "<b>%{hovertext}</b><br><br>City=ranong<br>Humidity=%{marker.size}<br>Lat=%{lat}<br>Lng=%{lon}<extra></extra>",
         "hovertext": [
          "ranong"
         ],
         "lat": [
          9.9658
         ],
         "legendgroup": "ranong",
         "lon": [
          98.6348
         ],
         "marker": {
          "color": "#FECB52",
          "opacity": 0.6,
          "size": [
           93
          ],
          "sizemode": "area",
          "sizeref": 0.591715976331361,
          "symbol": "circle"
         },
         "mode": "markers",
         "name": "ranong",
         "showlegend": true,
         "type": "scattergeo"
        },
        {
         "geo": "geo",
         "hovertemplate": "<b>%{hovertext}</b><br><br>City=staryy nadym<br>Humidity=%{marker.size}<br>Lat=%{lat}<br>Lng=%{lon}<extra></extra>",
         "hovertext": [
          "staryy nadym"
         ],
         "lat": [
          65.6118
         ],
         "legendgroup": "staryy nadym",
         "lon": [
          72.6842
         ],
         "marker": {
          "color": "#636efa",
          "opacity": 0.6,
          "size": [
           90
          ],
          "sizemode": "area",
          "sizeref": 0.591715976331361,
          "symbol": "circle"
         },
         "mode": "markers",
         "name": "staryy nadym",
         "showlegend": true,
         "type": "scattergeo"
        },
        {
         "geo": "geo",
         "hovertemplate": "<b>%{hovertext}</b><br><br>City=dargaville<br>Humidity=%{marker.size}<br>Lat=%{lat}<br>Lng=%{lon}<extra></extra>",
         "hovertext": [
          "dargaville"
         ],
         "lat": [
          -35.9333
         ],
         "legendgroup": "dargaville",
         "lon": [
          173.8833
         ],
         "marker": {
          "color": "#EF553B",
          "opacity": 0.6,
          "size": [
           83
          ],
          "sizemode": "area",
          "sizeref": 0.591715976331361,
          "symbol": "circle"
         },
         "mode": "markers",
         "name": "dargaville",
         "showlegend": true,
         "type": "scattergeo"
        },
        {
         "geo": "geo",
         "hovertemplate": "<b>%{hovertext}</b><br><br>City=sovetskiy<br>Humidity=%{marker.size}<br>Lat=%{lat}<br>Lng=%{lon}<extra></extra>",
         "hovertext": [
          "sovetskiy"
         ],
         "lat": [
          61.3614
         ],
         "legendgroup": "sovetskiy",
         "lon": [
          63.5842
         ],
         "marker": {
          "color": "#00cc96",
          "opacity": 0.6,
          "size": [
           96
          ],
          "sizemode": "area",
          "sizeref": 0.591715976331361,
          "symbol": "circle"
         },
         "mode": "markers",
         "name": "sovetskiy",
         "showlegend": true,
         "type": "scattergeo"
        },
        {
         "geo": "geo",
         "hovertemplate": "<b>%{hovertext}</b><br><br>City=tatarsk<br>Humidity=%{marker.size}<br>Lat=%{lat}<br>Lng=%{lon}<extra></extra>",
         "hovertext": [
          "tatarsk"
         ],
         "lat": [
          55.219
         ],
         "legendgroup": "tatarsk",
         "lon": [
          75.9828
         ],
         "marker": {
          "color": "#ab63fa",
          "opacity": 0.6,
          "size": [
           89
          ],
          "sizemode": "area",
          "sizeref": 0.591715976331361,
          "symbol": "circle"
         },
         "mode": "markers",
         "name": "tatarsk",
         "showlegend": true,
         "type": "scattergeo"
        },
        {
         "geo": "geo",
         "hovertemplate": "<b>%{hovertext}</b><br><br>City=canchungo<br>Humidity=%{marker.size}<br>Lat=%{lat}<br>Lng=%{lon}<extra></extra>",
         "hovertext": [
          "canchungo"
         ],
         "lat": [
          12.0672
         ],
         "legendgroup": "canchungo",
         "lon": [
          -16.0333
         ],
         "marker": {
          "color": "#FFA15A",
          "opacity": 0.6,
          "size": [
           61
          ],
          "sizemode": "area",
          "sizeref": 0.591715976331361,
          "symbol": "circle"
         },
         "mode": "markers",
         "name": "canchungo",
         "showlegend": true,
         "type": "scattergeo"
        },
        {
         "geo": "geo",
         "hovertemplate": "<b>%{hovertext}</b><br><br>City=iquique<br>Humidity=%{marker.size}<br>Lat=%{lat}<br>Lng=%{lon}<extra></extra>",
         "hovertext": [
          "iquique"
         ],
         "lat": [
          -20.2208
         ],
         "legendgroup": "iquique",
         "lon": [
          -70.1431
         ],
         "marker": {
          "color": "#19d3f3",
          "opacity": 0.6,
          "size": [
           68
          ],
          "sizemode": "area",
          "sizeref": 0.591715976331361,
          "symbol": "circle"
         },
         "mode": "markers",
         "name": "iquique",
         "showlegend": true,
         "type": "scattergeo"
        },
        {
         "geo": "geo",
         "hovertemplate": "<b>%{hovertext}</b><br><br>City=poum<br>Humidity=%{marker.size}<br>Lat=%{lat}<br>Lng=%{lon}<extra></extra>",
         "hovertext": [
          "poum"
         ],
         "lat": [
          -20.2333
         ],
         "legendgroup": "poum",
         "lon": [
          164.0167
         ],
         "marker": {
          "color": "#FF6692",
          "opacity": 0.6,
          "size": [
           79
          ],
          "sizemode": "area",
          "sizeref": 0.591715976331361,
          "symbol": "circle"
         },
         "mode": "markers",
         "name": "poum",
         "showlegend": true,
         "type": "scattergeo"
        }
       ],
       "layout": {
        "geo": {
         "center": {},
         "domain": {
          "x": [
           0,
           1
          ],
          "y": [
           0,
           1
          ]
         },
         "projection": {
          "type": "natural earth"
         }
        },
        "height": 600,
        "legend": {
         "itemsizing": "constant",
         "title": {
          "text": "City"
         },
         "tracegroupgap": 0
        },
        "margin": {
         "b": 50,
         "l": 50,
         "r": 50,
         "t": 50
        },
        "template": {
         "data": {
          "bar": [
           {
            "error_x": {
             "color": "#2a3f5f"
            },
            "error_y": {
             "color": "#2a3f5f"
            },
            "marker": {
             "line": {
              "color": "#E5ECF6",
              "width": 0.5
             },
             "pattern": {
              "fillmode": "overlay",
              "size": 10,
              "solidity": 0.2
             }
            },
            "type": "bar"
           }
          ],
          "barpolar": [
           {
            "marker": {
             "line": {
              "color": "#E5ECF6",
              "width": 0.5
             },
             "pattern": {
              "fillmode": "overlay",
              "size": 10,
              "solidity": 0.2
             }
            },
            "type": "barpolar"
           }
          ],
          "carpet": [
           {
            "aaxis": {
             "endlinecolor": "#2a3f5f",
             "gridcolor": "white",
             "linecolor": "white",
             "minorgridcolor": "white",
             "startlinecolor": "#2a3f5f"
            },
            "baxis": {
             "endlinecolor": "#2a3f5f",
             "gridcolor": "white",
             "linecolor": "white",
             "minorgridcolor": "white",
             "startlinecolor": "#2a3f5f"
            },
            "type": "carpet"
           }
          ],
          "choropleth": [
           {
            "colorbar": {
             "outlinewidth": 0,
             "ticks": ""
            },
            "type": "choropleth"
           }
          ],
          "contour": [
           {
            "colorbar": {
             "outlinewidth": 0,
             "ticks": ""
            },
            "colorscale": [
             [
              0,
              "#0d0887"
             ],
             [
              0.1111111111111111,
              "#46039f"
             ],
             [
              0.2222222222222222,
              "#7201a8"
             ],
             [
              0.3333333333333333,
              "#9c179e"
             ],
             [
              0.4444444444444444,
              "#bd3786"
             ],
             [
              0.5555555555555556,
              "#d8576b"
             ],
             [
              0.6666666666666666,
              "#ed7953"
             ],
             [
              0.7777777777777778,
              "#fb9f3a"
             ],
             [
              0.8888888888888888,
              "#fdca26"
             ],
             [
              1,
              "#f0f921"
             ]
            ],
            "type": "contour"
           }
          ],
          "contourcarpet": [
           {
            "colorbar": {
             "outlinewidth": 0,
             "ticks": ""
            },
            "type": "contourcarpet"
           }
          ],
          "heatmap": [
           {
            "colorbar": {
             "outlinewidth": 0,
             "ticks": ""
            },
            "colorscale": [
             [
              0,
              "#0d0887"
             ],
             [
              0.1111111111111111,
              "#46039f"
             ],
             [
              0.2222222222222222,
              "#7201a8"
             ],
             [
              0.3333333333333333,
              "#9c179e"
             ],
             [
              0.4444444444444444,
              "#bd3786"
             ],
             [
              0.5555555555555556,
              "#d8576b"
             ],
             [
              0.6666666666666666,
              "#ed7953"
             ],
             [
              0.7777777777777778,
              "#fb9f3a"
             ],
             [
              0.8888888888888888,
              "#fdca26"
             ],
             [
              1,
              "#f0f921"
             ]
            ],
            "type": "heatmap"
           }
          ],
          "heatmapgl": [
           {
            "colorbar": {
             "outlinewidth": 0,
             "ticks": ""
            },
            "colorscale": [
             [
              0,
              "#0d0887"
             ],
             [
              0.1111111111111111,
              "#46039f"
             ],
             [
              0.2222222222222222,
              "#7201a8"
             ],
             [
              0.3333333333333333,
              "#9c179e"
             ],
             [
              0.4444444444444444,
              "#bd3786"
             ],
             [
              0.5555555555555556,
              "#d8576b"
             ],
             [
              0.6666666666666666,
              "#ed7953"
             ],
             [
              0.7777777777777778,
              "#fb9f3a"
             ],
             [
              0.8888888888888888,
              "#fdca26"
             ],
             [
              1,
              "#f0f921"
             ]
            ],
            "type": "heatmapgl"
           }
          ],
          "histogram": [
           {
            "marker": {
             "pattern": {
              "fillmode": "overlay",
              "size": 10,
              "solidity": 0.2
             }
            },
            "type": "histogram"
           }
          ],
          "histogram2d": [
           {
            "colorbar": {
             "outlinewidth": 0,
             "ticks": ""
            },
            "colorscale": [
             [
              0,
              "#0d0887"
             ],
             [
              0.1111111111111111,
              "#46039f"
             ],
             [
              0.2222222222222222,
              "#7201a8"
             ],
             [
              0.3333333333333333,
              "#9c179e"
             ],
             [
              0.4444444444444444,
              "#bd3786"
             ],
             [
              0.5555555555555556,
              "#d8576b"
             ],
             [
              0.6666666666666666,
              "#ed7953"
             ],
             [
              0.7777777777777778,
              "#fb9f3a"
             ],
             [
              0.8888888888888888,
              "#fdca26"
             ],
             [
              1,
              "#f0f921"
             ]
            ],
            "type": "histogram2d"
           }
          ],
          "histogram2dcontour": [
           {
            "colorbar": {
             "outlinewidth": 0,
             "ticks": ""
            },
            "colorscale": [
             [
              0,
              "#0d0887"
             ],
             [
              0.1111111111111111,
              "#46039f"
             ],
             [
              0.2222222222222222,
              "#7201a8"
             ],
             [
              0.3333333333333333,
              "#9c179e"
             ],
             [
              0.4444444444444444,
              "#bd3786"
             ],
             [
              0.5555555555555556,
              "#d8576b"
             ],
             [
              0.6666666666666666,
              "#ed7953"
             ],
             [
              0.7777777777777778,
              "#fb9f3a"
             ],
             [
              0.8888888888888888,
              "#fdca26"
             ],
             [
              1,
              "#f0f921"
             ]
            ],
            "type": "histogram2dcontour"
           }
          ],
          "mesh3d": [
           {
            "colorbar": {
             "outlinewidth": 0,
             "ticks": ""
            },
            "type": "mesh3d"
           }
          ],
          "parcoords": [
           {
            "line": {
             "colorbar": {
              "outlinewidth": 0,
              "ticks": ""
             }
            },
            "type": "parcoords"
           }
          ],
          "pie": [
           {
            "automargin": true,
            "type": "pie"
           }
          ],
          "scatter": [
           {
            "fillpattern": {
             "fillmode": "overlay",
             "size": 10,
             "solidity": 0.2
            },
            "type": "scatter"
           }
          ],
          "scatter3d": [
           {
            "line": {
             "colorbar": {
              "outlinewidth": 0,
              "ticks": ""
             }
            },
            "marker": {
             "colorbar": {
              "outlinewidth": 0,
              "ticks": ""
             }
            },
            "type": "scatter3d"
           }
          ],
          "scattercarpet": [
           {
            "marker": {
             "colorbar": {
              "outlinewidth": 0,
              "ticks": ""
             }
            },
            "type": "scattercarpet"
           }
          ],
          "scattergeo": [
           {
            "marker": {
             "colorbar": {
              "outlinewidth": 0,
              "ticks": ""
             }
            },
            "type": "scattergeo"
           }
          ],
          "scattergl": [
           {
            "marker": {
             "colorbar": {
              "outlinewidth": 0,
              "ticks": ""
             }
            },
            "type": "scattergl"
           }
          ],
          "scattermapbox": [
           {
            "marker": {
             "colorbar": {
              "outlinewidth": 0,
              "ticks": ""
             }
            },
            "type": "scattermapbox"
           }
          ],
          "scatterpolar": [
           {
            "marker": {
             "colorbar": {
              "outlinewidth": 0,
              "ticks": ""
             }
            },
            "type": "scatterpolar"
           }
          ],
          "scatterpolargl": [
           {
            "marker": {
             "colorbar": {
              "outlinewidth": 0,
              "ticks": ""
             }
            },
            "type": "scatterpolargl"
           }
          ],
          "scatterternary": [
           {
            "marker": {
             "colorbar": {
              "outlinewidth": 0,
              "ticks": ""
             }
            },
            "type": "scatterternary"
           }
          ],
          "surface": [
           {
            "colorbar": {
             "outlinewidth": 0,
             "ticks": ""
            },
            "colorscale": [
             [
              0,
              "#0d0887"
             ],
             [
              0.1111111111111111,
              "#46039f"
             ],
             [
              0.2222222222222222,
              "#7201a8"
             ],
             [
              0.3333333333333333,
              "#9c179e"
             ],
             [
              0.4444444444444444,
              "#bd3786"
             ],
             [
              0.5555555555555556,
              "#d8576b"
             ],
             [
              0.6666666666666666,
              "#ed7953"
             ],
             [
              0.7777777777777778,
              "#fb9f3a"
             ],
             [
              0.8888888888888888,
              "#fdca26"
             ],
             [
              1,
              "#f0f921"
             ]
            ],
            "type": "surface"
           }
          ],
          "table": [
           {
            "cells": {
             "fill": {
              "color": "#EBF0F8"
             },
             "line": {
              "color": "white"
             }
            },
            "header": {
             "fill": {
              "color": "#C8D4E3"
             },
             "line": {
              "color": "white"
             }
            },
            "type": "table"
           }
          ]
         },
         "layout": {
          "annotationdefaults": {
           "arrowcolor": "#2a3f5f",
           "arrowhead": 0,
           "arrowwidth": 1
          },
          "autotypenumbers": "strict",
          "coloraxis": {
           "colorbar": {
            "outlinewidth": 0,
            "ticks": ""
           }
          },
          "colorscale": {
           "diverging": [
            [
             0,
             "#8e0152"
            ],
            [
             0.1,
             "#c51b7d"
            ],
            [
             0.2,
             "#de77ae"
            ],
            [
             0.3,
             "#f1b6da"
            ],
            [
             0.4,
             "#fde0ef"
            ],
            [
             0.5,
             "#f7f7f7"
            ],
            [
             0.6,
             "#e6f5d0"
            ],
            [
             0.7,
             "#b8e186"
            ],
            [
             0.8,
             "#7fbc41"
            ],
            [
             0.9,
             "#4d9221"
            ],
            [
             1,
             "#276419"
            ]
           ],
           "sequential": [
            [
             0,
             "#0d0887"
            ],
            [
             0.1111111111111111,
             "#46039f"
            ],
            [
             0.2222222222222222,
             "#7201a8"
            ],
            [
             0.3333333333333333,
             "#9c179e"
            ],
            [
             0.4444444444444444,
             "#bd3786"
            ],
            [
             0.5555555555555556,
             "#d8576b"
            ],
            [
             0.6666666666666666,
             "#ed7953"
            ],
            [
             0.7777777777777778,
             "#fb9f3a"
            ],
            [
             0.8888888888888888,
             "#fdca26"
            ],
            [
             1,
             "#f0f921"
            ]
           ],
           "sequentialminus": [
            [
             0,
             "#0d0887"
            ],
            [
             0.1111111111111111,
             "#46039f"
            ],
            [
             0.2222222222222222,
             "#7201a8"
            ],
            [
             0.3333333333333333,
             "#9c179e"
            ],
            [
             0.4444444444444444,
             "#bd3786"
            ],
            [
             0.5555555555555556,
             "#d8576b"
            ],
            [
             0.6666666666666666,
             "#ed7953"
            ],
            [
             0.7777777777777778,
             "#fb9f3a"
            ],
            [
             0.8888888888888888,
             "#fdca26"
            ],
            [
             1,
             "#f0f921"
            ]
           ]
          },
          "colorway": [
           "#636efa",
           "#EF553B",
           "#00cc96",
           "#ab63fa",
           "#FFA15A",
           "#19d3f3",
           "#FF6692",
           "#B6E880",
           "#FF97FF",
           "#FECB52"
          ],
          "font": {
           "color": "#2a3f5f"
          },
          "geo": {
           "bgcolor": "white",
           "lakecolor": "white",
           "landcolor": "#E5ECF6",
           "showlakes": true,
           "showland": true,
           "subunitcolor": "white"
          },
          "hoverlabel": {
           "align": "left"
          },
          "hovermode": "closest",
          "mapbox": {
           "style": "light"
          },
          "paper_bgcolor": "white",
          "plot_bgcolor": "#E5ECF6",
          "polar": {
           "angularaxis": {
            "gridcolor": "white",
            "linecolor": "white",
            "ticks": ""
           },
           "bgcolor": "#E5ECF6",
           "radialaxis": {
            "gridcolor": "white",
            "linecolor": "white",
            "ticks": ""
           }
          },
          "scene": {
           "xaxis": {
            "backgroundcolor": "#E5ECF6",
            "gridcolor": "white",
            "gridwidth": 2,
            "linecolor": "white",
            "showbackground": true,
            "ticks": "",
            "zerolinecolor": "white"
           },
           "yaxis": {
            "backgroundcolor": "#E5ECF6",
            "gridcolor": "white",
            "gridwidth": 2,
            "linecolor": "white",
            "showbackground": true,
            "ticks": "",
            "zerolinecolor": "white"
           },
           "zaxis": {
            "backgroundcolor": "#E5ECF6",
            "gridcolor": "white",
            "gridwidth": 2,
            "linecolor": "white",
            "showbackground": true,
            "ticks": "",
            "zerolinecolor": "white"
           }
          },
          "shapedefaults": {
           "line": {
            "color": "#2a3f5f"
           }
          },
          "ternary": {
           "aaxis": {
            "gridcolor": "white",
            "linecolor": "white",
            "ticks": ""
           },
           "baxis": {
            "gridcolor": "white",
            "linecolor": "white",
            "ticks": ""
           },
           "bgcolor": "#E5ECF6",
           "caxis": {
            "gridcolor": "white",
            "linecolor": "white",
            "ticks": ""
           }
          },
          "title": {
           "x": 0.05
          },
          "xaxis": {
           "automargin": true,
           "gridcolor": "white",
           "linecolor": "white",
           "ticks": "",
           "title": {
            "standoff": 15
           },
           "zerolinecolor": "white",
           "zerolinewidth": 2
          },
          "yaxis": {
           "automargin": true,
           "gridcolor": "white",
           "linecolor": "white",
           "ticks": "",
           "title": {
            "standoff": 15
           },
           "zerolinecolor": "white",
           "zerolinewidth": 2
          }
         }
        },
        "title": {
         "text": "City Humidity Levels"
        },
        "width": 1200
       }
      }
     },
     "metadata": {},
     "output_type": "display_data"
    }
   ],
   "source": [
    "import plotly.express as px\n",
    "\n",
    "fig = px.scatter_geo(city_data_df,\n",
    "                     lat='Lat',\n",
    "                     lon='Lng',\n",
    "                     size='Humidity',\n",
    "                     hover_name='City',\n",
    "                     projection=\"natural earth\",\n",
    "                     title=\"City Humidity Levels\",\n",
    "                     template=\"plotly\",\n",
    "                     opacity=0.6,\n",
    "                     size_max=13,\n",
    "                     color='City',  # This will color by city\n",
    "                     color_continuous_scale=px.colors.sequential.Plasma)\n",
    "\n",
    "# Adjusting the map size\n",
    "fig.update_layout(width=1200, \n",
    "                  height=600, \n",
    "                  margin={\"r\":50,\"t\":50,\"l\":50,\"b\":50})\n",
    "\n",
    "# Display the map\n",
    "fig.show()"
   ]
  },
  {
   "cell_type": "markdown",
   "metadata": {},
   "source": [
    "### Step 2: Narrow down the `city_data_df` DataFrame to find your ideal weather condition"
   ]
  },
  {
   "cell_type": "code",
   "execution_count": 4,
   "metadata": {},
   "outputs": [
    {
     "name": "stderr",
     "output_type": "stream",
     "text": [
      "C:\\Users\\gt382\\AppData\\Local\\Temp\\ipykernel_17896\\1002974146.py:11: SettingWithCopyWarning:\n",
      "\n",
      "\n",
      "A value is trying to be set on a copy of a slice from a DataFrame\n",
      "\n",
      "See the caveats in the documentation: https://pandas.pydata.org/pandas-docs/stable/user_guide/indexing.html#returning-a-view-versus-a-copy\n",
      "\n"
     ]
    },
    {
     "data": {
      "text/html": [
       "<div>\n",
       "<style scoped>\n",
       "    .dataframe tbody tr th:only-of-type {\n",
       "        vertical-align: middle;\n",
       "    }\n",
       "\n",
       "    .dataframe tbody tr th {\n",
       "        vertical-align: top;\n",
       "    }\n",
       "\n",
       "    .dataframe thead th {\n",
       "        text-align: right;\n",
       "    }\n",
       "</style>\n",
       "<table border=\"1\" class=\"dataframe\">\n",
       "  <thead>\n",
       "    <tr style=\"text-align: right;\">\n",
       "      <th></th>\n",
       "      <th>City_ID</th>\n",
       "      <th>City</th>\n",
       "      <th>Lat</th>\n",
       "      <th>Lng</th>\n",
       "      <th>Max Temp</th>\n",
       "      <th>Humidity</th>\n",
       "      <th>Cloudiness</th>\n",
       "      <th>Wind Speed</th>\n",
       "      <th>Country</th>\n",
       "      <th>Date</th>\n",
       "    </tr>\n",
       "  </thead>\n",
       "  <tbody>\n",
       "    <tr>\n",
       "      <th>45</th>\n",
       "      <td>45</td>\n",
       "      <td>kapaa</td>\n",
       "      <td>22.0752</td>\n",
       "      <td>-159.3190</td>\n",
       "      <td>22.99</td>\n",
       "      <td>84</td>\n",
       "      <td>0</td>\n",
       "      <td>3.60</td>\n",
       "      <td>US</td>\n",
       "      <td>1666108257</td>\n",
       "    </tr>\n",
       "    <tr>\n",
       "      <th>51</th>\n",
       "      <td>51</td>\n",
       "      <td>hilo</td>\n",
       "      <td>19.7297</td>\n",
       "      <td>-155.0900</td>\n",
       "      <td>26.27</td>\n",
       "      <td>83</td>\n",
       "      <td>0</td>\n",
       "      <td>2.57</td>\n",
       "      <td>US</td>\n",
       "      <td>1666108260</td>\n",
       "    </tr>\n",
       "    <tr>\n",
       "      <th>63</th>\n",
       "      <td>63</td>\n",
       "      <td>banda</td>\n",
       "      <td>25.4833</td>\n",
       "      <td>80.3333</td>\n",
       "      <td>24.62</td>\n",
       "      <td>52</td>\n",
       "      <td>0</td>\n",
       "      <td>2.68</td>\n",
       "      <td>IN</td>\n",
       "      <td>1666108268</td>\n",
       "    </tr>\n",
       "    <tr>\n",
       "      <th>81</th>\n",
       "      <td>81</td>\n",
       "      <td>makakilo city</td>\n",
       "      <td>21.3469</td>\n",
       "      <td>-158.0858</td>\n",
       "      <td>21.66</td>\n",
       "      <td>81</td>\n",
       "      <td>0</td>\n",
       "      <td>2.57</td>\n",
       "      <td>US</td>\n",
       "      <td>1666108282</td>\n",
       "    </tr>\n",
       "    <tr>\n",
       "      <th>152</th>\n",
       "      <td>152</td>\n",
       "      <td>kahului</td>\n",
       "      <td>20.8947</td>\n",
       "      <td>-156.4700</td>\n",
       "      <td>23.80</td>\n",
       "      <td>60</td>\n",
       "      <td>0</td>\n",
       "      <td>3.09</td>\n",
       "      <td>US</td>\n",
       "      <td>1666108246</td>\n",
       "    </tr>\n",
       "    <tr>\n",
       "      <th>197</th>\n",
       "      <td>197</td>\n",
       "      <td>gat</td>\n",
       "      <td>31.6100</td>\n",
       "      <td>34.7642</td>\n",
       "      <td>24.38</td>\n",
       "      <td>100</td>\n",
       "      <td>0</td>\n",
       "      <td>3.69</td>\n",
       "      <td>IL</td>\n",
       "      <td>1666108356</td>\n",
       "    </tr>\n",
       "    <tr>\n",
       "      <th>211</th>\n",
       "      <td>211</td>\n",
       "      <td>laguna</td>\n",
       "      <td>38.4210</td>\n",
       "      <td>-121.4238</td>\n",
       "      <td>21.67</td>\n",
       "      <td>79</td>\n",
       "      <td>0</td>\n",
       "      <td>2.06</td>\n",
       "      <td>US</td>\n",
       "      <td>1666108364</td>\n",
       "    </tr>\n",
       "    <tr>\n",
       "      <th>240</th>\n",
       "      <td>240</td>\n",
       "      <td>tikaitnagar</td>\n",
       "      <td>26.9500</td>\n",
       "      <td>81.5833</td>\n",
       "      <td>23.56</td>\n",
       "      <td>59</td>\n",
       "      <td>0</td>\n",
       "      <td>0.35</td>\n",
       "      <td>IN</td>\n",
       "      <td>1666108378</td>\n",
       "    </tr>\n",
       "    <tr>\n",
       "      <th>265</th>\n",
       "      <td>265</td>\n",
       "      <td>san quintin</td>\n",
       "      <td>30.4833</td>\n",
       "      <td>-115.9500</td>\n",
       "      <td>21.20</td>\n",
       "      <td>74</td>\n",
       "      <td>0</td>\n",
       "      <td>1.37</td>\n",
       "      <td>MX</td>\n",
       "      <td>1666108394</td>\n",
       "    </tr>\n",
       "    <tr>\n",
       "      <th>340</th>\n",
       "      <td>340</td>\n",
       "      <td>santa rosalia</td>\n",
       "      <td>27.3167</td>\n",
       "      <td>-112.2833</td>\n",
       "      <td>24.62</td>\n",
       "      <td>56</td>\n",
       "      <td>0</td>\n",
       "      <td>0.74</td>\n",
       "      <td>MX</td>\n",
       "      <td>1666108436</td>\n",
       "    </tr>\n",
       "    <tr>\n",
       "      <th>363</th>\n",
       "      <td>363</td>\n",
       "      <td>narwar</td>\n",
       "      <td>25.6500</td>\n",
       "      <td>77.9000</td>\n",
       "      <td>22.35</td>\n",
       "      <td>55</td>\n",
       "      <td>0</td>\n",
       "      <td>1.29</td>\n",
       "      <td>IN</td>\n",
       "      <td>1666108449</td>\n",
       "    </tr>\n",
       "    <tr>\n",
       "      <th>375</th>\n",
       "      <td>375</td>\n",
       "      <td>port hedland</td>\n",
       "      <td>-20.3167</td>\n",
       "      <td>118.5667</td>\n",
       "      <td>21.03</td>\n",
       "      <td>73</td>\n",
       "      <td>0</td>\n",
       "      <td>3.09</td>\n",
       "      <td>AU</td>\n",
       "      <td>1666108455</td>\n",
       "    </tr>\n",
       "    <tr>\n",
       "      <th>381</th>\n",
       "      <td>381</td>\n",
       "      <td>roebourne</td>\n",
       "      <td>-20.7833</td>\n",
       "      <td>117.1333</td>\n",
       "      <td>23.48</td>\n",
       "      <td>65</td>\n",
       "      <td>0</td>\n",
       "      <td>2.95</td>\n",
       "      <td>AU</td>\n",
       "      <td>1666108458</td>\n",
       "    </tr>\n",
       "    <tr>\n",
       "      <th>391</th>\n",
       "      <td>391</td>\n",
       "      <td>saint-francois</td>\n",
       "      <td>46.4154</td>\n",
       "      <td>3.9054</td>\n",
       "      <td>23.69</td>\n",
       "      <td>57</td>\n",
       "      <td>0</td>\n",
       "      <td>4.12</td>\n",
       "      <td>FR</td>\n",
       "      <td>1666108465</td>\n",
       "    </tr>\n",
       "    <tr>\n",
       "      <th>409</th>\n",
       "      <td>409</td>\n",
       "      <td>capoterra</td>\n",
       "      <td>39.1763</td>\n",
       "      <td>8.9718</td>\n",
       "      <td>24.84</td>\n",
       "      <td>71</td>\n",
       "      <td>0</td>\n",
       "      <td>3.60</td>\n",
       "      <td>IT</td>\n",
       "      <td>1666108477</td>\n",
       "    </tr>\n",
       "    <tr>\n",
       "      <th>421</th>\n",
       "      <td>421</td>\n",
       "      <td>stolac</td>\n",
       "      <td>43.0844</td>\n",
       "      <td>17.9575</td>\n",
       "      <td>24.88</td>\n",
       "      <td>68</td>\n",
       "      <td>0</td>\n",
       "      <td>0.80</td>\n",
       "      <td>BA</td>\n",
       "      <td>1666108483</td>\n",
       "    </tr>\n",
       "    <tr>\n",
       "      <th>516</th>\n",
       "      <td>516</td>\n",
       "      <td>guerrero negro</td>\n",
       "      <td>27.9769</td>\n",
       "      <td>-114.0611</td>\n",
       "      <td>23.17</td>\n",
       "      <td>68</td>\n",
       "      <td>0</td>\n",
       "      <td>0.89</td>\n",
       "      <td>MX</td>\n",
       "      <td>1666108537</td>\n",
       "    </tr>\n",
       "  </tbody>\n",
       "</table>\n",
       "</div>"
      ],
      "text/plain": [
       "     City_ID            City      Lat       Lng  Max Temp  Humidity  \\\n",
       "45        45           kapaa  22.0752 -159.3190     22.99        84   \n",
       "51        51            hilo  19.7297 -155.0900     26.27        83   \n",
       "63        63           banda  25.4833   80.3333     24.62        52   \n",
       "81        81   makakilo city  21.3469 -158.0858     21.66        81   \n",
       "152      152         kahului  20.8947 -156.4700     23.80        60   \n",
       "197      197             gat  31.6100   34.7642     24.38       100   \n",
       "211      211          laguna  38.4210 -121.4238     21.67        79   \n",
       "240      240     tikaitnagar  26.9500   81.5833     23.56        59   \n",
       "265      265     san quintin  30.4833 -115.9500     21.20        74   \n",
       "340      340   santa rosalia  27.3167 -112.2833     24.62        56   \n",
       "363      363          narwar  25.6500   77.9000     22.35        55   \n",
       "375      375    port hedland -20.3167  118.5667     21.03        73   \n",
       "381      381       roebourne -20.7833  117.1333     23.48        65   \n",
       "391      391  saint-francois  46.4154    3.9054     23.69        57   \n",
       "409      409       capoterra  39.1763    8.9718     24.84        71   \n",
       "421      421          stolac  43.0844   17.9575     24.88        68   \n",
       "516      516  guerrero negro  27.9769 -114.0611     23.17        68   \n",
       "\n",
       "     Cloudiness  Wind Speed Country        Date  \n",
       "45            0        3.60      US  1666108257  \n",
       "51            0        2.57      US  1666108260  \n",
       "63            0        2.68      IN  1666108268  \n",
       "81            0        2.57      US  1666108282  \n",
       "152           0        3.09      US  1666108246  \n",
       "197           0        3.69      IL  1666108356  \n",
       "211           0        2.06      US  1666108364  \n",
       "240           0        0.35      IN  1666108378  \n",
       "265           0        1.37      MX  1666108394  \n",
       "340           0        0.74      MX  1666108436  \n",
       "363           0        1.29      IN  1666108449  \n",
       "375           0        3.09      AU  1666108455  \n",
       "381           0        2.95      AU  1666108458  \n",
       "391           0        4.12      FR  1666108465  \n",
       "409           0        3.60      IT  1666108477  \n",
       "421           0        0.80      BA  1666108483  \n",
       "516           0        0.89      MX  1666108537  "
      ]
     },
     "execution_count": 4,
     "metadata": {},
     "output_type": "execute_result"
    }
   ],
   "source": [
    "# Narrow down cities based on the criteria\n",
    "# weather condition can be adjusted base on your liking\n",
    "filtered_cities_df = city_data_df[\n",
    "    (city_data_df[\"Max Temp\"] >= 21) & (city_data_df[\"Max Temp\"] <= 27) &\n",
    "    (city_data_df[\"Wind Speed\"] < 4.5) &\n",
    "    (city_data_df[\"Cloudiness\"] == 0) &\n",
    "    (city_data_df[\"Humidity\"] <= 100)\n",
    "]\n",
    "\n",
    "# Drop any rows with null values\n",
    "filtered_cities_df.dropna(inplace=True)\n",
    "\n",
    "# Display\n",
    "filtered_cities_df\n"
   ]
  },
  {
   "cell_type": "markdown",
   "metadata": {},
   "source": [
    "### Step 3: Create a new DataFrame called `hotel_df`."
   ]
  },
  {
   "cell_type": "code",
   "execution_count": 5,
   "metadata": {},
   "outputs": [
    {
     "data": {
      "text/html": [
       "<div>\n",
       "<style scoped>\n",
       "    .dataframe tbody tr th:only-of-type {\n",
       "        vertical-align: middle;\n",
       "    }\n",
       "\n",
       "    .dataframe tbody tr th {\n",
       "        vertical-align: top;\n",
       "    }\n",
       "\n",
       "    .dataframe thead th {\n",
       "        text-align: right;\n",
       "    }\n",
       "</style>\n",
       "<table border=\"1\" class=\"dataframe\">\n",
       "  <thead>\n",
       "    <tr style=\"text-align: right;\">\n",
       "      <th></th>\n",
       "      <th>City</th>\n",
       "      <th>Country</th>\n",
       "      <th>Lat</th>\n",
       "      <th>Lng</th>\n",
       "      <th>Humidity</th>\n",
       "      <th>Hotel Name</th>\n",
       "    </tr>\n",
       "  </thead>\n",
       "  <tbody>\n",
       "    <tr>\n",
       "      <th>45</th>\n",
       "      <td>kapaa</td>\n",
       "      <td>US</td>\n",
       "      <td>22.0752</td>\n",
       "      <td>-159.3190</td>\n",
       "      <td>84</td>\n",
       "      <td></td>\n",
       "    </tr>\n",
       "    <tr>\n",
       "      <th>51</th>\n",
       "      <td>hilo</td>\n",
       "      <td>US</td>\n",
       "      <td>19.7297</td>\n",
       "      <td>-155.0900</td>\n",
       "      <td>83</td>\n",
       "      <td></td>\n",
       "    </tr>\n",
       "    <tr>\n",
       "      <th>63</th>\n",
       "      <td>banda</td>\n",
       "      <td>IN</td>\n",
       "      <td>25.4833</td>\n",
       "      <td>80.3333</td>\n",
       "      <td>52</td>\n",
       "      <td></td>\n",
       "    </tr>\n",
       "    <tr>\n",
       "      <th>81</th>\n",
       "      <td>makakilo city</td>\n",
       "      <td>US</td>\n",
       "      <td>21.3469</td>\n",
       "      <td>-158.0858</td>\n",
       "      <td>81</td>\n",
       "      <td></td>\n",
       "    </tr>\n",
       "    <tr>\n",
       "      <th>152</th>\n",
       "      <td>kahului</td>\n",
       "      <td>US</td>\n",
       "      <td>20.8947</td>\n",
       "      <td>-156.4700</td>\n",
       "      <td>60</td>\n",
       "      <td></td>\n",
       "    </tr>\n",
       "    <tr>\n",
       "      <th>197</th>\n",
       "      <td>gat</td>\n",
       "      <td>IL</td>\n",
       "      <td>31.6100</td>\n",
       "      <td>34.7642</td>\n",
       "      <td>100</td>\n",
       "      <td></td>\n",
       "    </tr>\n",
       "    <tr>\n",
       "      <th>211</th>\n",
       "      <td>laguna</td>\n",
       "      <td>US</td>\n",
       "      <td>38.4210</td>\n",
       "      <td>-121.4238</td>\n",
       "      <td>79</td>\n",
       "      <td></td>\n",
       "    </tr>\n",
       "    <tr>\n",
       "      <th>240</th>\n",
       "      <td>tikaitnagar</td>\n",
       "      <td>IN</td>\n",
       "      <td>26.9500</td>\n",
       "      <td>81.5833</td>\n",
       "      <td>59</td>\n",
       "      <td></td>\n",
       "    </tr>\n",
       "    <tr>\n",
       "      <th>265</th>\n",
       "      <td>san quintin</td>\n",
       "      <td>MX</td>\n",
       "      <td>30.4833</td>\n",
       "      <td>-115.9500</td>\n",
       "      <td>74</td>\n",
       "      <td></td>\n",
       "    </tr>\n",
       "    <tr>\n",
       "      <th>340</th>\n",
       "      <td>santa rosalia</td>\n",
       "      <td>MX</td>\n",
       "      <td>27.3167</td>\n",
       "      <td>-112.2833</td>\n",
       "      <td>56</td>\n",
       "      <td></td>\n",
       "    </tr>\n",
       "    <tr>\n",
       "      <th>363</th>\n",
       "      <td>narwar</td>\n",
       "      <td>IN</td>\n",
       "      <td>25.6500</td>\n",
       "      <td>77.9000</td>\n",
       "      <td>55</td>\n",
       "      <td></td>\n",
       "    </tr>\n",
       "    <tr>\n",
       "      <th>375</th>\n",
       "      <td>port hedland</td>\n",
       "      <td>AU</td>\n",
       "      <td>-20.3167</td>\n",
       "      <td>118.5667</td>\n",
       "      <td>73</td>\n",
       "      <td></td>\n",
       "    </tr>\n",
       "    <tr>\n",
       "      <th>381</th>\n",
       "      <td>roebourne</td>\n",
       "      <td>AU</td>\n",
       "      <td>-20.7833</td>\n",
       "      <td>117.1333</td>\n",
       "      <td>65</td>\n",
       "      <td></td>\n",
       "    </tr>\n",
       "    <tr>\n",
       "      <th>391</th>\n",
       "      <td>saint-francois</td>\n",
       "      <td>FR</td>\n",
       "      <td>46.4154</td>\n",
       "      <td>3.9054</td>\n",
       "      <td>57</td>\n",
       "      <td></td>\n",
       "    </tr>\n",
       "    <tr>\n",
       "      <th>409</th>\n",
       "      <td>capoterra</td>\n",
       "      <td>IT</td>\n",
       "      <td>39.1763</td>\n",
       "      <td>8.9718</td>\n",
       "      <td>71</td>\n",
       "      <td></td>\n",
       "    </tr>\n",
       "    <tr>\n",
       "      <th>421</th>\n",
       "      <td>stolac</td>\n",
       "      <td>BA</td>\n",
       "      <td>43.0844</td>\n",
       "      <td>17.9575</td>\n",
       "      <td>68</td>\n",
       "      <td></td>\n",
       "    </tr>\n",
       "    <tr>\n",
       "      <th>516</th>\n",
       "      <td>guerrero negro</td>\n",
       "      <td>MX</td>\n",
       "      <td>27.9769</td>\n",
       "      <td>-114.0611</td>\n",
       "      <td>68</td>\n",
       "      <td></td>\n",
       "    </tr>\n",
       "  </tbody>\n",
       "</table>\n",
       "</div>"
      ],
      "text/plain": [
       "               City Country      Lat       Lng  Humidity Hotel Name\n",
       "45            kapaa      US  22.0752 -159.3190        84           \n",
       "51             hilo      US  19.7297 -155.0900        83           \n",
       "63            banda      IN  25.4833   80.3333        52           \n",
       "81    makakilo city      US  21.3469 -158.0858        81           \n",
       "152         kahului      US  20.8947 -156.4700        60           \n",
       "197             gat      IL  31.6100   34.7642       100           \n",
       "211          laguna      US  38.4210 -121.4238        79           \n",
       "240     tikaitnagar      IN  26.9500   81.5833        59           \n",
       "265     san quintin      MX  30.4833 -115.9500        74           \n",
       "340   santa rosalia      MX  27.3167 -112.2833        56           \n",
       "363          narwar      IN  25.6500   77.9000        55           \n",
       "375    port hedland      AU -20.3167  118.5667        73           \n",
       "381       roebourne      AU -20.7833  117.1333        65           \n",
       "391  saint-francois      FR  46.4154    3.9054        57           \n",
       "409       capoterra      IT  39.1763    8.9718        71           \n",
       "421          stolac      BA  43.0844   17.9575        68           \n",
       "516  guerrero negro      MX  27.9769 -114.0611        68           "
      ]
     },
     "execution_count": 5,
     "metadata": {},
     "output_type": "execute_result"
    }
   ],
   "source": [
    "# Create a new DataFrame based on the desired columns\n",
    "hotel_df = filtered_cities_df[[\"City\", \"Country\", \"Lat\", \"Lng\", \"Humidity\"]].copy()\n",
    "\n",
    "# Add an empty \"Hotel Name\" column\n",
    "hotel_df[\"Hotel Name\"] = \"\"\n",
    "\n",
    "# Display the DataFrame\n",
    "hotel_df\n"
   ]
  },
  {
   "cell_type": "markdown",
   "metadata": {},
   "source": [
    "### Step 4: For each city, use the Geoapify API to find the first hotel located within 10,000 metres of your coordinates."
   ]
  },
  {
   "cell_type": "code",
   "execution_count": 14,
   "metadata": {},
   "outputs": [
    {
     "name": "stdout",
     "output_type": "stream",
     "text": [
      "Starting hotel search\n",
      "kapaa - nearest hotel: Pono Kai Resort\n",
      "hilo - nearest hotel: Dolphin Bay Hotel\n",
      "banda - nearest hotel: #acnindiafy21\n",
      "makakilo city - nearest hotel: Embassy Suites by Hilton Oahu Kapolei\n",
      "kahului - nearest hotel: Maui Seaside Hotel\n",
      "gat - nearest hotel: מלון גולדן טאוור\n",
      "laguna - nearest hotel: Holiday Inn Express & Suites\n",
      "tikaitnagar - nearest hotel: Maa patesawri sweet hous\n",
      "san quintin - nearest hotel: Jardines Hotel\n",
      "santa rosalia - nearest hotel: Sol y Mar\n",
      "narwar - nearest hotel: Shivpuri Hotel\n",
      "port hedland - nearest hotel: The Esplanade Hotel\n",
      "roebourne - nearest hotel: Ibis Styles Karratha\n",
      "saint-francois - nearest hotel: Chez Lily\n",
      "capoterra - nearest hotel: Rosa Hotel\n",
      "stolac - nearest hotel: Bregava\n",
      "guerrero negro - nearest hotel: Plaza sal paraiso\n"
     ]
    },
    {
     "data": {
      "text/html": [
       "<div>\n",
       "<style scoped>\n",
       "    .dataframe tbody tr th:only-of-type {\n",
       "        vertical-align: middle;\n",
       "    }\n",
       "\n",
       "    .dataframe tbody tr th {\n",
       "        vertical-align: top;\n",
       "    }\n",
       "\n",
       "    .dataframe thead th {\n",
       "        text-align: right;\n",
       "    }\n",
       "</style>\n",
       "<table border=\"1\" class=\"dataframe\">\n",
       "  <thead>\n",
       "    <tr style=\"text-align: right;\">\n",
       "      <th></th>\n",
       "      <th>City</th>\n",
       "      <th>Country</th>\n",
       "      <th>Lat</th>\n",
       "      <th>Lng</th>\n",
       "      <th>Humidity</th>\n",
       "      <th>Hotel Name</th>\n",
       "    </tr>\n",
       "  </thead>\n",
       "  <tbody>\n",
       "    <tr>\n",
       "      <th>45</th>\n",
       "      <td>kapaa</td>\n",
       "      <td>US</td>\n",
       "      <td>22.0752</td>\n",
       "      <td>-159.3190</td>\n",
       "      <td>84</td>\n",
       "      <td>Pono Kai Resort</td>\n",
       "    </tr>\n",
       "    <tr>\n",
       "      <th>51</th>\n",
       "      <td>hilo</td>\n",
       "      <td>US</td>\n",
       "      <td>19.7297</td>\n",
       "      <td>-155.0900</td>\n",
       "      <td>83</td>\n",
       "      <td>Dolphin Bay Hotel</td>\n",
       "    </tr>\n",
       "    <tr>\n",
       "      <th>63</th>\n",
       "      <td>banda</td>\n",
       "      <td>IN</td>\n",
       "      <td>25.4833</td>\n",
       "      <td>80.3333</td>\n",
       "      <td>52</td>\n",
       "      <td>#acnindiafy21</td>\n",
       "    </tr>\n",
       "    <tr>\n",
       "      <th>81</th>\n",
       "      <td>makakilo city</td>\n",
       "      <td>US</td>\n",
       "      <td>21.3469</td>\n",
       "      <td>-158.0858</td>\n",
       "      <td>81</td>\n",
       "      <td>Embassy Suites by Hilton Oahu Kapolei</td>\n",
       "    </tr>\n",
       "    <tr>\n",
       "      <th>152</th>\n",
       "      <td>kahului</td>\n",
       "      <td>US</td>\n",
       "      <td>20.8947</td>\n",
       "      <td>-156.4700</td>\n",
       "      <td>60</td>\n",
       "      <td>Maui Seaside Hotel</td>\n",
       "    </tr>\n",
       "    <tr>\n",
       "      <th>197</th>\n",
       "      <td>gat</td>\n",
       "      <td>IL</td>\n",
       "      <td>31.6100</td>\n",
       "      <td>34.7642</td>\n",
       "      <td>100</td>\n",
       "      <td>מלון גולדן טאוור</td>\n",
       "    </tr>\n",
       "    <tr>\n",
       "      <th>211</th>\n",
       "      <td>laguna</td>\n",
       "      <td>US</td>\n",
       "      <td>38.4210</td>\n",
       "      <td>-121.4238</td>\n",
       "      <td>79</td>\n",
       "      <td>Holiday Inn Express &amp; Suites</td>\n",
       "    </tr>\n",
       "    <tr>\n",
       "      <th>240</th>\n",
       "      <td>tikaitnagar</td>\n",
       "      <td>IN</td>\n",
       "      <td>26.9500</td>\n",
       "      <td>81.5833</td>\n",
       "      <td>59</td>\n",
       "      <td>Maa patesawri sweet hous</td>\n",
       "    </tr>\n",
       "    <tr>\n",
       "      <th>265</th>\n",
       "      <td>san quintin</td>\n",
       "      <td>MX</td>\n",
       "      <td>30.4833</td>\n",
       "      <td>-115.9500</td>\n",
       "      <td>74</td>\n",
       "      <td>Jardines Hotel</td>\n",
       "    </tr>\n",
       "    <tr>\n",
       "      <th>340</th>\n",
       "      <td>santa rosalia</td>\n",
       "      <td>MX</td>\n",
       "      <td>27.3167</td>\n",
       "      <td>-112.2833</td>\n",
       "      <td>56</td>\n",
       "      <td>Sol y Mar</td>\n",
       "    </tr>\n",
       "    <tr>\n",
       "      <th>363</th>\n",
       "      <td>narwar</td>\n",
       "      <td>IN</td>\n",
       "      <td>25.6500</td>\n",
       "      <td>77.9000</td>\n",
       "      <td>55</td>\n",
       "      <td>Shivpuri Hotel</td>\n",
       "    </tr>\n",
       "    <tr>\n",
       "      <th>375</th>\n",
       "      <td>port hedland</td>\n",
       "      <td>AU</td>\n",
       "      <td>-20.3167</td>\n",
       "      <td>118.5667</td>\n",
       "      <td>73</td>\n",
       "      <td>The Esplanade Hotel</td>\n",
       "    </tr>\n",
       "    <tr>\n",
       "      <th>381</th>\n",
       "      <td>roebourne</td>\n",
       "      <td>AU</td>\n",
       "      <td>-20.7833</td>\n",
       "      <td>117.1333</td>\n",
       "      <td>65</td>\n",
       "      <td>Ibis Styles Karratha</td>\n",
       "    </tr>\n",
       "    <tr>\n",
       "      <th>391</th>\n",
       "      <td>saint-francois</td>\n",
       "      <td>FR</td>\n",
       "      <td>46.4154</td>\n",
       "      <td>3.9054</td>\n",
       "      <td>57</td>\n",
       "      <td>Chez Lily</td>\n",
       "    </tr>\n",
       "    <tr>\n",
       "      <th>409</th>\n",
       "      <td>capoterra</td>\n",
       "      <td>IT</td>\n",
       "      <td>39.1763</td>\n",
       "      <td>8.9718</td>\n",
       "      <td>71</td>\n",
       "      <td>Rosa Hotel</td>\n",
       "    </tr>\n",
       "    <tr>\n",
       "      <th>421</th>\n",
       "      <td>stolac</td>\n",
       "      <td>BA</td>\n",
       "      <td>43.0844</td>\n",
       "      <td>17.9575</td>\n",
       "      <td>68</td>\n",
       "      <td>Bregava</td>\n",
       "    </tr>\n",
       "    <tr>\n",
       "      <th>516</th>\n",
       "      <td>guerrero negro</td>\n",
       "      <td>MX</td>\n",
       "      <td>27.9769</td>\n",
       "      <td>-114.0611</td>\n",
       "      <td>68</td>\n",
       "      <td>Plaza sal paraiso</td>\n",
       "    </tr>\n",
       "  </tbody>\n",
       "</table>\n",
       "</div>"
      ],
      "text/plain": [
       "               City Country      Lat       Lng  Humidity  \\\n",
       "45            kapaa      US  22.0752 -159.3190        84   \n",
       "51             hilo      US  19.7297 -155.0900        83   \n",
       "63            banda      IN  25.4833   80.3333        52   \n",
       "81    makakilo city      US  21.3469 -158.0858        81   \n",
       "152         kahului      US  20.8947 -156.4700        60   \n",
       "197             gat      IL  31.6100   34.7642       100   \n",
       "211          laguna      US  38.4210 -121.4238        79   \n",
       "240     tikaitnagar      IN  26.9500   81.5833        59   \n",
       "265     san quintin      MX  30.4833 -115.9500        74   \n",
       "340   santa rosalia      MX  27.3167 -112.2833        56   \n",
       "363          narwar      IN  25.6500   77.9000        55   \n",
       "375    port hedland      AU -20.3167  118.5667        73   \n",
       "381       roebourne      AU -20.7833  117.1333        65   \n",
       "391  saint-francois      FR  46.4154    3.9054        57   \n",
       "409       capoterra      IT  39.1763    8.9718        71   \n",
       "421          stolac      BA  43.0844   17.9575        68   \n",
       "516  guerrero negro      MX  27.9769 -114.0611        68   \n",
       "\n",
       "                                Hotel Name  \n",
       "45                         Pono Kai Resort  \n",
       "51                       Dolphin Bay Hotel  \n",
       "63                           #acnindiafy21  \n",
       "81   Embassy Suites by Hilton Oahu Kapolei  \n",
       "152                     Maui Seaside Hotel  \n",
       "197                       מלון גולדן טאוור  \n",
       "211           Holiday Inn Express & Suites  \n",
       "240               Maa patesawri sweet hous  \n",
       "265                         Jardines Hotel  \n",
       "340                              Sol y Mar  \n",
       "363                         Shivpuri Hotel  \n",
       "375                    The Esplanade Hotel  \n",
       "381                   Ibis Styles Karratha  \n",
       "391                              Chez Lily  \n",
       "409                             Rosa Hotel  \n",
       "421                                Bregava  \n",
       "516                      Plaza sal paraiso  "
      ]
     },
     "execution_count": 14,
     "metadata": {},
     "output_type": "execute_result"
    }
   ],
   "source": [
    "# Setting up the radius and parameters for the API request\n",
    "radius = 10000\n",
    "params = {\n",
    "    \"apiKey\": geoapify_key, \n",
    "    \"radius\": radius,\n",
    "    \"limit\": 1,\n",
    "    \"categories\": \"accommodation.hotel\"\n",
    "}\n",
    "\n",
    "print(\"Starting hotel search\")\n",
    "\n",
    "# Iterate through the hotel_df DataFrame\n",
    "for index, row in hotel_df.iterrows():\n",
    "    # Get latitude, longitude from the DataFrame\n",
    "    lat = row[\"Lat\"]\n",
    "    lon = row[\"Lng\"]\n",
    "\n",
    "    # Add filter and bias parameters with the current city's latitude and longitude to the params dictionary\n",
    "    params[\"lat\"] = lat\n",
    "    params[\"lon\"] = lon\n",
    "\n",
    "    # Set base URL\n",
    "    base_url = \"https://api.geoapify.com/v2/places\"\n",
    "\n",
    "    # Make an API request using the params dictionary\n",
    "    response = requests.get(base_url, params=params)\n",
    "\n",
    "    # Convert the API response to JSON format\n",
    "    name_address = response.json()\n",
    "\n",
    "    # Grab the first hotel from the results and store the name in the hotel_df DataFrame\n",
    "    try:\n",
    "        hotel_df.loc[index, \"Hotel Name\"] = name_address[\"features\"][0][\"properties\"][\"name\"]\n",
    "    except (KeyError, IndexError):\n",
    "        # If no hotel is found, set the hotel name as \"No hotel found\".\n",
    "        hotel_df.loc[index, \"Hotel Name\"] = \"No hotel found\"\n",
    "\n",
    "    # Log the search results\n",
    "    print(f\"{hotel_df.loc[index, 'City']} - nearest hotel: {hotel_df.loc[index, 'Hotel Name']}\")\n",
    "\n",
    "hotel_df\n"
   ]
  },
  {
   "cell_type": "markdown",
   "metadata": {},
   "source": [
    "### Step 5: Add the hotel name and the country as additional information in the hover message for each city in the map."
   ]
  },
  {
   "cell_type": "code",
   "execution_count": 20,
   "metadata": {},
   "outputs": [
    {
     "data": {
      "application/vnd.plotly.v1+json": {
       "config": {
        "plotlyServerURL": "https://plot.ly"
       },
       "data": [
        {
         "customdata": [
          [
           "US",
           "Pono Kai Resort"
          ]
         ],
         "geo": "geo",
         "hovertemplate": "City=kapaa<br>Humidity=%{marker.size}<br>Lat=%{lat}<br>Lng=%{lon}<br>Country=%{customdata[0]}<br>Hotel Name=%{customdata[1]}<extra></extra>",
         "lat": [
          22.0752
         ],
         "legendgroup": "kapaa",
         "lon": [
          -159.319
         ],
         "marker": {
          "color": "#636efa",
          "opacity": 0.6,
          "size": [
           84
          ],
          "sizemode": "area",
          "sizeref": 0.591715976331361,
          "symbol": "circle"
         },
         "mode": "markers",
         "name": "kapaa",
         "showlegend": true,
         "type": "scattergeo"
        },
        {
         "customdata": [
          [
           "US",
           "Dolphin Bay Hotel"
          ]
         ],
         "geo": "geo",
         "hovertemplate": "City=hilo<br>Humidity=%{marker.size}<br>Lat=%{lat}<br>Lng=%{lon}<br>Country=%{customdata[0]}<br>Hotel Name=%{customdata[1]}<extra></extra>",
         "lat": [
          19.7297
         ],
         "legendgroup": "hilo",
         "lon": [
          -155.09
         ],
         "marker": {
          "color": "#EF553B",
          "opacity": 0.6,
          "size": [
           83
          ],
          "sizemode": "area",
          "sizeref": 0.591715976331361,
          "symbol": "circle"
         },
         "mode": "markers",
         "name": "hilo",
         "showlegend": true,
         "type": "scattergeo"
        },
        {
         "customdata": [
          [
           "IN",
           "#acnindiafy21"
          ]
         ],
         "geo": "geo",
         "hovertemplate": "City=banda<br>Humidity=%{marker.size}<br>Lat=%{lat}<br>Lng=%{lon}<br>Country=%{customdata[0]}<br>Hotel Name=%{customdata[1]}<extra></extra>",
         "lat": [
          25.4833
         ],
         "legendgroup": "banda",
         "lon": [
          80.3333
         ],
         "marker": {
          "color": "#00cc96",
          "opacity": 0.6,
          "size": [
           52
          ],
          "sizemode": "area",
          "sizeref": 0.591715976331361,
          "symbol": "circle"
         },
         "mode": "markers",
         "name": "banda",
         "showlegend": true,
         "type": "scattergeo"
        },
        {
         "customdata": [
          [
           "US",
           "Embassy Suites by Hilton Oahu Kapolei"
          ]
         ],
         "geo": "geo",
         "hovertemplate": "City=makakilo city<br>Humidity=%{marker.size}<br>Lat=%{lat}<br>Lng=%{lon}<br>Country=%{customdata[0]}<br>Hotel Name=%{customdata[1]}<extra></extra>",
         "lat": [
          21.3469
         ],
         "legendgroup": "makakilo city",
         "lon": [
          -158.0858
         ],
         "marker": {
          "color": "#ab63fa",
          "opacity": 0.6,
          "size": [
           81
          ],
          "sizemode": "area",
          "sizeref": 0.591715976331361,
          "symbol": "circle"
         },
         "mode": "markers",
         "name": "makakilo city",
         "showlegend": true,
         "type": "scattergeo"
        },
        {
         "customdata": [
          [
           "US",
           "Maui Seaside Hotel"
          ]
         ],
         "geo": "geo",
         "hovertemplate": "City=kahului<br>Humidity=%{marker.size}<br>Lat=%{lat}<br>Lng=%{lon}<br>Country=%{customdata[0]}<br>Hotel Name=%{customdata[1]}<extra></extra>",
         "lat": [
          20.8947
         ],
         "legendgroup": "kahului",
         "lon": [
          -156.47
         ],
         "marker": {
          "color": "#FFA15A",
          "opacity": 0.6,
          "size": [
           60
          ],
          "sizemode": "area",
          "sizeref": 0.591715976331361,
          "symbol": "circle"
         },
         "mode": "markers",
         "name": "kahului",
         "showlegend": true,
         "type": "scattergeo"
        },
        {
         "customdata": [
          [
           "IL",
           "מלון גולדן טאוור"
          ]
         ],
         "geo": "geo",
         "hovertemplate": "City=gat<br>Humidity=%{marker.size}<br>Lat=%{lat}<br>Lng=%{lon}<br>Country=%{customdata[0]}<br>Hotel Name=%{customdata[1]}<extra></extra>",
         "lat": [
          31.61
         ],
         "legendgroup": "gat",
         "lon": [
          34.7642
         ],
         "marker": {
          "color": "#19d3f3",
          "opacity": 0.6,
          "size": [
           100
          ],
          "sizemode": "area",
          "sizeref": 0.591715976331361,
          "symbol": "circle"
         },
         "mode": "markers",
         "name": "gat",
         "showlegend": true,
         "type": "scattergeo"
        },
        {
         "customdata": [
          [
           "US",
           "Holiday Inn Express & Suites"
          ]
         ],
         "geo": "geo",
         "hovertemplate": "City=laguna<br>Humidity=%{marker.size}<br>Lat=%{lat}<br>Lng=%{lon}<br>Country=%{customdata[0]}<br>Hotel Name=%{customdata[1]}<extra></extra>",
         "lat": [
          38.421
         ],
         "legendgroup": "laguna",
         "lon": [
          -121.4238
         ],
         "marker": {
          "color": "#FF6692",
          "opacity": 0.6,
          "size": [
           79
          ],
          "sizemode": "area",
          "sizeref": 0.591715976331361,
          "symbol": "circle"
         },
         "mode": "markers",
         "name": "laguna",
         "showlegend": true,
         "type": "scattergeo"
        },
        {
         "customdata": [
          [
           "IN",
           "Maa patesawri sweet hous"
          ]
         ],
         "geo": "geo",
         "hovertemplate": "City=tikaitnagar<br>Humidity=%{marker.size}<br>Lat=%{lat}<br>Lng=%{lon}<br>Country=%{customdata[0]}<br>Hotel Name=%{customdata[1]}<extra></extra>",
         "lat": [
          26.95
         ],
         "legendgroup": "tikaitnagar",
         "lon": [
          81.5833
         ],
         "marker": {
          "color": "#B6E880",
          "opacity": 0.6,
          "size": [
           59
          ],
          "sizemode": "area",
          "sizeref": 0.591715976331361,
          "symbol": "circle"
         },
         "mode": "markers",
         "name": "tikaitnagar",
         "showlegend": true,
         "type": "scattergeo"
        },
        {
         "customdata": [
          [
           "MX",
           "Jardines Hotel"
          ]
         ],
         "geo": "geo",
         "hovertemplate": "City=san quintin<br>Humidity=%{marker.size}<br>Lat=%{lat}<br>Lng=%{lon}<br>Country=%{customdata[0]}<br>Hotel Name=%{customdata[1]}<extra></extra>",
         "lat": [
          30.4833
         ],
         "legendgroup": "san quintin",
         "lon": [
          -115.95
         ],
         "marker": {
          "color": "#FF97FF",
          "opacity": 0.6,
          "size": [
           74
          ],
          "sizemode": "area",
          "sizeref": 0.591715976331361,
          "symbol": "circle"
         },
         "mode": "markers",
         "name": "san quintin",
         "showlegend": true,
         "type": "scattergeo"
        },
        {
         "customdata": [
          [
           "MX",
           "Sol y Mar"
          ]
         ],
         "geo": "geo",
         "hovertemplate": "City=santa rosalia<br>Humidity=%{marker.size}<br>Lat=%{lat}<br>Lng=%{lon}<br>Country=%{customdata[0]}<br>Hotel Name=%{customdata[1]}<extra></extra>",
         "lat": [
          27.3167
         ],
         "legendgroup": "santa rosalia",
         "lon": [
          -112.2833
         ],
         "marker": {
          "color": "#FECB52",
          "opacity": 0.6,
          "size": [
           56
          ],
          "sizemode": "area",
          "sizeref": 0.591715976331361,
          "symbol": "circle"
         },
         "mode": "markers",
         "name": "santa rosalia",
         "showlegend": true,
         "type": "scattergeo"
        },
        {
         "customdata": [
          [
           "IN",
           "Shivpuri Hotel"
          ]
         ],
         "geo": "geo",
         "hovertemplate": "City=narwar<br>Humidity=%{marker.size}<br>Lat=%{lat}<br>Lng=%{lon}<br>Country=%{customdata[0]}<br>Hotel Name=%{customdata[1]}<extra></extra>",
         "lat": [
          25.65
         ],
         "legendgroup": "narwar",
         "lon": [
          77.9
         ],
         "marker": {
          "color": "#636efa",
          "opacity": 0.6,
          "size": [
           55
          ],
          "sizemode": "area",
          "sizeref": 0.591715976331361,
          "symbol": "circle"
         },
         "mode": "markers",
         "name": "narwar",
         "showlegend": true,
         "type": "scattergeo"
        },
        {
         "customdata": [
          [
           "AU",
           "The Esplanade Hotel"
          ]
         ],
         "geo": "geo",
         "hovertemplate": "City=port hedland<br>Humidity=%{marker.size}<br>Lat=%{lat}<br>Lng=%{lon}<br>Country=%{customdata[0]}<br>Hotel Name=%{customdata[1]}<extra></extra>",
         "lat": [
          -20.3167
         ],
         "legendgroup": "port hedland",
         "lon": [
          118.5667
         ],
         "marker": {
          "color": "#EF553B",
          "opacity": 0.6,
          "size": [
           73
          ],
          "sizemode": "area",
          "sizeref": 0.591715976331361,
          "symbol": "circle"
         },
         "mode": "markers",
         "name": "port hedland",
         "showlegend": true,
         "type": "scattergeo"
        },
        {
         "customdata": [
          [
           "AU",
           "Ibis Styles Karratha"
          ]
         ],
         "geo": "geo",
         "hovertemplate": "City=roebourne<br>Humidity=%{marker.size}<br>Lat=%{lat}<br>Lng=%{lon}<br>Country=%{customdata[0]}<br>Hotel Name=%{customdata[1]}<extra></extra>",
         "lat": [
          -20.7833
         ],
         "legendgroup": "roebourne",
         "lon": [
          117.1333
         ],
         "marker": {
          "color": "#00cc96",
          "opacity": 0.6,
          "size": [
           65
          ],
          "sizemode": "area",
          "sizeref": 0.591715976331361,
          "symbol": "circle"
         },
         "mode": "markers",
         "name": "roebourne",
         "showlegend": true,
         "type": "scattergeo"
        },
        {
         "customdata": [
          [
           "FR",
           "Chez Lily"
          ]
         ],
         "geo": "geo",
         "hovertemplate": "City=saint-francois<br>Humidity=%{marker.size}<br>Lat=%{lat}<br>Lng=%{lon}<br>Country=%{customdata[0]}<br>Hotel Name=%{customdata[1]}<extra></extra>",
         "lat": [
          46.4154
         ],
         "legendgroup": "saint-francois",
         "lon": [
          3.9054
         ],
         "marker": {
          "color": "#ab63fa",
          "opacity": 0.6,
          "size": [
           57
          ],
          "sizemode": "area",
          "sizeref": 0.591715976331361,
          "symbol": "circle"
         },
         "mode": "markers",
         "name": "saint-francois",
         "showlegend": true,
         "type": "scattergeo"
        },
        {
         "customdata": [
          [
           "IT",
           "Rosa Hotel"
          ]
         ],
         "geo": "geo",
         "hovertemplate": "City=capoterra<br>Humidity=%{marker.size}<br>Lat=%{lat}<br>Lng=%{lon}<br>Country=%{customdata[0]}<br>Hotel Name=%{customdata[1]}<extra></extra>",
         "lat": [
          39.1763
         ],
         "legendgroup": "capoterra",
         "lon": [
          8.9718
         ],
         "marker": {
          "color": "#FFA15A",
          "opacity": 0.6,
          "size": [
           71
          ],
          "sizemode": "area",
          "sizeref": 0.591715976331361,
          "symbol": "circle"
         },
         "mode": "markers",
         "name": "capoterra",
         "showlegend": true,
         "type": "scattergeo"
        },
        {
         "customdata": [
          [
           "BA",
           "Bregava"
          ]
         ],
         "geo": "geo",
         "hovertemplate": "City=stolac<br>Humidity=%{marker.size}<br>Lat=%{lat}<br>Lng=%{lon}<br>Country=%{customdata[0]}<br>Hotel Name=%{customdata[1]}<extra></extra>",
         "lat": [
          43.0844
         ],
         "legendgroup": "stolac",
         "lon": [
          17.9575
         ],
         "marker": {
          "color": "#19d3f3",
          "opacity": 0.6,
          "size": [
           68
          ],
          "sizemode": "area",
          "sizeref": 0.591715976331361,
          "symbol": "circle"
         },
         "mode": "markers",
         "name": "stolac",
         "showlegend": true,
         "type": "scattergeo"
        },
        {
         "customdata": [
          [
           "MX",
           "Plaza sal paraiso"
          ]
         ],
         "geo": "geo",
         "hovertemplate": "City=guerrero negro<br>Humidity=%{marker.size}<br>Lat=%{lat}<br>Lng=%{lon}<br>Country=%{customdata[0]}<br>Hotel Name=%{customdata[1]}<extra></extra>",
         "lat": [
          27.9769
         ],
         "legendgroup": "guerrero negro",
         "lon": [
          -114.0611
         ],
         "marker": {
          "color": "#FF6692",
          "opacity": 0.6,
          "size": [
           68
          ],
          "sizemode": "area",
          "sizeref": 0.591715976331361,
          "symbol": "circle"
         },
         "mode": "markers",
         "name": "guerrero negro",
         "showlegend": true,
         "type": "scattergeo"
        }
       ],
       "layout": {
        "geo": {
         "center": {},
         "domain": {
          "x": [
           0,
           1
          ],
          "y": [
           0,
           1
          ]
         },
         "projection": {
          "type": "natural earth"
         }
        },
        "height": 600,
        "legend": {
         "itemsizing": "constant",
         "title": {
          "text": "City"
         },
         "tracegroupgap": 0
        },
        "margin": {
         "b": 50,
         "l": 50,
         "r": 50,
         "t": 50
        },
        "template": {
         "data": {
          "bar": [
           {
            "error_x": {
             "color": "#2a3f5f"
            },
            "error_y": {
             "color": "#2a3f5f"
            },
            "marker": {
             "line": {
              "color": "#E5ECF6",
              "width": 0.5
             },
             "pattern": {
              "fillmode": "overlay",
              "size": 10,
              "solidity": 0.2
             }
            },
            "type": "bar"
           }
          ],
          "barpolar": [
           {
            "marker": {
             "line": {
              "color": "#E5ECF6",
              "width": 0.5
             },
             "pattern": {
              "fillmode": "overlay",
              "size": 10,
              "solidity": 0.2
             }
            },
            "type": "barpolar"
           }
          ],
          "carpet": [
           {
            "aaxis": {
             "endlinecolor": "#2a3f5f",
             "gridcolor": "white",
             "linecolor": "white",
             "minorgridcolor": "white",
             "startlinecolor": "#2a3f5f"
            },
            "baxis": {
             "endlinecolor": "#2a3f5f",
             "gridcolor": "white",
             "linecolor": "white",
             "minorgridcolor": "white",
             "startlinecolor": "#2a3f5f"
            },
            "type": "carpet"
           }
          ],
          "choropleth": [
           {
            "colorbar": {
             "outlinewidth": 0,
             "ticks": ""
            },
            "type": "choropleth"
           }
          ],
          "contour": [
           {
            "colorbar": {
             "outlinewidth": 0,
             "ticks": ""
            },
            "colorscale": [
             [
              0,
              "#0d0887"
             ],
             [
              0.1111111111111111,
              "#46039f"
             ],
             [
              0.2222222222222222,
              "#7201a8"
             ],
             [
              0.3333333333333333,
              "#9c179e"
             ],
             [
              0.4444444444444444,
              "#bd3786"
             ],
             [
              0.5555555555555556,
              "#d8576b"
             ],
             [
              0.6666666666666666,
              "#ed7953"
             ],
             [
              0.7777777777777778,
              "#fb9f3a"
             ],
             [
              0.8888888888888888,
              "#fdca26"
             ],
             [
              1,
              "#f0f921"
             ]
            ],
            "type": "contour"
           }
          ],
          "contourcarpet": [
           {
            "colorbar": {
             "outlinewidth": 0,
             "ticks": ""
            },
            "type": "contourcarpet"
           }
          ],
          "heatmap": [
           {
            "colorbar": {
             "outlinewidth": 0,
             "ticks": ""
            },
            "colorscale": [
             [
              0,
              "#0d0887"
             ],
             [
              0.1111111111111111,
              "#46039f"
             ],
             [
              0.2222222222222222,
              "#7201a8"
             ],
             [
              0.3333333333333333,
              "#9c179e"
             ],
             [
              0.4444444444444444,
              "#bd3786"
             ],
             [
              0.5555555555555556,
              "#d8576b"
             ],
             [
              0.6666666666666666,
              "#ed7953"
             ],
             [
              0.7777777777777778,
              "#fb9f3a"
             ],
             [
              0.8888888888888888,
              "#fdca26"
             ],
             [
              1,
              "#f0f921"
             ]
            ],
            "type": "heatmap"
           }
          ],
          "heatmapgl": [
           {
            "colorbar": {
             "outlinewidth": 0,
             "ticks": ""
            },
            "colorscale": [
             [
              0,
              "#0d0887"
             ],
             [
              0.1111111111111111,
              "#46039f"
             ],
             [
              0.2222222222222222,
              "#7201a8"
             ],
             [
              0.3333333333333333,
              "#9c179e"
             ],
             [
              0.4444444444444444,
              "#bd3786"
             ],
             [
              0.5555555555555556,
              "#d8576b"
             ],
             [
              0.6666666666666666,
              "#ed7953"
             ],
             [
              0.7777777777777778,
              "#fb9f3a"
             ],
             [
              0.8888888888888888,
              "#fdca26"
             ],
             [
              1,
              "#f0f921"
             ]
            ],
            "type": "heatmapgl"
           }
          ],
          "histogram": [
           {
            "marker": {
             "pattern": {
              "fillmode": "overlay",
              "size": 10,
              "solidity": 0.2
             }
            },
            "type": "histogram"
           }
          ],
          "histogram2d": [
           {
            "colorbar": {
             "outlinewidth": 0,
             "ticks": ""
            },
            "colorscale": [
             [
              0,
              "#0d0887"
             ],
             [
              0.1111111111111111,
              "#46039f"
             ],
             [
              0.2222222222222222,
              "#7201a8"
             ],
             [
              0.3333333333333333,
              "#9c179e"
             ],
             [
              0.4444444444444444,
              "#bd3786"
             ],
             [
              0.5555555555555556,
              "#d8576b"
             ],
             [
              0.6666666666666666,
              "#ed7953"
             ],
             [
              0.7777777777777778,
              "#fb9f3a"
             ],
             [
              0.8888888888888888,
              "#fdca26"
             ],
             [
              1,
              "#f0f921"
             ]
            ],
            "type": "histogram2d"
           }
          ],
          "histogram2dcontour": [
           {
            "colorbar": {
             "outlinewidth": 0,
             "ticks": ""
            },
            "colorscale": [
             [
              0,
              "#0d0887"
             ],
             [
              0.1111111111111111,
              "#46039f"
             ],
             [
              0.2222222222222222,
              "#7201a8"
             ],
             [
              0.3333333333333333,
              "#9c179e"
             ],
             [
              0.4444444444444444,
              "#bd3786"
             ],
             [
              0.5555555555555556,
              "#d8576b"
             ],
             [
              0.6666666666666666,
              "#ed7953"
             ],
             [
              0.7777777777777778,
              "#fb9f3a"
             ],
             [
              0.8888888888888888,
              "#fdca26"
             ],
             [
              1,
              "#f0f921"
             ]
            ],
            "type": "histogram2dcontour"
           }
          ],
          "mesh3d": [
           {
            "colorbar": {
             "outlinewidth": 0,
             "ticks": ""
            },
            "type": "mesh3d"
           }
          ],
          "parcoords": [
           {
            "line": {
             "colorbar": {
              "outlinewidth": 0,
              "ticks": ""
             }
            },
            "type": "parcoords"
           }
          ],
          "pie": [
           {
            "automargin": true,
            "type": "pie"
           }
          ],
          "scatter": [
           {
            "fillpattern": {
             "fillmode": "overlay",
             "size": 10,
             "solidity": 0.2
            },
            "type": "scatter"
           }
          ],
          "scatter3d": [
           {
            "line": {
             "colorbar": {
              "outlinewidth": 0,
              "ticks": ""
             }
            },
            "marker": {
             "colorbar": {
              "outlinewidth": 0,
              "ticks": ""
             }
            },
            "type": "scatter3d"
           }
          ],
          "scattercarpet": [
           {
            "marker": {
             "colorbar": {
              "outlinewidth": 0,
              "ticks": ""
             }
            },
            "type": "scattercarpet"
           }
          ],
          "scattergeo": [
           {
            "marker": {
             "colorbar": {
              "outlinewidth": 0,
              "ticks": ""
             }
            },
            "type": "scattergeo"
           }
          ],
          "scattergl": [
           {
            "marker": {
             "colorbar": {
              "outlinewidth": 0,
              "ticks": ""
             }
            },
            "type": "scattergl"
           }
          ],
          "scattermapbox": [
           {
            "marker": {
             "colorbar": {
              "outlinewidth": 0,
              "ticks": ""
             }
            },
            "type": "scattermapbox"
           }
          ],
          "scatterpolar": [
           {
            "marker": {
             "colorbar": {
              "outlinewidth": 0,
              "ticks": ""
             }
            },
            "type": "scatterpolar"
           }
          ],
          "scatterpolargl": [
           {
            "marker": {
             "colorbar": {
              "outlinewidth": 0,
              "ticks": ""
             }
            },
            "type": "scatterpolargl"
           }
          ],
          "scatterternary": [
           {
            "marker": {
             "colorbar": {
              "outlinewidth": 0,
              "ticks": ""
             }
            },
            "type": "scatterternary"
           }
          ],
          "surface": [
           {
            "colorbar": {
             "outlinewidth": 0,
             "ticks": ""
            },
            "colorscale": [
             [
              0,
              "#0d0887"
             ],
             [
              0.1111111111111111,
              "#46039f"
             ],
             [
              0.2222222222222222,
              "#7201a8"
             ],
             [
              0.3333333333333333,
              "#9c179e"
             ],
             [
              0.4444444444444444,
              "#bd3786"
             ],
             [
              0.5555555555555556,
              "#d8576b"
             ],
             [
              0.6666666666666666,
              "#ed7953"
             ],
             [
              0.7777777777777778,
              "#fb9f3a"
             ],
             [
              0.8888888888888888,
              "#fdca26"
             ],
             [
              1,
              "#f0f921"
             ]
            ],
            "type": "surface"
           }
          ],
          "table": [
           {
            "cells": {
             "fill": {
              "color": "#EBF0F8"
             },
             "line": {
              "color": "white"
             }
            },
            "header": {
             "fill": {
              "color": "#C8D4E3"
             },
             "line": {
              "color": "white"
             }
            },
            "type": "table"
           }
          ]
         },
         "layout": {
          "annotationdefaults": {
           "arrowcolor": "#2a3f5f",
           "arrowhead": 0,
           "arrowwidth": 1
          },
          "autotypenumbers": "strict",
          "coloraxis": {
           "colorbar": {
            "outlinewidth": 0,
            "ticks": ""
           }
          },
          "colorscale": {
           "diverging": [
            [
             0,
             "#8e0152"
            ],
            [
             0.1,
             "#c51b7d"
            ],
            [
             0.2,
             "#de77ae"
            ],
            [
             0.3,
             "#f1b6da"
            ],
            [
             0.4,
             "#fde0ef"
            ],
            [
             0.5,
             "#f7f7f7"
            ],
            [
             0.6,
             "#e6f5d0"
            ],
            [
             0.7,
             "#b8e186"
            ],
            [
             0.8,
             "#7fbc41"
            ],
            [
             0.9,
             "#4d9221"
            ],
            [
             1,
             "#276419"
            ]
           ],
           "sequential": [
            [
             0,
             "#0d0887"
            ],
            [
             0.1111111111111111,
             "#46039f"
            ],
            [
             0.2222222222222222,
             "#7201a8"
            ],
            [
             0.3333333333333333,
             "#9c179e"
            ],
            [
             0.4444444444444444,
             "#bd3786"
            ],
            [
             0.5555555555555556,
             "#d8576b"
            ],
            [
             0.6666666666666666,
             "#ed7953"
            ],
            [
             0.7777777777777778,
             "#fb9f3a"
            ],
            [
             0.8888888888888888,
             "#fdca26"
            ],
            [
             1,
             "#f0f921"
            ]
           ],
           "sequentialminus": [
            [
             0,
             "#0d0887"
            ],
            [
             0.1111111111111111,
             "#46039f"
            ],
            [
             0.2222222222222222,
             "#7201a8"
            ],
            [
             0.3333333333333333,
             "#9c179e"
            ],
            [
             0.4444444444444444,
             "#bd3786"
            ],
            [
             0.5555555555555556,
             "#d8576b"
            ],
            [
             0.6666666666666666,
             "#ed7953"
            ],
            [
             0.7777777777777778,
             "#fb9f3a"
            ],
            [
             0.8888888888888888,
             "#fdca26"
            ],
            [
             1,
             "#f0f921"
            ]
           ]
          },
          "colorway": [
           "#636efa",
           "#EF553B",
           "#00cc96",
           "#ab63fa",
           "#FFA15A",
           "#19d3f3",
           "#FF6692",
           "#B6E880",
           "#FF97FF",
           "#FECB52"
          ],
          "font": {
           "color": "#2a3f5f"
          },
          "geo": {
           "bgcolor": "white",
           "lakecolor": "white",
           "landcolor": "#E5ECF6",
           "showlakes": true,
           "showland": true,
           "subunitcolor": "white"
          },
          "hoverlabel": {
           "align": "left"
          },
          "hovermode": "closest",
          "mapbox": {
           "style": "light"
          },
          "paper_bgcolor": "white",
          "plot_bgcolor": "#E5ECF6",
          "polar": {
           "angularaxis": {
            "gridcolor": "white",
            "linecolor": "white",
            "ticks": ""
           },
           "bgcolor": "#E5ECF6",
           "radialaxis": {
            "gridcolor": "white",
            "linecolor": "white",
            "ticks": ""
           }
          },
          "scene": {
           "xaxis": {
            "backgroundcolor": "#E5ECF6",
            "gridcolor": "white",
            "gridwidth": 2,
            "linecolor": "white",
            "showbackground": true,
            "ticks": "",
            "zerolinecolor": "white"
           },
           "yaxis": {
            "backgroundcolor": "#E5ECF6",
            "gridcolor": "white",
            "gridwidth": 2,
            "linecolor": "white",
            "showbackground": true,
            "ticks": "",
            "zerolinecolor": "white"
           },
           "zaxis": {
            "backgroundcolor": "#E5ECF6",
            "gridcolor": "white",
            "gridwidth": 2,
            "linecolor": "white",
            "showbackground": true,
            "ticks": "",
            "zerolinecolor": "white"
           }
          },
          "shapedefaults": {
           "line": {
            "color": "#2a3f5f"
           }
          },
          "ternary": {
           "aaxis": {
            "gridcolor": "white",
            "linecolor": "white",
            "ticks": ""
           },
           "baxis": {
            "gridcolor": "white",
            "linecolor": "white",
            "ticks": ""
           },
           "bgcolor": "#E5ECF6",
           "caxis": {
            "gridcolor": "white",
            "linecolor": "white",
            "ticks": ""
           }
          },
          "title": {
           "x": 0.05
          },
          "xaxis": {
           "automargin": true,
           "gridcolor": "white",
           "linecolor": "white",
           "ticks": "",
           "title": {
            "standoff": 15
           },
           "zerolinecolor": "white",
           "zerolinewidth": 2
          },
          "yaxis": {
           "automargin": true,
           "gridcolor": "white",
           "linecolor": "white",
           "ticks": "",
           "title": {
            "standoff": 15
           },
           "zerolinecolor": "white",
           "zerolinewidth": 2
          }
         }
        },
        "title": {
         "text": "Nearest Hotel"
        },
        "width": 1200
       }
      }
     },
     "metadata": {},
     "output_type": "display_data"
    }
   ],
   "source": [
    "%%capture --no-display\n",
    "\n",
    "# Configure the map plot\n",
    "import plotly.express as px\n",
    "\n",
    "fig = px.scatter_geo(hotel_df,\n",
    "                     lat='Lat',\n",
    "                     lon='Lng',\n",
    "                     size='Humidity', \n",
    "                     hover_data=['Country', 'Hotel Name'],  # hover_name only allow one argument\n",
    "                     projection=\"natural earth\",\n",
    "                     title=\"Nearest Hotel\",\n",
    "                     template=\"plotly\",\n",
    "                     opacity=0.6,\n",
    "                     size_max=13,\n",
    "                     color='City',  # This will change color by city\n",
    "                     color_continuous_scale=px.colors.sequential.Plasma)\n",
    "\n",
    "# Adjusting the map size as I see fit\n",
    "fig.update_layout(width=1200, \n",
    "                  height=600, \n",
    "                  margin={\"r\":50,\"t\":50,\"l\":50,\"b\":50})\n",
    "\n",
    "# Display the map\n",
    "fig.show()"
   ]
  },
  {
   "cell_type": "code",
   "execution_count": null,
   "metadata": {},
   "outputs": [],
   "source": []
  }
 ],
 "metadata": {
  "kernelspec": {
   "display_name": "Python 3 (ipykernel)",
   "language": "python",
   "name": "python3"
  },
  "language_info": {
   "codemirror_mode": {
    "name": "ipython",
    "version": 3
   },
   "file_extension": ".py",
   "mimetype": "text/x-python",
   "name": "python",
   "nbconvert_exporter": "python",
   "pygments_lexer": "ipython3",
   "version": "3.11.4"
  },
  "latex_envs": {
   "LaTeX_envs_menu_present": true,
   "autoclose": false,
   "autocomplete": true,
   "bibliofile": "biblio.bib",
   "cite_by": "apalike",
   "current_citInitial": 1,
   "eqLabelWithNumbers": true,
   "eqNumInitial": 1,
   "hotkeys": {
    "equation": "Ctrl-E",
    "itemize": "Ctrl-I"
   },
   "labels_anchors": false,
   "latex_user_defs": false,
   "report_style_numbering": false,
   "user_envs_cfg": false
  }
 },
 "nbformat": 4,
 "nbformat_minor": 4
}
